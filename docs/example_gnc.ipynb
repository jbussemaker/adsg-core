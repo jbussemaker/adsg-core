{
 "cells": [
  {
   "cell_type": "markdown",
   "metadata": {
    "collapsed": false,
    "jupyter": {
     "outputs_hidden": false
    }
   },
   "source": [
    "# DSG Example: Guidance, Navigation & Control Architecture\n",
    "\n",
    "[![Binder](https://mybinder.org/badge_logo.svg)](https://mybinder.org/v2/gh/jbussemaker/adsg-core/HEAD?labpath=docs%2Fexample_gnc.ipynb)\n",
    "\n",
    "This notebook presents an example Guidance, Navigation & Control Architecture problem from Crawley et al.:\n",
    "\n",
    "Crawley, E., Cameron, B., & Selva, D. (2015). System architecture: strategy and product development for complex systems. Prentice Hall Press. ISBN: 0133975347\n",
    "\n",
    "The problem involves the selection and connection of sensors to flight computers, and flight computers to actuators.\n",
    "For simplicity, only the sensors and (flight) computers are modeled here.\n",
    "\n",
    "- System-level mass (minimization) and failure rate (maximization) are optimized\n",
    "- The number of sensors and computers can be chosen (1, 2, or 3) --> more reduces failure rate but increases mass\n",
    "- The types of sensors and computers can be chosen (A, B, or C) --> each has a different mass/failure rate trade-off\n",
    "- Connections between sensors and computers are established\n",
    "  - Any sensor can connect to any computer\n",
    "  - Each sensor and computer need at least one connection (otherwise their existence is useless)\n",
    "- Sensor/computer type selections are constrained to be non-repeatable\n",
    "  - E.g. sensor types can be AA, AB, AC, BB, BC, CC (no permutations of these)\n",
    "  - This is to prevent including isomorphic architectures, architectures where sensors and/or computers, including\n",
    "    their connections, are permutations of each other and therefor have the same objective values\n",
    "\n",
    "The GNC problem is implemented in `adsg_core.examples.gnc.GNCEvaluator`, however here explained in more details."
   ]
  },
  {
   "cell_type": "markdown",
   "metadata": {
    "collapsed": false,
    "jupyter": {
     "outputs_hidden": false
    }
   },
   "source": [
    "## DSG\n",
    "\n",
    "The DSG consists of two node clusters for sensor and computer choices, and a connection choice for connection between the clusters.\n",
    "\n",
    "We start by defining two custom node types that make it easier to later interpret DSG instances."
   ]
  },
  {
   "cell_type": "code",
   "execution_count": 1,
   "metadata": {
    "ExecuteTime": {
     "end_time": "2024-01-27T08:54:13.285001900Z",
     "start_time": "2024-01-27T08:54:13.133896200Z"
    },
    "collapsed": false,
    "jupyter": {
     "outputs_hidden": false
    }
   },
   "outputs": [],
   "source": [
    "from adsg_core import BasicDSG, NamedNode, MetricNode, \\\n",
    "    MetricType, ConnectorNode\n",
    "\n",
    "class GNCInstanceNode(NamedNode):\n",
    "    \"\"\"Custom node that represents the instance of some object\"\"\"\n",
    "\n",
    "    def __init__(self, base_name: str, idx: int):\n",
    "        self.idx = idx\n",
    "        super().__init__(base_name)\n",
    "\n",
    "    def get_export_title(self) -> str:\n",
    "        return f'{self.name}[{self.idx}]'\n",
    "\n",
    "\n",
    "class GNCTypeNode(NamedNode):\n",
    "    \"\"\"Custom node that represents the type of some object\"\"\"\n",
    "\n",
    "    def __init__(self, name: str, type_: str):\n",
    "        self.type = type_\n",
    "        super().__init__(name)\n",
    "\n",
    "    def get_export_title(self) -> str:\n",
    "        return f'{self.name}: {self.type}'"
   ]
  },
  {
   "cell_type": "code",
   "execution_count": 2,
   "metadata": {
    "ExecuteTime": {
     "end_time": "2024-01-27T08:54:13.299809100Z",
     "start_time": "2024-01-27T08:54:13.144816600Z"
    },
    "collapsed": false,
    "jupyter": {
     "outputs_hidden": false
    }
   },
   "outputs": [
    {
     "data": {
      "text/html": [
       "<div id=\"e9057c64203a4569983d109899214b5e\"></div>\n",
       "<script type=\"text/javascript\" src=\"https://cdn.jsdelivr.net/npm/@viz-js/viz/lib/viz-standalone.js\"></script>\n",
       "<script type=\"text/javascript\">\n",
       "(function() {\n",
       "  var dot = \"strict digraph  {\\ndpi=60;\\nfontsize=\\\"20pt\\\";\\nrankdir=LR;\\n0 [fillcolor=\\\"#ffffff\\\", label=<<B>GNC</B>>, margin=\\\"0.05\\\", shape=ellipse, style=\\\"filled,bold\\\"];\\n1 [fillcolor=\\\"#DCE775\\\", label=\\\"mass [min]\\\", margin=\\\"0.05\\\", shape=rect, style=\\\"filled\\\"];\\n2 [fillcolor=\\\"#DCE775\\\", label=\\\"failureRate [max]\\\", margin=\\\"0.05\\\", shape=rect, style=\\\"filled\\\"];\\n0 -> 1  [type=\\\"EdgeType.DERIVES\\\"];\\n0 -> 2  [type=\\\"EdgeType.DERIVES\\\"];\\n}\\n\"; // Export of the dot graph notation\n",
       "  // Create viz-js instance and render to SVG\n",
       "  function doRender() {\n",
       "    Viz.instance().then(function(viz) { document.getElementById(\"e9057c64203a4569983d109899214b5e\").appendChild(viz.renderSVGElement(dot)); });\n",
       "  }\n",
       "  // We may need to wait for loading to complete\n",
       "  function checkRender() {\n",
       "    if (typeof Viz === \"undefined\") { setTimeout(checkRender, 200); } else { doRender(); } \n",
       "  }\n",
       "  checkRender();\n",
       "})()\n",
       "</script>\n"
      ],
      "text/plain": [
       "<IPython.core.display.HTML object>"
      ]
     },
     "metadata": {},
     "output_type": "display_data"
    }
   ],
   "source": [
    "# Create the DSG\n",
    "dsg = BasicDSG()\n",
    "\n",
    "# Add top-level node and metrics\n",
    "gnc = NamedNode('GNC')\n",
    "dsg.add_edges([\n",
    "    (gnc, MetricNode('mass', direction=-1, type_=MetricType.OBJECTIVE)),\n",
    "    # Failure rate is -log(fr), so we maximize it\n",
    "    (gnc, MetricNode('failureRate', direction=1, type_=MetricType.OBJECTIVE)),\n",
    "])\n",
    "\n",
    "# Set start node\n",
    "dsg = dsg.set_start_nodes({gnc})\n",
    "dsg.render()"
   ]
  },
  {
   "cell_type": "markdown",
   "metadata": {
    "ExecuteTime": {
     "end_time": "2024-01-27T08:11:40.774947600Z",
     "start_time": "2024-01-27T08:11:40.760357Z"
    },
    "collapsed": false,
    "jupyter": {
     "outputs_hidden": false
    }
   },
   "source": [
    "### Sensors"
   ]
  },
  {
   "cell_type": "code",
   "execution_count": 3,
   "metadata": {
    "ExecuteTime": {
     "end_time": "2024-01-27T08:54:13.303814700Z",
     "start_time": "2024-01-27T08:54:13.199233Z"
    },
    "collapsed": false,
    "jupyter": {
     "outputs_hidden": false
    }
   },
   "outputs": [
    {
     "data": {
      "text/html": [
       "<div id=\"609442e3c1ad4d32a396273aa0b7cfae\"></div>\n",
       "<script type=\"text/javascript\" src=\"https://cdn.jsdelivr.net/npm/@viz-js/viz/lib/viz-standalone.js\"></script>\n",
       "<script type=\"text/javascript\">\n",
       "(function() {\n",
       "  var dot = \"strict digraph  {\\ndpi=60;\\nfontsize=\\\"20pt\\\";\\nrankdir=LR;\\n0 [fillcolor=\\\"#ffffff\\\", label=<<B>GNC</B>>, margin=\\\"0.05\\\", shape=ellipse, style=\\\"filled,bold\\\"];\\n1 [fillcolor=\\\"#DCE775\\\", label=\\\"mass [min]\\\", margin=\\\"0.05\\\", shape=rect, style=\\\"filled\\\"];\\n2 [fillcolor=\\\"#DCE775\\\", label=\\\"failureRate [max]\\\", margin=\\\"0.05\\\", shape=rect, style=\\\"filled\\\"];\\n3 [fillcolor=\\\"#ffffff\\\", label=\\\"Sensor\\\", margin=\\\"0.05\\\", shape=ellipse, style=\\\"filled\\\"];\\n4 [fillcolor=\\\"#81D4FA\\\", label=\\\"S\\\", margin=\\\"0.05\\\", shape=ellipse, style=\\\"filled\\\"];\\n5 [fillcolor=\\\"#ffffff\\\", label=\\\"Inst[0]\\\", margin=\\\"0.05\\\", shape=ellipse, style=\\\"filled\\\"];\\n6 [fillcolor=\\\"#ffffff\\\", label=\\\"Inst[1]\\\", margin=\\\"0.05\\\", shape=ellipse, style=\\\"filled\\\"];\\n7 [fillcolor=\\\"#ffffff\\\", label=\\\"Inst[2]\\\", margin=\\\"0.05\\\", shape=ellipse, style=\\\"filled\\\"];\\n8 [fillcolor=\\\"#81D4FA\\\", label=\\\"ST0\\\", margin=\\\"0.05\\\", shape=ellipse, style=\\\"filled\\\"];\\n9 [fillcolor=\\\"#ffffff\\\", label=\\\"SC0\\\", margin=\\\"0.05\\\", shape=hexagon, style=\\\"filled\\\"];\\n10 [fillcolor=\\\"#81D4FA\\\", label=\\\"ST1\\\", margin=\\\"0.05\\\", shape=ellipse, style=\\\"filled\\\"];\\n11 [fillcolor=\\\"#ffffff\\\", label=\\\"SC1\\\", margin=\\\"0.05\\\", shape=hexagon, style=\\\"filled\\\"];\\n12 [fillcolor=\\\"#81D4FA\\\", label=\\\"ST2\\\", margin=\\\"0.05\\\", shape=ellipse, style=\\\"filled\\\"];\\n13 [fillcolor=\\\"#ffffff\\\", label=\\\"SC2\\\", margin=\\\"0.05\\\", shape=hexagon, style=\\\"filled\\\"];\\n14 [fillcolor=\\\"#ffffff\\\", label=\\\"Type: A\\\", margin=\\\"0.05\\\", shape=ellipse, style=\\\"filled\\\"];\\n15 [fillcolor=\\\"#ffffff\\\", label=\\\"Type: B\\\", margin=\\\"0.05\\\", shape=ellipse, style=\\\"filled\\\"];\\n16 [fillcolor=\\\"#ffffff\\\", label=\\\"Type: C\\\", margin=\\\"0.05\\\", shape=ellipse, style=\\\"filled\\\"];\\n0 -> 1  [type=\\\"EdgeType.DERIVES\\\"];\\n0 -> 2  [type=\\\"EdgeType.DERIVES\\\"];\\n0 -> 3  [type=\\\"EdgeType.DERIVES\\\"];\\n3 -> 4  [type=\\\"EdgeType.DERIVES\\\"];\\n4 -> 5  [type=\\\"EdgeType.DERIVES\\\"];\\n4 -> 6  [type=\\\"EdgeType.DERIVES\\\"];\\n4 -> 7  [type=\\\"EdgeType.DERIVES\\\"];\\n5 -> 8  [type=\\\"EdgeType.DERIVES\\\"];\\n5 -> 9  [type=\\\"EdgeType.DERIVES\\\"];\\n6 -> 10  [type=\\\"EdgeType.DERIVES\\\"];\\n6 -> 11  [type=\\\"EdgeType.DERIVES\\\"];\\n6 -> 5  [type=\\\"EdgeType.DERIVES\\\"];\\n7 -> 12  [type=\\\"EdgeType.DERIVES\\\"];\\n7 -> 13  [type=\\\"EdgeType.DERIVES\\\"];\\n7 -> 6  [type=\\\"EdgeType.DERIVES\\\"];\\n8 -> 14  [type=\\\"EdgeType.DERIVES\\\"];\\n8 -> 15  [type=\\\"EdgeType.DERIVES\\\"];\\n8 -> 16  [type=\\\"EdgeType.DERIVES\\\"];\\n10 -> 14  [type=\\\"EdgeType.DERIVES\\\"];\\n10 -> 15  [type=\\\"EdgeType.DERIVES\\\"];\\n10 -> 16  [type=\\\"EdgeType.DERIVES\\\"];\\n12 -> 14  [type=\\\"EdgeType.DERIVES\\\"];\\n12 -> 15  [type=\\\"EdgeType.DERIVES\\\"];\\n12 -> 16  [type=\\\"EdgeType.DERIVES\\\"];\\n}\\n\"; // Export of the dot graph notation\n",
       "  // Create viz-js instance and render to SVG\n",
       "  function doRender() {\n",
       "    Viz.instance().then(function(viz) { document.getElementById(\"609442e3c1ad4d32a396273aa0b7cfae\").appendChild(viz.renderSVGElement(dot)); });\n",
       "  }\n",
       "  // We may need to wait for loading to complete\n",
       "  function checkRender() {\n",
       "    if (typeof Viz === \"undefined\") { setTimeout(checkRender, 200); } else { doRender(); } \n",
       "  }\n",
       "  checkRender();\n",
       "})()\n",
       "</script>\n"
      ],
      "text/plain": [
       "<IPython.core.display.HTML object>"
      ]
     },
     "metadata": {},
     "output_type": "display_data"
    },
    {
     "data": {
      "text/html": [
       "<div id=\"3ee3440b87cf4a9fba56ae854b01fe63\"></div>\n",
       "<script type=\"text/javascript\" src=\"https://cdn.jsdelivr.net/npm/@viz-js/viz/lib/viz-standalone.js\"></script>\n",
       "<script type=\"text/javascript\">\n",
       "(function() {\n",
       "  var dot = \"strict digraph  {\\nbgcolor=\\\"#f5f8fa\\\";\\ndpi=60;\\nfontsize=\\\"16pt\\\";\\nlabel=\\\"DSG Legend\\\";\\nlabelloc=t;\\nnodesep=0.1;\\nrankdir=LR;\\nranksep=0;\\nnode [height=0];\\nleg_0 [fillcolor=\\\"#ffffff\\\", label=<<B>Start Node</B>>, margin=0, shape=ellipse, style=\\\"filled,bold\\\"];\\nleg_1 [fillcolor=\\\"#DCE775\\\", label=\\\"Objective [min]\\\", margin=0, shape=rect, style=\\\"filled\\\"];\\nleg_2 [fillcolor=\\\"#DCE775\\\", label=\\\"Constraint [<= 0]\\\", margin=0, shape=rect, style=\\\"filled\\\"];\\nleg_3 [fillcolor=\\\"#DCE775\\\", label=\\\"Output Metric\\\", margin=0, shape=rect, style=\\\"filled\\\"];\\nleg_4 [fillcolor=\\\"#ffffff\\\", label=\\\"Source\\\", margin=0, shape=ellipse, style=\\\"filled\\\"];\\nleg_5 [fillcolor=\\\"#81D4FA\\\", label=\\\"Selection\\\\nChoice\\\", margin=0, shape=ellipse, style=\\\"filled\\\"];\\nleg_6 [fillcolor=\\\"#ffffff\\\", label=\\\"Option 1\\\", margin=0, shape=ellipse, style=\\\"filled\\\"];\\nleg_7 [fillcolor=\\\"#ffffff\\\", label=\\\"Option 2\\\", margin=0, shape=ellipse, style=\\\"filled\\\"];\\nleg_8 [fillcolor=\\\"#ffffff\\\", label=\\\"Etc...\\\", margin=0, shape=ellipse, style=\\\"filled\\\"];\\nleg_9 [fillcolor=\\\"#ffffff\\\", label=\\\"A\\\", margin=0, shape=ellipse, style=\\\"filled\\\"];\\nleg_10 [fillcolor=\\\"#ffffff\\\", label=\\\"B\\\", margin=0, shape=ellipse, style=\\\"filled\\\"];\\nleg_0 -> leg_1  [type=\\\"EdgeType.DERIVES\\\"];\\nleg_0 -> leg_2  [type=\\\"EdgeType.DERIVES\\\"];\\nleg_0 -> leg_3  [type=\\\"EdgeType.DERIVES\\\"];\\nleg_4 -> leg_5  [type=\\\"EdgeType.DERIVES\\\"];\\nleg_5 -> leg_6  [type=\\\"EdgeType.DERIVES\\\"];\\nleg_5 -> leg_7  [type=\\\"EdgeType.DERIVES\\\"];\\nleg_5 -> leg_8  [type=\\\"EdgeType.DERIVES\\\"];\\nleg_9 -> leg_10  [label=derives, type=\\\"EdgeType.DERIVES\\\"];\\n}\\n\"; // Export of the dot graph notation\n",
       "  // Create viz-js instance and render to SVG\n",
       "  function doRender() {\n",
       "    Viz.instance().then(function(viz) { document.getElementById(\"3ee3440b87cf4a9fba56ae854b01fe63\").appendChild(viz.renderSVGElement(dot)); });\n",
       "  }\n",
       "  // We may need to wait for loading to complete\n",
       "  function checkRender() {\n",
       "    if (typeof Viz === \"undefined\") { setTimeout(checkRender, 200); } else { doRender(); } \n",
       "  }\n",
       "  checkRender();\n",
       "})()\n",
       "</script>\n"
      ],
      "text/plain": [
       "<IPython.core.display.HTML object>"
      ]
     },
     "metadata": {},
     "output_type": "display_data"
    }
   ],
   "source": [
    "# Add sensor choices\n",
    "sensor = NamedNode('Sensor')\n",
    "dsg.add_edge(gnc, sensor)\n",
    "\n",
    "# Instance nodes and choice\n",
    "sensor_inst_nodes = [GNCInstanceNode('Inst', i) for i in range(3)]\n",
    "dsg.add_selection_choice('S', sensor, sensor_inst_nodes)\n",
    "\n",
    "# Create type nodes\n",
    "sensor_type_nodes = [GNCTypeNode('Type', type_) for type_ in ['A', 'B', 'C']]\n",
    "\n",
    "sensor_type_choices = []\n",
    "sensor_conn_nodes = []\n",
    "for i, si_node in enumerate(sensor_inst_nodes):\n",
    "    # Add type selection\n",
    "    sensor_type_choices.append(dsg.add_selection_choice(f'ST{i}', si_node, sensor_type_nodes))\n",
    "\n",
    "    # Connection node, require at least one connection\n",
    "    conn_node = ConnectorNode(f'SC{i}', deg_spec='+')\n",
    "    sensor_conn_nodes.append(conn_node)\n",
    "    dsg.add_edge(si_node, conn_node)\n",
    "\n",
    "    # Select previous instances\n",
    "    # This is to ensure that if we want 2 instance,\n",
    "    # we select both instance 1 and 2, etc.\n",
    "    if i > 0:\n",
    "        dsg.add_edge(si_node, sensor_inst_nodes[i-1])\n",
    "\n",
    "dsg.render()\n",
    "dsg.render_legend(['NODE_START', 'METRICS_OUTPUTS', 'EDGE_DERIVE', 'CHOICE_SEL'])"
   ]
  },
  {
   "cell_type": "markdown",
   "metadata": {
    "ExecuteTime": {
     "end_time": "2024-01-27T08:15:46.851421800Z",
     "start_time": "2024-01-27T08:15:46.812826100Z"
    },
    "collapsed": false,
    "jupyter": {
     "outputs_hidden": false
    }
   },
   "source": [
    "### Computers"
   ]
  },
  {
   "cell_type": "code",
   "execution_count": 4,
   "metadata": {
    "ExecuteTime": {
     "end_time": "2024-01-27T08:54:13.305817800Z",
     "start_time": "2024-01-27T08:54:13.246698600Z"
    },
    "collapsed": false,
    "jupyter": {
     "outputs_hidden": false
    }
   },
   "outputs": [
    {
     "data": {
      "text/html": [
       "<div id=\"50cf93e7c8ef4d36b48b865b4eaafbad\"></div>\n",
       "<script type=\"text/javascript\" src=\"https://cdn.jsdelivr.net/npm/@viz-js/viz/lib/viz-standalone.js\"></script>\n",
       "<script type=\"text/javascript\">\n",
       "(function() {\n",
       "  var dot = \"strict digraph  {\\ndpi=60;\\nfontsize=\\\"20pt\\\";\\nrankdir=LR;\\n0 [fillcolor=\\\"#ffffff\\\", label=<<B>GNC</B>>, margin=\\\"0.05\\\", shape=ellipse, style=\\\"filled,bold\\\"];\\n1 [fillcolor=\\\"#DCE775\\\", label=\\\"mass [min]\\\", margin=\\\"0.05\\\", shape=rect, style=\\\"filled\\\"];\\n2 [fillcolor=\\\"#DCE775\\\", label=\\\"failureRate [max]\\\", margin=\\\"0.05\\\", shape=rect, style=\\\"filled\\\"];\\n3 [fillcolor=\\\"#ffffff\\\", label=\\\"Sensor\\\", margin=\\\"0.05\\\", shape=ellipse, style=\\\"filled\\\"];\\n4 [fillcolor=\\\"#ffffff\\\", label=\\\"Comp\\\", margin=\\\"0.05\\\", shape=ellipse, style=\\\"filled\\\"];\\n5 [fillcolor=\\\"#81D4FA\\\", label=\\\"S\\\", margin=\\\"0.05\\\", shape=ellipse, style=\\\"filled\\\"];\\n6 [fillcolor=\\\"#81D4FA\\\", label=\\\"C\\\", margin=\\\"0.05\\\", shape=ellipse, style=\\\"filled\\\"];\\n7 [fillcolor=\\\"#ffffff\\\", label=\\\"Inst[0]\\\", margin=\\\"0.05\\\", shape=ellipse, style=\\\"filled\\\"];\\n8 [fillcolor=\\\"#ffffff\\\", label=\\\"Inst[1]\\\", margin=\\\"0.05\\\", shape=ellipse, style=\\\"filled\\\"];\\n9 [fillcolor=\\\"#ffffff\\\", label=\\\"Inst[2]\\\", margin=\\\"0.05\\\", shape=ellipse, style=\\\"filled\\\"];\\n10 [fillcolor=\\\"#81D4FA\\\", label=\\\"ST0\\\", margin=\\\"0.05\\\", shape=ellipse, style=\\\"filled\\\"];\\n11 [fillcolor=\\\"#ffffff\\\", label=\\\"SC0\\\", margin=\\\"0.05\\\", shape=hexagon, style=\\\"filled\\\"];\\n12 [fillcolor=\\\"#81D4FA\\\", label=\\\"ST1\\\", margin=\\\"0.05\\\", shape=ellipse, style=\\\"filled\\\"];\\n13 [fillcolor=\\\"#ffffff\\\", label=\\\"SC1\\\", margin=\\\"0.05\\\", shape=hexagon, style=\\\"filled\\\"];\\n14 [fillcolor=\\\"#81D4FA\\\", label=\\\"ST2\\\", margin=\\\"0.05\\\", shape=ellipse, style=\\\"filled\\\"];\\n15 [fillcolor=\\\"#ffffff\\\", label=\\\"SC2\\\", margin=\\\"0.05\\\", shape=hexagon, style=\\\"filled\\\"];\\n16 [fillcolor=\\\"#ffffff\\\", label=\\\"Type: A\\\", margin=\\\"0.05\\\", shape=ellipse, style=\\\"filled\\\"];\\n17 [fillcolor=\\\"#ffffff\\\", label=\\\"Type: B\\\", margin=\\\"0.05\\\", shape=ellipse, style=\\\"filled\\\"];\\n18 [fillcolor=\\\"#ffffff\\\", label=\\\"Type: C\\\", margin=\\\"0.05\\\", shape=ellipse, style=\\\"filled\\\"];\\n19 [fillcolor=\\\"#ffffff\\\", label=\\\"Inst[0]\\\", margin=\\\"0.05\\\", shape=ellipse, style=\\\"filled\\\"];\\n20 [fillcolor=\\\"#ffffff\\\", label=\\\"Inst[1]\\\", margin=\\\"0.05\\\", shape=ellipse, style=\\\"filled\\\"];\\n21 [fillcolor=\\\"#ffffff\\\", label=\\\"Inst[2]\\\", margin=\\\"0.05\\\", shape=ellipse, style=\\\"filled\\\"];\\n22 [fillcolor=\\\"#81D4FA\\\", label=\\\"CT0\\\", margin=\\\"0.05\\\", shape=ellipse, style=\\\"filled\\\"];\\n23 [fillcolor=\\\"#ffffff\\\", label=\\\"CC0\\\", margin=\\\"0.05\\\", shape=hexagon, style=\\\"filled\\\"];\\n24 [fillcolor=\\\"#81D4FA\\\", label=\\\"CT1\\\", margin=\\\"0.05\\\", shape=ellipse, style=\\\"filled\\\"];\\n25 [fillcolor=\\\"#ffffff\\\", label=\\\"CC1\\\", margin=\\\"0.05\\\", shape=hexagon, style=\\\"filled\\\"];\\n26 [fillcolor=\\\"#81D4FA\\\", label=\\\"CT2\\\", margin=\\\"0.05\\\", shape=ellipse, style=\\\"filled\\\"];\\n27 [fillcolor=\\\"#ffffff\\\", label=\\\"CC2\\\", margin=\\\"0.05\\\", shape=hexagon, style=\\\"filled\\\"];\\n28 [fillcolor=\\\"#ffffff\\\", label=\\\"Type: A\\\", margin=\\\"0.05\\\", shape=ellipse, style=\\\"filled\\\"];\\n29 [fillcolor=\\\"#ffffff\\\", label=\\\"Type: B\\\", margin=\\\"0.05\\\", shape=ellipse, style=\\\"filled\\\"];\\n30 [fillcolor=\\\"#ffffff\\\", label=\\\"Type: C\\\", margin=\\\"0.05\\\", shape=ellipse, style=\\\"filled\\\"];\\n0 -> 1  [type=\\\"EdgeType.DERIVES\\\"];\\n0 -> 2  [type=\\\"EdgeType.DERIVES\\\"];\\n0 -> 3  [type=\\\"EdgeType.DERIVES\\\"];\\n0 -> 4  [type=\\\"EdgeType.DERIVES\\\"];\\n3 -> 5  [type=\\\"EdgeType.DERIVES\\\"];\\n4 -> 6  [type=\\\"EdgeType.DERIVES\\\"];\\n5 -> 7  [type=\\\"EdgeType.DERIVES\\\"];\\n5 -> 8  [type=\\\"EdgeType.DERIVES\\\"];\\n5 -> 9  [type=\\\"EdgeType.DERIVES\\\"];\\n6 -> 19  [type=\\\"EdgeType.DERIVES\\\"];\\n6 -> 20  [type=\\\"EdgeType.DERIVES\\\"];\\n6 -> 21  [type=\\\"EdgeType.DERIVES\\\"];\\n7 -> 10  [type=\\\"EdgeType.DERIVES\\\"];\\n7 -> 11  [type=\\\"EdgeType.DERIVES\\\"];\\n8 -> 12  [type=\\\"EdgeType.DERIVES\\\"];\\n8 -> 13  [type=\\\"EdgeType.DERIVES\\\"];\\n8 -> 7  [type=\\\"EdgeType.DERIVES\\\"];\\n9 -> 14  [type=\\\"EdgeType.DERIVES\\\"];\\n9 -> 15  [type=\\\"EdgeType.DERIVES\\\"];\\n9 -> 8  [type=\\\"EdgeType.DERIVES\\\"];\\n10 -> 16  [type=\\\"EdgeType.DERIVES\\\"];\\n10 -> 17  [type=\\\"EdgeType.DERIVES\\\"];\\n10 -> 18  [type=\\\"EdgeType.DERIVES\\\"];\\n12 -> 16  [type=\\\"EdgeType.DERIVES\\\"];\\n12 -> 17  [type=\\\"EdgeType.DERIVES\\\"];\\n12 -> 18  [type=\\\"EdgeType.DERIVES\\\"];\\n14 -> 16  [type=\\\"EdgeType.DERIVES\\\"];\\n14 -> 17  [type=\\\"EdgeType.DERIVES\\\"];\\n14 -> 18  [type=\\\"EdgeType.DERIVES\\\"];\\n19 -> 22  [type=\\\"EdgeType.DERIVES\\\"];\\n19 -> 23  [type=\\\"EdgeType.DERIVES\\\"];\\n20 -> 24  [type=\\\"EdgeType.DERIVES\\\"];\\n20 -> 25  [type=\\\"EdgeType.DERIVES\\\"];\\n20 -> 19  [type=\\\"EdgeType.DERIVES\\\"];\\n21 -> 26  [type=\\\"EdgeType.DERIVES\\\"];\\n21 -> 27  [type=\\\"EdgeType.DERIVES\\\"];\\n21 -> 20  [type=\\\"EdgeType.DERIVES\\\"];\\n22 -> 28  [type=\\\"EdgeType.DERIVES\\\"];\\n22 -> 29  [type=\\\"EdgeType.DERIVES\\\"];\\n22 -> 30  [type=\\\"EdgeType.DERIVES\\\"];\\n24 -> 28  [type=\\\"EdgeType.DERIVES\\\"];\\n24 -> 29  [type=\\\"EdgeType.DERIVES\\\"];\\n24 -> 30  [type=\\\"EdgeType.DERIVES\\\"];\\n26 -> 28  [type=\\\"EdgeType.DERIVES\\\"];\\n26 -> 29  [type=\\\"EdgeType.DERIVES\\\"];\\n26 -> 30  [type=\\\"EdgeType.DERIVES\\\"];\\n}\\n\"; // Export of the dot graph notation\n",
       "  // Create viz-js instance and render to SVG\n",
       "  function doRender() {\n",
       "    Viz.instance().then(function(viz) { document.getElementById(\"50cf93e7c8ef4d36b48b865b4eaafbad\").appendChild(viz.renderSVGElement(dot)); });\n",
       "  }\n",
       "  // We may need to wait for loading to complete\n",
       "  function checkRender() {\n",
       "    if (typeof Viz === \"undefined\") { setTimeout(checkRender, 200); } else { doRender(); } \n",
       "  }\n",
       "  checkRender();\n",
       "})()\n",
       "</script>\n"
      ],
      "text/plain": [
       "<IPython.core.display.HTML object>"
      ]
     },
     "metadata": {},
     "output_type": "display_data"
    }
   ],
   "source": [
    "# Add computer choices\n",
    "computer = NamedNode('Comp')\n",
    "dsg.add_edge(gnc, computer)\n",
    "\n",
    "# Instance nodes and choice\n",
    "comp_inst_nodes = [GNCInstanceNode('Inst', i) for i in range(3)]\n",
    "dsg.add_selection_choice('C', computer, comp_inst_nodes)\n",
    "\n",
    "# Create type nodes\n",
    "comp_type_nodes = [GNCTypeNode('Type', type_) for type_ in ['A', 'B', 'C']]\n",
    "\n",
    "comp_type_choices = []\n",
    "comp_conn_nodes = []\n",
    "for i, ci_node in enumerate(comp_inst_nodes):\n",
    "    # Add type selection\n",
    "    comp_type_choices.append(dsg.add_selection_choice(f'CT{i}', ci_node, comp_type_nodes))\n",
    "\n",
    "    # Connection node, require at least one connection\n",
    "    conn_node = ConnectorNode(f'CC{i}', deg_spec='+')\n",
    "    comp_conn_nodes.append(conn_node)\n",
    "    dsg.add_edge(ci_node, conn_node)\n",
    "\n",
    "    # Select previous instances\n",
    "    if i > 0:\n",
    "        dsg.add_edge(ci_node, comp_inst_nodes[i-1])\n",
    "\n",
    "dsg.render()"
   ]
  },
  {
   "cell_type": "markdown",
   "metadata": {
    "collapsed": false,
    "jupyter": {
     "outputs_hidden": false
    }
   },
   "source": [
    "### Connections and Constraints"
   ]
  },
  {
   "cell_type": "code",
   "execution_count": 5,
   "metadata": {
    "ExecuteTime": {
     "end_time": "2024-01-27T08:54:13.393247900Z",
     "start_time": "2024-01-27T08:54:13.271934400Z"
    },
    "collapsed": false,
    "jupyter": {
     "outputs_hidden": false
    }
   },
   "outputs": [
    {
     "data": {
      "text/html": [
       "<div id=\"7dfa9e9f822c46608e129b8ec91b4b1c\"></div>\n",
       "<script type=\"text/javascript\" src=\"https://cdn.jsdelivr.net/npm/@viz-js/viz/lib/viz-standalone.js\"></script>\n",
       "<script type=\"text/javascript\">\n",
       "(function() {\n",
       "  var dot = \"strict digraph  {\\ndpi=60;\\nfontsize=\\\"20pt\\\";\\nrankdir=LR;\\n0 [fillcolor=\\\"#ffffff\\\", label=<<B>GNC</B>>, margin=\\\"0.05\\\", shape=ellipse, style=\\\"filled,bold\\\"];\\n1 [fillcolor=\\\"#DCE775\\\", label=\\\"mass [min]\\\", margin=\\\"0.05\\\", shape=rect, style=\\\"filled\\\"];\\n2 [fillcolor=\\\"#DCE775\\\", label=\\\"failureRate [max]\\\", margin=\\\"0.05\\\", shape=rect, style=\\\"filled\\\"];\\n3 [fillcolor=\\\"#ffffff\\\", label=\\\"Sensor\\\", margin=\\\"0.05\\\", shape=ellipse, style=\\\"filled\\\"];\\n4 [fillcolor=\\\"#ffffff\\\", label=\\\"Comp\\\", margin=\\\"0.05\\\", shape=ellipse, style=\\\"filled\\\"];\\n5 [fillcolor=\\\"#81D4FA\\\", label=\\\"S\\\", margin=\\\"0.05\\\", shape=ellipse, style=\\\"filled\\\"];\\n6 [fillcolor=\\\"#81D4FA\\\", label=\\\"C\\\", margin=\\\"0.05\\\", shape=ellipse, style=\\\"filled\\\"];\\n7 [fillcolor=\\\"#ffffff\\\", label=\\\"Inst[0]\\\", margin=\\\"0.05\\\", shape=ellipse, style=\\\"filled\\\"];\\n8 [fillcolor=\\\"#ffffff\\\", label=\\\"Inst[1]\\\", margin=\\\"0.05\\\", shape=ellipse, style=\\\"filled\\\"];\\n9 [fillcolor=\\\"#ffffff\\\", label=\\\"Inst[2]\\\", margin=\\\"0.05\\\", shape=ellipse, style=\\\"filled\\\"];\\n10 [fillcolor=\\\"#81D4FA\\\", label=\\\"ST0\\\", margin=\\\"0.05\\\", shape=ellipse, style=\\\"filled\\\"];\\n11 [fillcolor=\\\"#ffffff\\\", label=\\\"SC0\\\", margin=\\\"0.05\\\", shape=hexagon, style=\\\"filled\\\"];\\n12 [fillcolor=\\\"#81D4FA\\\", label=\\\"ST1\\\", margin=\\\"0.05\\\", shape=ellipse, style=\\\"filled\\\"];\\n13 [fillcolor=\\\"#ffffff\\\", label=\\\"SC1\\\", margin=\\\"0.05\\\", shape=hexagon, style=\\\"filled\\\"];\\n14 [fillcolor=\\\"#81D4FA\\\", label=\\\"ST2\\\", margin=\\\"0.05\\\", shape=ellipse, style=\\\"filled\\\"];\\n15 [fillcolor=\\\"#ffffff\\\", label=\\\"SC2\\\", margin=\\\"0.05\\\", shape=hexagon, style=\\\"filled\\\"];\\n16 [fillcolor=\\\"#ffffff\\\", label=\\\"Type: A\\\", margin=\\\"0.05\\\", shape=ellipse, style=\\\"filled\\\"];\\n17 [fillcolor=\\\"#ffffff\\\", label=\\\"Type: B\\\", margin=\\\"0.05\\\", shape=ellipse, style=\\\"filled\\\"];\\n18 [fillcolor=\\\"#ffffff\\\", label=\\\"Type: C\\\", margin=\\\"0.05\\\", shape=ellipse, style=\\\"filled\\\"];\\n19 [fillcolor=\\\"#81D4FA\\\", label=\\\"Conn\\\", margin=\\\"0.05\\\", shape=hexagon, style=\\\"filled\\\"];\\n20 [fillcolor=\\\"#ffffff\\\", label=\\\"CC0\\\", margin=\\\"0.05\\\", shape=hexagon, style=\\\"filled\\\"];\\n21 [fillcolor=\\\"#ffffff\\\", label=\\\"CC1\\\", margin=\\\"0.05\\\", shape=hexagon, style=\\\"filled\\\"];\\n22 [fillcolor=\\\"#ffffff\\\", label=\\\"CC2\\\", margin=\\\"0.05\\\", shape=hexagon, style=\\\"filled\\\"];\\n23 [fillcolor=\\\"#ffffff\\\", label=\\\"Inst[0]\\\", margin=\\\"0.05\\\", shape=ellipse, style=\\\"filled\\\"];\\n24 [fillcolor=\\\"#ffffff\\\", label=\\\"Inst[1]\\\", margin=\\\"0.05\\\", shape=ellipse, style=\\\"filled\\\"];\\n25 [fillcolor=\\\"#ffffff\\\", label=\\\"Inst[2]\\\", margin=\\\"0.05\\\", shape=ellipse, style=\\\"filled\\\"];\\n26 [fillcolor=\\\"#81D4FA\\\", label=\\\"CT0\\\", margin=\\\"0.05\\\", shape=ellipse, style=\\\"filled\\\"];\\n27 [fillcolor=\\\"#81D4FA\\\", label=\\\"CT1\\\", margin=\\\"0.05\\\", shape=ellipse, style=\\\"filled\\\"];\\n28 [fillcolor=\\\"#81D4FA\\\", label=\\\"CT2\\\", margin=\\\"0.05\\\", shape=ellipse, style=\\\"filled\\\"];\\n29 [fillcolor=\\\"#ffffff\\\", label=\\\"Type: A\\\", margin=\\\"0.05\\\", shape=ellipse, style=\\\"filled\\\"];\\n30 [fillcolor=\\\"#ffffff\\\", label=\\\"Type: B\\\", margin=\\\"0.05\\\", shape=ellipse, style=\\\"filled\\\"];\\n31 [fillcolor=\\\"#ffffff\\\", label=\\\"Type: C\\\", margin=\\\"0.05\\\", shape=ellipse, style=\\\"filled\\\"];\\n0 -> 1  [type=\\\"EdgeType.DERIVES\\\"];\\n0 -> 2  [type=\\\"EdgeType.DERIVES\\\"];\\n0 -> 3  [type=\\\"EdgeType.DERIVES\\\"];\\n0 -> 4  [type=\\\"EdgeType.DERIVES\\\"];\\n3 -> 5  [type=\\\"EdgeType.DERIVES\\\"];\\n4 -> 6  [type=\\\"EdgeType.DERIVES\\\"];\\n5 -> 7  [type=\\\"EdgeType.DERIVES\\\"];\\n5 -> 8  [type=\\\"EdgeType.DERIVES\\\"];\\n5 -> 9  [type=\\\"EdgeType.DERIVES\\\"];\\n6 -> 23  [type=\\\"EdgeType.DERIVES\\\"];\\n6 -> 24  [type=\\\"EdgeType.DERIVES\\\"];\\n6 -> 25  [type=\\\"EdgeType.DERIVES\\\"];\\n7 -> 10  [type=\\\"EdgeType.DERIVES\\\"];\\n7 -> 11  [type=\\\"EdgeType.DERIVES\\\"];\\n8 -> 12  [type=\\\"EdgeType.DERIVES\\\"];\\n8 -> 13  [type=\\\"EdgeType.DERIVES\\\"];\\n8 -> 7  [type=\\\"EdgeType.DERIVES\\\"];\\n9 -> 14  [type=\\\"EdgeType.DERIVES\\\"];\\n9 -> 15  [type=\\\"EdgeType.DERIVES\\\"];\\n9 -> 8  [type=\\\"EdgeType.DERIVES\\\"];\\n10 -> 16  [type=\\\"EdgeType.DERIVES\\\"];\\n10 -> 17  [type=\\\"EdgeType.DERIVES\\\"];\\n10 -> 18  [type=\\\"EdgeType.DERIVES\\\"];\\n11 -> 19  [label=\\\"1..*\\\", style=dashed, type=\\\"EdgeType.CONNECTS\\\"];\\n12 -> 16  [type=\\\"EdgeType.DERIVES\\\"];\\n12 -> 17  [type=\\\"EdgeType.DERIVES\\\"];\\n12 -> 18  [type=\\\"EdgeType.DERIVES\\\"];\\n13 -> 19  [label=\\\"1..*\\\", style=dashed, type=\\\"EdgeType.CONNECTS\\\"];\\n14 -> 16  [type=\\\"EdgeType.DERIVES\\\"];\\n14 -> 17  [type=\\\"EdgeType.DERIVES\\\"];\\n14 -> 18  [type=\\\"EdgeType.DERIVES\\\"];\\n15 -> 19  [label=\\\"1..*\\\", style=dashed, type=\\\"EdgeType.CONNECTS\\\"];\\n19 -> 20  [label=\\\"1..*\\\", style=dashed, type=\\\"EdgeType.CONNECTS\\\"];\\n19 -> 21  [label=\\\"1..*\\\", style=dashed, type=\\\"EdgeType.CONNECTS\\\"];\\n19 -> 22  [label=\\\"1..*\\\", style=dashed, type=\\\"EdgeType.CONNECTS\\\"];\\n23 -> 26  [type=\\\"EdgeType.DERIVES\\\"];\\n23 -> 20  [type=\\\"EdgeType.DERIVES\\\"];\\n24 -> 27  [type=\\\"EdgeType.DERIVES\\\"];\\n24 -> 21  [type=\\\"EdgeType.DERIVES\\\"];\\n24 -> 23  [type=\\\"EdgeType.DERIVES\\\"];\\n25 -> 28  [type=\\\"EdgeType.DERIVES\\\"];\\n25 -> 22  [type=\\\"EdgeType.DERIVES\\\"];\\n25 -> 24  [type=\\\"EdgeType.DERIVES\\\"];\\n26 -> 29  [type=\\\"EdgeType.DERIVES\\\"];\\n26 -> 30  [type=\\\"EdgeType.DERIVES\\\"];\\n26 -> 31  [type=\\\"EdgeType.DERIVES\\\"];\\n27 -> 29  [type=\\\"EdgeType.DERIVES\\\"];\\n27 -> 30  [type=\\\"EdgeType.DERIVES\\\"];\\n27 -> 31  [type=\\\"EdgeType.DERIVES\\\"];\\n28 -> 29  [type=\\\"EdgeType.DERIVES\\\"];\\n28 -> 30  [type=\\\"EdgeType.DERIVES\\\"];\\n28 -> 31  [type=\\\"EdgeType.DERIVES\\\"];\\n}\\n\"; // Export of the dot graph notation\n",
       "  // Create viz-js instance and render to SVG\n",
       "  function doRender() {\n",
       "    Viz.instance().then(function(viz) { document.getElementById(\"7dfa9e9f822c46608e129b8ec91b4b1c\").appendChild(viz.renderSVGElement(dot)); });\n",
       "  }\n",
       "  // We may need to wait for loading to complete\n",
       "  function checkRender() {\n",
       "    if (typeof Viz === \"undefined\") { setTimeout(checkRender, 200); } else { doRender(); } \n",
       "  }\n",
       "  checkRender();\n",
       "})()\n",
       "</script>\n"
      ],
      "text/plain": [
       "<IPython.core.display.HTML object>"
      ]
     },
     "metadata": {},
     "output_type": "display_data"
    },
    {
     "data": {
      "text/html": [
       "<div id=\"c721f930bcd54c808b89c947b88791a4\"></div>\n",
       "<script type=\"text/javascript\" src=\"https://cdn.jsdelivr.net/npm/@viz-js/viz/lib/viz-standalone.js\"></script>\n",
       "<script type=\"text/javascript\">\n",
       "(function() {\n",
       "  var dot = \"strict digraph  {\\nbgcolor=\\\"#f5f8fa\\\";\\ndpi=60;\\nfontsize=\\\"16pt\\\";\\nlabel=\\\"DSG Legend\\\";\\nlabelloc=t;\\nnodesep=0.1;\\nrankdir=LR;\\nranksep=0;\\nnode [height=0];\\nleg_0 [fillcolor=\\\"#ffffff\\\", label=<<B>Start Node</B>>, margin=0, shape=ellipse, style=\\\"filled,bold\\\"];\\nleg_1 [fillcolor=\\\"#DCE775\\\", label=\\\"Objective [min]\\\", margin=0, shape=rect, style=\\\"filled\\\"];\\nleg_2 [fillcolor=\\\"#DCE775\\\", label=\\\"Constraint [<= 0]\\\", margin=0, shape=rect, style=\\\"filled\\\"];\\nleg_3 [fillcolor=\\\"#DCE775\\\", label=\\\"Output Metric\\\", margin=0, shape=rect, style=\\\"filled\\\"];\\nleg_4 [fillcolor=\\\"#ffffff\\\", label=\\\"Source 1\\\", margin=0, shape=hexagon, style=\\\"filled\\\"];\\nleg_5 [fillcolor=\\\"#81D4FA\\\", label=\\\"Connection\\\\nChoice\\\", margin=0, shape=hexagon, style=\\\"filled\\\"];\\nleg_6 [fillcolor=\\\"#ffffff\\\", label=\\\"Target 1\\\", margin=0, shape=hexagon, style=\\\"filled\\\"];\\nleg_7 [fillcolor=\\\"#ffffff\\\", label=\\\"Target 2\\\", margin=0, shape=hexagon, style=\\\"filled\\\"];\\nleg_8 [fillcolor=\\\"#ffffff\\\", label=\\\"Source 2\\\", margin=0, shape=hexagon, style=\\\"filled\\\"];\\nleg_9 [fillcolor=\\\"#ffffff\\\", label=\\\"Source 2\\\", margin=0, shape=hexagon, style=\\\"filled\\\"];\\nleg_10 [fillcolor=\\\"#ffffff\\\", label=\\\"Source\\\", margin=0, shape=ellipse, style=\\\"filled\\\"];\\nleg_11 [fillcolor=\\\"#81D4FA\\\", label=\\\"Selection\\\\nChoice\\\", margin=0, shape=ellipse, style=\\\"filled\\\"];\\nleg_12 [fillcolor=\\\"#ffffff\\\", label=\\\"Option 1\\\", margin=0, shape=ellipse, style=\\\"filled\\\"];\\nleg_13 [fillcolor=\\\"#ffffff\\\", label=\\\"Option 2\\\", margin=0, shape=ellipse, style=\\\"filled\\\"];\\nleg_14 [fillcolor=\\\"#ffffff\\\", label=\\\"Etc...\\\", margin=0, shape=ellipse, style=\\\"filled\\\"];\\nleg_15 [fillcolor=\\\"#ffffff\\\", label=\\\"A\\\", margin=0, shape=ellipse, style=\\\"filled\\\"];\\nleg_16 [fillcolor=\\\"#ffffff\\\", label=\\\"B\\\", margin=0, shape=ellipse, style=\\\"filled\\\"];\\nleg_0 -> leg_1  [type=\\\"EdgeType.DERIVES\\\"];\\nleg_0 -> leg_2  [type=\\\"EdgeType.DERIVES\\\"];\\nleg_0 -> leg_3  [type=\\\"EdgeType.DERIVES\\\"];\\nleg_4 -> leg_5  [label=\\\"1\\\", style=dashed, type=\\\"EdgeType.CONNECTS\\\"];\\nleg_5 -> leg_6  [label=\\\"1..*\\\", style=dashed, type=\\\"EdgeType.CONNECTS\\\"];\\nleg_5 -> leg_7  [label=\\\"0..2\\\", style=dashed, type=\\\"EdgeType.CONNECTS\\\"];\\nleg_8 -> leg_5  [label=\\\"0,1\\\", style=dashed, type=\\\"EdgeType.CONNECTS\\\"];\\nleg_9 -> leg_5  [label=\\\"0..*\\\", style=dashed, type=\\\"EdgeType.CONNECTS\\\"];\\nleg_10 -> leg_11  [type=\\\"EdgeType.DERIVES\\\"];\\nleg_11 -> leg_12  [type=\\\"EdgeType.DERIVES\\\"];\\nleg_11 -> leg_13  [type=\\\"EdgeType.DERIVES\\\"];\\nleg_11 -> leg_14  [type=\\\"EdgeType.DERIVES\\\"];\\nleg_15 -> leg_16  [label=derives, type=\\\"EdgeType.DERIVES\\\"];\\n}\\n\"; // Export of the dot graph notation\n",
       "  // Create viz-js instance and render to SVG\n",
       "  function doRender() {\n",
       "    Viz.instance().then(function(viz) { document.getElementById(\"c721f930bcd54c808b89c947b88791a4\").appendChild(viz.renderSVGElement(dot)); });\n",
       "  }\n",
       "  // We may need to wait for loading to complete\n",
       "  function checkRender() {\n",
       "    if (typeof Viz === \"undefined\") { setTimeout(checkRender, 200); } else { doRender(); } \n",
       "  }\n",
       "  checkRender();\n",
       "})()\n",
       "</script>\n"
      ],
      "text/plain": [
       "<IPython.core.display.HTML object>"
      ]
     },
     "metadata": {},
     "output_type": "display_data"
    }
   ],
   "source": [
    "# Add connection choice\n",
    "dsg.add_connection_choice('Conn', sensor_conn_nodes, comp_conn_nodes)\n",
    "\n",
    "dsg = dsg.set_start_nodes({gnc})\n",
    "dsg.render()\n",
    "dsg.render_legend(['NODE_START', 'METRICS_OUTPUTS', 'EDGE_DERIVE', 'CHOICES'])"
   ]
  },
  {
   "cell_type": "markdown",
   "metadata": {
    "collapsed": false,
    "jupyter": {
     "outputs_hidden": false
    }
   },
   "source": [
    "The last thing to add is a choice constraint on the type selection choices.\n",
    "This is needed, because for mass calculation the order of type selections does not matter, and for failure rate calculation it would be possible to create isomorphic graphs by exchanging types and connections simultaneously.\n",
    "\n",
    "By adding an *unordered combinations* constraint to type selection, we prevent creating these isomorphic graphs and thereby save computational resources."
   ]
  },
  {
   "cell_type": "code",
   "execution_count": 6,
   "metadata": {
    "ExecuteTime": {
     "end_time": "2024-01-27T08:54:13.453940300Z",
     "start_time": "2024-01-27T08:54:13.395224700Z"
    },
    "collapsed": false,
    "jupyter": {
     "outputs_hidden": false
    }
   },
   "outputs": [
    {
     "name": "stdout",
     "output_type": "stream",
     "text": [
      "Valid architectures: 206127\n"
     ]
    }
   ],
   "source": [
    "from adsg_core import GraphProcessor, ChoiceConstraintType\n",
    "n_valid = GraphProcessor(dsg).get_n_valid_designs()\n",
    "print(f'Valid architectures: {n_valid}')"
   ]
  },
  {
   "cell_type": "code",
   "execution_count": 7,
   "metadata": {
    "ExecuteTime": {
     "end_time": "2024-01-27T08:54:13.515616900Z",
     "start_time": "2024-01-27T08:54:13.459258500Z"
    },
    "collapsed": false,
    "jupyter": {
     "outputs_hidden": false
    }
   },
   "outputs": [
    {
     "name": "stdout",
     "output_type": "stream",
     "text": [
      "Valid architectures: 29857 (85.5% reduction)\n"
     ]
    },
    {
     "data": {
      "text/html": [
       "<div id=\"3e09cafd6b06495986cc90b6608bd3fd\"></div>\n",
       "<script type=\"text/javascript\" src=\"https://cdn.jsdelivr.net/npm/@viz-js/viz/lib/viz-standalone.js\"></script>\n",
       "<script type=\"text/javascript\">\n",
       "(function() {\n",
       "  var dot = \"strict digraph  {\\ndpi=60;\\nfontsize=\\\"20pt\\\";\\nrankdir=LR;\\n0 [fillcolor=\\\"#ffffff\\\", label=<<B>GNC</B>>, margin=\\\"0.05\\\", shape=ellipse, style=\\\"filled,bold\\\"];\\n1 [fillcolor=\\\"#DCE775\\\", label=\\\"mass [min]\\\", margin=\\\"0.05\\\", shape=rect, style=\\\"filled\\\"];\\n2 [fillcolor=\\\"#DCE775\\\", label=\\\"failureRate [max]\\\", margin=\\\"0.05\\\", shape=rect, style=\\\"filled\\\"];\\n3 [fillcolor=\\\"#ffffff\\\", label=\\\"Sensor\\\", margin=\\\"0.05\\\", shape=ellipse, style=\\\"filled\\\"];\\n4 [fillcolor=\\\"#ffffff\\\", label=\\\"Comp\\\", margin=\\\"0.05\\\", shape=ellipse, style=\\\"filled\\\"];\\n5 [fillcolor=\\\"#81D4FA\\\", label=\\\"S\\\", margin=\\\"0.05\\\", shape=ellipse, style=\\\"filled\\\"];\\n6 [fillcolor=\\\"#81D4FA\\\", label=\\\"C\\\", margin=\\\"0.05\\\", shape=ellipse, style=\\\"filled\\\"];\\n7 [fillcolor=\\\"#ffffff\\\", label=\\\"Inst[0]\\\", margin=\\\"0.05\\\", shape=ellipse, style=\\\"filled\\\"];\\n8 [fillcolor=\\\"#ffffff\\\", label=\\\"Inst[1]\\\", margin=\\\"0.05\\\", shape=ellipse, style=\\\"filled\\\"];\\n9 [fillcolor=\\\"#ffffff\\\", label=\\\"Inst[2]\\\", margin=\\\"0.05\\\", shape=ellipse, style=\\\"filled\\\"];\\n10 [fillcolor=\\\"#81D4FA\\\", label=\\\"ST0\\\", margin=\\\"0.05\\\", shape=ellipse, style=\\\"filled\\\"];\\n11 [fillcolor=\\\"#ffffff\\\", label=\\\"SC0\\\", margin=\\\"0.05\\\", shape=hexagon, style=\\\"filled\\\"];\\n12 [fillcolor=\\\"#81D4FA\\\", label=\\\"ST1\\\", margin=\\\"0.05\\\", shape=ellipse, style=\\\"filled\\\"];\\n13 [fillcolor=\\\"#ffffff\\\", label=\\\"SC1\\\", margin=\\\"0.05\\\", shape=hexagon, style=\\\"filled\\\"];\\n14 [fillcolor=\\\"#81D4FA\\\", label=\\\"ST2\\\", margin=\\\"0.05\\\", shape=ellipse, style=\\\"filled\\\"];\\n15 [fillcolor=\\\"#ffffff\\\", label=\\\"SC2\\\", margin=\\\"0.05\\\", shape=hexagon, style=\\\"filled\\\"];\\n16 [fillcolor=\\\"#ffffff\\\", label=\\\"Type: A\\\", margin=\\\"0.05\\\", shape=ellipse, style=\\\"filled\\\"];\\n17 [fillcolor=\\\"#ffffff\\\", label=\\\"Type: B\\\", margin=\\\"0.05\\\", shape=ellipse, style=\\\"filled\\\"];\\n18 [fillcolor=\\\"#ffffff\\\", label=\\\"Type: C\\\", margin=\\\"0.05\\\", shape=ellipse, style=\\\"filled\\\"];\\n19 [fillcolor=\\\"#81D4FA\\\", label=\\\"Conn\\\", margin=\\\"0.05\\\", shape=hexagon, style=\\\"filled\\\"];\\n20 [fillcolor=\\\"#ffffff\\\", label=\\\"CC0\\\", margin=\\\"0.05\\\", shape=hexagon, style=\\\"filled\\\"];\\n21 [fillcolor=\\\"#ffffff\\\", label=\\\"CC1\\\", margin=\\\"0.05\\\", shape=hexagon, style=\\\"filled\\\"];\\n22 [fillcolor=\\\"#ffffff\\\", label=\\\"CC2\\\", margin=\\\"0.05\\\", shape=hexagon, style=\\\"filled\\\"];\\n23 [fillcolor=\\\"#ffffff\\\", label=\\\"Inst[0]\\\", margin=\\\"0.05\\\", shape=ellipse, style=\\\"filled\\\"];\\n24 [fillcolor=\\\"#ffffff\\\", label=\\\"Inst[1]\\\", margin=\\\"0.05\\\", shape=ellipse, style=\\\"filled\\\"];\\n25 [fillcolor=\\\"#ffffff\\\", label=\\\"Inst[2]\\\", margin=\\\"0.05\\\", shape=ellipse, style=\\\"filled\\\"];\\n26 [fillcolor=\\\"#81D4FA\\\", label=\\\"CT0\\\", margin=\\\"0.05\\\", shape=ellipse, style=\\\"filled\\\"];\\n27 [fillcolor=\\\"#81D4FA\\\", label=\\\"CT1\\\", margin=\\\"0.05\\\", shape=ellipse, style=\\\"filled\\\"];\\n28 [fillcolor=\\\"#81D4FA\\\", label=\\\"CT2\\\", margin=\\\"0.05\\\", shape=ellipse, style=\\\"filled\\\"];\\n29 [fillcolor=\\\"#ffffff\\\", label=\\\"Type: A\\\", margin=\\\"0.05\\\", shape=ellipse, style=\\\"filled\\\"];\\n30 [fillcolor=\\\"#ffffff\\\", label=\\\"Type: B\\\", margin=\\\"0.05\\\", shape=ellipse, style=\\\"filled\\\"];\\n31 [fillcolor=\\\"#ffffff\\\", label=\\\"Type: C\\\", margin=\\\"0.05\\\", shape=ellipse, style=\\\"filled\\\"];\\n0 -> 1  [type=\\\"EdgeType.DERIVES\\\"];\\n0 -> 2  [type=\\\"EdgeType.DERIVES\\\"];\\n0 -> 3  [type=\\\"EdgeType.DERIVES\\\"];\\n0 -> 4  [type=\\\"EdgeType.DERIVES\\\"];\\n3 -> 5  [type=\\\"EdgeType.DERIVES\\\"];\\n4 -> 6  [type=\\\"EdgeType.DERIVES\\\"];\\n5 -> 7  [type=\\\"EdgeType.DERIVES\\\"];\\n5 -> 8  [type=\\\"EdgeType.DERIVES\\\"];\\n5 -> 9  [type=\\\"EdgeType.DERIVES\\\"];\\n6 -> 23  [type=\\\"EdgeType.DERIVES\\\"];\\n6 -> 24  [type=\\\"EdgeType.DERIVES\\\"];\\n6 -> 25  [type=\\\"EdgeType.DERIVES\\\"];\\n7 -> 10  [type=\\\"EdgeType.DERIVES\\\"];\\n7 -> 11  [type=\\\"EdgeType.DERIVES\\\"];\\n8 -> 12  [type=\\\"EdgeType.DERIVES\\\"];\\n8 -> 13  [type=\\\"EdgeType.DERIVES\\\"];\\n8 -> 7  [type=\\\"EdgeType.DERIVES\\\"];\\n9 -> 14  [type=\\\"EdgeType.DERIVES\\\"];\\n9 -> 15  [type=\\\"EdgeType.DERIVES\\\"];\\n9 -> 8  [type=\\\"EdgeType.DERIVES\\\"];\\n10 -> 16  [type=\\\"EdgeType.DERIVES\\\"];\\n10 -> 17  [type=\\\"EdgeType.DERIVES\\\"];\\n10 -> 18  [type=\\\"EdgeType.DERIVES\\\"];\\n10 -> 12  [arrowhead=none, color=\\\"#9C27B0\\\", constraint=false, label=\\\"\\u2265\\\", penwidth=3, style=dotted];\\n10 -> 14  [arrowhead=none, color=\\\"#9C27B0\\\", constraint=false, label=\\\"\\u2265\\\", penwidth=3, style=dotted];\\n11 -> 19  [label=\\\"1..*\\\", style=dashed, type=\\\"EdgeType.CONNECTS\\\"];\\n12 -> 16  [type=\\\"EdgeType.DERIVES\\\"];\\n12 -> 17  [type=\\\"EdgeType.DERIVES\\\"];\\n12 -> 18  [type=\\\"EdgeType.DERIVES\\\"];\\n12 -> 14  [arrowhead=none, color=\\\"#9C27B0\\\", constraint=false, label=\\\"\\u2265\\\", penwidth=3, style=dotted];\\n13 -> 19  [label=\\\"1..*\\\", style=dashed, type=\\\"EdgeType.CONNECTS\\\"];\\n14 -> 16  [type=\\\"EdgeType.DERIVES\\\"];\\n14 -> 17  [type=\\\"EdgeType.DERIVES\\\"];\\n14 -> 18  [type=\\\"EdgeType.DERIVES\\\"];\\n15 -> 19  [label=\\\"1..*\\\", style=dashed, type=\\\"EdgeType.CONNECTS\\\"];\\n19 -> 20  [label=\\\"1..*\\\", style=dashed, type=\\\"EdgeType.CONNECTS\\\"];\\n19 -> 21  [label=\\\"1..*\\\", style=dashed, type=\\\"EdgeType.CONNECTS\\\"];\\n19 -> 22  [label=\\\"1..*\\\", style=dashed, type=\\\"EdgeType.CONNECTS\\\"];\\n23 -> 26  [type=\\\"EdgeType.DERIVES\\\"];\\n23 -> 20  [type=\\\"EdgeType.DERIVES\\\"];\\n24 -> 27  [type=\\\"EdgeType.DERIVES\\\"];\\n24 -> 21  [type=\\\"EdgeType.DERIVES\\\"];\\n24 -> 23  [type=\\\"EdgeType.DERIVES\\\"];\\n25 -> 28  [type=\\\"EdgeType.DERIVES\\\"];\\n25 -> 22  [type=\\\"EdgeType.DERIVES\\\"];\\n25 -> 24  [type=\\\"EdgeType.DERIVES\\\"];\\n26 -> 29  [type=\\\"EdgeType.DERIVES\\\"];\\n26 -> 30  [type=\\\"EdgeType.DERIVES\\\"];\\n26 -> 31  [type=\\\"EdgeType.DERIVES\\\"];\\n26 -> 27  [arrowhead=none, color=\\\"#9C27B0\\\", constraint=false, label=\\\"\\u2265\\\", penwidth=3, style=dotted];\\n26 -> 28  [arrowhead=none, color=\\\"#9C27B0\\\", constraint=false, label=\\\"\\u2265\\\", penwidth=3, style=dotted];\\n27 -> 29  [type=\\\"EdgeType.DERIVES\\\"];\\n27 -> 30  [type=\\\"EdgeType.DERIVES\\\"];\\n27 -> 31  [type=\\\"EdgeType.DERIVES\\\"];\\n27 -> 28  [arrowhead=none, color=\\\"#9C27B0\\\", constraint=false, label=\\\"\\u2265\\\", penwidth=3, style=dotted];\\n28 -> 29  [type=\\\"EdgeType.DERIVES\\\"];\\n28 -> 30  [type=\\\"EdgeType.DERIVES\\\"];\\n28 -> 31  [type=\\\"EdgeType.DERIVES\\\"];\\n}\\n\"; // Export of the dot graph notation\n",
       "  // Create viz-js instance and render to SVG\n",
       "  function doRender() {\n",
       "    Viz.instance().then(function(viz) { document.getElementById(\"3e09cafd6b06495986cc90b6608bd3fd\").appendChild(viz.renderSVGElement(dot)); });\n",
       "  }\n",
       "  // We may need to wait for loading to complete\n",
       "  function checkRender() {\n",
       "    if (typeof Viz === \"undefined\") { setTimeout(checkRender, 200); } else { doRender(); } \n",
       "  }\n",
       "  checkRender();\n",
       "})()\n",
       "</script>\n"
      ],
      "text/plain": [
       "<IPython.core.display.HTML object>"
      ]
     },
     "metadata": {},
     "output_type": "display_data"
    },
    {
     "data": {
      "text/html": [
       "<div id=\"8351d55de5514744a7f37ee3375b2fdd\"></div>\n",
       "<script type=\"text/javascript\" src=\"https://cdn.jsdelivr.net/npm/@viz-js/viz/lib/viz-standalone.js\"></script>\n",
       "<script type=\"text/javascript\">\n",
       "(function() {\n",
       "  var dot = \"strict digraph  {\\nbgcolor=\\\"#f5f8fa\\\";\\ndpi=60;\\nfontsize=\\\"16pt\\\";\\nlabel=\\\"DSG Legend\\\";\\nlabelloc=t;\\nnodesep=0.1;\\nrankdir=LR;\\nranksep=0;\\nnode [height=0];\\nleg_0 [fillcolor=\\\"#81D4FA\\\", label=\\\"Choice 1\\\", margin=0, shape=ellipse, style=\\\"filled\\\"];\\nleg_1 [fillcolor=\\\"#81D4FA\\\", label=\\\"Choice 2\\\", margin=0, shape=ellipse, style=\\\"filled\\\"];\\nleg_2 [fillcolor=\\\"#ffffff\\\", label=<<B>Start Node</B>>, margin=0, shape=ellipse, style=\\\"filled,bold\\\"];\\nleg_3 [fillcolor=\\\"#DCE775\\\", label=\\\"Objective [min]\\\", margin=0, shape=rect, style=\\\"filled\\\"];\\nleg_4 [fillcolor=\\\"#DCE775\\\", label=\\\"Constraint [<= 0]\\\", margin=0, shape=rect, style=\\\"filled\\\"];\\nleg_5 [fillcolor=\\\"#DCE775\\\", label=\\\"Output Metric\\\", margin=0, shape=rect, style=\\\"filled\\\"];\\nleg_6 [fillcolor=\\\"#ffffff\\\", label=\\\"Source 1\\\", margin=0, shape=hexagon, style=\\\"filled\\\"];\\nleg_7 [fillcolor=\\\"#81D4FA\\\", label=\\\"Connection\\\\nChoice\\\", margin=0, shape=hexagon, style=\\\"filled\\\"];\\nleg_8 [fillcolor=\\\"#ffffff\\\", label=\\\"Target 1\\\", margin=0, shape=hexagon, style=\\\"filled\\\"];\\nleg_9 [fillcolor=\\\"#ffffff\\\", label=\\\"Target 2\\\", margin=0, shape=hexagon, style=\\\"filled\\\"];\\nleg_10 [fillcolor=\\\"#ffffff\\\", label=\\\"Source 2\\\", margin=0, shape=hexagon, style=\\\"filled\\\"];\\nleg_11 [fillcolor=\\\"#ffffff\\\", label=\\\"Source 2\\\", margin=0, shape=hexagon, style=\\\"filled\\\"];\\nleg_12 [fillcolor=\\\"#ffffff\\\", label=\\\"Source\\\", margin=0, shape=ellipse, style=\\\"filled\\\"];\\nleg_13 [fillcolor=\\\"#81D4FA\\\", label=\\\"Selection\\\\nChoice\\\", margin=0, shape=ellipse, style=\\\"filled\\\"];\\nleg_14 [fillcolor=\\\"#ffffff\\\", label=\\\"Option 1\\\", margin=0, shape=ellipse, style=\\\"filled\\\"];\\nleg_15 [fillcolor=\\\"#ffffff\\\", label=\\\"Option 2\\\", margin=0, shape=ellipse, style=\\\"filled\\\"];\\nleg_16 [fillcolor=\\\"#ffffff\\\", label=\\\"Etc...\\\", margin=0, shape=ellipse, style=\\\"filled\\\"];\\nleg_17 [fillcolor=\\\"#ffffff\\\", label=\\\"A\\\", margin=0, shape=ellipse, style=\\\"filled\\\"];\\nleg_18 [fillcolor=\\\"#ffffff\\\", label=\\\"B\\\", margin=0, shape=ellipse, style=\\\"filled\\\"];\\nleg_0 -> leg_1  [arrowhead=none, color=\\\"#9C27B0\\\", label=\\\"choice\\\\nconstraint\\\", penwidth=3, style=dotted];\\nleg_2 -> leg_3  [type=\\\"EdgeType.DERIVES\\\"];\\nleg_2 -> leg_4  [type=\\\"EdgeType.DERIVES\\\"];\\nleg_2 -> leg_5  [type=\\\"EdgeType.DERIVES\\\"];\\nleg_6 -> leg_7  [label=\\\"1\\\", style=dashed, type=\\\"EdgeType.CONNECTS\\\"];\\nleg_7 -> leg_8  [label=\\\"1..*\\\", style=dashed, type=\\\"EdgeType.CONNECTS\\\"];\\nleg_7 -> leg_9  [label=\\\"0..2\\\", style=dashed, type=\\\"EdgeType.CONNECTS\\\"];\\nleg_10 -> leg_7  [label=\\\"0,1\\\", style=dashed, type=\\\"EdgeType.CONNECTS\\\"];\\nleg_11 -> leg_7  [label=\\\"0..*\\\", style=dashed, type=\\\"EdgeType.CONNECTS\\\"];\\nleg_12 -> leg_13  [type=\\\"EdgeType.DERIVES\\\"];\\nleg_13 -> leg_14  [type=\\\"EdgeType.DERIVES\\\"];\\nleg_13 -> leg_15  [type=\\\"EdgeType.DERIVES\\\"];\\nleg_13 -> leg_16  [type=\\\"EdgeType.DERIVES\\\"];\\nleg_17 -> leg_18  [label=derives, type=\\\"EdgeType.DERIVES\\\"];\\n}\\n\"; // Export of the dot graph notation\n",
       "  // Create viz-js instance and render to SVG\n",
       "  function doRender() {\n",
       "    Viz.instance().then(function(viz) { document.getElementById(\"8351d55de5514744a7f37ee3375b2fdd\").appendChild(viz.renderSVGElement(dot)); });\n",
       "  }\n",
       "  // We may need to wait for loading to complete\n",
       "  function checkRender() {\n",
       "    if (typeof Viz === \"undefined\") { setTimeout(checkRender, 200); } else { doRender(); } \n",
       "  }\n",
       "  checkRender();\n",
       "})()\n",
       "</script>\n"
      ],
      "text/plain": [
       "<IPython.core.display.HTML object>"
      ]
     },
     "metadata": {},
     "output_type": "display_data"
    }
   ],
   "source": [
    "# Constraint sensor/computer type selections\n",
    "# \"Unordered\" constraints are shown by purple-dashed edges annotated with \"≥\"\n",
    "dsg = dsg.constrain_choices(ChoiceConstraintType.UNORDERED, comp_type_choices)\n",
    "dsg = dsg.constrain_choices(ChoiceConstraintType.UNORDERED, sensor_type_choices)\n",
    "\n",
    "n_valid_constrained = GraphProcessor(dsg).get_n_valid_designs()\n",
    "print(f'Valid architectures: {n_valid_constrained} '\n",
    "      f'({100*(n_valid-n_valid_constrained)/n_valid:.1f}% reduction)')\n",
    "\n",
    "dsg.render()\n",
    "dsg.render_legend(['NODE_START', 'METRICS_OUTPUTS', 'EDGE_DERIVE', 'CHOICES', 'CHOICE_CONSTRAINT'])"
   ]
  },
  {
   "cell_type": "markdown",
   "metadata": {
    "ExecuteTime": {
     "end_time": "2024-01-27T08:15:47.828494700Z",
     "start_time": "2024-01-27T08:15:47.708776300Z"
    },
    "collapsed": false,
    "jupyter": {
     "outputs_hidden": false
    }
   },
   "source": [
    "## Optimization Problem\n",
    "\n",
    "We can now encode the optimization problem and inspect some properties."
   ]
  },
  {
   "cell_type": "code",
   "execution_count": 8,
   "metadata": {
    "ExecuteTime": {
     "end_time": "2024-01-27T08:54:13.670516400Z",
     "start_time": "2024-01-27T08:54:13.518687400Z"
    },
    "collapsed": false,
    "jupyter": {
     "outputs_hidden": false
    }
   },
   "outputs": [
    {
     "data": {
      "text/html": [
       "<div>\n",
       "<style scoped>\n",
       "    .dataframe tbody tr th:only-of-type {\n",
       "        vertical-align: middle;\n",
       "    }\n",
       "\n",
       "    .dataframe tbody tr th {\n",
       "        vertical-align: top;\n",
       "    }\n",
       "\n",
       "    .dataframe thead th {\n",
       "        text-align: right;\n",
       "    }\n",
       "</style>\n",
       "<table border=\"1\" class=\"dataframe\">\n",
       "  <thead>\n",
       "    <tr style=\"text-align: right;\">\n",
       "      <th></th>\n",
       "      <th>n_valid</th>\n",
       "      <th>n_declared</th>\n",
       "      <th>n_discrete</th>\n",
       "      <th>n_dim_cont</th>\n",
       "      <th>n_dim_cont_mean</th>\n",
       "      <th>n_exist</th>\n",
       "      <th>imp_ratio</th>\n",
       "      <th>imp_ratio_comb</th>\n",
       "      <th>imp_ratio_cont</th>\n",
       "      <th>inf_idx</th>\n",
       "      <th>dist_corr</th>\n",
       "      <th>encoder</th>\n",
       "    </tr>\n",
       "    <tr>\n",
       "      <th>type</th>\n",
       "      <th></th>\n",
       "      <th></th>\n",
       "      <th></th>\n",
       "      <th></th>\n",
       "      <th></th>\n",
       "      <th></th>\n",
       "      <th></th>\n",
       "      <th></th>\n",
       "      <th></th>\n",
       "      <th></th>\n",
       "      <th></th>\n",
       "      <th></th>\n",
       "    </tr>\n",
       "  </thead>\n",
       "  <tbody>\n",
       "    <tr>\n",
       "      <th>option-decisions</th>\n",
       "      <td>361</td>\n",
       "      <td>6561</td>\n",
       "      <td>8</td>\n",
       "      <td>0</td>\n",
       "      <td>0.0</td>\n",
       "      <td>1</td>\n",
       "      <td>18.174515</td>\n",
       "      <td>18.174515</td>\n",
       "      <td>1.0</td>\n",
       "      <td>0.599330</td>\n",
       "      <td>0.0</td>\n",
       "      <td>complete</td>\n",
       "    </tr>\n",
       "    <tr>\n",
       "      <th>permutation-decision-0 Conn</th>\n",
       "      <td>327</td>\n",
       "      <td>512</td>\n",
       "      <td>9</td>\n",
       "      <td>0</td>\n",
       "      <td>0.0</td>\n",
       "      <td>9</td>\n",
       "      <td>14.091743</td>\n",
       "      <td>14.091743</td>\n",
       "      <td>1.0</td>\n",
       "      <td>1.000000</td>\n",
       "      <td>1.0</td>\n",
       "      <td>Assigning Pattern Encoder</td>\n",
       "    </tr>\n",
       "    <tr>\n",
       "      <th>total-design-space</th>\n",
       "      <td>29857</td>\n",
       "      <td>3359232</td>\n",
       "      <td>17</td>\n",
       "      <td>0</td>\n",
       "      <td>0.0</td>\n",
       "      <td>1</td>\n",
       "      <td>112.510701</td>\n",
       "      <td>112.510701</td>\n",
       "      <td>1.0</td>\n",
       "      <td>0.773706</td>\n",
       "      <td>0.0</td>\n",
       "      <td>complete</td>\n",
       "    </tr>\n",
       "    <tr>\n",
       "      <th>total-design-problem</th>\n",
       "      <td>29857</td>\n",
       "      <td>3359232</td>\n",
       "      <td>17</td>\n",
       "      <td>0</td>\n",
       "      <td>0.0</td>\n",
       "      <td>1</td>\n",
       "      <td>112.510701</td>\n",
       "      <td>112.510701</td>\n",
       "      <td>1.0</td>\n",
       "      <td>0.773706</td>\n",
       "      <td>0.0</td>\n",
       "      <td>complete</td>\n",
       "    </tr>\n",
       "  </tbody>\n",
       "</table>\n",
       "</div>"
      ],
      "text/plain": [
       "                             n_valid  n_declared  n_discrete  n_dim_cont  \\\n",
       "type                                                                       \n",
       "option-decisions                 361        6561           8           0   \n",
       "permutation-decision-0 Conn      327         512           9           0   \n",
       "total-design-space             29857     3359232          17           0   \n",
       "total-design-problem           29857     3359232          17           0   \n",
       "\n",
       "                             n_dim_cont_mean  n_exist   imp_ratio  \\\n",
       "type                                                                \n",
       "option-decisions                         0.0        1   18.174515   \n",
       "permutation-decision-0 Conn              0.0        9   14.091743   \n",
       "total-design-space                       0.0        1  112.510701   \n",
       "total-design-problem                     0.0        1  112.510701   \n",
       "\n",
       "                             imp_ratio_comb  imp_ratio_cont   inf_idx  \\\n",
       "type                                                                    \n",
       "option-decisions                  18.174515             1.0  0.599330   \n",
       "permutation-decision-0 Conn       14.091743             1.0  1.000000   \n",
       "total-design-space               112.510701             1.0  0.773706   \n",
       "total-design-problem             112.510701             1.0  0.773706   \n",
       "\n",
       "                             dist_corr                    encoder  \n",
       "type                                                               \n",
       "option-decisions                   0.0                   complete  \n",
       "permutation-decision-0 Conn        1.0  Assigning Pattern Encoder  \n",
       "total-design-space                 0.0                   complete  \n",
       "total-design-problem               0.0                   complete  "
      ]
     },
     "execution_count": 8,
     "metadata": {},
     "output_type": "execute_result"
    }
   ],
   "source": [
    "from adsg_core import GraphProcessor\n",
    "\n",
    "gp = GraphProcessor(dsg)\n",
    "gp.get_statistics()"
   ]
  },
  {
   "cell_type": "markdown",
   "metadata": {
    "collapsed": false,
    "jupyter": {
     "outputs_hidden": false
    }
   },
   "source": [
    "The selection choices (`option-decisions`) lead to 361 valid architectures.\n",
    "The connection choice (`permutation-decision`) to an additional 327 valid architectures, and is encoded by the assigning pattern encoder.\n",
    "\n",
    "In total, there are 29857 valid architectures, however by just looking at the 17 design variables there are about 3.3 million combinations.\n",
    "This discrepancy is captured in the *imputation ratio*:\n",
    "`imp_ratio = n_declared / n_valid = 3359232 / 29857 = 112.5`"
   ]
  },
  {
   "cell_type": "markdown",
   "metadata": {
    "collapsed": false,
    "jupyter": {
     "outputs_hidden": false
    }
   },
   "source": [
    "### Evaluation Function\n",
    "\n",
    "The evaluation function should interpret the ADSG and get a list of sensor and computer types, and a list of connection from sensors to computers.\n",
    "The metrics are then calculated by the `GNCEvaluator`.\n",
    "\n",
    "The evaluation function is provided by implementing the `_evaluate` function of an extended `ADSGEvaluator` class."
   ]
  },
  {
   "cell_type": "code",
   "execution_count": 9,
   "metadata": {
    "ExecuteTime": {
     "end_time": "2024-01-27T08:54:13.744951400Z",
     "start_time": "2024-01-27T08:54:13.685127900Z"
    },
    "collapsed": false,
    "jupyter": {
     "outputs_hidden": false
    }
   },
   "outputs": [],
   "source": [
    "from typing import List, Dict\n",
    "from adsg_core import DSGEvaluator, DSGType, EdgeType\n",
    "from adsg_core.examples.gnc import GNCEvaluator\n",
    "\n",
    "class ExampleGNCEvaluator(DSGEvaluator):\n",
    "\n",
    "    def _evaluate(self, dsg_inst: DSGType, metric_nodes: List[MetricNode])\\\n",
    "            -> Dict[MetricNode, float]:\n",
    "\n",
    "        # Define a function to analyze either sensors or computers\n",
    "        def _analyze_object(object_root_node):\n",
    "            obj_types = []\n",
    "            connector_nodes = {}\n",
    "\n",
    "            # Find object instance nodes\n",
    "            inst_nodes = []\n",
    "            for obj_inst_node in dsg_inst.derived_nodes(object_root_node):\n",
    "                if isinstance(obj_inst_node, GNCInstanceNode):\n",
    "                    inst_nodes.append(obj_inst_node)\n",
    "\n",
    "            # Loop over sorted instance nodes\n",
    "            for i, obj_inst_node in enumerate(\n",
    "                    sorted(inst_nodes, key=lambda n: n.idx)):\n",
    "\n",
    "                # Loop over outgoing nodes\n",
    "                for next_node in dsg_inst.next(obj_inst_node):\n",
    "                    # Record selected type\n",
    "                    if isinstance(next_node, GNCTypeNode):\n",
    "                        obj_types.append(next_node.type)\n",
    "\n",
    "                    # Record connector nodes\n",
    "                    elif isinstance(next_node, ConnectorNode):\n",
    "                        connector_nodes[next_node] = i\n",
    "\n",
    "            return obj_types, connector_nodes\n",
    "\n",
    "        # Analyze sensors and computers\n",
    "        sensors, sensor_conns = [], {}\n",
    "        computers, comp_conns = [], {}\n",
    "        for node in dsg_inst.graph.nodes:\n",
    "            if isinstance(node, NamedNode):\n",
    "                if node.name == 'Sensor':\n",
    "                    sensors, sensor_conns = _analyze_object(node)\n",
    "                elif node.name == 'Comp':\n",
    "                    computers, comp_conns = _analyze_object(node)\n",
    "\n",
    "        # Get object connections\n",
    "        conns = []\n",
    "        for src_node, src_idx in sensor_conns.items():\n",
    "            # Loop over outgoing edges, filtered by connection type edges\n",
    "            for tgt_node in dsg_inst.next(src_node,\n",
    "                                          edge_type=EdgeType.CONNECTS):\n",
    "                tgt_idx = comp_conns[tgt_node]\n",
    "                conns.append((src_idx, tgt_idx))\n",
    "\n",
    "        # Calculate metrics: the outputs of this function should be a dict\n",
    "        # mapping requested metric nodes to values\n",
    "        results = {}\n",
    "        for metric_node in metric_nodes:\n",
    "            if metric_node.name == 'mass':\n",
    "                results[metric_node] = GNCEvaluator.calc_mass(\n",
    "                    sensors, computers)\n",
    "            elif metric_node.name == 'failureRate':\n",
    "                results[metric_node] = GNCEvaluator.calc_failure_rate(\n",
    "                    sensors, computers, conns)\n",
    "\n",
    "        return results"
   ]
  },
  {
   "cell_type": "code",
   "execution_count": 10,
   "metadata": {
    "ExecuteTime": {
     "end_time": "2024-01-27T08:54:15.448831Z",
     "start_time": "2024-01-27T08:54:13.710845300Z"
    },
    "collapsed": false,
    "jupyter": {
     "outputs_hidden": false
    }
   },
   "outputs": [
    {
     "name": "stdout",
     "output_type": "stream",
     "text": [
      "Architecture 1: [0, 1, 0, 0, 0, 1, 1, 0, 1, 1, 0, 0, 0, 0, 0, 0, 0]\n",
      "  Objectives: [2.397478707292021, 9.0]\n",
      "Architecture 2: [2, 1, 0, 1, 1, 0, 2, 0, 1, 1, 1, 1, 0, 0, 0, 0, 0]\n",
      "  Objectives: [5.382378021464756, 32.0]\n",
      "Architecture 3: [0, 0, 2, 0, 0, 1, 0, 0, 1, 0, 0, 0, 0, 0, 0, 0, 0]\n",
      "  Objectives: [2.8237640002391284, 17.0]\n",
      "Architecture 4: [2, 2, 0, 0, 1, 1, 2, 2, 1, 0, 1, 0, 1, 1, 1, 1, 0]\n",
      "  Objectives: [7.397566056720244, 34.0]\n",
      "Architecture 5: [1, 2, 0, 2, 0, 0, 1, 1, 0, 1, 1, 1, 0, 1, 0, 0, 0]\n",
      "  Objectives: [5.345919162614715, 25.0]\n"
     ]
    }
   ],
   "source": [
    "# Instantiate the evaluator\n",
    "evaluator = ExampleGNCEvaluator(dsg)\n",
    "\n",
    "# Test some architectures\n",
    "for i in range(5):\n",
    "    # Generate random architecture\n",
    "    dv = evaluator.get_random_design_vector()\n",
    "    graph, dv_corr, is_active = evaluator.get_graph(dv)\n",
    "\n",
    "    # Evaluate it\n",
    "    obj, con = evaluator.evaluate(graph)\n",
    "    print(f'Architecture {i+1}: {list(dv_corr)}')\n",
    "    print(f'  Objectives: {list(obj)}')"
   ]
  },
  {
   "cell_type": "markdown",
   "metadata": {
    "ExecuteTime": {
     "end_time": "2024-01-27T08:16:55.747451100Z",
     "start_time": "2024-01-27T08:16:55.740950400Z"
    },
    "collapsed": false,
    "jupyter": {
     "outputs_hidden": false
    }
   },
   "source": [
    "### Results\n",
    "\n",
    "There are a little over 29k architectures, so here it makes sense to run an optimization so that we do not have to evaluate all architectures to find a Pareto front.\n",
    "\n",
    "We run the optimization problem by coupling to [SBArchOpt](https://sbarchopt.readthedocs.io/).\n",
    "SBArchOpt is an open-source library for running architecture optimization problem.\n",
    "ADSG Core provides a problem definition in the API of SBArchOpt, so that all algorithms defined in SBArchOpt can be used.\n",
    "\n",
    "Ensure SBArchOpt is installed, or run: `pip install adsg-core[opt]`\n",
    "\n",
    "We run the optimization using the NSGA-II algorithm, a multi-objective genetic algorithm.\n",
    "For more information refer to the SBArchOpt [documentation](https://sbarchopt.readthedocs.io/en/latest/algo/pymoo/).\n",
    "SBArchOpt is based on [pymoo](https://pymoo.org), so it can also be helpful to consult its documentation."
   ]
  },
  {
   "cell_type": "code",
   "execution_count": 11,
   "metadata": {
    "ExecuteTime": {
     "end_time": "2024-01-27T08:57:26.257610200Z",
     "start_time": "2024-01-27T08:57:26.116998500Z"
    },
    "collapsed": false,
    "jupyter": {
     "outputs_hidden": false
    }
   },
   "outputs": [
    {
     "name": "stdout",
     "output_type": "stream",
     "text": [
      "problem: DSGArchOptProblem(<__main__.ExampleGNCEvaluator object at 0x000001B5A823FC10>)\n",
      "n_discr: 17\n",
      "n_cont : 0\n",
      "n_obj  : 2\n",
      "n_con  : 0\n",
      "MD     : False\n",
      "MO     : True\n",
      "HIER         : True\n",
      "n_valid_discr: 29857\n",
      "imp_ratio    : 112.51 (discr.: 112.51; cont.: 1.00)\n",
      "corr_ratio   : 6.50 (discr.: 6.50; cont.: 1.00; fraction of imp_ratio: 39.6%)\n",
      "                        x0        x1        x2        x3        x4        x5        x6        x7        x8        x9       x10       x11       x12       x13       x14       x15       x16       max\n",
      "inactive                                        0.001909  0.061192            0.001909  0.061192            0.000301  0.001507  0.003517  0.011957  0.011957  0.112436  0.112436  0.112436          \n",
      "opt 0             0.001909  0.001909  0.593563  0.292081       0.1  0.593563  0.292081       0.1  0.382892  0.383007   0.38347  0.384243  0.385085  0.385085  0.392453  0.392453  0.392453          \n",
      "opt 1             0.059283  0.059283   0.30204   0.39604       0.3   0.30204   0.39604       0.3  0.617108  0.616993   0.61653  0.615757  0.614915  0.614915  0.607547  0.607547  0.607547          \n",
      "opt 2             0.938808  0.938808  0.104398  0.311879       0.6  0.104398  0.311879       0.6                                                                                                    \n",
      "diversity         0.936899  0.936899  0.489165  0.393375  0.502093  0.489165  0.393375  0.502093  0.234216  0.616505  0.614094  0.610075  0.595606  0.595606  0.426801  0.426801  0.426801  0.936899\n",
      "active-diversity  0.936899  0.936899  0.489165   0.10396       0.5  0.489165   0.10396       0.5  0.234216  0.233986  0.233061  0.231514  0.229831  0.229831  0.215094  0.215094  0.215094  0.936899\n",
      "x_type                 cat       cat       cat       cat       cat       cat       cat       cat       int       int       int       int       int       int       int       int       int          \n",
      "is_cond              False     False      True      True      True      True      True      True      True      True      True      True      True      True      True      True      True          \n",
      "                             n_valid  n_declared  n_discrete  n_dim_cont  n_dim_cont_mean  n_exist   imp_ratio  imp_ratio_comb  imp_ratio_cont   inf_idx  dist_corr                    encoder\n",
      "type                                                                                                                                                                                          \n",
      "option-decisions                 361        6561           8           0              0.0        1   18.174515       18.174515             1.0  0.599330        0.0                   complete\n",
      "permutation-decision-0 Conn      327         512           9           0              0.0        9   14.091743       14.091743             1.0  1.000000        1.0  Assigning Pattern Encoder\n",
      "total-design-space             29857     3359232          17           0              0.0        1  112.510701      112.510701             1.0  0.773706        0.0                   complete\n",
      "total-design-problem           29857     3359232          17           0              0.0        1  112.510701      112.510701             1.0  0.773706        0.0                   complete\n"
     ]
    }
   ],
   "source": [
    "# Get the SBArchOpt problem\n",
    "problem = evaluator.get_problem()\n",
    "\n",
    "# Now the SBArchOpt API is available\n",
    "# We can for example print some problem statistic\n",
    "problem.print_stats()"
   ]
  },
  {
   "cell_type": "code",
   "execution_count": 12,
   "metadata": {
    "ExecuteTime": {
     "end_time": "2024-01-27T08:58:38.684375300Z",
     "start_time": "2024-01-27T08:58:36.133689900Z"
    },
    "collapsed": false,
    "jupyter": {
     "outputs_hidden": false
    }
   },
   "outputs": [
    {
     "name": "stdout",
     "output_type": "stream",
     "text": [
      "==========================================================================================================================\n",
      "n_gen  |  n_eval  | n_nds  |      eps      |   indicator   |     hv_est    |   not_failed  |    feasible   |    optimal   \n",
      "==========================================================================================================================\n",
      "     1 |       50 |      8 |             - |             - |  0.5460563650 |   50 (100.0%) |   50 (100.0%) |     8 (16.0%)\n",
      "     2 |      100 |     14 |  0.0303030303 |         ideal |  0.6317894547 |   50 (100.0%) |   50 (100.0%) |    14 (28.0%)\n",
      "     3 |      150 |     15 |  0.0112794333 |             f |  0.6479707588 |   50 (100.0%) |   50 (100.0%) |    15 (30.0%)\n",
      "     4 |      200 |     19 |  0.0213291090 |             f |  0.6554338366 |   50 (100.0%) |   50 (100.0%) |    19 (38.0%)\n",
      "     5 |      250 |     21 |  0.0037507263 |             f |  0.6566164869 |   50 (100.0%) |   50 (100.0%) |    21 (42.0%)\n",
      "     6 |      300 |     24 |  0.1045735830 |         ideal |  0.6621057789 |   50 (100.0%) |   50 (100.0%) |    24 (48.0%)\n",
      "     7 |      350 |     24 |  0.0022877215 |             f |  0.6634349631 |   50 (100.0%) |   50 (100.0%) |    24 (48.0%)\n",
      "     8 |      400 |     25 |  0.0025683482 |             f |  0.6642951760 |   50 (100.0%) |   50 (100.0%) |    25 (50.0%)\n",
      "     9 |      450 |     26 |  0.0046980993 |             f |  0.6658742834 |   50 (100.0%) |   50 (100.0%) |    26 (52.0%)\n",
      "    10 |      500 |     27 |  0.0005135731 |             f |  0.6677614951 |   50 (100.0%) |   50 (100.0%) |    27 (54.0%)\n",
      "27 points in the Pareto front\n"
     ]
    }
   ],
   "source": [
    "from pymoo.optimize import minimize\n",
    "from sb_arch_opt.algo.pymoo_interface import get_nsga2\n",
    "\n",
    "# Get the optimization algorithm\n",
    "algorithm = get_nsga2(pop_size=50)\n",
    "\n",
    "# Run the optimization\n",
    "result = minimize(problem, algorithm, termination=('n_gen', 10), verbose=True)\n",
    "\n",
    "print(f'{len(result.opt)} points in the Pareto front')"
   ]
  },
  {
   "cell_type": "code",
   "execution_count": 13,
   "metadata": {
    "ExecuteTime": {
     "end_time": "2024-01-27T09:01:06.232885100Z",
     "start_time": "2024-01-27T09:01:06.010484800Z"
    },
    "collapsed": false,
    "jupyter": {
     "outputs_hidden": false
    }
   },
   "outputs": [
    {
     "data": {
      "image/png": "[encoded data removed]",
      "text/plain": [
       "<Figure size 640x480 with 1 Axes>"
      ]
     },
     "metadata": {},
     "output_type": "display_data"
    }
   ],
   "source": [
    "%matplotlib inline\n",
    "import matplotlib.pyplot as plt\n",
    "\n",
    "plt.figure(), plt.title('GNC Problem')\n",
    "f_pop = result.pop.get('F')\n",
    "plt.scatter(-f_pop[:, 0], f_pop[:, 1], s=5, c='k', label='Architectures')\n",
    "f_opt = result.opt.get('F')\n",
    "plt.scatter(-f_opt[:, 0], f_opt[:, 1], s=20, c='b', label='Pareto front')\n",
    "plt.xlabel('Reliability (log_10) [max]'), plt.ylabel('Mass [min]')\n",
    "plt.legend()\n",
    "plt.show()"
   ]
  },
  {
   "cell_type": "markdown",
   "metadata": {
    "collapsed": false,
    "jupyter": {
     "outputs_hidden": false
    }
   },
   "source": [
    "As typical of architecture optimization problems, there is a clear trade-off:\n",
    "increasing the reliability comes with an increase in mass (and therefore cost).\n",
    "\n",
    "The trade-off is seen by a Pareto front: the front of points where no point exists that is better in *all* objectives."
   ]
  }
 ],
 "metadata": {
  "kernelspec": {
   "display_name": "Python 3 (ipykernel)",
   "language": "python",
   "name": "python3"
  },
  "language_info": {
   "codemirror_mode": {
    "name": "ipython",
    "version": 3
   },
   "file_extension": ".py",
   "mimetype": "text/x-python",
   "name": "python",
   "nbconvert_exporter": "python",
   "pygments_lexer": "ipython3",
   "version": "3.9.18"
  }
 },
 "nbformat": 4,
 "nbformat_minor": 4
}
