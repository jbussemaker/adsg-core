{
 "cells": [
  {
   "cell_type": "markdown",
   "source": [
    "# ADSG Example: Apollo Mission Architecture\n",
    "\n",
    "[![Binder](https://mybinder.org/badge_logo.svg)](https://mybinder.org/v2/gh/jbussemaker/adsg-core/HEAD?labpath=docs%2Fexample_apollo.ipynb)\n",
    "\n",
    "This notebook presents the Apollo mission architecture problem.\n",
    "The decision-making process for determining the architecture of the Apollo moon missions have been analyzed after the fact, and Simmons[^Simmons2012] has provided it as a formalized optimization problem.\n",
    "\n",
    "The architecture problem involved choosing the mission architecture:\n",
    "\n",
    "![optimization loop](https://raw.githubusercontent.com/jbussemaker/adsg-core/main/docs/figures/apollo_mission_decisions.svg)\n",
    "\n",
    "Additionally, some of the spacecraft architecture and crew assignment is chosen as well:\n",
    "\n",
    "- Fuel types of the service module and lunar module (if available)\n",
    "- Crew members (total, and assigned to the lunar module)\n",
    "\n",
    "For each combination of decisions, a total mass (proxy for mission cost) and success probability can be calculated.\n",
    "The Apollo problem is implemented in `adsg_core.examples.apollo.ApolloEvaluator`, however here explained in more details.\n",
    "\n",
    "[^Simmons2012]: Simmons, W. L. (2008). A framework for decision support in systems architecting (Doctoral dissertation, Massachusetts Institute of Technology)."
   ],
   "metadata": {
    "collapsed": false
   }
  },
  {
   "cell_type": "markdown",
   "source": [
    "## ADSG\n",
    "\n",
    "The ADSG models the problem decisions. In total, 9 discrete decisions are involved, however subject to some constraints:\n",
    "\n",
    "| Decision                     | Options                 | Constraint                              |\n",
    "|------------------------------|-------------------------|-----------------------------------------|\n",
    "| EOR (Earth Orbit Rendezvous) | yes, no                 |                                         |\n",
    "| earthLaunch                  | orbit, direct           | orbit if EOR = yes                      |\n",
    "| LOR (Lunar Orbit Rendezvous) | yes, no                 | If yes, implies there is a lunar module |\n",
    "| moonArrival                  | orbit, direct           | orbit if LOR = yes                      |\n",
    "| moonDeparture                | orbit, direct           | orbit if LOR = yes                      |\n",
    "| cmCrew (command module)      | 2, 3                    | cmCrew >= lmCrew                        |\n",
    "| lmCrew (lunar module)        | 0, 1, 2, 3              | 0 if LOR = no, >0 if LOR = yes          |\n",
    "| smFuel (service module)      | cryogenic, storable     |                                         |\n",
    "| lmFuel (lunar module)        | NA, cryogenic, storable | NA if LOR = no, != NA if LOR = yes      |\n",
    "\n",
    "We can model these choices and constraints directly in the ADSG.\n",
    "For this, we use a custom node type.\n",
    "In general, when modeling your problem it probably makes sense to define custom node types (inheriting from `NamedNode`) to store problem-specific context."
   ],
   "metadata": {
    "collapsed": false
   }
  },
  {
   "cell_type": "code",
   "execution_count": 1,
   "source": [
    "from adsg_core import BasicADSG, NamedNode, MetricNode, MetricType\n",
    "\n",
    "# First, we define a custom node type that defines a decision\n",
    "# variable with some value\n",
    "class ApolloDecisionVar(NamedNode):\n",
    "\n",
    "    def __init__(self, decision: str, value):\n",
    "        self.decision = decision\n",
    "        self.value = value\n",
    "        super().__init__(f'{decision}:{value!s}')\n",
    "\n",
    "    def get_export_title(self) -> str:\n",
    "        return f'{self.decision} = {self.value}'"
   ],
   "metadata": {
    "collapsed": false,
    "ExecuteTime": {
     "end_time": "2024-01-26T17:10:38.005610600Z",
     "start_time": "2024-01-26T17:10:36.833588800Z"
    }
   },
   "outputs": []
  },
  {
   "cell_type": "markdown",
   "source": [
    "### Earth Launch"
   ],
   "metadata": {
    "collapsed": false
   }
  },
  {
   "cell_type": "code",
   "execution_count": 2,
   "source": [
    "# Create the ADSG\n",
    "adsg = BasicADSG()\n",
    "\n",
    "# Track start nodes\n",
    "start_nodes = set()\n",
    "\n",
    "# Define the Earth launch decisions\n",
    "# If we choose EOR (Earth orbit rendezvous), we have to launch to orbit\n",
    "# We represent this constraint by first adding the EOR yes/no decision,\n",
    "# and then adding launch decisions after the no-EOR node\n",
    "\n",
    "earth_launch = NamedNode('earthLaunch')\n",
    "start_nodes.add(earth_launch)\n",
    "\n",
    "# Define the decision values\n",
    "eor_yes = ApolloDecisionVar('EOR', True)\n",
    "eor_no = ApolloDecisionVar('EOR', False)\n",
    "earth_launch_orbit = ApolloDecisionVar('earthLaunch', 'orbit')\n",
    "earth_launch_direct = ApolloDecisionVar('earthLaunch', 'direct')\n",
    "\n",
    "# Add EOR [yes/no] choice\n",
    "adsg.add_selection_choice('EOR', earth_launch, [eor_no, eor_yes])\n",
    "\n",
    "# Add earthLaunch [orbit/direct] choice, only if EOR=no\n",
    "adsg.add_selection_choice(\n",
    "    'earthLaunch', eor_no, [earth_launch_orbit, earth_launch_direct])\n",
    "\n",
    "# Select earthLaunch=orbit if EOR=yes\n",
    "adsg.add_edge(eor_yes, earth_launch_orbit)\n",
    "\n",
    "# Add the system-level metric nodes to the start node\n",
    "adsg.add_edges([\n",
    "    (earth_launch,\n",
    "     MetricNode('mass', direction=-1, type_=MetricType.OBJECTIVE)),\n",
    "    (earth_launch,\n",
    "     MetricNode('success', direction=1, type_=MetricType.OBJECTIVE)),\n",
    "])\n",
    "\n",
    "adsg = adsg.set_start_nodes(start_nodes)\n",
    "adsg.render()"
   ],
   "metadata": {
    "collapsed": false,
    "ExecuteTime": {
     "end_time": "2024-01-26T17:10:39.604373Z",
     "start_time": "2024-01-26T17:10:39.561368600Z"
    }
   },
   "outputs": []
  },
  {
   "cell_type": "markdown",
   "source": [
    "### Moon Arrival/Departure"
   ],
   "metadata": {
    "collapsed": false
   }
  },
  {
   "cell_type": "code",
   "execution_count": 3,
   "source": [
    "# Define the moon arrival/departure decisions\n",
    "# If we choose LOR, we have to arrive and depart by orbit\n",
    "# We represent this constraint by first adding the LOR yes/no decision,\n",
    "# and then adding arrival/departure decisions after the no-LOR node\n",
    "\n",
    "moon_arr_dep = NamedNode('moonArrDep')\n",
    "start_nodes.add(moon_arr_dep)\n",
    "\n",
    "# Define the decision values\n",
    "lor_yes = ApolloDecisionVar('LOR', True)\n",
    "lor_no = ApolloDecisionVar('LOR', False)\n",
    "moon_arr_orbit = ApolloDecisionVar('moonArrival', 'orbit')\n",
    "moon_arr_direct = ApolloDecisionVar('moonArrival', 'direct')\n",
    "moon_dep_orbit = ApolloDecisionVar('moonDeparture', 'orbit')\n",
    "moon_dep_direct = ApolloDecisionVar('moonDeparture', 'direct')\n",
    "\n",
    "# Add LOR [yes/no] choice\n",
    "adsg.add_selection_choice('moonLOR', moon_arr_dep, [lor_no, lor_yes])\n",
    "\n",
    "# Add moonArr/moonDep [orbit/direct] choices, only if LOR=no\n",
    "adsg.add_selection_choice(\n",
    "    'moonArr', lor_no, [moon_arr_orbit, moon_arr_direct])\n",
    "adsg.add_selection_choice(\n",
    "    'moonDep', lor_no, [moon_dep_orbit, moon_dep_direct])\n",
    "\n",
    "# Select orbit arr/dep if LOR=yes\n",
    "adsg.add_edges([\n",
    "    (lor_yes, moon_arr_orbit),\n",
    "    (lor_yes, moon_dep_orbit),\n",
    "])\n",
    "\n",
    "adsg = adsg.set_start_nodes(start_nodes)\n",
    "adsg.render()"
   ],
   "metadata": {
    "collapsed": false,
    "ExecuteTime": {
     "end_time": "2024-01-26T17:10:41.314822800Z",
     "start_time": "2024-01-26T17:10:41.294821200Z"
    }
   },
   "outputs": []
  },
  {
   "cell_type": "markdown",
   "source": [
    "### Crew Assignment"
   ],
   "metadata": {
    "collapsed": false
   }
  },
  {
   "cell_type": "code",
   "execution_count": 4,
   "source": [
    "# Define crew assignment decision\n",
    "\n",
    "# Select either 2 or 3 crew in the command module\n",
    "crew = NamedNode('crew')\n",
    "start_nodes.add(crew)\n",
    "\n",
    "crew_2 = ApolloDecisionVar('cmCrew', 2)\n",
    "crew_3 = ApolloDecisionVar('cmCrew', 3)\n",
    "adsg.add_selection_choice('crew', crew, [crew_2, crew_3])\n",
    "\n",
    "# Whether there is a lunar module is determined by whether there is a LOR\n",
    "# If yes, we select the nr of crew members\n",
    "# If no, we select 0 crew members\n",
    "adsg.add_edge(lor_no, ApolloDecisionVar('lmCrew', 0))\n",
    "lm_crew = [ApolloDecisionVar('lmCrew', n) for n in [1, 2, 3]]\n",
    "adsg.add_selection_choice('lmCrew', lor_yes, lm_crew)\n",
    "\n",
    "# Constrain that if we select 2 crew members,\n",
    "# we cannot select 3 lunar module crew members\n",
    "adsg.add_incompatibility_constraint([crew_2, lm_crew[-1]])\n",
    "\n",
    "adsg = adsg.set_start_nodes(start_nodes)\n",
    "adsg.render()"
   ],
   "metadata": {
    "collapsed": false,
    "ExecuteTime": {
     "end_time": "2024-01-26T17:10:43.711773300Z",
     "start_time": "2024-01-26T17:10:43.692772100Z"
    }
   },
   "outputs": []
  },
  {
   "cell_type": "markdown",
   "source": [
    "### Fuel Types"
   ],
   "metadata": {
    "collapsed": false
   }
  },
  {
   "cell_type": "code",
   "execution_count": 5,
   "source": [
    "# Define fuel types selections\n",
    "\n",
    "# Select fuel type for the service module (connected to command module)\n",
    "service_fuel = NamedNode('smFuel')\n",
    "start_nodes.add(service_fuel)\n",
    "\n",
    "sm_fuel_cryogenic = ApolloDecisionVar('smFuel', 'cryogenic')\n",
    "sm_fuel_storable = ApolloDecisionVar('smFuel', 'storable')\n",
    "adsg.add_selection_choice(\n",
    "    'smFuel', service_fuel, [sm_fuel_cryogenic, sm_fuel_storable])\n",
    "\n",
    "# Select lunar module fuel type if there is a LOR\n",
    "adsg.add_edge(lor_no, ApolloDecisionVar('lmFuel', 'NA'))\n",
    "adsg.add_selection_choice('lmFuel', lor_yes, [\n",
    "    ApolloDecisionVar('lmFuel', 'cryogenic'),\n",
    "    ApolloDecisionVar('lmFuel', 'storable'),\n",
    "])\n",
    "\n",
    "adsg = adsg.set_start_nodes(start_nodes)\n",
    "adsg.render()"
   ],
   "metadata": {
    "collapsed": false,
    "ExecuteTime": {
     "end_time": "2024-01-26T17:10:46.779142800Z",
     "start_time": "2024-01-26T17:10:46.761198Z"
    }
   },
   "outputs": []
  },
  {
   "cell_type": "markdown",
   "source": [
    "## Optimization Problem\n",
    "\n",
    "We can now encode the optimization problem and inspect some properties."
   ],
   "metadata": {
    "collapsed": false
   }
  },
  {
   "cell_type": "code",
   "execution_count": 6,
   "source": [
    "from adsg_core import GraphProcessor\n",
    "\n",
    "gp = GraphProcessor(adsg)\n",
    "gp.get_statistics()"
   ],
   "metadata": {
    "collapsed": false,
    "ExecuteTime": {
     "end_time": "2024-01-26T17:10:49.840084400Z",
     "start_time": "2024-01-26T17:10:49.808082300Z"
    }
   },
   "outputs": []
  },
  {
   "cell_type": "markdown",
   "source": [
    "We observe that there are 108 feasible architectures, which is consistent with the problem definition of Simmons.\n",
    "\n",
    "By simply taking the Cartesian product of decision variables, there seem to be 768 architectures.\n",
    "The difference between the two numbers is due to the activation and incompatibility constraints.\n",
    "\n",
    "It can be quantified using the *imputation ratio*, which in this case is:\n",
    "`imp_ratio = n_declared / n_valid = 768 / 108 = 7.11`"
   ],
   "metadata": {
    "collapsed": false
   }
  },
  {
   "cell_type": "markdown",
   "source": [
    "### Evaluation Function\n",
    "\n",
    "The evaluation function should interpret the ADSG and provide a dictionary with the following format:\n",
    "```python\n",
    "decision_values = {\n",
    "    'EOR': False,\n",
    "    'earthLaunch': 'direct',\n",
    "    'LOR': False,\n",
    "    'moonArrival': 'direct',\n",
    "    'moonDeparture': 'direct',\n",
    "    'lmCrew': 0,\n",
    "    'lmFuel': 'NA',\n",
    "}\n",
    "```\n",
    "\n",
    "This dictionary then provides the input to the problem-specific calculations, in this case two functions where the implementation is already available.\n",
    "\n",
    "The evaluation function is provided by implementing the `_evaluate` function of an extended `ADSGEvaluator` class."
   ],
   "metadata": {
    "collapsed": false
   }
  },
  {
   "cell_type": "code",
   "execution_count": 9,
   "source": [
    "from typing import List, Dict\n",
    "from adsg_core import ADSGEvaluator, ADSGType\n",
    "from adsg_core.examples.apollo import ApolloEvaluator\n",
    "\n",
    "class ExampleApolloEvaluator(ADSGEvaluator):\n",
    "\n",
    "    def _evaluate(self, adsg_inst: ADSGType, metric_nodes: List[MetricNode])\\\n",
    "            -> Dict[MetricNode, float]:\n",
    "        # We can construct the decision table by simply looping over all\n",
    "        # selected decision variable nodes\n",
    "        decision_values = {}\n",
    "        dv_node: ApolloDecisionVar\n",
    "        for dv_node in adsg_inst.get_nodes_by_subtype(ApolloDecisionVar):\n",
    "            decision_values[dv_node.decision] = dv_node.value\n",
    "\n",
    "        # Calculate metrics: the outputs of this function should be a dict\n",
    "        # mapping requested metric nodes to values\n",
    "        results = {}\n",
    "        for metric_node in metric_nodes:\n",
    "            if metric_node.name == 'mass':\n",
    "                results[metric_node] = \\\n",
    "                    ApolloEvaluator.eval_mass(decision_values)\n",
    "            elif metric_node.name == 'success':\n",
    "                results[metric_node] = \\\n",
    "                    ApolloEvaluator.eval_success_probability(decision_values)\n",
    "\n",
    "        return results"
   ],
   "metadata": {
    "collapsed": false,
    "ExecuteTime": {
     "end_time": "2024-01-26T17:11:20.672265600Z",
     "start_time": "2024-01-26T17:11:20.655265700Z"
    }
   },
   "outputs": []
  },
  {
   "cell_type": "code",
   "execution_count": 17,
   "source": [
    "# Instantiate the evaluator\n",
    "evaluator = ExampleApolloEvaluator(adsg)\n",
    "\n",
    "# Test some architectures\n",
    "for i in range(5):\n",
    "    # Generate random architecture\n",
    "    dv = evaluator.get_random_design_vector()\n",
    "    graph, dv_corr, is_active = evaluator.get_graph(dv)\n",
    "\n",
    "    # Evaluate it\n",
    "    obj, con = evaluator.evaluate(graph)\n",
    "    print(f'Architecture {i+1}: {list(dv_corr)}')\n",
    "    print(f'  Objectives: {list(obj)}')"
   ],
   "metadata": {
    "collapsed": false,
    "ExecuteTime": {
     "end_time": "2024-01-26T17:21:23.325842900Z",
     "start_time": "2024-01-26T17:21:23.280890800Z"
    }
   },
   "outputs": []
  },
  {
   "cell_type": "markdown",
   "source": [
    "### Results\n",
    "\n",
    "Since there are only 108 architectures, we can evaluate all and plot their performances."
   ],
   "metadata": {
    "collapsed": false
   }
  },
  {
   "cell_type": "code",
   "execution_count": 11,
   "source": [
    "# Get all valid design vectors\n",
    "x_all, _ = evaluator.get_all_discrete_x()\n",
    "\n",
    "# Loop over them\n",
    "masses = []\n",
    "success_probabilities = []\n",
    "for x in x_all:\n",
    "    # Get associated ADSG instance\n",
    "    graph, _, _ = evaluator.get_graph(x)\n",
    "\n",
    "    # Evaluate\n",
    "    obj, _ = evaluator.evaluate(graph)\n",
    "    masses.append(obj[0])\n",
    "    success_probabilities.append(obj[1])"
   ],
   "metadata": {
    "collapsed": false,
    "ExecuteTime": {
     "end_time": "2024-01-26T17:14:13.915022500Z",
     "start_time": "2024-01-26T17:14:13.804031800Z"
    }
   },
   "outputs": []
  },
  {
   "cell_type": "code",
   "execution_count": 15,
   "source": [
    "# Get points in the Pareto front\n",
    "import numpy as np\n",
    "from pymoo.util.nds.non_dominated_sorting import NonDominatedSorting\n",
    "\n",
    "masses = np.array(masses)\n",
    "success_probabilities = np.array(success_probabilities)\n",
    "\n",
    "i_pf = NonDominatedSorting().do(\n",
    "    np.column_stack([masses, -success_probabilities]),\n",
    "    only_non_dominated_front=True)\n",
    "print(f'{len(i_pf)} of {len(masses)} points in Pareto front')"
   ],
   "metadata": {
    "collapsed": false,
    "ExecuteTime": {
     "end_time": "2024-01-26T17:18:47.216033400Z",
     "start_time": "2024-01-26T17:18:47.204031900Z"
    }
   },
   "outputs": []
  },
  {
   "cell_type": "code",
   "execution_count": 16,
   "source": [
    "%matplotlib inline\n",
    "import matplotlib.pyplot as plt\n",
    "\n",
    "plt.figure(), plt.title('Apollo Mission')\n",
    "plt.scatter(success_probabilities, masses, s=5, c='k', label='Architectures')\n",
    "plt.scatter(success_probabilities[i_pf], masses[i_pf], s=20, c='b', label='Pareto front')\n",
    "plt.xlabel('Success probability (max)'), plt.ylabel('Mass (min)')\n",
    "plt.legend()\n",
    "plt.show()"
   ],
   "metadata": {
    "collapsed": false,
    "ExecuteTime": {
     "end_time": "2024-01-26T17:19:09.729066700Z",
     "start_time": "2024-01-26T17:19:09.587918Z"
    }
   },
   "outputs": []
  },
  {
   "cell_type": "markdown",
   "source": [
    "As typical of architecture optimization problems, there is a clear trade-off:\n",
    "increasing the success probability comes with an increase in mass (and therefore cost).\n",
    "\n",
    "The trade-off is seen by a Pareto front: the front of points where no point exists that is better in *all* objectives.\n",
    "In this case there are 6 points in the Pareto front, with various mass vs success probability values."
   ],
   "metadata": {
    "collapsed": false
   }
  }
 ],
 "metadata": {
  "kernelspec": {
   "display_name": "Python 3",
   "language": "python",
   "name": "python3"
  },
  "language_info": {
   "codemirror_mode": {
    "name": "ipython",
    "version": 2
   },
   "file_extension": ".py",
   "mimetype": "text/x-python",
   "name": "python",
   "nbconvert_exporter": "python",
   "pygments_lexer": "ipython2",
   "version": "2.7.6"
  }
 },
 "nbformat": 4,
 "nbformat_minor": 0
}
