{
 "cells": [
  {
   "cell_type": "markdown",
   "metadata": {
    "collapsed": false,
    "jupyter": {
     "outputs_hidden": false
    }
   },
   "source": [
    "# ADSG Modeling and Optimization Guide\n",
    "\n",
    "[![Binder](https://mybinder.org/badge_logo.svg)](https://mybinder.org/v2/gh/jbussemaker/adsg-core/HEAD?labpath=docs%2Fguide.ipynb)\n",
    "\n",
    "This notebook provides an overview of design space modeling and optimization capabilities using the ADSG:\n",
    "\n",
    "- Create an ADSG and define choices and constraints\n",
    "- Formulate an optimization problem from an ADSG\n",
    "- Implement an evaluation function\n",
    "\n",
    "Refer to the [theory](../theory) for more background information.\n",
    "For more elaborate examples, refer to the example notebooks in the left-side menu."
   ]
  },
  {
   "cell_type": "markdown",
   "metadata": {
    "collapsed": false,
    "jupyter": {
     "outputs_hidden": false
    }
   },
   "source": [
    "## Modeling Selection Choices\n",
    "\n",
    "A *selection choice* node represents an architectural choice where one of the mutually-exclusive option nodes is\n",
    "selected.\n",
    "When resolved, the singular incoming generic node is connected to the selected option node by a derivation edge.\n",
    "The nodes not selected and their derived nodes, excluding confirmed nodes (see below), are removed from the graph.\n",
    "\n",
    "A *derivation edge*  is a directed edge is like a \"requires\" relationship, as it ensures that the target node is\n",
    "selected if the source node is selected.\n",
    "\n",
    "One or more nodes are designated as *start* nodes: these nodes and their derived nodes are present in all\n",
    "architectures and therefore are designated *permanent* nodes.\n",
    "Non-permanent nodes are known as *conditional*.\n",
    "\n",
    "An *incompatibility edge* is an undirected edge that asserts that if either of the two nodes is confirmed, the other\n",
    "node and its derived nodes are not.\n",
    "Incompatibility edges can lead to an infeasible ADSG if both nodes are permanent.\n",
    "\n",
    "We now show a simple example of defining an ADSG containing several edges, selection choices, and an incompatibility constraint."
   ]
  },
  {
   "cell_type": "code",
   "execution_count": 1,
   "metadata": {
    "ExecuteTime": {
     "end_time": "2024-01-26T06:55:34.286028300Z",
     "start_time": "2024-01-26T06:55:33.074880400Z"
    },
    "collapsed": false,
    "jupyter": {
     "outputs_hidden": false
    }
   },
   "source": [
    "from adsg_core import BasicADSG, NamedNode\n",
    "\n",
    "# Create the ADSG\n",
    "adsg = BasicADSG()\n",
    "\n",
    "# Create 10 nodes to work with\n",
    "n = [NamedNode(f'N{i}') for i in range(10)]\n",
    "\n",
    "# Add some edges\n",
    "adsg.add_edges([\n",
    "    (n[0], n[1]),  # N0 derives N1\n",
    "    (n[3], n[4]),  # N3 derives N4\n",
    "    (n[2], n[5]), (n[3], n[5]),  # N5 is derived by N2 and/or N3\n",
    "])\n",
    "\n",
    "# Add two selection choices:\n",
    "# Connect N1 to N2, N3 or N4\n",
    "# Connect N5 to N6 or N7\n",
    "adsg.add_selection_choice('C1', n[1], [n[2], n[3], n[4]])\n",
    "adsg.add_selection_choice('C2', n[5], [n[6], n[7]])\n",
    "\n",
    "# Add incompatibility between N3 and N7\n",
    "adsg.add_incompatibility_constraint([n[3], n[7]])\n",
    "\n",
    "# Set the start node N0\n",
    "# This function returns a modified ADSG!\n",
    "adsg = adsg.set_start_nodes({n[0]})\n",
    "\n",
    "# Show the ADSG (also works outside a notebook)\n",
    "adsg.render()"
   ],
   "outputs": []
  },
  {
   "cell_type": "markdown",
   "metadata": {
    "collapsed": false,
    "jupyter": {
     "outputs_hidden": false
    }
   },
   "source": [
    "Like this, we have defined an ADSG with starting node N0 and two choices, C1 and C2.\n",
    "C2 is only activated if for C1 either N2 or N3 are chosen (because they derive N5).\n",
    "N4 is included in a graph instance both if N3 or N4 are chosen for C1.\n",
    "\n",
    "Let's render all graph instances now.\n",
    "Observe that there are no more choice nodes, and that the selected nodes correspond to the output above.\n",
    "Also, there is no instance containing both and N3 and N7 are per the incompatibility constraint."
   ]
  },
  {
   "cell_type": "code",
   "execution_count": 2,
   "metadata": {
    "ExecuteTime": {
     "end_time": "2024-01-26T06:55:37.238522300Z",
     "start_time": "2024-01-26T06:55:37.201374100Z"
    },
    "collapsed": false,
    "jupyter": {
     "outputs_hidden": false
    }
   },
   "source": [
    "adsg.render_all()  # Note: only use if there are not too many instances!"
   ],
   "outputs": []
  },
  {
   "cell_type": "markdown",
   "metadata": {
    "collapsed": false,
    "jupyter": {
     "outputs_hidden": false
    }
   },
   "source": [
    "### Selection Choice Constraints\n",
    "\n",
    "*Choice constraints* allow constraining option availability for choices based on other choices.\n",
    "For continuous design variables only linking is possible: here the same value relative to the respective design variable\n",
    "bounds is applied.\n",
    "For discrete design variables and selection and connection choices, four types of choice constraints are available:\n",
    "linked, permutations, unordered combinations, and unordered non-replacing combinations.\n",
    "These constraints enforce the following logic:\n",
    "\n",
    "- *Linked*: all choices are assigned the same option index, e.g. AA, BB, CC.\n",
    "- *Permutations*: all choices have a different option index, e.g. AB, AC, BA, BC, CA, CB.\n",
    "- *Unordered combinations*: choices have an equal or higher index than preceding choices, e.g. AA, AB, AC, BB, BC, CC.\n",
    "- *Unordered non-replacing combinations*: choices have a higher index than preceding choices, e.g. AB, AC, BC.\n",
    "\n",
    "Here we show how to apply this for selection constraints."
   ]
  },
  {
   "cell_type": "code",
   "execution_count": 3,
   "metadata": {
    "ExecuteTime": {
     "end_time": "2024-01-26T06:55:40.367323700Z",
     "start_time": "2024-01-26T06:55:40.344315100Z"
    },
    "collapsed": false,
    "jupyter": {
     "outputs_hidden": false
    }
   },
   "source": [
    "from adsg_core import ChoiceConstraintType\n",
    "\n",
    "# Create a new ADSG\n",
    "adsg = BasicADSG()\n",
    "\n",
    "# Create 2 independent choices with 3 options each\n",
    "nn = [NamedNode(f'Opt{i}') for i in range(3)]\n",
    "c1 = adsg.add_selection_choice('C1', n[0], nn)\n",
    "c2 = adsg.add_selection_choice('C2', n[1], nn)\n",
    "\n",
    "# Start nodes have to be defined before constraining the choices\n",
    "adsg = adsg.set_start_nodes({n[0], n[1]})\n",
    "\n",
    "# Constrain it so that only unordered non-replacing combinations are possible\n",
    "# This function also returns a (potentially) modified ADSG!\n",
    "# \"Unordered non-replacing\" constraints are shown by purple-dashed edges annotated with \">\"\n",
    "adsg = adsg.constrain_choices(ChoiceConstraintType.UNORDERED_NOREPL, [c1, c2])\n",
    "adsg.render()\n",
    "\n",
    "adsg.render_all()"
   ],
   "outputs": []
  },
  {
   "cell_type": "markdown",
   "metadata": {
    "collapsed": false,
    "jupyter": {
     "outputs_hidden": false
    }
   },
   "source": [
    "You can observe that all combinations of the option nodes are included, however no permutations, and no cases where the same options are selected."
   ]
  },
  {
   "cell_type": "markdown",
   "metadata": {
    "collapsed": false,
    "jupyter": {
     "outputs_hidden": false
    }
   },
   "source": [
    "## Modeling Connection Choices\n",
    "\n",
    "*Connection choices* offer a generic way to model source to target connection problems, where source and target nodes\n",
    "are represented using *connection nodes*.\n",
    "Connection nodes behave the same as generic nodes with respect to derivation edges and selection choice, however\n",
    "additionally specify a *connector constraint*: a specification of how many outgoing (source) or incoming (target)\n",
    "connections the connector node can accept, and whether repeated connections to/from the same target/source are allowed.\n",
    "The connector constraint can be specified as:\n",
    "\n",
    "- A list of numbers (e.g. 1, 2 or 3 connections: `1,2,3`),\n",
    "- A lower and an upper bound (e.g. between 0 and 3, inclusive: `0..3`),\n",
    "- Or only a lower bound (e.g. 1 or more: `1..*`).\n",
    "\n",
    "In the ADSG, a connection choice is defined by adding connection edges from one or more source nodes to a connection\n",
    "choice node, and from the connection choice node to one or more target nodes.\n",
    "To model the case where the order of connections is not important, *connection grouping nodes* can be used: the\n",
    "connector constraint of this node depends on aggregated connector constraints of incoming connection nodes (connected\n",
    "by derivation edges).\n",
    "It is also possible to define combinations of source and target nodes that may not be connected using *exclusion edges*.\n",
    "\n",
    "We now show a simple example of defining an ADSG containing a connection choice."
   ]
  },
  {
   "cell_type": "code",
   "execution_count": 4,
   "metadata": {
    "ExecuteTime": {
     "end_time": "2024-01-26T07:35:18.949633500Z",
     "start_time": "2024-01-26T07:35:18.937633300Z"
    },
    "collapsed": false,
    "jupyter": {
     "outputs_hidden": false
    }
   },
   "source": [
    "from adsg_core import BasicADSG, NamedNode, ConnectorNode\n",
    "\n",
    "# Create the ADSG and a start node\n",
    "adsg = BasicADSG()\n",
    "start = NamedNode('Start')\n",
    "\n",
    "# Define connector nodes:\n",
    "# Each needs at least one connection, with no upper limit\n",
    "# Repeated connections between the same src/tgt are not allowed\n",
    "connectors = [ConnectorNode(f'CN{i}', deg_min=1, repeated_allowed=False)\n",
    "              for i in range(4)]\n",
    "\n",
    "# Add a connection choice connecting 2 sources to 2 targets\n",
    "c = adsg.add_connection_choice(\n",
    "    'C', src_nodes=connectors[:2], tgt_nodes=connectors[2:])\n",
    "\n",
    "# Ensure all connector nodes are selected\n",
    "adsg.add_edges([(start, cn) for cn in connectors])\n",
    "adsg = adsg.set_start_nodes({start})\n",
    "adsg.render()"
   ],
   "outputs": []
  },
  {
   "cell_type": "markdown",
   "metadata": {
    "collapsed": false,
    "jupyter": {
     "outputs_hidden": false
    }
   },
   "source": [
    "Let's see how many valid connection sets are possible"
   ]
  },
  {
   "cell_type": "code",
   "execution_count": 5,
   "metadata": {
    "ExecuteTime": {
     "end_time": "2024-01-26T07:36:05.946370100Z",
     "start_time": "2024-01-26T07:36:05.905095200Z"
    },
    "collapsed": false,
    "jupyter": {
     "outputs_hidden": false
    }
   },
   "source": [
    "n_valid_conn = len(list(c.iter_conn_edges(adsg)))\n",
    "print(f'There are {n_valid_conn} valid connection sets')\n",
    "\n",
    "# Render two example instances\n",
    "adsg.render_all([0, 1])"
   ],
   "outputs": []
  },
  {
   "cell_type": "markdown",
   "metadata": {
    "collapsed": false,
    "jupyter": {
     "outputs_hidden": false
    }
   },
   "source": [
    "### Connection Grouping\n",
    "\n",
    "Now let's model the case where for the target nodes, the connection order is irrelevant.\n",
    "That means that if CN1 connects to CN2 and CN3, we treat this as the same architecture as if it connects to CN3 and CN2."
   ]
  },
  {
   "cell_type": "code",
   "execution_count": 6,
   "metadata": {
    "ExecuteTime": {
     "end_time": "2024-01-26T07:36:08.654150100Z",
     "start_time": "2024-01-26T07:36:08.631541100Z"
    },
    "collapsed": false,
    "jupyter": {
     "outputs_hidden": false
    }
   },
   "source": [
    "from adsg_core import ConnectorDegreeGroupingNode\n",
    "\n",
    "# Create a new ADSG\n",
    "adsg = BasicADSG()\n",
    "\n",
    "# Create the connection choice\n",
    "# Here we add a connection grouping node to the targets\n",
    "c = adsg.add_connection_choice(\n",
    "    'C', src_nodes=connectors[:2],\n",
    "    tgt_nodes=[\n",
    "        # The list of target nodes can still also contain individual nodes\n",
    "        # To specify a grouping node, we need to associate it with\n",
    "        # the underlying connectors\n",
    "        (ConnectorDegreeGroupingNode(), connectors[2:]),\n",
    "    ],\n",
    ")\n",
    "\n",
    "# Ensure all connector nodes are selected\n",
    "adsg.add_edges([(start, cn) for cn in connectors])\n",
    "adsg = adsg.set_start_nodes({start})\n",
    "adsg.render()"
   ],
   "outputs": []
  },
  {
   "cell_type": "markdown",
   "metadata": {
    "collapsed": false,
    "jupyter": {
     "outputs_hidden": false
    }
   },
   "source": [
    "You can observe that the grouping node connection constraint covers both the individual connection constraints of C2 and C3.\n",
    "Now there is only one valid connection set left:"
   ]
  },
  {
   "cell_type": "code",
   "execution_count": 7,
   "metadata": {
    "ExecuteTime": {
     "end_time": "2024-01-26T07:36:25.955414900Z",
     "start_time": "2024-01-26T07:36:25.928408200Z"
    },
    "collapsed": false,
    "jupyter": {
     "outputs_hidden": false
    }
   },
   "source": [
    "n_valid_conn = len(list(c.iter_conn_edges(adsg)))\n",
    "print(f'There is {n_valid_conn} valid connection set')\n",
    "adsg.render_all()"
   ],
   "outputs": []
  },
  {
   "cell_type": "markdown",
   "metadata": {
    "collapsed": false,
    "jupyter": {
     "outputs_hidden": false
    }
   },
   "source": [
    "### Connector Constraints\n",
    "\n",
    "Let's see some more ways to define connector constraints."
   ]
  },
  {
   "cell_type": "code",
   "execution_count": 8,
   "metadata": {
    "ExecuteTime": {
     "end_time": "2024-01-26T07:42:18.025111700Z",
     "start_time": "2024-01-26T07:42:18.000417300Z"
    },
    "collapsed": false,
    "jupyter": {
     "outputs_hidden": false
    }
   },
   "source": [
    "# Create a new ADSG\n",
    "adsg = BasicADSG()\n",
    "\n",
    "# Define connector nodes with various constraints\n",
    "src_conn = [\n",
    "    ConnectorNode('S1', deg_list=[1],\n",
    "                  repeated_allowed=True),  # 1 connection, repeated allowed\n",
    "    ConnectorNode('S2', deg_list=[0, 1]),  # 1 optional connection\n",
    "    ConnectorNode('S3', deg_min=0, deg_max=2),  # Max 2 connections\n",
    "    ConnectorNode('S4', deg_min=1, deg_max=3),  # Between 1 and 3 connections\n",
    "]\n",
    "tgt_conn = [\n",
    "    ConnectorNode('T1', deg_spec='*'),  # Any nr of connections\n",
    "    ConnectorNode('T1', deg_spec='+'),  # At least 1 connection\n",
    "    ConnectorNode('T1', deg_spec='?'),  # 1 optional connection\n",
    "]\n",
    "\n",
    "# Create the connection choice\n",
    "c = adsg.add_connection_choice('C', src_nodes=src_conn, tgt_nodes=tgt_conn)\n",
    "\n",
    "# Ensure all connector nodes are selected\n",
    "adsg.add_edges([(start, cn) for cn in src_conn])\n",
    "adsg.add_edges([(start, cn) for cn in tgt_conn])\n",
    "adsg = adsg.set_start_nodes({start})\n",
    "adsg.render()\n",
    "\n",
    "n_valid_conn = len(list(c.iter_conn_edges(adsg)))\n",
    "print(f'There are {n_valid_conn} valid connection sets')"
   ],
   "outputs": []
  },
  {
   "cell_type": "markdown",
   "metadata": {
    "collapsed": false,
    "jupyter": {
     "outputs_hidden": false
    }
   },
   "source": [
    "### Combining Selection and Connection Choices\n",
    "\n",
    "Selection choices determine which nodes are present in an architecture instance, and connector nodes are also subject to this selection.\n",
    "Selection choices therefore may influence which valid connection sets are available for a connection choice.\n",
    "\n",
    "We demonstrate the interaction using the example on the theory page."
   ]
  },
  {
   "cell_type": "code",
   "execution_count": 9,
   "metadata": {
    "ExecuteTime": {
     "end_time": "2024-01-26T07:51:02.546853900Z",
     "start_time": "2024-01-26T07:51:02.519854700Z"
    },
    "collapsed": false,
    "jupyter": {
     "outputs_hidden": false
    }
   },
   "source": [
    "# Create the ADSG and the start nodes\n",
    "adsg = BasicADSG()\n",
    "n = [NamedNode(f'N{i}') for i in range(2)]\n",
    "\n",
    "# Define the connector nodes\n",
    "src_nodes = [\n",
    "    ConnectorNode('S1', deg_list=[1, 2], repeated_allowed=True),\n",
    "    ConnectorNode('S2', deg_list=[1, 2], repeated_allowed=True),\n",
    "    ConnectorNode('S3', deg_min=0, repeated_allowed=True),\n",
    "]\n",
    "tgt_nodes = [\n",
    "    ConnectorNode('T1', deg_list=[1]),\n",
    "    ConnectorNode('T2', deg_list=[0, 2], repeated_allowed=True),\n",
    "]\n",
    "\n",
    "# Add the selection choice and derivation edges\n",
    "adsg.add_selection_choice('C1', n[0], src_nodes[:2])\n",
    "adsg.add_edges([\n",
    "    (n[0], src_nodes[2]),  # N0 to S3\n",
    "    (src_nodes[1], src_nodes[0]),  # S2 to S1\n",
    "    (n[1], tgt_nodes[0]), (n[1], tgt_nodes[1]),  # N1 to T1 and T2\n",
    "])\n",
    "\n",
    "# Add the connection choice\n",
    "adsg.add_connection_choice(\n",
    "    'C2', src_nodes=[\n",
    "        (ConnectorDegreeGroupingNode('Grp'), src_nodes[:2]),\n",
    "        src_nodes[2],\n",
    "    ], tgt_nodes=tgt_nodes)\n",
    "\n",
    "adsg = adsg.set_start_nodes({n[0], n[1]})\n",
    "adsg.render()"
   ],
   "outputs": []
  },
  {
   "cell_type": "code",
   "execution_count": 10,
   "metadata": {
    "ExecuteTime": {
     "end_time": "2024-01-26T07:55:48.027490Z",
     "start_time": "2024-01-26T07:55:47.997488900Z"
    },
    "collapsed": false,
    "jupyter": {
     "outputs_hidden": false
    }
   },
   "source": [
    "# There should be 8 valid architectures (see table on the theory page)\n",
    "\n",
    "# We render one of them that has multiple edges from S3 to T2\n",
    "adsg.render_all([1])"
   ],
   "outputs": []
  },
  {
   "cell_type": "markdown",
   "metadata": {
    "ExecuteTime": {
     "end_time": "2024-01-26T07:09:12.860404600Z",
     "start_time": "2024-01-26T07:09:12.853414Z"
    },
    "collapsed": false,
    "jupyter": {
     "outputs_hidden": false
    }
   },
   "source": [
    "## Additional Design Variables and Metrics\n",
    "\n",
    "Next to selection and connection choices, it is also possible to define generic design variables, for example to model\n",
    "parameter selections.\n",
    "These are defined using *design variable nodes* that are subject to node selection just as generic nodes and can\n",
    "therefore exist conditionally.\n",
    "Two types of design variables can be defined:\n",
    "\n",
    "- Continuous design variables, defined by a lower and upper bound (inclusive),\n",
    "- Discrete design variables, defined by a list of option values (strings).\n",
    "\n",
    "The design problem definition is completed by additionally defining performance metrics using *metric nodes*.\n",
    "Metric nodes represent outputs of an evaluation function and can be used as objectives or constraints in the context of\n",
    "an optimization problem:\n",
    "\n",
    "- Objectives are minimization or maximization targets. Metric nodes can only be used as objectives if they are\n",
    "  permanent, as otherwise it is not possible to compare the performance of all architectures.\n",
    "- Constraints represent inequality design constraints: values that should be above (greater than or equal) or\n",
    "  below (lower than or equal) some threshold. Metrics used as constraints can be conditional: if the node is not\n",
    "  part of some architecture, it means that the constraint does not apply and the constraint is assumed satisfied\n",
    "  (the value is set equal to the threshold)."
   ]
  },
  {
   "cell_type": "code",
   "execution_count": 11,
   "metadata": {
    "ExecuteTime": {
     "end_time": "2024-01-26T12:02:11.853196300Z",
     "start_time": "2024-01-26T12:02:10.617451600Z"
    },
    "collapsed": false,
    "jupyter": {
     "outputs_hidden": false
    }
   },
   "source": [
    "from adsg_core import BasicADSG, NamedNode, DesignVariableNode, \\\n",
    "    MetricNode, MetricType, GraphProcessor\n",
    "\n",
    "# Create the ADSG and some nodes\n",
    "adsg = BasicADSG()\n",
    "n = [NamedNode(f'N{i}') for i in range(10)]\n",
    "\n",
    "# Define a selection choice\n",
    "adsg.add_selection_choice('C1', n[0], [n[1], n[2]])\n",
    "adsg.add_edge(n[0], n[3])\n",
    "\n",
    "# Define an additional design variable (continuous)\n",
    "adsg.add_edge(n[3], DesignVariableNode('DV1', bounds=(0, 1)))\n",
    "\n",
    "# Define a conditional additional design variable (discrete)\n",
    "adsg.add_edge(n[1], DesignVariableNode('DV2', options=['A', 'B', 'C']))\n",
    "\n",
    "# Define a generic metric node\n",
    "adsg.add_edge(n[1], MetricNode('Metric'))\n",
    "\n",
    "# Define an objective (should be permanent)\n",
    "adsg.add_edge(n[3], MetricNode('Objective', direction=-1,\n",
    "                               type_=MetricType.OBJECTIVE))\n",
    "\n",
    "# Define a constraint (can be conditional)\n",
    "adsg.add_edge(n[2], MetricNode('Constraint', direction=1, ref=2,\n",
    "                               type_=MetricType.CONSTRAINT))\n",
    "\n",
    "# Set start nodes and render\n",
    "adsg = adsg.set_start_nodes({n[0]})\n",
    "adsg.render()\n",
    "\n",
    "# Check their roles in an optimization problem\n",
    "processor = GraphProcessor(adsg)\n",
    "nl = '\\n'\n",
    "print(f'Design variables:{nl}{nl.join(\"  \"+str(dv) for dv in processor.des_vars)}')\n",
    "print(f'Objectives:{nl}{nl.join(\"  \"+str(obj) for obj in processor.objectives)}')\n",
    "print(f'Constraints:{nl}{nl.join(\"  \"+str(con) for con in processor.constraints)}')"
   ],
   "outputs": []
  },
  {
   "cell_type": "markdown",
   "metadata": {
    "collapsed": false,
    "jupyter": {
     "outputs_hidden": false
    }
   },
   "source": [
    "## Defining Optimization Problems\n",
    "\n",
    "An architecture optimization problem can be modeled with the ADSG using:\n",
    "\n",
    "- Generic nodes, derivation edges, start nodes and selection choice nodes to define node existence hierarchies.\n",
    "- Incompatibility constraints to restrict simultaneous existence of nodes.\n",
    "- Connection (grouping) nodes with connector constraints, connection edges, exclusion edges and connection choice nodes\n",
    "  to define connection problems (source to target connections).\n",
    "- Generic design variable nodes to define additional continuous or discrete design variables.\n",
    "- Choice constraints to restrict possible values within a group of choices or design variables.\n",
    "- Metric nodes to define output metrics, optionally used as objectives or constraints.\n",
    "\n",
    "Encoding an ADSG into an optimization problem is done using encoding algorithms, for more information refer to the theory.\n",
    "We now demonstrate how to encode an ADSG as an optimization and use that to run an optimization.\n",
    "We use the Jenatton problem as a running example:\n",
    "Design variables:\n",
    "- `x1, x2, x3`: categorical design variables (0 or 1)\n",
    "- `x4` to `x9`: continuous design variables (0 to 1)\n",
    "\n",
    "Objective:\n",
    "```\n",
    "if x1 == 0:\n",
    "  if x2 == 0:\n",
    "    f = x4^2 + 0.1 + x8\n",
    "  else:\n",
    "    f = x5^2 + 0.1 + x8\n",
    "else:\n",
    "  if x3 == 0:\n",
    "    f = x6^2 + 0.1 + x9\n",
    "  else:\n",
    "    f = x7^2 + 0.1 + x9\n",
    "```"
   ]
  },
  {
   "cell_type": "code",
   "execution_count": 12,
   "metadata": {
    "ExecuteTime": {
     "end_time": "2024-01-26T14:04:58.736933500Z",
     "start_time": "2024-01-26T14:04:58.682159Z"
    },
    "collapsed": false,
    "jupyter": {
     "outputs_hidden": false
    }
   },
   "source": [
    "from adsg_core import BasicADSG, NamedNode, DesignVariableNode, \\\n",
    "    MetricNode, MetricType\n",
    "\n",
    "# Create ADSG\n",
    "adsg = BasicADSG()\n",
    "start = NamedNode('Start')\n",
    "\n",
    "# Add x1 choice\n",
    "x1_0, x1_1 = NamedNode('x1=0'), NamedNode('x1=1')\n",
    "adsg.add_selection_choice('x1', start, [x1_0, x1_1])\n",
    "\n",
    "# Add x2 choice (if x1 = 0)\n",
    "x2_0, x2_1 = NamedNode('x2=0'), NamedNode('x2=1')\n",
    "adsg.add_selection_choice('x1', x1_0, [x2_0, x2_1])\n",
    "\n",
    "# Add x3 choice (if x1 = 1)\n",
    "x3_0, x3_1 = NamedNode('x3=0'), NamedNode('x3=1')\n",
    "adsg.add_selection_choice('x1', x1_1, [x3_0, x3_1])\n",
    "\n",
    "# Add design variable nodes and objective\n",
    "adsg.add_edges([\n",
    "    (x2_0, DesignVariableNode('x4', bounds=(0, 1))),\n",
    "    (x2_1, DesignVariableNode('x5', bounds=(0, 1))),\n",
    "    (x3_0, DesignVariableNode('x6', bounds=(0, 1))),\n",
    "    (x3_1, DesignVariableNode('x7', bounds=(0, 1))),\n",
    "    (x1_0, DesignVariableNode('x8', bounds=(0, 1))),\n",
    "    (x1_1, DesignVariableNode('x9', bounds=(0, 1))),\n",
    "    (start, MetricNode('f', direction=-1, type_=MetricType.OBJECTIVE)),\n",
    "])\n",
    "\n",
    "# Set start node and render\n",
    "adsg = adsg.set_start_nodes({start})\n",
    "adsg.render()"
   ],
   "outputs": []
  },
  {
   "cell_type": "markdown",
   "metadata": {
    "ExecuteTime": {
     "end_time": "2024-01-26T11:56:05.922119900Z",
     "start_time": "2024-01-26T11:56:05.873112700Z"
    },
    "collapsed": false,
    "jupyter": {
     "outputs_hidden": false
    }
   },
   "source": [
    "### Encoding the Design Space\n",
    "\n",
    "The ADSG is encoded into an optimization problem using the `GraphProcessor` class."
   ]
  },
  {
   "cell_type": "code",
   "execution_count": 13,
   "metadata": {
    "ExecuteTime": {
     "end_time": "2024-01-26T14:05:58.740382700Z",
     "start_time": "2024-01-26T14:05:58.719382200Z"
    },
    "collapsed": false,
    "jupyter": {
     "outputs_hidden": false
    }
   },
   "source": [
    "from adsg_core import GraphProcessor\n",
    "\n",
    "gp = GraphProcessor(adsg)\n",
    "\n",
    "print('Design variables:', gp.des_vars)\n",
    "print('Objectives:', gp.objectives)\n",
    "print('Constraints:', gp.constraints)\n",
    "\n",
    "# Display some details about the encoders used for\n",
    "# formulating the optimization problem\n",
    "gp.get_statistics()"
   ],
   "outputs": []
  },
  {
   "cell_type": "markdown",
   "metadata": {
    "collapsed": false,
    "jupyter": {
     "outputs_hidden": false
    }
   },
   "source": [
    "We can then use the `GraphProcessor` to:\n",
    "\n",
    "- Generate ADSG instances from a design vector.\n",
    "- Generate all valid discrete design vectors.\n",
    "- Get some statistics about the design problem."
   ]
  },
  {
   "cell_type": "code",
   "execution_count": 14,
   "metadata": {
    "ExecuteTime": {
     "end_time": "2024-01-26T14:18:47.094216100Z",
     "start_time": "2024-01-26T14:18:47.075214300Z"
    },
    "collapsed": false,
    "jupyter": {
     "outputs_hidden": false
    }
   },
   "source": [
    "# Generate random design vector and turn it into an ADSG instance\n",
    "random_x = gp.get_random_design_vector()\n",
    "adsg_instance, x_corrected, is_active = gp.get_graph(random_x)\n",
    "\n",
    "# The design vector might be corrected\n",
    "print(f'x input: {random_x!r}')\n",
    "print(f'x corrected: {x_corrected!r}')\n",
    "print(f'activeness: {is_active}')\n",
    "\n",
    "adsg_instance.render()\n",
    "print('x values:', adsg_instance.des_var_values)"
   ],
   "outputs": []
  },
  {
   "cell_type": "markdown",
   "metadata": {
    "collapsed": false,
    "jupyter": {
     "outputs_hidden": false
    }
   },
   "source": [
    "Observe that the inactive design variables (given by the activeness vector) are \"imputed\" to a canonical value.\n",
    "For continuous variable that is mid-bounds, which in this case is 0.5."
   ]
  },
  {
   "cell_type": "code",
   "execution_count": 15,
   "metadata": {
    "ExecuteTime": {
     "end_time": "2024-01-26T14:06:04.121281200Z",
     "start_time": "2024-01-26T14:06:04.107355800Z"
    },
    "collapsed": false,
    "jupyter": {
     "outputs_hidden": false
    }
   },
   "source": [
    "# Generate all valid discrete design vectors\n",
    "x_all, is_active_all = gp.get_all_discrete_x()\n",
    "x_all  # Print all design vectors"
   ],
   "outputs": []
  },
  {
   "cell_type": "code",
   "execution_count": 16,
   "metadata": {
    "ExecuteTime": {
     "end_time": "2024-01-26T14:06:04.661049300Z",
     "start_time": "2024-01-26T14:06:04.621810800Z"
    },
    "collapsed": false,
    "jupyter": {
     "outputs_hidden": false
    }
   },
   "source": [
    "is_active_all  # Print associated activeness information"
   ],
   "outputs": []
  },
  {
   "cell_type": "markdown",
   "metadata": {
    "collapsed": false,
    "jupyter": {
     "outputs_hidden": false
    }
   },
   "source": [
    "The `GraphProcessor` can also be used to fix certain design variables.\n",
    "This can be useful for ad-hoc narrowing of the design space."
   ]
  },
  {
   "cell_type": "code",
   "execution_count": 17,
   "metadata": {
    "ExecuteTime": {
     "end_time": "2024-01-26T14:06:06.129649100Z",
     "start_time": "2024-01-26T14:06:06.118636Z"
    },
    "collapsed": false,
    "jupyter": {
     "outputs_hidden": false
    }
   },
   "source": [
    "dv = gp.des_vars\n",
    "\n",
    "# Fix the first design variable\n",
    "gp.fix_des_var(dv[0], 0)\n",
    "\n",
    "# Observe that there are now only two valid discrete design vectors left\n",
    "print(f'Valid x:', gp.get_all_discrete_x()[0].shape[0], '(x0 is fixed)')\n",
    "\n",
    "# Free the design variable again\n",
    "gp.free_des_var(dv[0])\n",
    "print(f'Valid x:', gp.get_all_discrete_x()[0].shape[0])"
   ],
   "outputs": []
  },
  {
   "cell_type": "markdown",
   "metadata": {
    "collapsed": false,
    "jupyter": {
     "outputs_hidden": false
    }
   },
   "source": [
    "### Defining the Evaluation Function\n",
    "\n",
    "The last part needed because we can run the optimization problem is the performance evaluation function:\n",
    "the function that for a given ADSG instance, returns its performance in terms of the defined output metrics.\n",
    "This allows the optimization algorithm to iteratively search the design space and find the optimum.\n",
    "\n",
    "An evaluation function should fulfill the following requirements:\n",
    "\n",
    "- Performance metrics should be *sensitive* to all relevant choices.\n",
    "- Performance metrics should be *available* for all relevant architectures, and with similar accuracy/fidelity. Objectives should always be available; constraints can be optional.\n",
    "- The evaluation function should be executable *without user interaction*.\n",
    "\n",
    "The evaluation function is implemented by defining a new evaluator class that inherits from `ADSGEvaluator`.\n",
    "There, the `_evaluate` function should be implemented.\n",
    "This function takes as input:\n",
    "\n",
    "- The ADSG instance being evaluated.\n",
    "- A list of performance metrics for which output is requested.\n",
    "\n",
    "The function should return a dictionary mapping performance metrics to float values.\n",
    "It is also possible to use *NaN* as a value, signifying that the associated metric could not be calculated."
   ]
  },
  {
   "cell_type": "code",
   "execution_count": 18,
   "metadata": {
    "ExecuteTime": {
     "end_time": "2024-01-26T14:17:32.535251400Z",
     "start_time": "2024-01-26T14:17:32.527251400Z"
    },
    "collapsed": false,
    "jupyter": {
     "outputs_hidden": false
    }
   },
   "source": [
    "from typing import List, Dict\n",
    "from adsg_core import ADSGEvaluator, ADSGType\n",
    "\n",
    "# Extend the ADSGEvaluator class and implement _evaluate\n",
    "class JenattonEvaluator(ADSGEvaluator):\n",
    "\n",
    "    def __init__(self):\n",
    "        # Use the previously defined ADSG...\n",
    "        # When implementing your own evaluator, it probably makes\n",
    "        # more sense to define the ADSG in some class method\n",
    "        super().__init__(adsg)\n",
    "\n",
    "    def _evaluate(self, adsg_inst: ADSGType, metric_nodes: List[MetricNode])\\\n",
    "            -> Dict[MetricNode, float]:\n",
    "        # In general the equation is a^2 + 0.1 + b\n",
    "        # a is x4 to x7; b is x8 or x9\n",
    "\n",
    "        # Loop over design variable nodes to find the values\n",
    "        a = b = None\n",
    "        for dv_node in adsg_inst.des_var_nodes:\n",
    "            if dv_node.name in {'x8', 'x9'}:\n",
    "                b = adsg_inst.des_var_value(dv_node)\n",
    "            else:\n",
    "                a = adsg_inst.des_var_value(dv_node)\n",
    "        assert a is not None and b is not None\n",
    "\n",
    "        # Calculate the objective\n",
    "        f = a**2 + .1 + b\n",
    "\n",
    "        # Return the metric\n",
    "        assert len(metric_nodes) == 1\n",
    "        return {metric_nodes[0]: f}"
   ],
   "outputs": []
  },
  {
   "cell_type": "markdown",
   "metadata": {
    "collapsed": false,
    "jupyter": {
     "outputs_hidden": false
    }
   },
   "source": [
    "Now we can use the evaluator to evaluate the performance of an ADSG instance."
   ]
  },
  {
   "cell_type": "code",
   "execution_count": 19,
   "metadata": {
    "ExecuteTime": {
     "end_time": "2024-01-26T14:21:39.347263800Z",
     "start_time": "2024-01-26T14:21:39.324458700Z"
    },
    "collapsed": false,
    "jupyter": {
     "outputs_hidden": false
    }
   },
   "source": [
    "# Instantiate the evaluator\n",
    "evaluator = JenattonEvaluator()\n",
    "\n",
    "# Get an ADSG instance (same API as the GraphProcessor)\n",
    "x = [1, 0, 0, 0.5, 0.5, 0.29, 0.5, 0.5, 0.58]\n",
    "adsg_instance, _, _ = evaluator.get_graph(x)\n",
    "adsg_instance.render()\n",
    "print('x values:', adsg_instance.des_var_values)\n",
    "\n",
    "expected_obj = .29**2 + .1 + .58\n",
    "\n",
    "# Evaluate the instance\n",
    "obj, con = evaluator.evaluate(adsg_instance)\n",
    "print(f'Objective: {obj[0]} (expected: {expected_obj})')"
   ],
   "outputs": []
  },
  {
   "cell_type": "markdown",
   "metadata": {
    "ExecuteTime": {
     "end_time": "2024-01-26T11:56:07.758893900Z",
     "start_time": "2024-01-26T11:56:07.725723200Z"
    },
    "collapsed": false,
    "jupyter": {
     "outputs_hidden": false
    }
   },
   "source": [
    "### Running the Optimization Problem\n",
    "\n",
    "Now that we have modeled the design space, defined the optimization, and implemented the evaluation function, we can run the optimization problem:\n",
    "\n",
    "![optimization loop](https://raw.githubusercontent.com/jbussemaker/adsg-core/main/docs/figures/opt_loop.svg)\n",
    "\n",
    "We run the optimization problem by coupling to [SBArchOpt](https://sbarchopt.readthedocs.io/).\n",
    "SBArchOpt is an open-source library for running architecture optimization problem.\n",
    "ADSG Core provides a problem definition in the API of SBArchOpt, so that all algorithms defined in SBArchOpt can be used.\n",
    "\n",
    "Ensure SBArchOpt is installed, or run: `pip install adsg-core[opt]`"
   ]
  },
  {
   "cell_type": "code",
   "execution_count": 20,
   "metadata": {
    "ExecuteTime": {
     "end_time": "2024-01-26T14:25:22.204345200Z",
     "start_time": "2024-01-26T14:25:22.176347100Z"
    },
    "collapsed": false,
    "jupyter": {
     "outputs_hidden": false
    }
   },
   "source": [
    "# Get the SBArchOpt problem\n",
    "problem = evaluator.get_problem()\n",
    "\n",
    "# Now the SBArchOpt API is available\n",
    "# We can for example print some problem statistic\n",
    "problem.print_stats()"
   ],
   "outputs": []
  },
  {
   "cell_type": "markdown",
   "metadata": {
    "collapsed": false,
    "jupyter": {
     "outputs_hidden": false
    }
   },
   "source": [
    "We now run the optimization using the NSGA-II algorithm.\n",
    "For more information refer to the SBArchOpt [documentation](https://sbarchopt.readthedocs.io/en/latest/algo/pymoo/).\n",
    "SBArchOpt is based on [pymoo](https://pymoo.org), so it can also be helpful to consult its documentation."
   ]
  },
  {
   "cell_type": "code",
   "execution_count": 21,
   "metadata": {
    "ExecuteTime": {
     "end_time": "2024-01-26T14:30:01.926637500Z",
     "start_time": "2024-01-26T14:30:00.283279100Z"
    },
    "collapsed": false,
    "jupyter": {
     "outputs_hidden": false
    }
   },
   "source": [
    "from pymoo.optimize import minimize\n",
    "from sb_arch_opt.algo.pymoo_interface import get_nsga2\n",
    "\n",
    "# Get the optimization algorithm\n",
    "algorithm = get_nsga2(pop_size=100)\n",
    "\n",
    "# Run the optimization\n",
    "result = minimize(problem, algorithm, termination=('n_gen', 20), verbose=True)\n",
    "\n",
    "# Print results\n",
    "opt = result.opt\n",
    "print('Best f:', opt.get('F')[0])\n",
    "print('Best x:', list(opt.get('X')[0]))"
   ],
   "outputs": []
  }
 ],
 "metadata": {
  "kernelspec": {
   "display_name": "Python 3 (ipykernel)",
   "language": "python",
   "name": "python3"
  },
  "language_info": {
   "codemirror_mode": {
    "name": "ipython",
    "version": 3
   },
   "file_extension": ".py",
   "mimetype": "text/x-python",
   "name": "python",
   "nbconvert_exporter": "python",
   "pygments_lexer": "ipython3",
   "version": "3.9.18"
  }
 },
 "nbformat": 4,
 "nbformat_minor": 4
}
