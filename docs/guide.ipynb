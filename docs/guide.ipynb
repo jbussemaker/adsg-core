{
 "cells": [
  {
   "cell_type": "markdown",
   "metadata": {
    "collapsed": false,
    "jupyter": {
     "outputs_hidden": false
    }
   },
   "source": [
    "# ADSG Modeling and Optimization Guide\n",
    "\n",
    "This notebook provides an overview of design space modeling and optimization capabilities using the ADSG:\n",
    "\n",
    "- Create an ADSG and define choices and constraints\n",
    "- Formulate an optimization problem from an ADSG\n",
    "- Implement an evaluation function\n",
    "\n",
    "Refer to the [theory](../theory) for more background information.\n",
    "For more elaborate examples, refer to the example notebooks in the left-side menu."
   ]
  },
  {
   "cell_type": "markdown",
   "metadata": {
    "collapsed": false,
    "jupyter": {
     "outputs_hidden": false
    }
   },
   "source": [
    "## Modeling Selection Choices\n",
    "\n",
    "A *selection choice* node represents an architectural choice where one of the mutually-exclusive option nodes is\n",
    "selected.\n",
    "When resolved, the singular incoming generic node is connected to the selected option node by a derivation edge.\n",
    "The nodes not selected and their derived nodes, excluding confirmed nodes (see below), are removed from the graph.\n",
    "\n",
    "A *derivation edge*  is a directed edge is like a \"requires\" relationship, as it ensures that the target node is\n",
    "selected if the source node is selected.\n",
    "\n",
    "One or more nodes are designated as *start* nodes: these nodes and their derived nodes are present in all\n",
    "architectures and therefore are designated *permanent* nodes.\n",
    "Non-permanent nodes are known as *conditional*.\n",
    "\n",
    "An *incompatibility edge* is an undirected edge that asserts that if either of the two nodes is confirmed, the other\n",
    "node and its derived nodes are not.\n",
    "Incompatibility edges can lead to an infeasible ADSG if both nodes are permanent.\n",
    "\n",
    "We now show a simple example of defining an ADSG containing several edges, selection choices, and an incompatibility constraint."
   ]
  },
  {
   "cell_type": "code",
   "execution_count": 1,
   "metadata": {
    "collapsed": false,
    "jupyter": {
     "outputs_hidden": false
    },
    "ExecuteTime": {
     "end_time": "2024-01-26T06:55:34.286028300Z",
     "start_time": "2024-01-26T06:55:33.074880400Z"
    }
   },
   "outputs": [
    {
     "data": {
      "text/plain": "<IPython.core.display.HTML object>",
      "text/html": "<div id=\"fa6c81ee1d8e4f1da8f45382b681b1c0\"></div>\n<script type=\"text/javascript\" src=\"https://cdn.jsdelivr.net/npm/@viz-js/viz/lib/viz-standalone.js\"></script>\n<script type=\"text/javascript\">\n(function() {\n  var dot = \"digraph  {\\ndpi=60;\\nfontsize=\\\"20pt\\\";\\nrankdir=LR;\\n0 [fillcolor=\\\"#ffffff\\\", label=<<B>N0</B>>, margin=0, shape=ellipse, style=\\\"filled,bold\\\"];\\n1 [fillcolor=\\\"#ffffff\\\", label=\\\"N1\\\", margin=0, shape=ellipse, style=\\\"filled\\\"];\\n2 [fillcolor=\\\"#81D4FA\\\", label=\\\"C1\\\", margin=0, shape=ellipse, style=\\\"filled\\\"];\\n3 [fillcolor=\\\"#ffffff\\\", label=\\\"N2\\\", margin=0, shape=ellipse, style=\\\"filled\\\"];\\n4 [fillcolor=\\\"#ffffff\\\", label=\\\"N3\\\", margin=0, shape=ellipse, style=\\\"filled\\\"];\\n5 [fillcolor=\\\"#ffffff\\\", label=\\\"N4\\\", margin=0, shape=ellipse, style=\\\"filled\\\"];\\n6 [fillcolor=\\\"#ffffff\\\", label=\\\"N5\\\", margin=0, shape=ellipse, style=\\\"filled\\\"];\\n7 [fillcolor=\\\"#ffffff\\\", label=\\\"N7\\\", margin=0, shape=ellipse, style=\\\"filled\\\"];\\n8 [fillcolor=\\\"#81D4FA\\\", label=\\\"C2\\\", margin=0, shape=ellipse, style=\\\"filled\\\"];\\n9 [fillcolor=\\\"#ffffff\\\", label=\\\"N6\\\", margin=0, shape=ellipse, style=\\\"filled\\\"];\\n0 -> 1  [key=0, type=\\\"EdgeType.DERIVES\\\"];\\n1 -> 2  [key=0, type=\\\"EdgeType.DERIVES\\\"];\\n2 -> 3  [key=0, type=\\\"EdgeType.DERIVES\\\"];\\n2 -> 4  [key=0, type=\\\"EdgeType.DERIVES\\\"];\\n2 -> 5  [key=0, type=\\\"EdgeType.DERIVES\\\"];\\n3 -> 6  [key=0, type=\\\"EdgeType.DERIVES\\\"];\\n4 -> 5  [key=0, type=\\\"EdgeType.DERIVES\\\"];\\n4 -> 6  [key=0, type=\\\"EdgeType.DERIVES\\\"];\\n4 -> 7  [arrowhead=none, color=red, constraint=false, key=0, type=\\\"EdgeType.INCOMPATIBILITY\\\"];\\n6 -> 8  [key=0, type=\\\"EdgeType.DERIVES\\\"];\\n8 -> 9  [key=0, type=\\\"EdgeType.DERIVES\\\"];\\n8 -> 7  [key=0, type=\\\"EdgeType.DERIVES\\\"];\\n}\\n\"; // Export of the dot graph notation\n  // Create viz-js instance and render to SVG\n  function doRender() {\n    Viz.instance().then(function(viz) { document.getElementById(\"fa6c81ee1d8e4f1da8f45382b681b1c0\").appendChild(viz.renderSVGElement(dot)); });\n  }\n  // We need to wait for loading to complete\n  if (typeof Viz === \"undefined\") { setTimeout(doRender, 200); } else { doRender(); }\n})()\n</script>\n"
     },
     "metadata": {},
     "output_type": "display_data"
    }
   ],
   "source": [
    "from adsg_core import BasicADSG, NamedNode\n",
    "\n",
    "# Create the ADSG\n",
    "adsg = BasicADSG()\n",
    "\n",
    "# Create 10 nodes to work with\n",
    "n = [NamedNode(f'N{i}') for i in range(10)]\n",
    "\n",
    "# Add some edges\n",
    "adsg.add_edges([\n",
    "    (n[0], n[1]),  # N0 derives N1\n",
    "    (n[3], n[4]),  # N3 derives N4\n",
    "    (n[2], n[5]), (n[3], n[5]),  # N5 is derived by N2 and/or N3\n",
    "])\n",
    "\n",
    "# Add two selection choices:\n",
    "# Connect N1 to N2, N3 or N4\n",
    "# Connect N5 to N6 or N7\n",
    "adsg.add_selection_choice('C1', n[1], [n[2], n[3], n[4]])\n",
    "adsg.add_selection_choice('C2', n[5], [n[6], n[7]])\n",
    "\n",
    "# Add incompatibility between N3 and N7\n",
    "adsg.add_incompatibility_constraint([n[3], n[7]])\n",
    "\n",
    "# Set the start node N0\n",
    "# This function returns a modified ADSG!\n",
    "adsg = adsg.set_start_nodes({n[0]})\n",
    "\n",
    "# Show the ADSG (only works in a notebook)\n",
    "adsg.render()"
   ]
  },
  {
   "cell_type": "markdown",
   "source": [
    "Like this, we have defined an ADSG with starting node N0 and two choices, C1 and C2.\n",
    "C2 is only activated if for C1 either N2 or N3 are chosen (because they derive N5).\n",
    "N4 is included in a graph instance both if N3 or N4 are chosen for C1.\n",
    "\n",
    "Let's render all graph instances now.\n",
    "Observe that there are no more choice nodes, and that the selected nodes correspond to the output above.\n",
    "Also, there is no instance containing both and N3 and N7 are per the incompatibility constraint."
   ],
   "metadata": {
    "collapsed": false
   }
  },
  {
   "cell_type": "code",
   "execution_count": 2,
   "outputs": [
    {
     "data": {
      "text/plain": "<IPython.core.display.Markdown object>",
      "text/markdown": "Rendering 4 instances"
     },
     "metadata": {},
     "output_type": "display_data"
    },
    {
     "data": {
      "text/plain": "<IPython.core.display.HTML object>",
      "text/html": "<div id=\"71581247965c427aac13c6fa3a958479\"></div>\n<script type=\"text/javascript\" src=\"https://cdn.jsdelivr.net/npm/@viz-js/viz/lib/viz-standalone.js\"></script>\n<script type=\"text/javascript\">\n(function() {\n  var dot = \"digraph  {\\ndpi=60;\\nfontsize=\\\"20pt\\\";\\nrankdir=LR;\\n0 [fillcolor=\\\"#ffffff\\\", label=<<B>N0</B>>, margin=0, shape=ellipse, style=\\\"filled,bold\\\"];\\n1 [fillcolor=\\\"#ffffff\\\", label=\\\"N1\\\", margin=0, shape=ellipse, style=\\\"filled\\\"];\\n2 [fillcolor=\\\"#ffffff\\\", label=\\\"N2\\\", margin=0, shape=ellipse, style=\\\"filled\\\"];\\n3 [fillcolor=\\\"#ffffff\\\", label=\\\"N5\\\", margin=0, shape=ellipse, style=\\\"filled\\\"];\\n4 [fillcolor=\\\"#ffffff\\\", label=\\\"N6\\\", margin=0, shape=ellipse, style=\\\"filled\\\"];\\n0 -> 1  [key=0, type=\\\"EdgeType.DERIVES\\\"];\\n1 -> 2  [key=0, type=\\\"EdgeType.DERIVES\\\"];\\n2 -> 3  [key=0, type=\\\"EdgeType.DERIVES\\\"];\\n3 -> 4  [key=0, type=\\\"EdgeType.DERIVES\\\"];\\n}\\n\"; // Export of the dot graph notation\n  // Create viz-js instance and render to SVG\n  function doRender() {\n    Viz.instance().then(function(viz) { document.getElementById(\"71581247965c427aac13c6fa3a958479\").appendChild(viz.renderSVGElement(dot)); });\n  }\n  // We need to wait for loading to complete\n  if (typeof Viz === \"undefined\") { setTimeout(doRender, 200); } else { doRender(); }\n})()\n</script>\n"
     },
     "metadata": {},
     "output_type": "display_data"
    },
    {
     "data": {
      "text/plain": "<IPython.core.display.HTML object>",
      "text/html": "<div id=\"bf5a31cf877947fca0418c52243f1e0a\"></div>\n<script type=\"text/javascript\" src=\"https://cdn.jsdelivr.net/npm/@viz-js/viz/lib/viz-standalone.js\"></script>\n<script type=\"text/javascript\">\n(function() {\n  var dot = \"digraph  {\\ndpi=60;\\nfontsize=\\\"20pt\\\";\\nrankdir=LR;\\n0 [fillcolor=\\\"#ffffff\\\", label=<<B>N0</B>>, margin=0, shape=ellipse, style=\\\"filled,bold\\\"];\\n1 [fillcolor=\\\"#ffffff\\\", label=\\\"N1\\\", margin=0, shape=ellipse, style=\\\"filled\\\"];\\n2 [fillcolor=\\\"#ffffff\\\", label=\\\"N2\\\", margin=0, shape=ellipse, style=\\\"filled\\\"];\\n3 [fillcolor=\\\"#ffffff\\\", label=\\\"N5\\\", margin=0, shape=ellipse, style=\\\"filled\\\"];\\n4 [fillcolor=\\\"#ffffff\\\", label=\\\"N7\\\", margin=0, shape=ellipse, style=\\\"filled\\\"];\\n0 -> 1  [key=0, type=\\\"EdgeType.DERIVES\\\"];\\n1 -> 2  [key=0, type=\\\"EdgeType.DERIVES\\\"];\\n2 -> 3  [key=0, type=\\\"EdgeType.DERIVES\\\"];\\n3 -> 4  [key=0, type=\\\"EdgeType.DERIVES\\\"];\\n}\\n\"; // Export of the dot graph notation\n  // Create viz-js instance and render to SVG\n  function doRender() {\n    Viz.instance().then(function(viz) { document.getElementById(\"bf5a31cf877947fca0418c52243f1e0a\").appendChild(viz.renderSVGElement(dot)); });\n  }\n  // We need to wait for loading to complete\n  if (typeof Viz === \"undefined\") { setTimeout(doRender, 200); } else { doRender(); }\n})()\n</script>\n"
     },
     "metadata": {},
     "output_type": "display_data"
    },
    {
     "data": {
      "text/plain": "<IPython.core.display.HTML object>",
      "text/html": "<div id=\"3dd4752f7a8a48be996542a6ccc6d1c9\"></div>\n<script type=\"text/javascript\" src=\"https://cdn.jsdelivr.net/npm/@viz-js/viz/lib/viz-standalone.js\"></script>\n<script type=\"text/javascript\">\n(function() {\n  var dot = \"digraph  {\\ndpi=60;\\nfontsize=\\\"20pt\\\";\\nrankdir=LR;\\n0 [fillcolor=\\\"#ffffff\\\", label=<<B>N0</B>>, margin=0, shape=ellipse, style=\\\"filled,bold\\\"];\\n1 [fillcolor=\\\"#ffffff\\\", label=\\\"N1\\\", margin=0, shape=ellipse, style=\\\"filled\\\"];\\n2 [fillcolor=\\\"#ffffff\\\", label=\\\"N3\\\", margin=0, shape=ellipse, style=\\\"filled\\\"];\\n3 [fillcolor=\\\"#ffffff\\\", label=\\\"N4\\\", margin=0, shape=ellipse, style=\\\"filled\\\"];\\n4 [fillcolor=\\\"#ffffff\\\", label=\\\"N5\\\", margin=0, shape=ellipse, style=\\\"filled\\\"];\\n5 [fillcolor=\\\"#ffffff\\\", label=\\\"N6\\\", margin=0, shape=ellipse, style=\\\"filled\\\"];\\n0 -> 1  [key=0, type=\\\"EdgeType.DERIVES\\\"];\\n1 -> 2  [key=0, type=\\\"EdgeType.DERIVES\\\"];\\n2 -> 3  [key=0, type=\\\"EdgeType.DERIVES\\\"];\\n2 -> 4  [key=0, type=\\\"EdgeType.DERIVES\\\"];\\n4 -> 5  [key=0, type=\\\"EdgeType.DERIVES\\\"];\\n}\\n\"; // Export of the dot graph notation\n  // Create viz-js instance and render to SVG\n  function doRender() {\n    Viz.instance().then(function(viz) { document.getElementById(\"3dd4752f7a8a48be996542a6ccc6d1c9\").appendChild(viz.renderSVGElement(dot)); });\n  }\n  // We need to wait for loading to complete\n  if (typeof Viz === \"undefined\") { setTimeout(doRender, 200); } else { doRender(); }\n})()\n</script>\n"
     },
     "metadata": {},
     "output_type": "display_data"
    },
    {
     "data": {
      "text/plain": "<IPython.core.display.HTML object>",
      "text/html": "<div id=\"218901bf8a1e4ca1b968df7424029f16\"></div>\n<script type=\"text/javascript\" src=\"https://cdn.jsdelivr.net/npm/@viz-js/viz/lib/viz-standalone.js\"></script>\n<script type=\"text/javascript\">\n(function() {\n  var dot = \"digraph  {\\ndpi=60;\\nfontsize=\\\"20pt\\\";\\nrankdir=LR;\\n0 [fillcolor=\\\"#ffffff\\\", label=<<B>N0</B>>, margin=0, shape=ellipse, style=\\\"filled,bold\\\"];\\n1 [fillcolor=\\\"#ffffff\\\", label=\\\"N1\\\", margin=0, shape=ellipse, style=\\\"filled\\\"];\\n2 [fillcolor=\\\"#ffffff\\\", label=\\\"N4\\\", margin=0, shape=ellipse, style=\\\"filled\\\"];\\n0 -> 1  [key=0, type=\\\"EdgeType.DERIVES\\\"];\\n1 -> 2  [key=0, type=\\\"EdgeType.DERIVES\\\"];\\n}\\n\"; // Export of the dot graph notation\n  // Create viz-js instance and render to SVG\n  function doRender() {\n    Viz.instance().then(function(viz) { document.getElementById(\"218901bf8a1e4ca1b968df7424029f16\").appendChild(viz.renderSVGElement(dot)); });\n  }\n  // We need to wait for loading to complete\n  if (typeof Viz === \"undefined\") { setTimeout(doRender, 200); } else { doRender(); }\n})()\n</script>\n"
     },
     "metadata": {},
     "output_type": "display_data"
    }
   ],
   "source": [
    "adsg.render_all()  # Note: only use if there are not too many instances!"
   ],
   "metadata": {
    "collapsed": false,
    "ExecuteTime": {
     "end_time": "2024-01-26T06:55:37.238522300Z",
     "start_time": "2024-01-26T06:55:37.201374100Z"
    }
   }
  },
  {
   "cell_type": "markdown",
   "source": [
    "### Selection Choice Constraints\n",
    "\n",
    "*Choice constraints* allow constraining option availability for choices based on other choices.\n",
    "For continuous design variables only linking is possible: here the same value relative to the respective design variable\n",
    "bounds is applied.\n",
    "For discrete design variables and selection and connection choices, four types of choice constraints are available:\n",
    "linked, permutations, unordered combinations, and unordered non-replacing combinations.\n",
    "These constraints enforce the following logic:\n",
    "\n",
    "- *Linked*: all choices are assigned the same option index, e.g. AA, BB, CC.\n",
    "- *Permutations*: all choices have a different option index, e.g. AB, AC, BA, BC, CA, CB.\n",
    "- *Unordered combinations*: choices have an equal or higher index than preceding choices, e.g. AA, AB, AC, BB, BC, CC.\n",
    "- *Unordered non-replacing combinations*: choices have a higher index than preceding choices, e.g. AB, AC, BC.\n",
    "\n",
    "Here we show how to apply this for selection constraints."
   ],
   "metadata": {
    "collapsed": false
   }
  },
  {
   "cell_type": "code",
   "execution_count": 3,
   "outputs": [
    {
     "data": {
      "text/plain": "<IPython.core.display.HTML object>",
      "text/html": "<div id=\"78ac409ecf094849a0dbb3d6a2c0473c\"></div>\n<script type=\"text/javascript\" src=\"https://cdn.jsdelivr.net/npm/@viz-js/viz/lib/viz-standalone.js\"></script>\n<script type=\"text/javascript\">\n(function() {\n  var dot = \"digraph  {\\ndpi=60;\\nfontsize=\\\"20pt\\\";\\nrankdir=LR;\\n0 [fillcolor=\\\"#ffffff\\\", label=<<B>N0</B>>, margin=0, shape=ellipse, style=\\\"filled,bold\\\"];\\n1 [fillcolor=\\\"#81D4FA\\\", label=\\\"C1\\\", margin=0, shape=ellipse, style=\\\"filled\\\"];\\n2 [fillcolor=\\\"#ffffff\\\", label=\\\"Opt0\\\", margin=0, shape=ellipse, style=\\\"filled\\\"];\\n3 [fillcolor=\\\"#ffffff\\\", label=\\\"Opt1\\\", margin=0, shape=ellipse, style=\\\"filled\\\"];\\n4 [fillcolor=\\\"#ffffff\\\", label=\\\"Opt2\\\", margin=0, shape=ellipse, style=\\\"filled\\\"];\\n5 [fillcolor=\\\"#ffffff\\\", label=<<B>N1</B>>, margin=0, shape=ellipse, style=\\\"filled,bold\\\"];\\n6 [fillcolor=\\\"#81D4FA\\\", label=\\\"C2\\\", margin=0, shape=ellipse, style=\\\"filled\\\"];\\n0 -> 1  [key=0, type=\\\"EdgeType.DERIVES\\\"];\\n1 -> 2  [key=0, type=\\\"EdgeType.DERIVES\\\"];\\n1 -> 3  [key=0, type=\\\"EdgeType.DERIVES\\\"];\\n1 -> 4  [key=0, type=\\\"EdgeType.DERIVES\\\"];\\n5 -> 6  [key=0, type=\\\"EdgeType.DERIVES\\\"];\\n6 -> 2  [key=0, type=\\\"EdgeType.DERIVES\\\"];\\n6 -> 3  [key=0, type=\\\"EdgeType.DERIVES\\\"];\\n6 -> 4  [key=0, type=\\\"EdgeType.DERIVES\\\"];\\n}\\n\"; // Export of the dot graph notation\n  // Create viz-js instance and render to SVG\n  function doRender() {\n    Viz.instance().then(function(viz) { document.getElementById(\"78ac409ecf094849a0dbb3d6a2c0473c\").appendChild(viz.renderSVGElement(dot)); });\n  }\n  // We need to wait for loading to complete\n  if (typeof Viz === \"undefined\") { setTimeout(doRender, 200); } else { doRender(); }\n})()\n</script>\n"
     },
     "metadata": {},
     "output_type": "display_data"
    },
    {
     "data": {
      "text/plain": "<IPython.core.display.Markdown object>",
      "text/markdown": "Rendering 3 instances"
     },
     "metadata": {},
     "output_type": "display_data"
    },
    {
     "data": {
      "text/plain": "<IPython.core.display.HTML object>",
      "text/html": "<div id=\"1e521f3f9aad49ac8f208e790c89052f\"></div>\n<script type=\"text/javascript\" src=\"https://cdn.jsdelivr.net/npm/@viz-js/viz/lib/viz-standalone.js\"></script>\n<script type=\"text/javascript\">\n(function() {\n  var dot = \"digraph  {\\ndpi=60;\\nfontsize=\\\"20pt\\\";\\nrankdir=LR;\\n0 [fillcolor=\\\"#ffffff\\\", label=<<B>N0</B>>, margin=0, shape=ellipse, style=\\\"filled,bold\\\"];\\n1 [fillcolor=\\\"#ffffff\\\", label=\\\"Opt0\\\", margin=0, shape=ellipse, style=\\\"filled\\\"];\\n2 [fillcolor=\\\"#ffffff\\\", label=<<B>N1</B>>, margin=0, shape=ellipse, style=\\\"filled,bold\\\"];\\n3 [fillcolor=\\\"#ffffff\\\", label=\\\"Opt1\\\", margin=0, shape=ellipse, style=\\\"filled\\\"];\\n0 -> 1  [key=0, type=\\\"EdgeType.DERIVES\\\"];\\n2 -> 3  [key=0, type=\\\"EdgeType.DERIVES\\\"];\\n}\\n\"; // Export of the dot graph notation\n  // Create viz-js instance and render to SVG\n  function doRender() {\n    Viz.instance().then(function(viz) { document.getElementById(\"1e521f3f9aad49ac8f208e790c89052f\").appendChild(viz.renderSVGElement(dot)); });\n  }\n  // We need to wait for loading to complete\n  if (typeof Viz === \"undefined\") { setTimeout(doRender, 200); } else { doRender(); }\n})()\n</script>\n"
     },
     "metadata": {},
     "output_type": "display_data"
    },
    {
     "data": {
      "text/plain": "<IPython.core.display.HTML object>",
      "text/html": "<div id=\"f8101d33d562421fa583f9b0bf56e1c2\"></div>\n<script type=\"text/javascript\" src=\"https://cdn.jsdelivr.net/npm/@viz-js/viz/lib/viz-standalone.js\"></script>\n<script type=\"text/javascript\">\n(function() {\n  var dot = \"digraph  {\\ndpi=60;\\nfontsize=\\\"20pt\\\";\\nrankdir=LR;\\n0 [fillcolor=\\\"#ffffff\\\", label=<<B>N0</B>>, margin=0, shape=ellipse, style=\\\"filled,bold\\\"];\\n1 [fillcolor=\\\"#ffffff\\\", label=\\\"Opt0\\\", margin=0, shape=ellipse, style=\\\"filled\\\"];\\n2 [fillcolor=\\\"#ffffff\\\", label=<<B>N1</B>>, margin=0, shape=ellipse, style=\\\"filled,bold\\\"];\\n3 [fillcolor=\\\"#ffffff\\\", label=\\\"Opt2\\\", margin=0, shape=ellipse, style=\\\"filled\\\"];\\n0 -> 1  [key=0, type=\\\"EdgeType.DERIVES\\\"];\\n2 -> 3  [key=0, type=\\\"EdgeType.DERIVES\\\"];\\n}\\n\"; // Export of the dot graph notation\n  // Create viz-js instance and render to SVG\n  function doRender() {\n    Viz.instance().then(function(viz) { document.getElementById(\"f8101d33d562421fa583f9b0bf56e1c2\").appendChild(viz.renderSVGElement(dot)); });\n  }\n  // We need to wait for loading to complete\n  if (typeof Viz === \"undefined\") { setTimeout(doRender, 200); } else { doRender(); }\n})()\n</script>\n"
     },
     "metadata": {},
     "output_type": "display_data"
    },
    {
     "data": {
      "text/plain": "<IPython.core.display.HTML object>",
      "text/html": "<div id=\"be911d6030a840d1af7ade0ca318243b\"></div>\n<script type=\"text/javascript\" src=\"https://cdn.jsdelivr.net/npm/@viz-js/viz/lib/viz-standalone.js\"></script>\n<script type=\"text/javascript\">\n(function() {\n  var dot = \"digraph  {\\ndpi=60;\\nfontsize=\\\"20pt\\\";\\nrankdir=LR;\\n0 [fillcolor=\\\"#ffffff\\\", label=<<B>N0</B>>, margin=0, shape=ellipse, style=\\\"filled,bold\\\"];\\n1 [fillcolor=\\\"#ffffff\\\", label=\\\"Opt1\\\", margin=0, shape=ellipse, style=\\\"filled\\\"];\\n2 [fillcolor=\\\"#ffffff\\\", label=<<B>N1</B>>, margin=0, shape=ellipse, style=\\\"filled,bold\\\"];\\n3 [fillcolor=\\\"#ffffff\\\", label=\\\"Opt2\\\", margin=0, shape=ellipse, style=\\\"filled\\\"];\\n0 -> 1  [key=0, type=\\\"EdgeType.DERIVES\\\"];\\n2 -> 3  [key=0, type=\\\"EdgeType.DERIVES\\\"];\\n}\\n\"; // Export of the dot graph notation\n  // Create viz-js instance and render to SVG\n  function doRender() {\n    Viz.instance().then(function(viz) { document.getElementById(\"be911d6030a840d1af7ade0ca318243b\").appendChild(viz.renderSVGElement(dot)); });\n  }\n  // We need to wait for loading to complete\n  if (typeof Viz === \"undefined\") { setTimeout(doRender, 200); } else { doRender(); }\n})()\n</script>\n"
     },
     "metadata": {},
     "output_type": "display_data"
    }
   ],
   "source": [
    "from adsg_core import ChoiceConstraintType\n",
    "\n",
    "# Create a new ADSG\n",
    "adsg = BasicADSG()\n",
    "\n",
    "# Create 2 independent choices with 3 options each\n",
    "nn = [NamedNode(f'Opt{i}') for i in range(3)]\n",
    "c1 = adsg.add_selection_choice('C1', n[0], nn)\n",
    "c2 = adsg.add_selection_choice('C2', n[1], nn)\n",
    "\n",
    "# Start nodes have to be defined before constraining the choices\n",
    "adsg = adsg.set_start_nodes({n[0], n[1]})\n",
    "adsg.render()\n",
    "\n",
    "# Constrain it so that only unordered non-replacing combinations are possible\n",
    "# This function also returns a (potentially) modified ADSG!\n",
    "adsg = adsg.constrain_choices(ChoiceConstraintType.UNORDERED_NOREPL, [c1, c2])\n",
    "\n",
    "adsg.render_all()"
   ],
   "metadata": {
    "collapsed": false,
    "ExecuteTime": {
     "end_time": "2024-01-26T06:55:40.367323700Z",
     "start_time": "2024-01-26T06:55:40.344315100Z"
    }
   }
  },
  {
   "cell_type": "markdown",
   "source": [
    "You can observe that all combinations of the option nodes are included, however no permutations, and no cases where the same options are selected."
   ],
   "metadata": {
    "collapsed": false
   }
  },
  {
   "cell_type": "markdown",
   "source": [
    "## Modeling Connection Choices\n",
    "\n",
    "*Connection choices* offer a generic way to model source to target connection problems, where source and target nodes\n",
    "are represented using *connection nodes*.\n",
    "Connection nodes behave the same as generic nodes with respect to derivation edges and selection choice, however\n",
    "additionally specify a *connector constraint*: a specification of how many outgoing (source) or incoming (target)\n",
    "connections the connector node can accept, and whether repeated connections to/from the same target/source are allowed.\n",
    "The connector constraint can be specified as:\n",
    "\n",
    "- A list of numbers (e.g. 1, 2 or 3 connections: `1,2,3`),\n",
    "- A lower and an upper bound (e.g. between 0 and 3, inclusive: `0..3`),\n",
    "- Or only a lower bound (e.g. 1 or more: `1..*`).\n",
    "\n",
    "In the ADSG, a connection choice is defined by adding connection edges from one or more source nodes to a connection\n",
    "choice node, and from the connection choice node to one or more target nodes.\n",
    "To model the case where the order of connections is not important, *connection grouping nodes* can be used: the\n",
    "connector constraint of this node depends on aggregated connector constraints of incoming connection nodes (connected\n",
    "by derivation edges).\n",
    "It is also possible to define combinations of source and target nodes that may not be connected using *exclusion edges*.\n",
    "\n",
    "We now show a simple example of defining an ADSG containing a connection choice."
   ],
   "metadata": {
    "collapsed": false
   }
  },
  {
   "cell_type": "code",
   "execution_count": 6,
   "outputs": [
    {
     "data": {
      "text/plain": "<IPython.core.display.HTML object>",
      "text/html": "<div id=\"2fbe31ba053e451594457337ef4407e0\"></div>\n<script type=\"text/javascript\" src=\"https://cdn.jsdelivr.net/npm/@viz-js/viz/lib/viz-standalone.js\"></script>\n<script type=\"text/javascript\">\n(function() {\n  var dot = \"digraph  {\\ndpi=60;\\nfontsize=\\\"20pt\\\";\\nrankdir=LR;\\n0 [fillcolor=\\\"#ffffff\\\", label=\\\"CN0\\\", margin=0, shape=hexagon, style=\\\"filled\\\"];\\n1 [fillcolor=\\\"#81D4FA\\\", label=\\\"C\\\", margin=0, shape=hexagon, style=\\\"filled\\\"];\\n2 [fillcolor=\\\"#ffffff\\\", label=\\\"CN2\\\", margin=0, shape=hexagon, style=\\\"filled\\\"];\\n3 [fillcolor=\\\"#ffffff\\\", label=\\\"CN3\\\", margin=0, shape=hexagon, style=\\\"filled\\\"];\\n4 [fillcolor=\\\"#ffffff\\\", label=\\\"CN1\\\", margin=0, shape=hexagon, style=\\\"filled\\\"];\\n5 [fillcolor=\\\"#ffffff\\\", label=<<B>Start</B>>, margin=0, shape=ellipse, style=\\\"filled,bold\\\"];\\n0 -> 1  [key=0, label=\\\"1..*\\\", style=dashed, type=\\\"EdgeType.CONNECTS\\\"];\\n1 -> 2  [key=0, label=\\\"1..*\\\", style=dashed, type=\\\"EdgeType.CONNECTS\\\"];\\n1 -> 3  [key=0, label=\\\"1..*\\\", style=dashed, type=\\\"EdgeType.CONNECTS\\\"];\\n4 -> 1  [key=0, label=\\\"1..*\\\", style=dashed, type=\\\"EdgeType.CONNECTS\\\"];\\n5 -> 0  [key=0, type=\\\"EdgeType.DERIVES\\\"];\\n5 -> 4  [key=0, type=\\\"EdgeType.DERIVES\\\"];\\n5 -> 2  [key=0, type=\\\"EdgeType.DERIVES\\\"];\\n5 -> 3  [key=0, type=\\\"EdgeType.DERIVES\\\"];\\n}\\n\"; // Export of the dot graph notation\n  // Create viz-js instance and render to SVG\n  function doRender() {\n    Viz.instance().then(function(viz) { document.getElementById(\"2fbe31ba053e451594457337ef4407e0\").appendChild(viz.renderSVGElement(dot)); });\n  }\n  // We need to wait for loading to complete\n  if (typeof Viz === \"undefined\") { setTimeout(doRender, 200); } else { doRender(); }\n})()\n</script>\n"
     },
     "metadata": {},
     "output_type": "display_data"
    }
   ],
   "source": [
    "from adsg_core import BasicADSG, NamedNode, ConnectorNode\n",
    "\n",
    "# Create the ADSG and a start node\n",
    "adsg = BasicADSG()\n",
    "start = NamedNode('Start')\n",
    "\n",
    "# Define connector nodes:\n",
    "# Each needs at least one connection, with no upper limit\n",
    "# Repeated connections between the same src/tgt are not allowed\n",
    "connectors = [ConnectorNode(f'CN{i}', deg_min=1, repeated_allowed=False)\n",
    "              for i in range(4)]\n",
    "\n",
    "# Add a connection choice connecting 2 sources to 2 targets\n",
    "c = adsg.add_connection_choice(\n",
    "    'C', src_nodes=connectors[:2], tgt_nodes=connectors[2:])\n",
    "\n",
    "# Ensure all connector nodes are selected\n",
    "adsg.add_edges([(start, cn) for cn in connectors])\n",
    "adsg = adsg.set_start_nodes({start})\n",
    "adsg.render()"
   ],
   "metadata": {
    "collapsed": false,
    "ExecuteTime": {
     "end_time": "2024-01-26T07:35:18.949633500Z",
     "start_time": "2024-01-26T07:35:18.937633300Z"
    }
   }
  },
  {
   "cell_type": "markdown",
   "source": [
    "Let's see how many valid connection sets are possible"
   ],
   "metadata": {
    "collapsed": false
   }
  },
  {
   "cell_type": "code",
   "execution_count": 9,
   "outputs": [
    {
     "name": "stdout",
     "output_type": "stream",
     "text": [
      "There are 7 valid connection sets\n"
     ]
    },
    {
     "data": {
      "text/plain": "<IPython.core.display.Markdown object>",
      "text/markdown": "Rendering 2 of 7 instances"
     },
     "metadata": {},
     "output_type": "display_data"
    },
    {
     "data": {
      "text/plain": "<IPython.core.display.HTML object>",
      "text/html": "<div id=\"40a973ffe3764254bd3d222bb692619d\"></div>\n<script type=\"text/javascript\" src=\"https://cdn.jsdelivr.net/npm/@viz-js/viz/lib/viz-standalone.js\"></script>\n<script type=\"text/javascript\">\n(function() {\n  var dot = \"digraph  {\\ndpi=60;\\nfontsize=\\\"20pt\\\";\\nrankdir=LR;\\n0 [fillcolor=\\\"#ffffff\\\", label=\\\"CN0\\\", margin=0, shape=hexagon, style=\\\"filled\\\"];\\n1 [fillcolor=\\\"#ffffff\\\", label=\\\"CN3\\\", margin=0, shape=hexagon, style=\\\"filled\\\"];\\n2 [fillcolor=\\\"#ffffff\\\", label=\\\"CN1\\\", margin=0, shape=hexagon, style=\\\"filled\\\"];\\n3 [fillcolor=\\\"#ffffff\\\", label=\\\"CN2\\\", margin=0, shape=hexagon, style=\\\"filled\\\"];\\n4 [fillcolor=\\\"#ffffff\\\", label=<<B>Start</B>>, margin=0, shape=ellipse, style=\\\"filled,bold\\\"];\\n0 -> 1  [key=0, label=\\\"1..*\\\", style=dashed, type=\\\"EdgeType.CONNECTS\\\"];\\n2 -> 3  [key=0, label=\\\"1..*\\\", style=dashed, type=\\\"EdgeType.CONNECTS\\\"];\\n4 -> 0  [key=0, type=\\\"EdgeType.DERIVES\\\"];\\n4 -> 2  [key=0, type=\\\"EdgeType.DERIVES\\\"];\\n4 -> 3  [key=0, type=\\\"EdgeType.DERIVES\\\"];\\n4 -> 1  [key=0, type=\\\"EdgeType.DERIVES\\\"];\\n}\\n\"; // Export of the dot graph notation\n  // Create viz-js instance and render to SVG\n  function doRender() {\n    Viz.instance().then(function(viz) { document.getElementById(\"40a973ffe3764254bd3d222bb692619d\").appendChild(viz.renderSVGElement(dot)); });\n  }\n  // We need to wait for loading to complete\n  if (typeof Viz === \"undefined\") { setTimeout(doRender, 200); } else { doRender(); }\n})()\n</script>\n"
     },
     "metadata": {},
     "output_type": "display_data"
    },
    {
     "data": {
      "text/plain": "<IPython.core.display.HTML object>",
      "text/html": "<div id=\"e55a8aa567164485b2e96677393481bd\"></div>\n<script type=\"text/javascript\" src=\"https://cdn.jsdelivr.net/npm/@viz-js/viz/lib/viz-standalone.js\"></script>\n<script type=\"text/javascript\">\n(function() {\n  var dot = \"digraph  {\\ndpi=60;\\nfontsize=\\\"20pt\\\";\\nrankdir=LR;\\n0 [fillcolor=\\\"#ffffff\\\", label=\\\"CN0\\\", margin=0, shape=hexagon, style=\\\"filled\\\"];\\n1 [fillcolor=\\\"#ffffff\\\", label=\\\"CN3\\\", margin=0, shape=hexagon, style=\\\"filled\\\"];\\n2 [fillcolor=\\\"#ffffff\\\", label=\\\"CN1\\\", margin=0, shape=hexagon, style=\\\"filled\\\"];\\n3 [fillcolor=\\\"#ffffff\\\", label=\\\"CN2\\\", margin=0, shape=hexagon, style=\\\"filled\\\"];\\n4 [fillcolor=\\\"#ffffff\\\", label=<<B>Start</B>>, margin=0, shape=ellipse, style=\\\"filled,bold\\\"];\\n0 -> 1  [key=0, label=\\\"1..*\\\", style=dashed, type=\\\"EdgeType.CONNECTS\\\"];\\n2 -> 1  [key=0, label=\\\"1..*\\\", style=dashed, type=\\\"EdgeType.CONNECTS\\\"];\\n2 -> 3  [key=0, label=\\\"1..*\\\", style=dashed, type=\\\"EdgeType.CONNECTS\\\"];\\n4 -> 0  [key=0, type=\\\"EdgeType.DERIVES\\\"];\\n4 -> 2  [key=0, type=\\\"EdgeType.DERIVES\\\"];\\n4 -> 3  [key=0, type=\\\"EdgeType.DERIVES\\\"];\\n4 -> 1  [key=0, type=\\\"EdgeType.DERIVES\\\"];\\n}\\n\"; // Export of the dot graph notation\n  // Create viz-js instance and render to SVG\n  function doRender() {\n    Viz.instance().then(function(viz) { document.getElementById(\"e55a8aa567164485b2e96677393481bd\").appendChild(viz.renderSVGElement(dot)); });\n  }\n  // We need to wait for loading to complete\n  if (typeof Viz === \"undefined\") { setTimeout(doRender, 200); } else { doRender(); }\n})()\n</script>\n"
     },
     "metadata": {},
     "output_type": "display_data"
    }
   ],
   "source": [
    "n_valid_conn = len(list(c.iter_conn_edges(adsg)))\n",
    "print(f'There are {n_valid_conn} valid connection sets')\n",
    "\n",
    "# Render two example instances\n",
    "adsg.render_all([0, 1])"
   ],
   "metadata": {
    "collapsed": false,
    "ExecuteTime": {
     "end_time": "2024-01-26T07:36:05.946370100Z",
     "start_time": "2024-01-26T07:36:05.905095200Z"
    }
   }
  },
  {
   "cell_type": "markdown",
   "source": [
    "### Connection Grouping\n",
    "\n",
    "Now let's model the case where for the target nodes, the connection order is irrelevant.\n",
    "That means that if CN1 connects to CN2 and CN3, we treat this as the same architecture as if it connects to CN3 and CN2."
   ],
   "metadata": {
    "collapsed": false
   }
  },
  {
   "cell_type": "code",
   "execution_count": 10,
   "outputs": [
    {
     "data": {
      "text/plain": "<IPython.core.display.HTML object>",
      "text/html": "<div id=\"03c8e591e2bb4f7f91a4efd556cf58fb\"></div>\n<script type=\"text/javascript\" src=\"https://cdn.jsdelivr.net/npm/@viz-js/viz/lib/viz-standalone.js\"></script>\n<script type=\"text/javascript\">\n(function() {\n  var dot = \"digraph  {\\ndpi=60;\\nfontsize=\\\"20pt\\\";\\nrankdir=LR;\\n0 [fillcolor=\\\"#ffffff\\\", label=\\\"CN0\\\", margin=0, shape=hexagon, style=\\\"filled\\\"];\\n1 [fillcolor=\\\"#81D4FA\\\", label=\\\"C\\\", margin=0, shape=hexagon, style=\\\"filled\\\"];\\n2 [fillcolor=\\\"#ffffff\\\", label=\\\"Grp\\\", margin=0, shape=hexagon, style=\\\"filled\\\"];\\n3 [fillcolor=\\\"#ffffff\\\", label=\\\"CN1\\\", margin=0, shape=hexagon, style=\\\"filled\\\"];\\n4 [fillcolor=\\\"#ffffff\\\", label=\\\"CN2\\\", margin=0, shape=hexagon, style=\\\"filled\\\"];\\n5 [fillcolor=\\\"#ffffff\\\", label=\\\"CN3\\\", margin=0, shape=hexagon, style=\\\"filled\\\"];\\n6 [fillcolor=\\\"#ffffff\\\", label=<<B>Start</B>>, margin=0, shape=ellipse, style=\\\"filled,bold\\\"];\\n0 -> 1  [key=0, label=\\\"1..*\\\", style=dashed, type=\\\"EdgeType.CONNECTS\\\"];\\n1 -> 2  [key=0, label=\\\"2..*\\\", style=dashed, type=\\\"EdgeType.CONNECTS\\\"];\\n3 -> 1  [key=0, label=\\\"1..*\\\", style=dashed, type=\\\"EdgeType.CONNECTS\\\"];\\n4 -> 2  [key=0, label=\\\"1..*\\\", type=\\\"EdgeType.DERIVES\\\"];\\n5 -> 2  [key=0, label=\\\"1..*\\\", type=\\\"EdgeType.DERIVES\\\"];\\n6 -> 0  [key=0, type=\\\"EdgeType.DERIVES\\\"];\\n6 -> 3  [key=0, type=\\\"EdgeType.DERIVES\\\"];\\n6 -> 4  [key=0, type=\\\"EdgeType.DERIVES\\\"];\\n6 -> 5  [key=0, type=\\\"EdgeType.DERIVES\\\"];\\n}\\n\"; // Export of the dot graph notation\n  // Create viz-js instance and render to SVG\n  function doRender() {\n    Viz.instance().then(function(viz) { document.getElementById(\"03c8e591e2bb4f7f91a4efd556cf58fb\").appendChild(viz.renderSVGElement(dot)); });\n  }\n  // We need to wait for loading to complete\n  if (typeof Viz === \"undefined\") { setTimeout(doRender, 200); } else { doRender(); }\n})()\n</script>\n"
     },
     "metadata": {},
     "output_type": "display_data"
    }
   ],
   "source": [
    "from adsg_core import ConnectorDegreeGroupingNode\n",
    "\n",
    "# Create a new ADSG\n",
    "adsg = BasicADSG()\n",
    "\n",
    "# Create the connection choice\n",
    "# Here we add a connection grouping node to the targets\n",
    "c = adsg.add_connection_choice(\n",
    "    'C', src_nodes=connectors[:2],\n",
    "    tgt_nodes=[\n",
    "        # The list of target nodes can still also contain individual nodes\n",
    "        # To specify a grouping node, we need to associate it with\n",
    "        # the underlying connectors\n",
    "        (ConnectorDegreeGroupingNode(), connectors[2:]),\n",
    "    ],\n",
    ")\n",
    "\n",
    "# Ensure all connector nodes are selected\n",
    "adsg.add_edges([(start, cn) for cn in connectors])\n",
    "adsg = adsg.set_start_nodes({start})\n",
    "adsg.render()"
   ],
   "metadata": {
    "collapsed": false,
    "ExecuteTime": {
     "end_time": "2024-01-26T07:36:08.654150100Z",
     "start_time": "2024-01-26T07:36:08.631541100Z"
    }
   }
  },
  {
   "cell_type": "markdown",
   "source": [
    "You can observe that the grouping node connection constraint covers both the individual connection constraints of C2 and C3.\n",
    "Now there is only one valid connection set left:"
   ],
   "metadata": {
    "collapsed": false
   }
  },
  {
   "cell_type": "code",
   "execution_count": 12,
   "outputs": [
    {
     "name": "stdout",
     "output_type": "stream",
     "text": [
      "There is 1 valid connection set\n"
     ]
    },
    {
     "data": {
      "text/plain": "<IPython.core.display.Markdown object>",
      "text/markdown": "Rendering 1 instances"
     },
     "metadata": {},
     "output_type": "display_data"
    },
    {
     "data": {
      "text/plain": "<IPython.core.display.HTML object>",
      "text/html": "<div id=\"02e493c4b4704454b6e466b82d7a423a\"></div>\n<script type=\"text/javascript\" src=\"https://cdn.jsdelivr.net/npm/@viz-js/viz/lib/viz-standalone.js\"></script>\n<script type=\"text/javascript\">\n(function() {\n  var dot = \"digraph  {\\ndpi=60;\\nfontsize=\\\"20pt\\\";\\nrankdir=LR;\\n0 [fillcolor=\\\"#ffffff\\\", label=\\\"CN0\\\", margin=0, shape=hexagon, style=\\\"filled\\\"];\\n1 [fillcolor=\\\"#ffffff\\\", label=\\\"Grp\\\", margin=0, shape=hexagon, style=\\\"filled\\\"];\\n2 [fillcolor=\\\"#ffffff\\\", label=\\\"CN1\\\", margin=0, shape=hexagon, style=\\\"filled\\\"];\\n3 [fillcolor=\\\"#ffffff\\\", label=\\\"CN2\\\", margin=0, shape=hexagon, style=\\\"filled\\\"];\\n4 [fillcolor=\\\"#ffffff\\\", label=\\\"CN3\\\", margin=0, shape=hexagon, style=\\\"filled\\\"];\\n5 [fillcolor=\\\"#ffffff\\\", label=<<B>Start</B>>, margin=0, shape=ellipse, style=\\\"filled,bold\\\"];\\n0 -> 1  [key=0, label=\\\"1..*\\\", style=dashed, type=\\\"EdgeType.CONNECTS\\\"];\\n2 -> 1  [key=0, label=\\\"1..*\\\", style=dashed, type=\\\"EdgeType.CONNECTS\\\"];\\n3 -> 1  [key=0, label=\\\"1..*\\\", type=\\\"EdgeType.DERIVES\\\"];\\n4 -> 1  [key=0, label=\\\"1..*\\\", type=\\\"EdgeType.DERIVES\\\"];\\n5 -> 0  [key=0, type=\\\"EdgeType.DERIVES\\\"];\\n5 -> 2  [key=0, type=\\\"EdgeType.DERIVES\\\"];\\n5 -> 3  [key=0, type=\\\"EdgeType.DERIVES\\\"];\\n5 -> 4  [key=0, type=\\\"EdgeType.DERIVES\\\"];\\n}\\n\"; // Export of the dot graph notation\n  // Create viz-js instance and render to SVG\n  function doRender() {\n    Viz.instance().then(function(viz) { document.getElementById(\"02e493c4b4704454b6e466b82d7a423a\").appendChild(viz.renderSVGElement(dot)); });\n  }\n  // We need to wait for loading to complete\n  if (typeof Viz === \"undefined\") { setTimeout(doRender, 200); } else { doRender(); }\n})()\n</script>\n"
     },
     "metadata": {},
     "output_type": "display_data"
    }
   ],
   "source": [
    "n_valid_conn = len(list(c.iter_conn_edges(adsg)))\n",
    "print(f'There is {n_valid_conn} valid connection set')\n",
    "adsg.render_all()"
   ],
   "metadata": {
    "collapsed": false,
    "ExecuteTime": {
     "end_time": "2024-01-26T07:36:25.955414900Z",
     "start_time": "2024-01-26T07:36:25.928408200Z"
    }
   }
  },
  {
   "cell_type": "markdown",
   "source": [
    "### Connector Constraints\n",
    "\n",
    "Let's see some more ways to define connector constraints."
   ],
   "metadata": {
    "collapsed": false
   }
  },
  {
   "cell_type": "code",
   "execution_count": 19,
   "outputs": [
    {
     "data": {
      "text/plain": "<IPython.core.display.HTML object>",
      "text/html": "<div id=\"41e6e38831164274810b4839df7f450d\"></div>\n<script type=\"text/javascript\" src=\"https://cdn.jsdelivr.net/npm/@viz-js/viz/lib/viz-standalone.js\"></script>\n<script type=\"text/javascript\">\n(function() {\n  var dot = \"digraph  {\\ndpi=60;\\nfontsize=\\\"20pt\\\";\\nrankdir=LR;\\n0 [fillcolor=\\\"#ffffff\\\", label=\\\"S1\\\", margin=0, shape=hexagon, style=\\\"filled\\\"];\\n1 [fillcolor=\\\"#81D4FA\\\", label=\\\"C\\\", margin=0, shape=hexagon, style=\\\"filled\\\"];\\n2 [fillcolor=\\\"#ffffff\\\", label=\\\"T1\\\", margin=0, shape=hexagon, style=\\\"filled\\\"];\\n3 [fillcolor=\\\"#ffffff\\\", label=\\\"T1\\\", margin=0, shape=hexagon, style=\\\"filled\\\"];\\n4 [fillcolor=\\\"#ffffff\\\", label=\\\"T1\\\", margin=0, shape=hexagon, style=\\\"filled\\\"];\\n5 [fillcolor=\\\"#ffffff\\\", label=\\\"S2\\\", margin=0, shape=hexagon, style=\\\"filled\\\"];\\n6 [fillcolor=\\\"#ffffff\\\", label=\\\"S3\\\", margin=0, shape=hexagon, style=\\\"filled\\\"];\\n7 [fillcolor=\\\"#ffffff\\\", label=\\\"S4\\\", margin=0, shape=hexagon, style=\\\"filled\\\"];\\n8 [fillcolor=\\\"#ffffff\\\", label=<<B>Start</B>>, margin=0, shape=ellipse, style=\\\"filled,bold\\\"];\\n0 -> 1  [key=0, label=\\\"1\\\", style=dashed, type=\\\"EdgeType.CONNECTS\\\"];\\n1 -> 2  [key=0, label=\\\"0..*\\\", style=dashed, type=\\\"EdgeType.CONNECTS\\\"];\\n1 -> 3  [key=0, label=\\\"1..*\\\", style=dashed, type=\\\"EdgeType.CONNECTS\\\"];\\n1 -> 4  [key=0, label=\\\"0..1\\\", style=dashed, type=\\\"EdgeType.CONNECTS\\\"];\\n5 -> 1  [key=0, label=\\\"0,1\\\", style=dashed, type=\\\"EdgeType.CONNECTS\\\"];\\n6 -> 1  [key=0, label=\\\"0..2\\\", style=dashed, type=\\\"EdgeType.CONNECTS\\\"];\\n7 -> 1  [key=0, label=\\\"1..3\\\", style=dashed, type=\\\"EdgeType.CONNECTS\\\"];\\n8 -> 0  [key=0, type=\\\"EdgeType.DERIVES\\\"];\\n8 -> 5  [key=0, type=\\\"EdgeType.DERIVES\\\"];\\n8 -> 6  [key=0, type=\\\"EdgeType.DERIVES\\\"];\\n8 -> 7  [key=0, type=\\\"EdgeType.DERIVES\\\"];\\n8 -> 2  [key=0, type=\\\"EdgeType.DERIVES\\\"];\\n8 -> 3  [key=0, type=\\\"EdgeType.DERIVES\\\"];\\n8 -> 4  [key=0, type=\\\"EdgeType.DERIVES\\\"];\\n}\\n\"; // Export of the dot graph notation\n  // Create viz-js instance and render to SVG\n  function doRender() {\n    Viz.instance().then(function(viz) { document.getElementById(\"41e6e38831164274810b4839df7f450d\").appendChild(viz.renderSVGElement(dot)); });\n  }\n  // We need to wait for loading to complete\n  if (typeof Viz === \"undefined\") { setTimeout(doRender, 200); } else { doRender(); }\n})()\n</script>\n"
     },
     "metadata": {},
     "output_type": "display_data"
    },
    {
     "name": "stdout",
     "output_type": "stream",
     "text": [
      "There are 260 valid connection sets\n"
     ]
    }
   ],
   "source": [
    "# Create a new ADSG\n",
    "adsg = BasicADSG()\n",
    "\n",
    "# Define connector nodes with various constraints\n",
    "src_conn = [\n",
    "    ConnectorNode('S1', deg_list=[1],\n",
    "                  repeated_allowed=True),  # 1 connection, repeated allowed\n",
    "    ConnectorNode('S2', deg_list=[0, 1]),  # 1 optional connection\n",
    "    ConnectorNode('S3', deg_min=0, deg_max=2),  # Max 2 connections\n",
    "    ConnectorNode('S4', deg_min=1, deg_max=3),  # Between 1 and 3 connections\n",
    "]\n",
    "tgt_conn = [\n",
    "    ConnectorNode('T1', deg_spec='*'),  # Any nr of connections\n",
    "    ConnectorNode('T1', deg_spec='+'),  # At least 1 connection\n",
    "    ConnectorNode('T1', deg_spec='?'),  # 1 optional connection\n",
    "]\n",
    "\n",
    "# Create the connection choice\n",
    "c = adsg.add_connection_choice('C', src_nodes=src_conn, tgt_nodes=tgt_conn)\n",
    "\n",
    "# Ensure all connector nodes are selected\n",
    "adsg.add_edges([(start, cn) for cn in src_conn])\n",
    "adsg.add_edges([(start, cn) for cn in tgt_conn])\n",
    "adsg = adsg.set_start_nodes({start})\n",
    "adsg.render()\n",
    "\n",
    "n_valid_conn = len(list(c.iter_conn_edges(adsg)))\n",
    "print(f'There are {n_valid_conn} valid connection sets')"
   ],
   "metadata": {
    "collapsed": false,
    "ExecuteTime": {
     "end_time": "2024-01-26T07:42:18.025111700Z",
     "start_time": "2024-01-26T07:42:18.000417300Z"
    }
   }
  },
  {
   "cell_type": "markdown",
   "source": [
    "### Combining Selection and Connection Choices\n",
    "\n",
    "Selection choices determine which nodes are present in an architecture instance, and connector nodes are also subject to this selection.\n",
    "Selection choices therefore may influence which valid connection sets are available for a connection choice.\n",
    "\n",
    "We demonstrate the interaction using the example on the theory page."
   ],
   "metadata": {
    "collapsed": false
   }
  },
  {
   "cell_type": "code",
   "execution_count": 20,
   "outputs": [
    {
     "data": {
      "text/plain": "<IPython.core.display.HTML object>",
      "text/html": "<div id=\"721cade577f1421392abdf8a3527992d\"></div>\n<script type=\"text/javascript\" src=\"https://cdn.jsdelivr.net/npm/@viz-js/viz/lib/viz-standalone.js\"></script>\n<script type=\"text/javascript\">\n(function() {\n  var dot = \"digraph  {\\ndpi=60;\\nfontsize=\\\"20pt\\\";\\nrankdir=LR;\\n0 [fillcolor=\\\"#ffffff\\\", label=<<B>N0</B>>, margin=0, shape=ellipse, style=\\\"filled,bold\\\"];\\n1 [fillcolor=\\\"#81D4FA\\\", label=\\\"C1\\\", margin=0, shape=ellipse, style=\\\"filled\\\"];\\n2 [fillcolor=\\\"#ffffff\\\", label=\\\"S3\\\", margin=0, shape=hexagon, style=\\\"filled\\\"];\\n3 [fillcolor=\\\"#ffffff\\\", label=\\\"S1\\\", margin=0, shape=hexagon, style=\\\"filled\\\"];\\n4 [fillcolor=\\\"#ffffff\\\", label=\\\"S2\\\", margin=0, shape=hexagon, style=\\\"filled\\\"];\\n5 [fillcolor=\\\"#81D4FA\\\", label=\\\"C2\\\", margin=0, shape=hexagon, style=\\\"filled\\\"];\\n6 [fillcolor=\\\"#ffffff\\\", label=\\\"Grp\\\", margin=0, shape=hexagon, style=\\\"filled\\\"];\\n7 [fillcolor=\\\"#ffffff\\\", label=\\\"T1\\\", margin=0, shape=hexagon, style=\\\"filled\\\"];\\n8 [fillcolor=\\\"#ffffff\\\", label=\\\"T2\\\", margin=0, shape=hexagon, style=\\\"filled\\\"];\\n9 [fillcolor=\\\"#ffffff\\\", label=<<B>N1</B>>, margin=0, shape=ellipse, style=\\\"filled,bold\\\"];\\n0 -> 1  [key=0, type=\\\"EdgeType.DERIVES\\\"];\\n0 -> 2  [key=0, type=\\\"EdgeType.DERIVES\\\"];\\n1 -> 3  [key=0, type=\\\"EdgeType.DERIVES\\\"];\\n1 -> 4  [key=0, type=\\\"EdgeType.DERIVES\\\"];\\n2 -> 5  [key=0, label=\\\"0..*\\\", style=dashed, type=\\\"EdgeType.CONNECTS\\\"];\\n3 -> 6  [key=0, label=\\\"1,2\\\", type=\\\"EdgeType.DERIVES\\\"];\\n4 -> 3  [key=0, type=\\\"EdgeType.DERIVES\\\"];\\n4 -> 6  [key=0, label=\\\"1,2\\\", type=\\\"EdgeType.DERIVES\\\"];\\n5 -> 7  [key=0, label=\\\"1\\\", style=dashed, type=\\\"EdgeType.CONNECTS\\\"];\\n5 -> 8  [key=0, label=\\\"0,2\\\", style=dashed, type=\\\"EdgeType.CONNECTS\\\"];\\n6 -> 5  [key=0, label=\\\"2,3,4\\\", style=dashed, type=\\\"EdgeType.CONNECTS\\\"];\\n9 -> 7  [key=0, type=\\\"EdgeType.DERIVES\\\"];\\n9 -> 8  [key=0, type=\\\"EdgeType.DERIVES\\\"];\\n}\\n\"; // Export of the dot graph notation\n  // Create viz-js instance and render to SVG\n  function doRender() {\n    Viz.instance().then(function(viz) { document.getElementById(\"721cade577f1421392abdf8a3527992d\").appendChild(viz.renderSVGElement(dot)); });\n  }\n  // We need to wait for loading to complete\n  if (typeof Viz === \"undefined\") { setTimeout(doRender, 200); } else { doRender(); }\n})()\n</script>\n"
     },
     "metadata": {},
     "output_type": "display_data"
    }
   ],
   "source": [
    "# Create the ADSG and the start nodes\n",
    "adsg = BasicADSG()\n",
    "n = [NamedNode(f'N{i}') for i in range(2)]\n",
    "\n",
    "# Define the connector nodes\n",
    "src_nodes = [\n",
    "    ConnectorNode('S1', deg_list=[1, 2], repeated_allowed=True),\n",
    "    ConnectorNode('S2', deg_list=[1, 2], repeated_allowed=True),\n",
    "    ConnectorNode('S3', deg_min=0, repeated_allowed=True),\n",
    "]\n",
    "tgt_nodes = [\n",
    "    ConnectorNode('T1', deg_list=[1]),\n",
    "    ConnectorNode('T2', deg_list=[0, 2], repeated_allowed=True),\n",
    "]\n",
    "\n",
    "# Add the selection choice and derivation edges\n",
    "adsg.add_selection_choice('C1', n[0], src_nodes[:2])\n",
    "adsg.add_edges([\n",
    "    (n[0], src_nodes[2]),  # N0 to S3\n",
    "    (src_nodes[1], src_nodes[0]),  # S2 to S1\n",
    "    (n[1], tgt_nodes[0]), (n[1], tgt_nodes[1]),  # N1 to T1 and T2\n",
    "])\n",
    "\n",
    "# Add the connection choice\n",
    "adsg.add_connection_choice(\n",
    "    'C2', src_nodes=[\n",
    "        (ConnectorDegreeGroupingNode('Grp'), src_nodes[:2]),\n",
    "        src_nodes[2],\n",
    "    ], tgt_nodes=tgt_nodes)\n",
    "\n",
    "adsg = adsg.set_start_nodes({n[0], n[1]})\n",
    "adsg.render()"
   ],
   "metadata": {
    "collapsed": false,
    "ExecuteTime": {
     "end_time": "2024-01-26T07:51:02.546853900Z",
     "start_time": "2024-01-26T07:51:02.519854700Z"
    }
   }
  },
  {
   "cell_type": "code",
   "execution_count": 28,
   "outputs": [
    {
     "data": {
      "text/plain": "<IPython.core.display.Markdown object>",
      "text/markdown": "Rendering 1 of 8 instances"
     },
     "metadata": {},
     "output_type": "display_data"
    },
    {
     "data": {
      "text/plain": "<IPython.core.display.HTML object>",
      "text/html": "<div id=\"0e535d705b374867bb3a85a9381dd82b\"></div>\n<script type=\"text/javascript\" src=\"https://cdn.jsdelivr.net/npm/@viz-js/viz/lib/viz-standalone.js\"></script>\n<script type=\"text/javascript\">\n(function() {\n  var dot = \"digraph  {\\ndpi=60;\\nfontsize=\\\"20pt\\\";\\nrankdir=LR;\\n0 [fillcolor=\\\"#ffffff\\\", label=<<B>N0</B>>, margin=0, shape=ellipse, style=\\\"filled,bold\\\"];\\n1 [fillcolor=\\\"#ffffff\\\", label=\\\"S3\\\", margin=0, shape=hexagon, style=\\\"filled\\\"];\\n2 [fillcolor=\\\"#ffffff\\\", label=\\\"S1\\\", margin=0, shape=hexagon, style=\\\"filled\\\"];\\n3 [fillcolor=\\\"#ffffff\\\", label=\\\"T2\\\", margin=0, shape=hexagon, style=\\\"filled\\\"];\\n4 [fillcolor=\\\"#ffffff\\\", label=\\\"Grp\\\", margin=0, shape=hexagon, style=\\\"filled\\\"];\\n5 [fillcolor=\\\"#ffffff\\\", label=\\\"T1\\\", margin=0, shape=hexagon, style=\\\"filled\\\"];\\n6 [fillcolor=\\\"#ffffff\\\", label=<<B>N1</B>>, margin=0, shape=ellipse, style=\\\"filled,bold\\\"];\\n0 -> 1  [key=0, type=\\\"EdgeType.DERIVES\\\"];\\n0 -> 2  [key=0, type=\\\"EdgeType.DERIVES\\\"];\\n1 -> 3  [key=0, label=\\\"0..*\\\", style=dashed, type=\\\"EdgeType.CONNECTS\\\"];\\n1 -> 3  [key=1, label=\\\"0..*\\\", style=dashed, type=\\\"EdgeType.CONNECTS\\\"];\\n2 -> 4  [key=0, label=\\\"1,2\\\", type=\\\"EdgeType.DERIVES\\\"];\\n4 -> 5  [key=0, label=\\\"1,2\\\", style=dashed, type=\\\"EdgeType.CONNECTS\\\"];\\n6 -> 5  [key=0, type=\\\"EdgeType.DERIVES\\\"];\\n6 -> 3  [key=0, type=\\\"EdgeType.DERIVES\\\"];\\n}\\n\"; // Export of the dot graph notation\n  // Create viz-js instance and render to SVG\n  function doRender() {\n    Viz.instance().then(function(viz) { document.getElementById(\"0e535d705b374867bb3a85a9381dd82b\").appendChild(viz.renderSVGElement(dot)); });\n  }\n  // We need to wait for loading to complete\n  if (typeof Viz === \"undefined\") { setTimeout(doRender, 200); } else { doRender(); }\n})()\n</script>\n"
     },
     "metadata": {},
     "output_type": "display_data"
    }
   ],
   "source": [
    "# There should be 8 valid architectures (see table on the theory page)\n",
    "\n",
    "# We render one of them that has multiple edges from S3 to T2\n",
    "adsg.render_all([1])"
   ],
   "metadata": {
    "collapsed": false,
    "ExecuteTime": {
     "end_time": "2024-01-26T07:55:48.027490Z",
     "start_time": "2024-01-26T07:55:47.997488900Z"
    }
   }
  },
  {
   "cell_type": "markdown",
   "source": [
    "## Additional Design Variables and Metrics\n",
    "\n",
    "Next to selection and connection choices, it is also possible to define generic design variables, for example to model\n",
    "parameter selections.\n",
    "These are defined using *design variable nodes* that are subject to node selection just as generic nodes and can\n",
    "therefore exist conditionally.\n",
    "Two types of design variables can be defined:\n",
    "\n",
    "- Continuous design variables, defined by a lower and upper bound (inclusive),\n",
    "- Discrete design variables, defined by a list of option values (strings).\n",
    "\n",
    "The design problem definition is completed by additionally defining performance metrics using *metric nodes*.\n",
    "Metric nodes represent outputs of an evaluation function and can be used as objectives or constraints in the context of\n",
    "an optimization problem:\n",
    "\n",
    "- Objectives are minimization or maximization targets. Metric nodes can only be used as objectives if they are\n",
    "  permanent, as otherwise it is not possible to compare the performance of all architectures.\n",
    "- Constraints represent inequality design constraints: values that should be above (greater than or equal) or\n",
    "  below (lower than or equal) some threshold. Metrics used as constraints can be conditional: if the node is not\n",
    "  part of some architecture, it means that the constraint does not apply and the constraint is assumed satisfied\n",
    "  (the value is set equal to the threshold)."
   ],
   "metadata": {
    "collapsed": false,
    "ExecuteTime": {
     "end_time": "2024-01-26T07:09:12.860404600Z",
     "start_time": "2024-01-26T07:09:12.853414Z"
    }
   },
   "outputs": [],
   "execution_count": 5
  },
  {
   "cell_type": "code",
   "execution_count": 1,
   "outputs": [
    {
     "data": {
      "text/plain": "<IPython.core.display.HTML object>",
      "text/html": "<div id=\"e82da2a17e464e63acfe4d15581fb82d\"></div>\n<script type=\"text/javascript\" src=\"https://cdn.jsdelivr.net/npm/@viz-js/viz/lib/viz-standalone.js\"></script>\n<script type=\"text/javascript\">\n(function() {\n  var dot = \"digraph  {\\ndpi=60;\\nfontsize=\\\"20pt\\\";\\nrankdir=LR;\\n0 [fillcolor=\\\"#ffffff\\\", label=<<B>N0</B>>, margin=\\\"0.05\\\", shape=ellipse, style=\\\"filled,bold\\\"];\\n1 [fillcolor=\\\"#81D4FA\\\", label=\\\"C1\\\", margin=\\\"0.05\\\", shape=ellipse, style=\\\"filled\\\"];\\n2 [fillcolor=\\\"#ffffff\\\", label=\\\"N3\\\", margin=\\\"0.05\\\", shape=ellipse, style=\\\"filled\\\"];\\n3 [fillcolor=\\\"#ffffff\\\", label=\\\"N1\\\", margin=\\\"0.05\\\", shape=ellipse, style=\\\"filled\\\"];\\n4 [fillcolor=\\\"#ffffff\\\", label=\\\"N2\\\", margin=\\\"0.05\\\", shape=ellipse, style=\\\"filled\\\"];\\n5 [fillcolor=\\\"#DCE775\\\", label=\\\"DV1  [0 .. 1]\\\", margin=\\\"0.05\\\", shape=ellipse, style=\\\"filled\\\"];\\n6 [fillcolor=\\\"#DCE775\\\", label=\\\"Objective [min]\\\", margin=\\\"0.05\\\", shape=rect, style=\\\"filled\\\"];\\n7 [fillcolor=\\\"#DCE775\\\", label=\\\"DV2  [A,B,C]\\\", margin=\\\"0.05\\\", shape=ellipse, style=\\\"filled\\\"];\\n8 [fillcolor=\\\"#DCE775\\\", label=\\\"Metric\\\", margin=\\\"0.05\\\", shape=rect, style=\\\"filled\\\"];\\n9 [fillcolor=\\\"#DCE775\\\", label=\\\"Constraint [>= 2]\\\", margin=\\\"0.05\\\", shape=rect, style=\\\"filled\\\"];\\n0 -> 1  [key=0, type=\\\"EdgeType.DERIVES\\\"];\\n0 -> 2  [key=0, type=\\\"EdgeType.DERIVES\\\"];\\n1 -> 3  [key=0, type=\\\"EdgeType.DERIVES\\\"];\\n1 -> 4  [key=0, type=\\\"EdgeType.DERIVES\\\"];\\n2 -> 5  [key=0, type=\\\"EdgeType.DERIVES\\\"];\\n2 -> 6  [key=0, type=\\\"EdgeType.DERIVES\\\"];\\n3 -> 7  [key=0, type=\\\"EdgeType.DERIVES\\\"];\\n3 -> 8  [key=0, type=\\\"EdgeType.DERIVES\\\"];\\n4 -> 9  [key=0, type=\\\"EdgeType.DERIVES\\\"];\\n}\\n\"; // Export of the dot graph notation\n  // Create viz-js instance and render to SVG\n  function doRender() {\n    Viz.instance().then(function(viz) { document.getElementById(\"e82da2a17e464e63acfe4d15581fb82d\").appendChild(viz.renderSVGElement(dot)); });\n  }\n  // We need to wait for loading to complete\n  if (typeof Viz === \"undefined\") { setTimeout(doRender, 200); } else { doRender(); }\n})()\n</script>\n"
     },
     "metadata": {},
     "output_type": "display_data"
    },
    {
     "name": "stdout",
     "output_type": "stream",
     "text": [
      "Design variables:\n",
      "  DV: C1 [2 opts]\n",
      "  DV: DV1 [0.00..1.00]\n",
      "  DV: DV2 [3 opts]\n",
      "Objectives:\n",
      "  OBJ: Objective [min]\n",
      "Constraints:\n",
      "  CON: Constraint [>= 2.00]\n"
     ]
    }
   ],
   "source": [
    "from adsg_core import BasicADSG, NamedNode, DesignVariableNode, \\\n",
    "    MetricNode, MetricType, GraphProcessor\n",
    "\n",
    "# Create the ADSG and some nodes\n",
    "adsg = BasicADSG()\n",
    "n = [NamedNode(f'N{i}') for i in range(10)]\n",
    "\n",
    "# Define a selection choice\n",
    "adsg.add_selection_choice('C1', n[0], [n[1], n[2]])\n",
    "adsg.add_edge(n[0], n[3])\n",
    "\n",
    "# Define an additional design variable (continuous)\n",
    "adsg.add_edge(n[3], DesignVariableNode('DV1', bounds=(0, 1)))\n",
    "\n",
    "# Define a conditional additional design variable (discrete)\n",
    "adsg.add_edge(n[1], DesignVariableNode('DV2', options=['A', 'B', 'C']))\n",
    "\n",
    "# Define a generic metric node\n",
    "adsg.add_edge(n[1], MetricNode('Metric'))\n",
    "\n",
    "# Define an objective (should be permanent)\n",
    "adsg.add_edge(n[3], MetricNode('Objective', direction=-1,\n",
    "                               type_=MetricType.OBJECTIVE))\n",
    "\n",
    "# Define a constraint (can be conditional)\n",
    "adsg.add_edge(n[2], MetricNode('Constraint', direction=1, ref=2,\n",
    "                               type_=MetricType.CONSTRAINT))\n",
    "\n",
    "# Set start nodes and render\n",
    "adsg = adsg.set_start_nodes({n[0]})\n",
    "adsg.render()\n",
    "\n",
    "# Check their roles in an optimization problem\n",
    "processor = GraphProcessor(adsg)\n",
    "nl = '\\n'\n",
    "print(f'Design variables:{nl}{nl.join(\"  \"+str(dv) for dv in processor.des_vars)}')\n",
    "print(f'Objectives:{nl}{nl.join(\"  \"+str(obj) for obj in processor.objectives)}')\n",
    "print(f'Constraints:{nl}{nl.join(\"  \"+str(con) for con in processor.constraints)}')"
   ],
   "metadata": {
    "collapsed": false,
    "ExecuteTime": {
     "end_time": "2024-01-26T12:02:11.853196300Z",
     "start_time": "2024-01-26T12:02:10.617451600Z"
    }
   }
  },
  {
   "cell_type": "markdown",
   "source": [
    "## Defining Optimization Problems\n",
    "\n",
    "An architecture optimization problem can be modeled with the ADSG using:\n",
    "\n",
    "- Generic nodes, derivation edges, start nodes and selection choice nodes to define node existence hierarchies.\n",
    "- Incompatibility constraints to restrict simultaneous existence of nodes.\n",
    "- Connection (grouping) nodes with connector constraints, connection edges, exclusion edges and connection choice nodes\n",
    "  to define connection problems (source to target connections).\n",
    "- Generic design variable nodes to define additional continuous or discrete design variables.\n",
    "- Choice constraints to restrict possible values within a group of choices or design variables.\n",
    "- Metric nodes to define output metrics, optionally used as objectives or constraints.\n",
    "\n",
    "Encoding an ADSG into an optimization problem is done using encoding algorithms, for more information refer to the theory.\n",
    "We now demonstrate how to encode an ADSG as an optimization and use that to run an optimization.\n",
    "We use the Jenatton problem as a running example:\n",
    "Design variables:\n",
    "- `x1, x2, x3`: categorical design variables (0 or 1)\n",
    "- `x4` to `x9`: continuous design variables (0 to 1)\n",
    "\n",
    "Objective:\n",
    "```\n",
    "if x1 == 0:\n",
    "  if x2 == 0:\n",
    "    f = x4^2 + 0.1 + x8\n",
    "  else:\n",
    "    f = x5^2 + 0.1 + x8\n",
    "else:\n",
    "  if x3 == 0:\n",
    "    f = x6^2 + 0.1 + x9\n",
    "  else:\n",
    "    f = x7^2 + 0.1 + x9\n",
    "```"
   ],
   "metadata": {
    "collapsed": false
   }
  },
  {
   "cell_type": "code",
   "execution_count": 2,
   "outputs": [
    {
     "data": {
      "text/plain": "<IPython.core.display.HTML object>",
      "text/html": "<div id=\"b4327b7e93b44e8785f4a4a8ab20fd3a\"></div>\n<script type=\"text/javascript\" src=\"https://cdn.jsdelivr.net/npm/@viz-js/viz/lib/viz-standalone.js\"></script>\n<script type=\"text/javascript\">\n(function() {\n  var dot = \"digraph  {\\ndpi=60;\\nfontsize=\\\"20pt\\\";\\nrankdir=LR;\\n0 [fillcolor=\\\"#ffffff\\\", label=<<B>Start</B>>, margin=\\\"0.05\\\", shape=ellipse, style=\\\"filled,bold\\\"];\\n1 [fillcolor=\\\"#81D4FA\\\", label=\\\"x1\\\", margin=\\\"0.05\\\", shape=ellipse, style=\\\"filled\\\"];\\n2 [fillcolor=\\\"#DCE775\\\", label=\\\"f [min]\\\", margin=\\\"0.05\\\", shape=rect, style=\\\"filled\\\"];\\n3 [fillcolor=\\\"#ffffff\\\", label=\\\"x1=0\\\", margin=\\\"0.05\\\", shape=ellipse, style=\\\"filled\\\"];\\n4 [fillcolor=\\\"#ffffff\\\", label=\\\"x1=1\\\", margin=\\\"0.05\\\", shape=ellipse, style=\\\"filled\\\"];\\n5 [fillcolor=\\\"#81D4FA\\\", label=\\\"x1\\\", margin=\\\"0.05\\\", shape=ellipse, style=\\\"filled\\\"];\\n6 [fillcolor=\\\"#DCE775\\\", label=\\\"x8  [0 .. 1]\\\", margin=\\\"0.05\\\", shape=ellipse, style=\\\"filled\\\"];\\n7 [fillcolor=\\\"#81D4FA\\\", label=\\\"x1\\\", margin=\\\"0.05\\\", shape=ellipse, style=\\\"filled\\\"];\\n8 [fillcolor=\\\"#DCE775\\\", label=\\\"x9  [0 .. 1]\\\", margin=\\\"0.05\\\", shape=ellipse, style=\\\"filled\\\"];\\n9 [fillcolor=\\\"#ffffff\\\", label=\\\"x2=0\\\", margin=\\\"0.05\\\", shape=ellipse, style=\\\"filled\\\"];\\n10 [fillcolor=\\\"#ffffff\\\", label=\\\"x2=1\\\", margin=\\\"0.05\\\", shape=ellipse, style=\\\"filled\\\"];\\n11 [fillcolor=\\\"#ffffff\\\", label=\\\"x3=0\\\", margin=\\\"0.05\\\", shape=ellipse, style=\\\"filled\\\"];\\n12 [fillcolor=\\\"#ffffff\\\", label=\\\"x3=1\\\", margin=\\\"0.05\\\", shape=ellipse, style=\\\"filled\\\"];\\n13 [fillcolor=\\\"#DCE775\\\", label=\\\"x4  [0 .. 1]\\\", margin=\\\"0.05\\\", shape=ellipse, style=\\\"filled\\\"];\\n14 [fillcolor=\\\"#DCE775\\\", label=\\\"x5  [0 .. 1]\\\", margin=\\\"0.05\\\", shape=ellipse, style=\\\"filled\\\"];\\n15 [fillcolor=\\\"#DCE775\\\", label=\\\"x6  [0 .. 1]\\\", margin=\\\"0.05\\\", shape=ellipse, style=\\\"filled\\\"];\\n16 [fillcolor=\\\"#DCE775\\\", label=\\\"x7  [0 .. 1]\\\", margin=\\\"0.05\\\", shape=ellipse, style=\\\"filled\\\"];\\n0 -> 1  [key=0, type=\\\"EdgeType.DERIVES\\\"];\\n0 -> 2  [key=0, type=\\\"EdgeType.DERIVES\\\"];\\n1 -> 3  [key=0, type=\\\"EdgeType.DERIVES\\\"];\\n1 -> 4  [key=0, type=\\\"EdgeType.DERIVES\\\"];\\n3 -> 5  [key=0, type=\\\"EdgeType.DERIVES\\\"];\\n3 -> 6  [key=0, type=\\\"EdgeType.DERIVES\\\"];\\n4 -> 7  [key=0, type=\\\"EdgeType.DERIVES\\\"];\\n4 -> 8  [key=0, type=\\\"EdgeType.DERIVES\\\"];\\n5 -> 9  [key=0, type=\\\"EdgeType.DERIVES\\\"];\\n5 -> 10  [key=0, type=\\\"EdgeType.DERIVES\\\"];\\n7 -> 11  [key=0, type=\\\"EdgeType.DERIVES\\\"];\\n7 -> 12  [key=0, type=\\\"EdgeType.DERIVES\\\"];\\n9 -> 13  [key=0, type=\\\"EdgeType.DERIVES\\\"];\\n10 -> 14  [key=0, type=\\\"EdgeType.DERIVES\\\"];\\n11 -> 15  [key=0, type=\\\"EdgeType.DERIVES\\\"];\\n12 -> 16  [key=0, type=\\\"EdgeType.DERIVES\\\"];\\n}\\n\"; // Export of the dot graph notation\n  // Create viz-js instance and render to SVG\n  function doRender() {\n    Viz.instance().then(function(viz) { document.getElementById(\"b4327b7e93b44e8785f4a4a8ab20fd3a\").appendChild(viz.renderSVGElement(dot)); });\n  }\n  // We need to wait for loading to complete\n  if (typeof Viz === \"undefined\") { setTimeout(doRender, 200); } else { doRender(); }\n})()\n</script>\n"
     },
     "metadata": {},
     "output_type": "display_data"
    }
   ],
   "source": [
    "from adsg_core import BasicADSG, NamedNode, DesignVariableNode, \\\n",
    "    MetricNode, MetricType\n",
    "\n",
    "# Create ADSG\n",
    "adsg = BasicADSG()\n",
    "start = NamedNode('Start')\n",
    "\n",
    "# Add x1 choice\n",
    "x1_0, x1_1 = NamedNode('x1=0'), NamedNode('x1=1')\n",
    "adsg.add_selection_choice('x1', start, [x1_0, x1_1])\n",
    "\n",
    "# Add x2 choice (if x1 = 0)\n",
    "x2_0, x2_1 = NamedNode('x2=0'), NamedNode('x2=1')\n",
    "adsg.add_selection_choice('x1', x1_0, [x2_0, x2_1])\n",
    "\n",
    "# Add x3 choice (if x1 = 1)\n",
    "x3_0, x3_1 = NamedNode('x3=0'), NamedNode('x3=1')\n",
    "adsg.add_selection_choice('x1', x1_1, [x3_0, x3_1])\n",
    "\n",
    "# Add design variable nodes and objective\n",
    "adsg.add_edges([\n",
    "    (x2_0, DesignVariableNode('x4', bounds=(0, 1))),\n",
    "    (x2_1, DesignVariableNode('x5', bounds=(0, 1))),\n",
    "    (x3_0, DesignVariableNode('x6', bounds=(0, 1))),\n",
    "    (x3_1, DesignVariableNode('x7', bounds=(0, 1))),\n",
    "    (x1_0, DesignVariableNode('x8', bounds=(0, 1))),\n",
    "    (x1_1, DesignVariableNode('x9', bounds=(0, 1))),\n",
    "    (start, MetricNode('f', direction=-1, type_=MetricType.OBJECTIVE)),\n",
    "])\n",
    "\n",
    "# Set start node and render\n",
    "adsg = adsg.set_start_nodes({start})\n",
    "adsg.render()"
   ],
   "metadata": {
    "collapsed": false,
    "ExecuteTime": {
     "end_time": "2024-01-26T14:04:58.736933500Z",
     "start_time": "2024-01-26T14:04:58.682159Z"
    }
   }
  },
  {
   "cell_type": "markdown",
   "source": [
    "### Encoding the Design Space\n",
    "\n",
    "The ADSG is encoded into an optimization problem using the `GraphProcessor` class."
   ],
   "metadata": {
    "collapsed": false,
    "ExecuteTime": {
     "end_time": "2024-01-26T11:56:05.922119900Z",
     "start_time": "2024-01-26T11:56:05.873112700Z"
    }
   },
   "outputs": [
    {
     "data": {
      "text/plain": "<IPython.core.display.HTML object>",
      "text/html": "<div id=\"2ec686b571eb4077865689d9355d4fa6\"></div>\n<script type=\"text/javascript\" src=\"https://cdn.jsdelivr.net/npm/@viz-js/viz/lib/viz-standalone.js\"></script>\n<script type=\"text/javascript\">\n(function() {\n  var dot = \"digraph  {\\ndpi=60;\\nfontsize=\\\"20pt\\\";\\nrankdir=LR;\\n0 [fillcolor=\\\"#ffffff\\\", label=<<B>start</B>>, margin=\\\"0.05\\\", shape=ellipse, style=\\\"filled,bold\\\"];\\n1 [fillcolor=\\\"#81D4FA\\\", label=\\\"x1\\\", margin=\\\"0.05\\\", shape=ellipse, style=\\\"filled\\\"];\\n2 [fillcolor=\\\"#DCE775\\\", label=\\\"f [min]\\\", margin=\\\"0.05\\\", shape=rect, style=\\\"filled\\\"];\\n3 [fillcolor=\\\"#ffffff\\\", label=\\\"x1=0\\\", margin=\\\"0.05\\\", shape=ellipse, style=\\\"filled\\\"];\\n4 [fillcolor=\\\"#ffffff\\\", label=\\\"x1=1\\\", margin=\\\"0.05\\\", shape=ellipse, style=\\\"filled\\\"];\\n5 [fillcolor=\\\"#81D4FA\\\", label=\\\"x2\\\", margin=\\\"0.05\\\", shape=ellipse, style=\\\"filled\\\"];\\n6 [fillcolor=\\\"#DCE775\\\", label=\\\"x8  [0 .. 1]\\\", margin=\\\"0.05\\\", shape=ellipse, style=\\\"filled\\\"];\\n7 [fillcolor=\\\"#81D4FA\\\", label=\\\"x3\\\", margin=\\\"0.05\\\", shape=ellipse, style=\\\"filled\\\"];\\n8 [fillcolor=\\\"#DCE775\\\", label=\\\"x9  [0 .. 1]\\\", margin=\\\"0.05\\\", shape=ellipse, style=\\\"filled\\\"];\\n9 [fillcolor=\\\"#ffffff\\\", label=\\\"x2=0\\\", margin=\\\"0.05\\\", shape=ellipse, style=\\\"filled\\\"];\\n10 [fillcolor=\\\"#ffffff\\\", label=\\\"x2=1\\\", margin=\\\"0.05\\\", shape=ellipse, style=\\\"filled\\\"];\\n11 [fillcolor=\\\"#ffffff\\\", label=\\\"x3=0\\\", margin=\\\"0.05\\\", shape=ellipse, style=\\\"filled\\\"];\\n12 [fillcolor=\\\"#ffffff\\\", label=\\\"x3=1\\\", margin=\\\"0.05\\\", shape=ellipse, style=\\\"filled\\\"];\\n13 [fillcolor=\\\"#DCE775\\\", label=\\\"x4  [0 .. 1]\\\", margin=\\\"0.05\\\", shape=ellipse, style=\\\"filled\\\"];\\n14 [fillcolor=\\\"#DCE775\\\", label=\\\"x5  [0 .. 1]\\\", margin=\\\"0.05\\\", shape=ellipse, style=\\\"filled\\\"];\\n15 [fillcolor=\\\"#DCE775\\\", label=\\\"x6  [0 .. 1]\\\", margin=\\\"0.05\\\", shape=ellipse, style=\\\"filled\\\"];\\n16 [fillcolor=\\\"#DCE775\\\", label=\\\"x7  [0 .. 1]\\\", margin=\\\"0.05\\\", shape=ellipse, style=\\\"filled\\\"];\\n0 -> 1  [key=0, type=\\\"EdgeType.DERIVES\\\"];\\n0 -> 2  [key=0, type=\\\"EdgeType.DERIVES\\\"];\\n1 -> 3  [key=0, type=\\\"EdgeType.DERIVES\\\"];\\n1 -> 4  [key=0, type=\\\"EdgeType.DERIVES\\\"];\\n3 -> 5  [key=0, type=\\\"EdgeType.DERIVES\\\"];\\n3 -> 6  [key=0, type=\\\"EdgeType.DERIVES\\\"];\\n4 -> 7  [key=0, type=\\\"EdgeType.DERIVES\\\"];\\n4 -> 8  [key=0, type=\\\"EdgeType.DERIVES\\\"];\\n5 -> 9  [key=0, type=\\\"EdgeType.DERIVES\\\"];\\n5 -> 10  [key=0, type=\\\"EdgeType.DERIVES\\\"];\\n7 -> 11  [key=0, type=\\\"EdgeType.DERIVES\\\"];\\n7 -> 12  [key=0, type=\\\"EdgeType.DERIVES\\\"];\\n9 -> 13  [key=0, type=\\\"EdgeType.DERIVES\\\"];\\n10 -> 14  [key=0, type=\\\"EdgeType.DERIVES\\\"];\\n11 -> 15  [key=0, type=\\\"EdgeType.DERIVES\\\"];\\n12 -> 16  [key=0, type=\\\"EdgeType.DERIVES\\\"];\\n}\\n\"; // Export of the dot graph notation\n  // Create viz-js instance and render to SVG\n  function doRender() {\n    Viz.instance().then(function(viz) { document.getElementById(\"2ec686b571eb4077865689d9355d4fa6\").appendChild(viz.renderSVGElement(dot)); });\n  }\n  // We need to wait for loading to complete\n  if (typeof Viz === \"undefined\") { setTimeout(doRender, 200); } else { doRender(); }\n})()\n</script>\n"
     },
     "metadata": {},
     "output_type": "display_data"
    }
   ],
   "execution_count": 2
  },
  {
   "cell_type": "code",
   "execution_count": 5,
   "outputs": [
    {
     "name": "stdout",
     "output_type": "stream",
     "text": [
      "Design variables: [DV: x1 [2 opts], DV: x1_2 [2 opts], DV: x1_3 [2 opts], DV: x4 [0.00..1.00], DV: x5 [0.00..1.00], DV: x6 [0.00..1.00], DV: x7 [0.00..1.00], DV: x8 [0.00..1.00], DV: x9 [0.00..1.00]]\n",
      "Objectives: [OBJ: f [min]]\n",
      "Constraints: []\n"
     ]
    },
    {
     "data": {
      "text/plain": "                      n_valid  n_declared  n_discrete  n_dim_cont  \\\ntype                                                                \noption-decisions            4           8           3           0   \nadditional-dvs              4           0           0           6   \ntotal-design-space          4           8           3           6   \ntotal-design-problem        4           8           3           6   \n\n                      n_dim_cont_mean  n_exist  imp_ratio  imp_ratio_comb  \\\ntype                                                                        \noption-decisions                  0.0        1        2.0             2.0   \nadditional-dvs                    2.0        4        3.0             1.0   \ntotal-design-space                2.0        1        6.0             2.0   \ntotal-design-problem              2.0        1        6.0             2.0   \n\n                      imp_ratio_cont  inf_idx  dist_corr   encoder  \ntype                                                                \noption-decisions                 1.0      1.0        0.0  complete  \nadditional-dvs                   3.0      1.0        0.0            \ntotal-design-space               3.0      1.0        0.0  complete  \ntotal-design-problem             3.0      1.0        0.0  complete  ",
      "text/html": "<div>\n<style scoped>\n    .dataframe tbody tr th:only-of-type {\n        vertical-align: middle;\n    }\n\n    .dataframe tbody tr th {\n        vertical-align: top;\n    }\n\n    .dataframe thead th {\n        text-align: right;\n    }\n</style>\n<table border=\"1\" class=\"dataframe\">\n  <thead>\n    <tr style=\"text-align: right;\">\n      <th></th>\n      <th>n_valid</th>\n      <th>n_declared</th>\n      <th>n_discrete</th>\n      <th>n_dim_cont</th>\n      <th>n_dim_cont_mean</th>\n      <th>n_exist</th>\n      <th>imp_ratio</th>\n      <th>imp_ratio_comb</th>\n      <th>imp_ratio_cont</th>\n      <th>inf_idx</th>\n      <th>dist_corr</th>\n      <th>encoder</th>\n    </tr>\n    <tr>\n      <th>type</th>\n      <th></th>\n      <th></th>\n      <th></th>\n      <th></th>\n      <th></th>\n      <th></th>\n      <th></th>\n      <th></th>\n      <th></th>\n      <th></th>\n      <th></th>\n      <th></th>\n    </tr>\n  </thead>\n  <tbody>\n    <tr>\n      <th>option-decisions</th>\n      <td>4</td>\n      <td>8</td>\n      <td>3</td>\n      <td>0</td>\n      <td>0.0</td>\n      <td>1</td>\n      <td>2.0</td>\n      <td>2.0</td>\n      <td>1.0</td>\n      <td>1.0</td>\n      <td>0.0</td>\n      <td>complete</td>\n    </tr>\n    <tr>\n      <th>additional-dvs</th>\n      <td>4</td>\n      <td>0</td>\n      <td>0</td>\n      <td>6</td>\n      <td>2.0</td>\n      <td>4</td>\n      <td>3.0</td>\n      <td>1.0</td>\n      <td>3.0</td>\n      <td>1.0</td>\n      <td>0.0</td>\n      <td></td>\n    </tr>\n    <tr>\n      <th>total-design-space</th>\n      <td>4</td>\n      <td>8</td>\n      <td>3</td>\n      <td>6</td>\n      <td>2.0</td>\n      <td>1</td>\n      <td>6.0</td>\n      <td>2.0</td>\n      <td>3.0</td>\n      <td>1.0</td>\n      <td>0.0</td>\n      <td>complete</td>\n    </tr>\n    <tr>\n      <th>total-design-problem</th>\n      <td>4</td>\n      <td>8</td>\n      <td>3</td>\n      <td>6</td>\n      <td>2.0</td>\n      <td>1</td>\n      <td>6.0</td>\n      <td>2.0</td>\n      <td>3.0</td>\n      <td>1.0</td>\n      <td>0.0</td>\n      <td>complete</td>\n    </tr>\n  </tbody>\n</table>\n</div>"
     },
     "execution_count": 5,
     "metadata": {},
     "output_type": "execute_result"
    }
   ],
   "source": [
    "from adsg_core import GraphProcessor\n",
    "\n",
    "gp = GraphProcessor(adsg)\n",
    "\n",
    "print('Design variables:', gp.des_vars)\n",
    "print('Objectives:', gp.objectives)\n",
    "print('Constraints:', gp.constraints)\n",
    "\n",
    "# Display some details about the encoders used for\n",
    "# formulating the optimization problem\n",
    "gp.get_statistics()"
   ],
   "metadata": {
    "collapsed": false,
    "ExecuteTime": {
     "end_time": "2024-01-26T14:05:58.740382700Z",
     "start_time": "2024-01-26T14:05:58.719382200Z"
    }
   }
  },
  {
   "cell_type": "markdown",
   "source": [
    "We can then use the `GraphProcessor` to:\n",
    "\n",
    "- Generate ADSG instances from a design vector.\n",
    "- Generate all valid discrete design vectors.\n",
    "- Get some statistics about the design problem."
   ],
   "metadata": {
    "collapsed": false
   }
  },
  {
   "cell_type": "code",
   "execution_count": 13,
   "outputs": [
    {
     "name": "stdout",
     "output_type": "stream",
     "text": [
      "x input: [1, 1, 0, 0.883532655646522, 0.19881006149406633, 0.2890746875038187, 0.029448982232150978, 0.004003356439967076, 0.576703828802004]\n",
      "x corrected: [1, 0, 0, 0.5, 0.5, 0.2890746875038187, 0.5, 0.5, 0.576703828802004]\n",
      "activeness: [True, False, True, False, False, True, False, False, True]\n"
     ]
    },
    {
     "data": {
      "text/plain": "<IPython.core.display.HTML object>",
      "text/html": "<div id=\"27168e2cc0444c8a815ffa1a8e142e5a\"></div>\n<script type=\"text/javascript\" src=\"https://cdn.jsdelivr.net/npm/@viz-js/viz/lib/viz-standalone.js\"></script>\n<script type=\"text/javascript\">\n(function() {\n  var dot = \"digraph  {\\ndpi=60;\\nfontsize=\\\"20pt\\\";\\nrankdir=LR;\\n0 [fillcolor=\\\"#ffffff\\\", label=<<B>Start</B>>, margin=\\\"0.05\\\", shape=ellipse, style=\\\"filled,bold\\\"];\\n1 [fillcolor=\\\"#DCE775\\\", label=\\\"f [min]\\\", margin=\\\"0.05\\\", shape=rect, style=\\\"filled\\\"];\\n2 [fillcolor=\\\"#ffffff\\\", label=\\\"x1=1\\\", margin=\\\"0.05\\\", shape=ellipse, style=\\\"filled\\\"];\\n3 [fillcolor=\\\"#DCE775\\\", label=\\\"x9  [0 .. 1]\\\", margin=\\\"0.05\\\", shape=ellipse, style=\\\"filled\\\"];\\n4 [fillcolor=\\\"#ffffff\\\", label=\\\"x3=0\\\", margin=\\\"0.05\\\", shape=ellipse, style=\\\"filled\\\"];\\n5 [fillcolor=\\\"#DCE775\\\", label=\\\"x6  [0 .. 1]\\\", margin=\\\"0.05\\\", shape=ellipse, style=\\\"filled\\\"];\\n0 -> 1  [key=0, type=\\\"EdgeType.DERIVES\\\"];\\n0 -> 2  [key=0, type=\\\"EdgeType.DERIVES\\\"];\\n2 -> 3  [key=0, type=\\\"EdgeType.DERIVES\\\"];\\n2 -> 4  [key=0, type=\\\"EdgeType.DERIVES\\\"];\\n4 -> 5  [key=0, type=\\\"EdgeType.DERIVES\\\"];\\n}\\n\"; // Export of the dot graph notation\n  // Create viz-js instance and render to SVG\n  function doRender() {\n    Viz.instance().then(function(viz) { document.getElementById(\"27168e2cc0444c8a815ffa1a8e142e5a\").appendChild(viz.renderSVGElement(dot)); });\n  }\n  // We need to wait for loading to complete\n  if (typeof Viz === \"undefined\") { setTimeout(doRender, 200); } else { doRender(); }\n})()\n</script>\n"
     },
     "metadata": {},
     "output_type": "display_data"
    },
    {
     "name": "stdout",
     "output_type": "stream",
     "text": [
      "x values: {DV[x6]: 0.2890746875038187, DV[x9]: 0.576703828802004}\n"
     ]
    }
   ],
   "source": [
    "# Generate random design vector and turn it into an ADSG instance\n",
    "random_x = gp.get_random_design_vector()\n",
    "adsg_instance, x_corrected, is_active = gp.get_graph(random_x)\n",
    "\n",
    "# The design vector might be corrected\n",
    "print(f'x input: {random_x!r}')\n",
    "print(f'x corrected: {x_corrected!r}')\n",
    "print(f'activeness: {is_active}')\n",
    "\n",
    "adsg_instance.render()\n",
    "print('x values:', adsg_instance.des_var_values)"
   ],
   "metadata": {
    "collapsed": false,
    "ExecuteTime": {
     "end_time": "2024-01-26T14:18:47.094216100Z",
     "start_time": "2024-01-26T14:18:47.075214300Z"
    }
   }
  },
  {
   "cell_type": "markdown",
   "source": [
    "Observe that the inactive design variables (given by the activeness vector) are \"imputed\" to a canonical value.\n",
    "For continuous variable that is mid-bounds, which in this case is 0.5."
   ],
   "metadata": {
    "collapsed": false
   }
  },
  {
   "cell_type": "code",
   "execution_count": 7,
   "outputs": [
    {
     "data": {
      "text/plain": "array([[0. , 0. , 0. , 0. , 0.5, 0.5, 0.5, 0. , 0.5],\n       [0. , 1. , 0. , 0.5, 0. , 0.5, 0.5, 0. , 0.5],\n       [1. , 0. , 0. , 0.5, 0.5, 0. , 0.5, 0.5, 0. ],\n       [1. , 0. , 1. , 0.5, 0.5, 0.5, 0. , 0.5, 0. ]])"
     },
     "execution_count": 7,
     "metadata": {},
     "output_type": "execute_result"
    }
   ],
   "source": [
    "# Generate all valid discrete design vectors\n",
    "x_all, is_active_all = gp.get_all_discrete_x()\n",
    "x_all  # Print all design vectors"
   ],
   "metadata": {
    "collapsed": false,
    "ExecuteTime": {
     "end_time": "2024-01-26T14:06:04.121281200Z",
     "start_time": "2024-01-26T14:06:04.107355800Z"
    }
   }
  },
  {
   "cell_type": "code",
   "execution_count": 8,
   "outputs": [
    {
     "data": {
      "text/plain": "array([[ True,  True, False,  True, False, False, False,  True, False],\n       [ True,  True, False, False,  True, False, False,  True, False],\n       [ True, False,  True, False, False,  True, False, False,  True],\n       [ True, False,  True, False, False, False,  True, False,  True]])"
     },
     "execution_count": 8,
     "metadata": {},
     "output_type": "execute_result"
    }
   ],
   "source": [
    "is_active_all  # Print associated activeness information"
   ],
   "metadata": {
    "collapsed": false,
    "ExecuteTime": {
     "end_time": "2024-01-26T14:06:04.661049300Z",
     "start_time": "2024-01-26T14:06:04.621810800Z"
    }
   }
  },
  {
   "cell_type": "markdown",
   "source": [
    "The `GraphProcessor` can also be used to fix certain design variables.\n",
    "This can be useful for ad-hoc narrowing of the design space."
   ],
   "metadata": {
    "collapsed": false
   }
  },
  {
   "cell_type": "code",
   "execution_count": 9,
   "outputs": [
    {
     "name": "stdout",
     "output_type": "stream",
     "text": [
      "Valid x: 2 (x0 is fixed)\n",
      "Valid x: 4\n"
     ]
    }
   ],
   "source": [
    "dv = gp.des_vars\n",
    "\n",
    "# Fix the first design variable\n",
    "gp.fix_des_var(dv[0], 0)\n",
    "\n",
    "# Observe that there are now only two valid discrete design vectors left\n",
    "print(f'Valid x:', gp.get_all_discrete_x()[0].shape[0], '(x0 is fixed)')\n",
    "\n",
    "# Free the design variable again\n",
    "gp.free_des_var(dv[0])\n",
    "print(f'Valid x:', gp.get_all_discrete_x()[0].shape[0])"
   ],
   "metadata": {
    "collapsed": false,
    "ExecuteTime": {
     "end_time": "2024-01-26T14:06:06.129649100Z",
     "start_time": "2024-01-26T14:06:06.118636Z"
    }
   }
  },
  {
   "cell_type": "markdown",
   "source": [
    "### Defining the Evaluation Function\n",
    "\n",
    "The last part needed because we can run the optimization problem is the performance evaluation function:\n",
    "the function that for a given ADSG instance, returns its performance in terms of the defined output metrics.\n",
    "This allows the optimization algorithm to iteratively search the design space and find the optimum.\n",
    "\n",
    "An evaluation function should fulfill the following requirements:\n",
    "\n",
    "- Performance metrics should be *sensitive* to all relevant choices.\n",
    "- Performance metrics should be *available* for all relevant architectures, and with similar accuracy/fidelity. Objectives should always be available; constraints can be optional.\n",
    "- The evaluation function should be executable *without user interaction*.\n",
    "\n",
    "The evaluation function is implemented by defining a new evaluator class that inherits from `ADSGEvaluator`.\n",
    "There, the `_evaluate` function should be implemented.\n",
    "This function takes as input:\n",
    "\n",
    "- The ADSG instance being evaluated.\n",
    "- A list of performance metrics for which output is requested.\n",
    "\n",
    "The function should return a dictionary mapping performance metrics to float values.\n",
    "It is also possible to use *NaN* as a value, signifying that the associated metric could not be calculated."
   ],
   "metadata": {
    "collapsed": false
   }
  },
  {
   "cell_type": "code",
   "execution_count": 11,
   "outputs": [],
   "source": [
    "from typing import List, Dict\n",
    "from adsg_core import ADSGEvaluator, ADSGType\n",
    "\n",
    "# Extend the ADSGEvaluator class and implement _evaluate\n",
    "class JenattonEvaluator(ADSGEvaluator):\n",
    "\n",
    "    def __init__(self):\n",
    "        # Use the previously defined ADSG...\n",
    "        # When implementing your own evaluator, it probably makes\n",
    "        # more sense to define the ADSG in some class method\n",
    "        super().__init__(adsg)\n",
    "\n",
    "    def _evaluate(self, adsg_inst: ADSGType, metric_nodes: List[MetricNode])\\\n",
    "            -> Dict[MetricNode, float]:\n",
    "        # In general the equation is a^2 + 0.1 + b\n",
    "        # a is x4 to x7; b is x8 or x9\n",
    "\n",
    "        # Loop over design variable nodes to find the values\n",
    "        a = b = None\n",
    "        for dv_node in adsg_inst.des_var_nodes:\n",
    "            if dv_node.name in {'x8', 'x9'}:\n",
    "                b = adsg_inst.des_var_value(dv_node)\n",
    "            else:\n",
    "                a = adsg_inst.des_var_value(dv_node)\n",
    "        assert a is not None and b is not None\n",
    "\n",
    "        # Calculate the objective\n",
    "        f = a**2 + .1 + b\n",
    "\n",
    "        # Return the metric\n",
    "        assert len(metric_nodes) == 1\n",
    "        return {metric_nodes[0]: f}"
   ],
   "metadata": {
    "collapsed": false,
    "ExecuteTime": {
     "end_time": "2024-01-26T14:17:32.535251400Z",
     "start_time": "2024-01-26T14:17:32.527251400Z"
    }
   }
  },
  {
   "cell_type": "markdown",
   "source": [
    "Now we can use the evaluator to evaluate the performance of an ADSG instance."
   ],
   "metadata": {
    "collapsed": false
   }
  },
  {
   "cell_type": "code",
   "execution_count": 18,
   "outputs": [
    {
     "data": {
      "text/plain": "<IPython.core.display.HTML object>",
      "text/html": "<div id=\"3321fe18e459479295a3431dbecbce7d\"></div>\n<script type=\"text/javascript\" src=\"https://cdn.jsdelivr.net/npm/@viz-js/viz/lib/viz-standalone.js\"></script>\n<script type=\"text/javascript\">\n(function() {\n  var dot = \"digraph  {\\ndpi=60;\\nfontsize=\\\"20pt\\\";\\nrankdir=LR;\\n0 [fillcolor=\\\"#ffffff\\\", label=<<B>Start</B>>, margin=\\\"0.05\\\", shape=ellipse, style=\\\"filled,bold\\\"];\\n1 [fillcolor=\\\"#DCE775\\\", label=\\\"f [min]\\\", margin=\\\"0.05\\\", shape=rect, style=\\\"filled\\\"];\\n2 [fillcolor=\\\"#ffffff\\\", label=\\\"x1=1\\\", margin=\\\"0.05\\\", shape=ellipse, style=\\\"filled\\\"];\\n3 [fillcolor=\\\"#DCE775\\\", label=\\\"x9  [0 .. 1]\\\", margin=\\\"0.05\\\", shape=ellipse, style=\\\"filled\\\"];\\n4 [fillcolor=\\\"#ffffff\\\", label=\\\"x3=0\\\", margin=\\\"0.05\\\", shape=ellipse, style=\\\"filled\\\"];\\n5 [fillcolor=\\\"#DCE775\\\", label=\\\"x6  [0 .. 1]\\\", margin=\\\"0.05\\\", shape=ellipse, style=\\\"filled\\\"];\\n0 -> 1  [key=0, type=\\\"EdgeType.DERIVES\\\"];\\n0 -> 2  [key=0, type=\\\"EdgeType.DERIVES\\\"];\\n2 -> 3  [key=0, type=\\\"EdgeType.DERIVES\\\"];\\n2 -> 4  [key=0, type=\\\"EdgeType.DERIVES\\\"];\\n4 -> 5  [key=0, type=\\\"EdgeType.DERIVES\\\"];\\n}\\n\"; // Export of the dot graph notation\n  // Create viz-js instance and render to SVG\n  function doRender() {\n    Viz.instance().then(function(viz) { document.getElementById(\"3321fe18e459479295a3431dbecbce7d\").appendChild(viz.renderSVGElement(dot)); });\n  }\n  // We need to wait for loading to complete\n  if (typeof Viz === \"undefined\") { setTimeout(doRender, 200); } else { doRender(); }\n})()\n</script>\n"
     },
     "metadata": {},
     "output_type": "display_data"
    },
    {
     "name": "stdout",
     "output_type": "stream",
     "text": [
      "x values: {DV[x6]: 0.29, DV[x9]: 0.58}\n",
      "Objective: 0.7641 (expected: 0.7641)\n"
     ]
    }
   ],
   "source": [
    "# Instantiate the evaluator\n",
    "evaluator = JenattonEvaluator()\n",
    "\n",
    "# Get an ADSG instance (same API as the GraphProcessor)\n",
    "x = [1, 0, 0, 0.5, 0.5, 0.29, 0.5, 0.5, 0.58]\n",
    "adsg_instance, _, _ = evaluator.get_graph(x)\n",
    "adsg_instance.render()\n",
    "print('x values:', adsg_instance.des_var_values)\n",
    "\n",
    "expected_obj = .29**2 + .1 + .58\n",
    "\n",
    "# Evaluate the instance\n",
    "obj, con = evaluator.evaluate(adsg_instance)\n",
    "print(f'Objective: {obj[0]} (expected: {expected_obj})')"
   ],
   "metadata": {
    "collapsed": false,
    "ExecuteTime": {
     "end_time": "2024-01-26T14:21:39.347263800Z",
     "start_time": "2024-01-26T14:21:39.324458700Z"
    }
   }
  },
  {
   "cell_type": "markdown",
   "source": [
    "### Running the Optimization Problem\n",
    "\n",
    "Now that we have modeled the design space, defined the optimization, and implemented the evaluation function, we can run the optimization problem:\n",
    "\n",
    "![optimization loop](https://raw.githubusercontent.com/jbussemaker/adsg-core/main/docs/figures/opt_loop.svg)\n",
    "\n",
    "We run the optimization problem by coupling to [SBArchOpt](https://sbarchopt.readthedocs.io/).\n",
    "SBArchOpt is an open-source library for running architecture optimization problem.\n",
    "ADSG Core provides a problem definition in the API of SBArchOpt, so that all algorithms defined in SBArchOpt can be used.\n",
    "\n",
    "Ensure SBArchOpt is installed, or run: `pip install adsg-core[opt]`"
   ],
   "metadata": {
    "collapsed": false,
    "ExecuteTime": {
     "end_time": "2024-01-26T11:56:07.758893900Z",
     "start_time": "2024-01-26T11:56:07.725723200Z"
    }
   },
   "outputs": [
    {
     "name": "stdout",
     "output_type": "stream",
     "text": [
      "Design variables: [DV: x1 [2 opts], DV: x2 [2 opts], DV: x3 [2 opts], DV: x4 [0.00..1.00], DV: x5 [0.00..1.00], DV: x6 [0.00..1.00], DV: x7 [0.00..1.00], DV: x8 [0.00..1.00], DV: x9 [0.00..1.00]]\n",
      "Objectives: [OBJ: f [min]]\n",
      "Constraints: []\n"
     ]
    }
   ],
   "execution_count": 3
  },
  {
   "cell_type": "code",
   "execution_count": 19,
   "outputs": [
    {
     "name": "stdout",
     "output_type": "stream",
     "text": [
      "problem: ADSGArchOptProblem(<__main__.JenattonEvaluator object at 0x0000013A7CEBED60>)\n",
      "n_discr: 3\n",
      "n_cont : 6\n",
      "n_obj  : 1\n",
      "n_con  : 0\n",
      "MD     : True\n",
      "MO     : False\n",
      "HIER         : True\n",
      "n_valid_discr: 4\n",
      "imp_ratio    : 6.00 (discr.: 2.00; cont.: 3.00)\n",
      "corr_ratio   : 3.00 (discr.: 1.00; cont.: 3.00; fraction of imp_ratio: 61.3%)\n",
      "                     x0    x1    x2   max\n",
      "inactive                  0.5   0.5      \n",
      "opt 0               0.5   0.5   0.5      \n",
      "opt 1               0.5   0.5   0.5      \n",
      "diversity           0.0  0.25  0.25  0.25\n",
      "active-diversity    0.0   0.0   0.0   0.0\n",
      "x_type              int   int   int      \n",
      "is_cond           False  True  True      \n",
      "                      n_valid  n_declared  n_discrete  n_dim_cont  n_dim_cont_mean  n_exist  imp_ratio  imp_ratio_comb  imp_ratio_cont  inf_idx  dist_corr   encoder\n",
      "type                                                                                                                                                                \n",
      "option-decisions            4           8           3           0              0.0        1        2.0             2.0             1.0      1.0        0.0  complete\n",
      "additional-dvs              4           0           0           6              2.0        4        3.0             1.0             3.0      1.0        0.0          \n",
      "total-design-space          4           8           3           6              2.0        1        6.0             2.0             3.0      1.0        0.0  complete\n",
      "total-design-problem        4           8           3           6              2.0        1        6.0             2.0             3.0      1.0        0.0  complete\n"
     ]
    },
    {
     "name": "stderr",
     "output_type": "stream",
     "text": [
      "D:\\Work\\Projects\\Development - ADORE\\Optimization\\SBArchOpt\\sb_arch_opt\\design_space.py:491: RuntimeWarning: All-NaN slice encountered\n",
      "  diversity = np.nanmax(counts, axis=0) - np.nanmin(counts, axis=0)\n",
      "D:\\Work\\Projects\\Development - ADORE\\Optimization\\SBArchOpt\\sb_arch_opt\\design_space.py:495: RuntimeWarning: All-NaN slice encountered\n",
      "  active_diversity = np.nanmax(active_counts, axis=0) - np.nanmin(active_counts, axis=0)\n"
     ]
    }
   ],
   "source": [
    "# Get the SBArchOpt problem\n",
    "problem = evaluator.get_problem()\n",
    "\n",
    "# Now the SBArchOpt API is available\n",
    "# We can for example print some problem statistic\n",
    "problem.print_stats()"
   ],
   "metadata": {
    "collapsed": false,
    "ExecuteTime": {
     "end_time": "2024-01-26T14:25:22.204345200Z",
     "start_time": "2024-01-26T14:25:22.176347100Z"
    }
   }
  },
  {
   "cell_type": "markdown",
   "source": [
    "We now run the optimization using the NSGA-II algorithm.\n",
    "For more information refer to the SBArchOpt [documentation](https://sbarchopt.readthedocs.io/en/latest/algo/pymoo/).\n",
    "SBArchOpt is based on [pymoo](https://pymoo.org), so it can also be helpful to consult its documentation."
   ],
   "metadata": {
    "collapsed": false
   }
  },
  {
   "cell_type": "code",
   "execution_count": 28,
   "outputs": [
    {
     "name": "stderr",
     "output_type": "stream",
     "text": [
      "D:\\Work\\Projects\\Development - ADORE\\Optimization\\SBArchOpt\\sb_arch_opt\\design_space.py:491: RuntimeWarning: All-NaN slice encountered\n",
      "  diversity = np.nanmax(counts, axis=0) - np.nanmin(counts, axis=0)\n",
      "D:\\Work\\Projects\\Development - ADORE\\Optimization\\SBArchOpt\\sb_arch_opt\\design_space.py:495: RuntimeWarning: All-NaN slice encountered\n",
      "  active_diversity = np.nanmax(active_counts, axis=0) - np.nanmin(active_counts, axis=0)\n"
     ]
    },
    {
     "name": "stdout",
     "output_type": "stream",
     "text": [
      "==========================================================================================================================\n",
      "n_gen  |  n_eval  | n_nds  |      eps      |   indicator   |     hv_est    |   not_failed  |    feasible   |    optimal   \n",
      "==========================================================================================================================\n",
      "     1 |      100 |      1 |             - |             - | -0.000000E+00 |  100 (100.0%) |  100 (100.0%) |      1 (1.0%)\n",
      "     2 |      200 |      1 |  0.000000E+00 |             f | -0.000000E+00 |  100 (100.0%) |  100 (100.0%) |      1 (1.0%)\n",
      "     3 |      300 |      1 |  0.0009277653 |             f |  0.0009277653 |  100 (100.0%) |  100 (100.0%) |      1 (1.0%)\n",
      "     4 |      400 |      1 |  0.0077755042 |         ideal |  0.0077755042 |  100 (100.0%) |  100 (100.0%) |      1 (1.0%)\n",
      "     5 |      500 |      1 |  0.0072054731 |         ideal |  0.0149809773 |  100 (100.0%) |  100 (100.0%) |      1 (1.0%)\n",
      "     6 |      600 |      1 |  0.0018331830 |             f |  0.0168141604 |  100 (100.0%) |  100 (100.0%) |      1 (1.0%)\n",
      "     7 |      700 |      1 |  0.0227526703 |         ideal |  0.0377336477 |  100 (100.0%) |  100 (100.0%) |      1 (1.0%)\n",
      "     8 |      800 |      1 |  0.0048137116 |         ideal |  0.0425473593 |  100 (100.0%) |  100 (100.0%) |      1 (1.0%)\n",
      "     9 |      900 |      1 |  0.0101939584 |         ideal |  0.0527413177 |  100 (100.0%) |  100 (100.0%) |      1 (1.0%)\n",
      "    10 |     1000 |      1 |  0.0019437634 |             f |  0.0546850811 |  100 (100.0%) |  100 (100.0%) |      1 (1.0%)\n",
      "    11 |     1100 |      1 |  0.0055222485 |         ideal |  0.0582635662 |  100 (100.0%) |  100 (100.0%) |      1 (1.0%)\n",
      "    12 |     1200 |      1 |  0.0018207258 |             f |  0.0600842919 |  100 (100.0%) |  100 (100.0%) |      1 (1.0%)\n",
      "    13 |     1300 |      1 |  0.0050436403 |         ideal |  0.0633072065 |  100 (100.0%) |  100 (100.0%) |      1 (1.0%)\n",
      "    14 |     1400 |      1 |  0.0012898024 |             f |  0.0645970089 |  100 (100.0%) |  100 (100.0%) |      1 (1.0%)\n",
      "    15 |     1500 |      1 |  0.0017187383 |             f |  0.0650259448 |  100 (100.0%) |  100 (100.0%) |      1 (1.0%)\n",
      "    16 |     1600 |      1 |  0.0026736325 |         ideal |  0.0659808389 |  100 (100.0%) |  100 (100.0%) |      1 (1.0%)\n",
      "    17 |     1700 |      1 |  0.0003312896 |             f |  0.0663121286 |  100 (100.0%) |  100 (100.0%) |      1 (1.0%)\n",
      "    18 |     1800 |      1 |  0.0003312896 |             f |  0.0663121286 |  100 (100.0%) |  100 (100.0%) |      1 (1.0%)\n",
      "    19 |     1900 |      1 |  0.0003755029 |             f |  0.0663563418 |  100 (100.0%) |  100 (100.0%) |      1 (1.0%)\n",
      "    20 |     2000 |      1 |  0.0003755029 |             f |  0.0663563418 |  100 (100.0%) |  100 (100.0%) |      1 (1.0%)\n",
      "Best f: [0.10011467]\n",
      "Best x: [1.0, 0.0, 0.0, 0.5, 0.5, 0.006162745188495626, 0.5, 0.5, 7.668987054150028e-05]\n"
     ]
    }
   ],
   "source": [
    "from pymoo.optimize import minimize\n",
    "from sb_arch_opt.algo.pymoo_interface import get_nsga2\n",
    "\n",
    "# Get the optimization algorithm\n",
    "algorithm = get_nsga2(pop_size=100)\n",
    "\n",
    "# Run the optimization\n",
    "result = minimize(problem, algorithm, termination=('n_gen', 20), verbose=True)\n",
    "\n",
    "# Print results\n",
    "opt = result.opt\n",
    "print('Best f:', opt.get('F')[0])\n",
    "print('Best x:', list(opt.get('X')[0]))"
   ],
   "metadata": {
    "collapsed": false,
    "ExecuteTime": {
     "end_time": "2024-01-26T14:30:01.926637500Z",
     "start_time": "2024-01-26T14:30:00.283279100Z"
    }
   }
  }
 ],
 "metadata": {
  "kernelspec": {
   "display_name": "Python 3 (ipykernel)",
   "language": "python",
   "name": "python3"
  },
  "language_info": {
   "codemirror_mode": {
    "name": "ipython",
    "version": 3
   },
   "file_extension": ".py",
   "mimetype": "text/x-python",
   "name": "python",
   "nbconvert_exporter": "python",
   "pygments_lexer": "ipython3",
   "version": "3.9.18"
  }
 },
 "nbformat": 4,
 "nbformat_minor": 4
}
