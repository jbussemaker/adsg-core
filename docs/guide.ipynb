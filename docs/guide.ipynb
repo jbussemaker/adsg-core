{
 "cells": [
  {
   "cell_type": "markdown",
   "metadata": {
    "collapsed": false,
    "jupyter": {
     "outputs_hidden": false
    }
   },
   "source": [
    "# DSG Modeling and Optimization Guide\n",
    "\n",
    "[![Binder](https://mybinder.org/badge_logo.svg)](https://mybinder.org/v2/gh/jbussemaker/adsg-core/HEAD?labpath=docs%2Fguide.ipynb)\n",
    "\n",
    "This notebook provides an overview of design space modeling and optimization capabilities using the DSG:\n",
    "\n",
    "- Create a DSG and define choices and constraints\n",
    "- Formulate an optimization problem from a DSG\n",
    "- Implement an evaluation function\n",
    "\n",
    "Refer to the [theory](../theory) for more background information.\n",
    "For more elaborate examples, refer to the example notebooks in the left-side menu.\n",
    "\n",
    "For reference, we display all the possible nodes and edges in the DSG here:"
   ]
  },
  {
   "cell_type": "code",
   "execution_count": 1,
   "metadata": {},
   "outputs": [
    {
     "data": {
      "text/html": [
       "<div id=\"4fec3d8cb1e94fdca92f3f1a6f3465be\"></div>\n",
       "<script type=\"text/javascript\" src=\"https://cdn.jsdelivr.net/npm/@viz-js/viz@3.8.0/lib/viz-standalone.js\"></script>\n",
       "<script type=\"text/javascript\">\n",
       "(function() {\n",
       "  var dot = \"strict digraph  {\\nrankdir=LR;\\ndpi=60;\\nfontsize=16;\\nranksep=0;\\nnodesep=0.1;\\nlabel=\\\"DSG Legend\\\";\\nlabelloc=t;\\nbgcolor=\\\"#f5f8fa\\\";\\nnode [height=0];\\nleg_0 [label=\\\"Choice 1\\\", style=\\\"filled\\\", fillcolor=\\\"#81D4FA\\\", shape=ellipse, margin=0];\\nleg_1 [label=\\\"Choice 2\\\", style=\\\"filled\\\", fillcolor=\\\"#81D4FA\\\", shape=ellipse, margin=0];\\nleg_2 [label=<<B>Start Node</B>>, style=\\\"filled,bold\\\", fillcolor=\\\"#ffffff\\\", shape=ellipse, margin=0];\\nleg_3 [label=\\\"Continuous\\\\nDV  [0 .. 1]\\\", style=\\\"filled\\\", fillcolor=\\\"#DCE775\\\", shape=ellipse, margin=0];\\nleg_4 [label=\\\"Discrete\\\\nDV  [A,B,C]\\\", style=\\\"filled\\\", fillcolor=\\\"#DCE775\\\", shape=ellipse, margin=0];\\nleg_5 [label=\\\"Objective [\\u2193]\\\", style=\\\"filled\\\", fillcolor=\\\"#DCE775\\\", shape=rect, margin=0];\\nleg_6 [label=\\\"Constraint [\\u2264 0]\\\", style=\\\"filled\\\", fillcolor=\\\"#DCE775\\\", shape=rect, margin=0];\\nleg_7 [label=\\\"Output Metric\\\", style=\\\"filled\\\", fillcolor=\\\"#DCE775\\\", shape=rect, margin=0];\\nleg_8 [label=\\\"Source 1\\\", style=\\\"filled\\\", fillcolor=\\\"#ffffff\\\", shape=hexagon, margin=0];\\nleg_9 [label=\\\"Connection\\\\nChoice\\\", style=\\\"filled\\\", fillcolor=\\\"#81D4FA\\\", shape=hexagon, margin=0];\\nleg_10 [label=\\\"Target 1\\\", style=\\\"filled\\\", fillcolor=\\\"#ffffff\\\", shape=hexagon, margin=0];\\nleg_11 [label=\\\"Target 2\\\", style=\\\"filled\\\", fillcolor=\\\"#ffffff\\\", shape=hexagon, margin=0];\\nleg_12 [label=\\\"Source 2\\\", style=\\\"filled\\\", fillcolor=\\\"#ffffff\\\", shape=hexagon, margin=0];\\nleg_13 [label=\\\"Source 2\\\", style=\\\"filled\\\", fillcolor=\\\"#ffffff\\\", shape=hexagon, margin=0];\\nleg_14 [label=\\\"Source\\\", style=\\\"filled\\\", fillcolor=\\\"#ffffff\\\", shape=ellipse, margin=0];\\nleg_15 [label=\\\"Selection\\\\nChoice\\\", style=\\\"filled\\\", fillcolor=\\\"#81D4FA\\\", shape=ellipse, margin=0];\\nleg_16 [label=\\\"Option 1\\\", style=\\\"filled\\\", fillcolor=\\\"#ffffff\\\", shape=ellipse, margin=0];\\nleg_17 [label=\\\"Option 2\\\", style=\\\"filled\\\", fillcolor=\\\"#ffffff\\\", shape=ellipse, margin=0];\\nleg_18 [label=\\\"Etc...\\\", style=\\\"filled\\\", fillcolor=\\\"#ffffff\\\", shape=ellipse, margin=0];\\nleg_19 [label=\\\"E\\\", style=\\\"filled\\\", fillcolor=\\\"#ffffff\\\", shape=ellipse, margin=0];\\nleg_20 [label=\\\"F\\\", style=\\\"filled\\\", fillcolor=\\\"#ffffff\\\", shape=ellipse, margin=0];\\nleg_21 [label=\\\"C\\\", style=\\\"filled\\\", fillcolor=\\\"#ffffff\\\", shape=ellipse, margin=0];\\nleg_22 [label=\\\"D\\\", style=\\\"filled\\\", fillcolor=\\\"#ffffff\\\", shape=ellipse, margin=0];\\nleg_23 [label=\\\"A\\\", style=\\\"filled\\\", fillcolor=\\\"#ffffff\\\", shape=ellipse, margin=0];\\nleg_24 [label=\\\"B\\\", style=\\\"filled\\\", fillcolor=\\\"#ffffff\\\", shape=ellipse, margin=0];\\nleg_25 [label=\\\"Connector\\\", style=\\\"filled\\\", fillcolor=\\\"#ffffff\\\", shape=hexagon, margin=0];\\nleg_26 [label=\\\"Node\\\", style=\\\"filled\\\", fillcolor=\\\"#ffffff\\\", shape=ellipse, margin=0];\\nleg_0 -> leg_1 [color=\\\"#9C27B0\\\", style=dotted, penwidth=3, arrowhead=none, label=\\\"choice\\\\nconstraint\\\"];\\nleg_2 -> leg_3 [type=\\\"EdgeType.DERIVES\\\"];\\nleg_2 -> leg_4 [type=\\\"EdgeType.DERIVES\\\"];\\nleg_2 -> leg_5 [type=\\\"EdgeType.DERIVES\\\"];\\nleg_2 -> leg_6 [type=\\\"EdgeType.DERIVES\\\"];\\nleg_2 -> leg_7 [type=\\\"EdgeType.DERIVES\\\"];\\nleg_8 -> leg_9 [type=\\\"EdgeType.CONNECTS\\\", style=dashed, label=\\\"1\\\"];\\nleg_8 -> leg_10 [type=\\\"EdgeType.EXCLUDES\\\", style=dashed, color=red, label=\\\"connection\\\\nexcluded\\\"];\\nleg_9 -> leg_10 [type=\\\"EdgeType.CONNECTS\\\", style=dashed, label=\\\"1..* \\u2225\\\"];\\nleg_9 -> leg_11 [type=\\\"EdgeType.CONNECTS\\\", style=dashed, label=\\\"0..2\\\"];\\nleg_12 -> leg_9 [type=\\\"EdgeType.CONNECTS\\\", style=dashed, label=\\\"0,1\\\"];\\nleg_13 -> leg_9 [type=\\\"EdgeType.CONNECTS\\\", style=dashed, label=\\\"0..* \\u2225\\\"];\\nleg_14 -> leg_15 [type=\\\"EdgeType.DERIVES\\\"];\\nleg_15 -> leg_16 [type=\\\"EdgeType.DERIVES\\\"];\\nleg_15 -> leg_17 [type=\\\"EdgeType.DERIVES\\\"];\\nleg_15 -> leg_18 [type=\\\"EdgeType.DERIVES\\\"];\\nleg_19 -> leg_20 [label=\\\"mutually\\\\nincompatible\\\", type=\\\"EdgeType.INCOMPATIBILITY\\\", color=red, arrowhead=none];\\nleg_21 -> leg_22 [label=\\\"connects to\\\", type=\\\"EdgeType.CONNECTS\\\", style=dashed];\\nleg_23 -> leg_24 [label=derives, type=\\\"EdgeType.DERIVES\\\"];\\n}\\n\"; // Export of the dot graph notation\n",
       "  var printDot = false; // Whether to print the dot instead of rendering\n",
       "  var printSvg = false; // Whether to print the SVG instead of showing the results\n",
       "  // Create viz-js instance and render to SVG\n",
       "  function doRender() {\n",
       "    if (printDot) {\n",
       "      var preEl = document.createElement('pre');\n",
       "      preEl.innerText = dot;\n",
       "      document.getElementById(\"4fec3d8cb1e94fdca92f3f1a6f3465be\").appendChild(preEl);\n",
       "    } else {\n",
       "      Viz.instance().then(function(viz) {\n",
       "        var tgtEl = document.getElementById(\"4fec3d8cb1e94fdca92f3f1a6f3465be\");\n",
       "        var svgElement = viz.renderSVGElement(dot);\n",
       "        if (printSvg) {\n",
       "          var preEl = document.createElement('pre');\n",
       "          preEl.innerText = svgElement.outerHTML;\n",
       "          tgtEl.appendChild(preEl);\n",
       "        } else {\n",
       "          tgtEl.appendChild(svgElement);\n",
       "        }\n",
       "      }).catch(function(e) {\n",
       "        console.log('RENDER ERROR', e, dot);\n",
       "        var preEl = document.createElement('pre');\n",
       "        preEl.innerText = 'RENDER ERROR: '+e.toString();\n",
       "        document.getElementById(\"4fec3d8cb1e94fdca92f3f1a6f3465be\").appendChild(preEl);\n",
       "        var preEl = document.createElement('pre');\n",
       "        preEl.innerText = dot;\n",
       "        document.getElementById(\"4fec3d8cb1e94fdca92f3f1a6f3465be\").appendChild(preEl);\n",
       "      });\n",
       "    }\n",
       "  }\n",
       "  // We may need to wait for loading to complete\n",
       "  function checkRender() {\n",
       "    if (typeof Viz === \"undefined\") { setTimeout(checkRender, 100+200*Math.random()); } else { doRender(); } \n",
       "  }\n",
       "  checkRender();\n",
       "})()\n",
       "</script>\n"
      ],
      "text/plain": [
       "<IPython.core.display.HTML object>"
      ]
     },
     "metadata": {},
     "output_type": "display_data"
    }
   ],
   "source": [
    "from adsg_core.render import DSGRenderer\n",
    "DSGRenderer.render_legend()"
   ]
  },
  {
   "cell_type": "markdown",
   "metadata": {
    "collapsed": false,
    "jupyter": {
     "outputs_hidden": false
    }
   },
   "source": [
    "## Modeling Selection Choices\n",
    "\n",
    "A *selection choice* node represents an architectural choice where one of the mutually-exclusive option nodes is\n",
    "selected.\n",
    "When resolved, the singular incoming generic node is connected to the selected option node by a derivation edge.\n",
    "The nodes not selected and their derived nodes, excluding confirmed nodes (see below), are removed from the graph.\n",
    "\n",
    "A *derivation edge*  is a directed edge is like a \"requires\" relationship, as it ensures that the target node is\n",
    "selected if the source node is selected.\n",
    "\n",
    "One or more nodes are designated as *start* nodes: these nodes and their derived nodes are present in all\n",
    "architectures and therefore are designated *permanent* nodes.\n",
    "Non-permanent nodes are known as *conditional*.\n",
    "\n",
    "An *incompatibility edge* is an undirected edge that asserts that if either of the two nodes is confirmed, the other\n",
    "node and its derived nodes are not.\n",
    "Incompatibility edges can lead to an infeasible DSG if both nodes are permanent.\n",
    "\n",
    "We now show a simple example of defining a DSG containing several edges, selection choices, and an incompatibility constraint."
   ]
  },
  {
   "cell_type": "code",
   "execution_count": 2,
   "metadata": {
    "ExecuteTime": {
     "end_time": "2024-01-26T06:55:34.286028300Z",
     "start_time": "2024-01-26T06:55:33.074880400Z"
    },
    "collapsed": false,
    "jupyter": {
     "outputs_hidden": false
    }
   },
   "outputs": [
    {
     "data": {
      "text/html": [
       "<div id=\"824d49e6861d45c58658c3e18592c60c\"></div>\n",
       "<script type=\"text/javascript\" src=\"https://cdn.jsdelivr.net/npm/@viz-js/viz@3.8.0/lib/viz-standalone.js\"></script>\n",
       "<script type=\"text/javascript\">\n",
       "(function() {\n",
       "  var dot = \"strict digraph  {\\nrankdir=LR;\\ndpi=60;\\nfontsize=20;\\n0 [label=<<B>N0</B>>, style=\\\"filled,bold\\\", fillcolor=\\\"#ffffff\\\", shape=ellipse, margin=0.05];\\n1 [label=\\\"N1\\\", style=\\\"filled\\\", fillcolor=\\\"#ffffff\\\", shape=ellipse, margin=0.05];\\n2 [label=\\\"C1\\\", style=\\\"filled\\\", fillcolor=\\\"#81D4FA\\\", shape=ellipse, margin=0.05];\\n3 [label=\\\"N2\\\", style=\\\"filled\\\", fillcolor=\\\"#ffffff\\\", shape=ellipse, margin=0.05];\\n4 [label=\\\"N3\\\", style=\\\"filled\\\", fillcolor=\\\"#ffffff\\\", shape=ellipse, margin=0.05];\\n5 [label=\\\"N4\\\", style=\\\"filled\\\", fillcolor=\\\"#ffffff\\\", shape=ellipse, margin=0.05];\\n6 [label=\\\"N5\\\", style=\\\"filled\\\", fillcolor=\\\"#ffffff\\\", shape=ellipse, margin=0.05];\\n7 [label=\\\"N7\\\", style=\\\"filled\\\", fillcolor=\\\"#ffffff\\\", shape=ellipse, margin=0.05];\\n8 [label=\\\"C2\\\", style=\\\"filled\\\", fillcolor=\\\"#81D4FA\\\", shape=ellipse, margin=0.05];\\n9 [label=\\\"N6\\\", style=\\\"filled\\\", fillcolor=\\\"#ffffff\\\", shape=ellipse, margin=0.05];\\n0 -> 1 [type=\\\"EdgeType.DERIVES\\\"];\\n1 -> 2 [type=\\\"EdgeType.DERIVES\\\"];\\n2 -> 3 [type=\\\"EdgeType.DERIVES\\\"];\\n2 -> 4 [type=\\\"EdgeType.DERIVES\\\"];\\n2 -> 5 [type=\\\"EdgeType.DERIVES\\\"];\\n3 -> 6 [type=\\\"EdgeType.DERIVES\\\"];\\n4 -> 5 [type=\\\"EdgeType.DERIVES\\\"];\\n4 -> 6 [type=\\\"EdgeType.DERIVES\\\"];\\n4 -> 7 [type=\\\"EdgeType.INCOMPATIBILITY\\\", color=red, arrowhead=none, constraint=false];\\n6 -> 8 [type=\\\"EdgeType.DERIVES\\\"];\\n8 -> 9 [type=\\\"EdgeType.DERIVES\\\"];\\n8 -> 7 [type=\\\"EdgeType.DERIVES\\\"];\\n}\\n\"; // Export of the dot graph notation\n",
       "  var printDot = false; // Whether to print the dot instead of rendering\n",
       "  var printSvg = false; // Whether to print the SVG instead of showing the results\n",
       "  // Create viz-js instance and render to SVG\n",
       "  function doRender() {\n",
       "    if (printDot) {\n",
       "      var preEl = document.createElement('pre');\n",
       "      preEl.innerText = dot;\n",
       "      document.getElementById(\"824d49e6861d45c58658c3e18592c60c\").appendChild(preEl);\n",
       "    } else {\n",
       "      Viz.instance().then(function(viz) {\n",
       "        var tgtEl = document.getElementById(\"824d49e6861d45c58658c3e18592c60c\");\n",
       "        var svgElement = viz.renderSVGElement(dot);\n",
       "        if (printSvg) {\n",
       "          var preEl = document.createElement('pre');\n",
       "          preEl.innerText = svgElement.outerHTML;\n",
       "          tgtEl.appendChild(preEl);\n",
       "        } else {\n",
       "          tgtEl.appendChild(svgElement);\n",
       "        }\n",
       "      }).catch(function(e) {\n",
       "        console.log('RENDER ERROR', e, dot);\n",
       "        var preEl = document.createElement('pre');\n",
       "        preEl.innerText = 'RENDER ERROR: '+e.toString();\n",
       "        document.getElementById(\"824d49e6861d45c58658c3e18592c60c\").appendChild(preEl);\n",
       "        var preEl = document.createElement('pre');\n",
       "        preEl.innerText = dot;\n",
       "        document.getElementById(\"824d49e6861d45c58658c3e18592c60c\").appendChild(preEl);\n",
       "      });\n",
       "    }\n",
       "  }\n",
       "  // We may need to wait for loading to complete\n",
       "  function checkRender() {\n",
       "    if (typeof Viz === \"undefined\") { setTimeout(checkRender, 100+200*Math.random()); } else { doRender(); } \n",
       "  }\n",
       "  checkRender();\n",
       "})()\n",
       "</script>\n"
      ],
      "text/plain": [
       "<IPython.core.display.HTML object>"
      ]
     },
     "metadata": {},
     "output_type": "display_data"
    },
    {
     "data": {
      "text/html": [
       "<div id=\"03ec1eaafd6143b1b4cbdec3630ea1c8\"></div>\n",
       "<script type=\"text/javascript\" src=\"https://cdn.jsdelivr.net/npm/@viz-js/viz@3.8.0/lib/viz-standalone.js\"></script>\n",
       "<script type=\"text/javascript\">\n",
       "(function() {\n",
       "  var dot = \"strict digraph  {\\nrankdir=LR;\\ndpi=60;\\nfontsize=16;\\nranksep=0;\\nnodesep=0.1;\\nlabel=\\\"DSG Legend\\\";\\nlabelloc=t;\\nbgcolor=\\\"#f5f8fa\\\";\\nnode [height=0];\\nleg_0 [label=\\\"Source\\\", style=\\\"filled\\\", fillcolor=\\\"#ffffff\\\", shape=ellipse, margin=0];\\nleg_1 [label=\\\"Selection\\\\nChoice\\\", style=\\\"filled\\\", fillcolor=\\\"#81D4FA\\\", shape=ellipse, margin=0];\\nleg_2 [label=\\\"Option 1\\\", style=\\\"filled\\\", fillcolor=\\\"#ffffff\\\", shape=ellipse, margin=0];\\nleg_3 [label=\\\"Option 2\\\", style=\\\"filled\\\", fillcolor=\\\"#ffffff\\\", shape=ellipse, margin=0];\\nleg_4 [label=\\\"Etc...\\\", style=\\\"filled\\\", fillcolor=\\\"#ffffff\\\", shape=ellipse, margin=0];\\nleg_5 [label=\\\"E\\\", style=\\\"filled\\\", fillcolor=\\\"#ffffff\\\", shape=ellipse, margin=0];\\nleg_6 [label=\\\"F\\\", style=\\\"filled\\\", fillcolor=\\\"#ffffff\\\", shape=ellipse, margin=0];\\nleg_7 [label=\\\"A\\\", style=\\\"filled\\\", fillcolor=\\\"#ffffff\\\", shape=ellipse, margin=0];\\nleg_8 [label=\\\"B\\\", style=\\\"filled\\\", fillcolor=\\\"#ffffff\\\", shape=ellipse, margin=0];\\nleg_9 [label=\\\"Node\\\", style=\\\"filled\\\", fillcolor=\\\"#ffffff\\\", shape=ellipse, margin=0];\\nleg_10 [label=<<B>Start Node</B>>, style=\\\"filled,bold\\\", fillcolor=\\\"#ffffff\\\", shape=ellipse, margin=0];\\nleg_0 -> leg_1 [type=\\\"EdgeType.DERIVES\\\"];\\nleg_1 -> leg_2 [type=\\\"EdgeType.DERIVES\\\"];\\nleg_1 -> leg_3 [type=\\\"EdgeType.DERIVES\\\"];\\nleg_1 -> leg_4 [type=\\\"EdgeType.DERIVES\\\"];\\nleg_5 -> leg_6 [label=\\\"mutually\\\\nincompatible\\\", type=\\\"EdgeType.INCOMPATIBILITY\\\", color=red, arrowhead=none];\\nleg_7 -> leg_8 [label=derives, type=\\\"EdgeType.DERIVES\\\"];\\n}\\n\"; // Export of the dot graph notation\n",
       "  var printDot = false; // Whether to print the dot instead of rendering\n",
       "  var printSvg = false; // Whether to print the SVG instead of showing the results\n",
       "  // Create viz-js instance and render to SVG\n",
       "  function doRender() {\n",
       "    if (printDot) {\n",
       "      var preEl = document.createElement('pre');\n",
       "      preEl.innerText = dot;\n",
       "      document.getElementById(\"03ec1eaafd6143b1b4cbdec3630ea1c8\").appendChild(preEl);\n",
       "    } else {\n",
       "      Viz.instance().then(function(viz) {\n",
       "        var tgtEl = document.getElementById(\"03ec1eaafd6143b1b4cbdec3630ea1c8\");\n",
       "        var svgElement = viz.renderSVGElement(dot);\n",
       "        if (printSvg) {\n",
       "          var preEl = document.createElement('pre');\n",
       "          preEl.innerText = svgElement.outerHTML;\n",
       "          tgtEl.appendChild(preEl);\n",
       "        } else {\n",
       "          tgtEl.appendChild(svgElement);\n",
       "        }\n",
       "      }).catch(function(e) {\n",
       "        console.log('RENDER ERROR', e, dot);\n",
       "        var preEl = document.createElement('pre');\n",
       "        preEl.innerText = 'RENDER ERROR: '+e.toString();\n",
       "        document.getElementById(\"03ec1eaafd6143b1b4cbdec3630ea1c8\").appendChild(preEl);\n",
       "        var preEl = document.createElement('pre');\n",
       "        preEl.innerText = dot;\n",
       "        document.getElementById(\"03ec1eaafd6143b1b4cbdec3630ea1c8\").appendChild(preEl);\n",
       "      });\n",
       "    }\n",
       "  }\n",
       "  // We may need to wait for loading to complete\n",
       "  function checkRender() {\n",
       "    if (typeof Viz === \"undefined\") { setTimeout(checkRender, 100+200*Math.random()); } else { doRender(); } \n",
       "  }\n",
       "  checkRender();\n",
       "})()\n",
       "</script>\n"
      ],
      "text/plain": [
       "<IPython.core.display.HTML object>"
      ]
     },
     "metadata": {},
     "output_type": "display_data"
    }
   ],
   "source": [
    "from adsg_core import BasicDSG, NamedNode\n",
    "\n",
    "# Create the DSG\n",
    "dsg = BasicDSG()\n",
    "\n",
    "# Create 10 nodes to work with\n",
    "n = [NamedNode(f'N{i}') for i in range(10)]\n",
    "\n",
    "# Add some edges\n",
    "dsg.add_edges([\n",
    "    (n[0], n[1]),  # N0 derives N1\n",
    "    (n[3], n[4]),  # N3 derives N4\n",
    "    (n[2], n[5]), (n[3], n[5]),  # N5 is derived by N2 and/or N3\n",
    "])\n",
    "\n",
    "# Add two selection choices:\n",
    "# Connect N1 to N2, N3 or N4\n",
    "# Connect N5 to N6 or N7\n",
    "dsg.add_selection_choice('C1', n[1], [n[2], n[3], n[4]])\n",
    "dsg.add_selection_choice('C2', n[5], [n[6], n[7]])\n",
    "\n",
    "# Add incompatibility between N3 and N7\n",
    "dsg.add_incompatibility_constraint([n[3], n[7]])\n",
    "\n",
    "# Set the start node N0\n",
    "# This function returns a modified DSG!\n",
    "dsg = dsg.set_start_nodes({n[0]})\n",
    "\n",
    "# Show the DSG (also works outside a notebook)\n",
    "dsg.render(print_svg=False)\n",
    "dsg.render_legend(['NODE', 'NODE_START', 'EDGE_DERIVE', 'CHOICE_SEL', 'EDGE_INCOMP'])"
   ]
  },
  {
   "cell_type": "markdown",
   "metadata": {
    "collapsed": false,
    "jupyter": {
     "outputs_hidden": false
    }
   },
   "source": [
    "Like this, we have defined a DSG with starting node N0 and two choices, C1 and C2.\n",
    "C2 is only activated if for C1 either N2 or N3 are chosen (because they derive N5).\n",
    "N4 is included in a graph instance both if N3 or N4 are chosen for C1.\n",
    "\n",
    "Let's render all graph instances now.\n",
    "Observe that there are no more choice nodes, and that the selected nodes correspond to the output above.\n",
    "Also, there is no instance containing both and N3 and N7 are per the incompatibility constraint."
   ]
  },
  {
   "cell_type": "code",
   "execution_count": 3,
   "metadata": {
    "ExecuteTime": {
     "end_time": "2024-01-26T06:55:37.238522300Z",
     "start_time": "2024-01-26T06:55:37.201374100Z"
    },
    "collapsed": false,
    "jupyter": {
     "outputs_hidden": false
    }
   },
   "outputs": [
    {
     "data": {
      "text/markdown": [
       "Rendering 4 instances"
      ],
      "text/plain": [
       "<IPython.core.display.Markdown object>"
      ]
     },
     "metadata": {},
     "output_type": "display_data"
    },
    {
     "data": {
      "text/html": [
       "<div id=\"5f00d5d9c1c341e1aaf158684d68deaf\"></div>\n",
       "<script type=\"text/javascript\" src=\"https://cdn.jsdelivr.net/npm/@viz-js/viz@3.8.0/lib/viz-standalone.js\"></script>\n",
       "<script type=\"text/javascript\">\n",
       "(function() {\n",
       "  var dot = \"strict digraph  {\\nrankdir=LR;\\ndpi=60;\\nfontsize=20;\\n0 [label=<<B>N0</B>>, style=\\\"filled,bold\\\", fillcolor=\\\"#ffffff\\\", shape=ellipse, margin=0.05];\\n1 [label=\\\"N1\\\", style=\\\"filled\\\", fillcolor=\\\"#ffffff\\\", shape=ellipse, margin=0.05];\\n2 [label=\\\"N2\\\", style=\\\"filled\\\", fillcolor=\\\"#ffffff\\\", shape=ellipse, margin=0.05];\\n3 [label=\\\"N5\\\", style=\\\"filled\\\", fillcolor=\\\"#ffffff\\\", shape=ellipse, margin=0.05];\\n4 [label=\\\"N6\\\", style=\\\"filled\\\", fillcolor=\\\"#ffffff\\\", shape=ellipse, margin=0.05];\\n0 -> 1 [type=\\\"EdgeType.DERIVES\\\"];\\n1 -> 2 [type=\\\"EdgeType.DERIVES\\\"];\\n2 -> 3 [type=\\\"EdgeType.DERIVES\\\"];\\n3 -> 4 [type=\\\"EdgeType.DERIVES\\\"];\\n}\\n\"; // Export of the dot graph notation\n",
       "  var printDot = false; // Whether to print the dot instead of rendering\n",
       "  var printSvg = false; // Whether to print the SVG instead of showing the results\n",
       "  // Create viz-js instance and render to SVG\n",
       "  function doRender() {\n",
       "    if (printDot) {\n",
       "      var preEl = document.createElement('pre');\n",
       "      preEl.innerText = dot;\n",
       "      document.getElementById(\"5f00d5d9c1c341e1aaf158684d68deaf\").appendChild(preEl);\n",
       "    } else {\n",
       "      Viz.instance().then(function(viz) {\n",
       "        var tgtEl = document.getElementById(\"5f00d5d9c1c341e1aaf158684d68deaf\");\n",
       "        var svgElement = viz.renderSVGElement(dot);\n",
       "        if (printSvg) {\n",
       "          var preEl = document.createElement('pre');\n",
       "          preEl.innerText = svgElement.outerHTML;\n",
       "          tgtEl.appendChild(preEl);\n",
       "        } else {\n",
       "          tgtEl.appendChild(svgElement);\n",
       "        }\n",
       "      }).catch(function(e) {\n",
       "        console.log('RENDER ERROR', e, dot);\n",
       "        var preEl = document.createElement('pre');\n",
       "        preEl.innerText = 'RENDER ERROR: '+e.toString();\n",
       "        document.getElementById(\"5f00d5d9c1c341e1aaf158684d68deaf\").appendChild(preEl);\n",
       "        var preEl = document.createElement('pre');\n",
       "        preEl.innerText = dot;\n",
       "        document.getElementById(\"5f00d5d9c1c341e1aaf158684d68deaf\").appendChild(preEl);\n",
       "      });\n",
       "    }\n",
       "  }\n",
       "  // We may need to wait for loading to complete\n",
       "  function checkRender() {\n",
       "    if (typeof Viz === \"undefined\") { setTimeout(checkRender, 100+200*Math.random()); } else { doRender(); } \n",
       "  }\n",
       "  checkRender();\n",
       "})()\n",
       "</script>\n"
      ],
      "text/plain": [
       "<IPython.core.display.HTML object>"
      ]
     },
     "metadata": {},
     "output_type": "display_data"
    },
    {
     "data": {
      "text/html": [
       "<div id=\"425ed0a9e98340c6bcdf826bf5d66b05\"></div>\n",
       "\n",
       "<script type=\"text/javascript\">\n",
       "(function() {\n",
       "  var dot = \"strict digraph  {\\nrankdir=LR;\\ndpi=60;\\nfontsize=20;\\n0 [label=<<B>N0</B>>, style=\\\"filled,bold\\\", fillcolor=\\\"#ffffff\\\", shape=ellipse, margin=0.05];\\n1 [label=\\\"N1\\\", style=\\\"filled\\\", fillcolor=\\\"#ffffff\\\", shape=ellipse, margin=0.05];\\n2 [label=\\\"N2\\\", style=\\\"filled\\\", fillcolor=\\\"#ffffff\\\", shape=ellipse, margin=0.05];\\n3 [label=\\\"N5\\\", style=\\\"filled\\\", fillcolor=\\\"#ffffff\\\", shape=ellipse, margin=0.05];\\n4 [label=\\\"N7\\\", style=\\\"filled\\\", fillcolor=\\\"#ffffff\\\", shape=ellipse, margin=0.05];\\n0 -> 1 [type=\\\"EdgeType.DERIVES\\\"];\\n1 -> 2 [type=\\\"EdgeType.DERIVES\\\"];\\n2 -> 3 [type=\\\"EdgeType.DERIVES\\\"];\\n3 -> 4 [type=\\\"EdgeType.DERIVES\\\"];\\n}\\n\"; // Export of the dot graph notation\n",
       "  var printDot = false; // Whether to print the dot instead of rendering\n",
       "  var printSvg = false; // Whether to print the SVG instead of showing the results\n",
       "  // Create viz-js instance and render to SVG\n",
       "  function doRender() {\n",
       "    if (printDot) {\n",
       "      var preEl = document.createElement('pre');\n",
       "      preEl.innerText = dot;\n",
       "      document.getElementById(\"425ed0a9e98340c6bcdf826bf5d66b05\").appendChild(preEl);\n",
       "    } else {\n",
       "      Viz.instance().then(function(viz) {\n",
       "        var tgtEl = document.getElementById(\"425ed0a9e98340c6bcdf826bf5d66b05\");\n",
       "        var svgElement = viz.renderSVGElement(dot);\n",
       "        if (printSvg) {\n",
       "          var preEl = document.createElement('pre');\n",
       "          preEl.innerText = svgElement.outerHTML;\n",
       "          tgtEl.appendChild(preEl);\n",
       "        } else {\n",
       "          tgtEl.appendChild(svgElement);\n",
       "        }\n",
       "      }).catch(function(e) {\n",
       "        console.log('RENDER ERROR', e, dot);\n",
       "        var preEl = document.createElement('pre');\n",
       "        preEl.innerText = 'RENDER ERROR: '+e.toString();\n",
       "        document.getElementById(\"425ed0a9e98340c6bcdf826bf5d66b05\").appendChild(preEl);\n",
       "        var preEl = document.createElement('pre');\n",
       "        preEl.innerText = dot;\n",
       "        document.getElementById(\"425ed0a9e98340c6bcdf826bf5d66b05\").appendChild(preEl);\n",
       "      });\n",
       "    }\n",
       "  }\n",
       "  // We may need to wait for loading to complete\n",
       "  function checkRender() {\n",
       "    if (typeof Viz === \"undefined\") { setTimeout(checkRender, 100+200*Math.random()); } else { doRender(); } \n",
       "  }\n",
       "  checkRender();\n",
       "})()\n",
       "</script>\n"
      ],
      "text/plain": [
       "<IPython.core.display.HTML object>"
      ]
     },
     "metadata": {},
     "output_type": "display_data"
    },
    {
     "data": {
      "text/html": [
       "<div id=\"17643cdc9b8a40bdbd4c00adfb135aee\"></div>\n",
       "\n",
       "<script type=\"text/javascript\">\n",
       "(function() {\n",
       "  var dot = \"strict digraph  {\\nrankdir=LR;\\ndpi=60;\\nfontsize=20;\\n0 [label=<<B>N0</B>>, style=\\\"filled,bold\\\", fillcolor=\\\"#ffffff\\\", shape=ellipse, margin=0.05];\\n1 [label=\\\"N1\\\", style=\\\"filled\\\", fillcolor=\\\"#ffffff\\\", shape=ellipse, margin=0.05];\\n2 [label=\\\"N3\\\", style=\\\"filled\\\", fillcolor=\\\"#ffffff\\\", shape=ellipse, margin=0.05];\\n3 [label=\\\"N4\\\", style=\\\"filled\\\", fillcolor=\\\"#ffffff\\\", shape=ellipse, margin=0.05];\\n4 [label=\\\"N5\\\", style=\\\"filled\\\", fillcolor=\\\"#ffffff\\\", shape=ellipse, margin=0.05];\\n5 [label=\\\"N6\\\", style=\\\"filled\\\", fillcolor=\\\"#ffffff\\\", shape=ellipse, margin=0.05];\\n0 -> 1 [type=\\\"EdgeType.DERIVES\\\"];\\n1 -> 2 [type=\\\"EdgeType.DERIVES\\\"];\\n2 -> 3 [type=\\\"EdgeType.DERIVES\\\"];\\n2 -> 4 [type=\\\"EdgeType.DERIVES\\\"];\\n4 -> 5 [type=\\\"EdgeType.DERIVES\\\"];\\n}\\n\"; // Export of the dot graph notation\n",
       "  var printDot = false; // Whether to print the dot instead of rendering\n",
       "  var printSvg = false; // Whether to print the SVG instead of showing the results\n",
       "  // Create viz-js instance and render to SVG\n",
       "  function doRender() {\n",
       "    if (printDot) {\n",
       "      var preEl = document.createElement('pre');\n",
       "      preEl.innerText = dot;\n",
       "      document.getElementById(\"17643cdc9b8a40bdbd4c00adfb135aee\").appendChild(preEl);\n",
       "    } else {\n",
       "      Viz.instance().then(function(viz) {\n",
       "        var tgtEl = document.getElementById(\"17643cdc9b8a40bdbd4c00adfb135aee\");\n",
       "        var svgElement = viz.renderSVGElement(dot);\n",
       "        if (printSvg) {\n",
       "          var preEl = document.createElement('pre');\n",
       "          preEl.innerText = svgElement.outerHTML;\n",
       "          tgtEl.appendChild(preEl);\n",
       "        } else {\n",
       "          tgtEl.appendChild(svgElement);\n",
       "        }\n",
       "      }).catch(function(e) {\n",
       "        console.log('RENDER ERROR', e, dot);\n",
       "        var preEl = document.createElement('pre');\n",
       "        preEl.innerText = 'RENDER ERROR: '+e.toString();\n",
       "        document.getElementById(\"17643cdc9b8a40bdbd4c00adfb135aee\").appendChild(preEl);\n",
       "        var preEl = document.createElement('pre');\n",
       "        preEl.innerText = dot;\n",
       "        document.getElementById(\"17643cdc9b8a40bdbd4c00adfb135aee\").appendChild(preEl);\n",
       "      });\n",
       "    }\n",
       "  }\n",
       "  // We may need to wait for loading to complete\n",
       "  function checkRender() {\n",
       "    if (typeof Viz === \"undefined\") { setTimeout(checkRender, 100+200*Math.random()); } else { doRender(); } \n",
       "  }\n",
       "  checkRender();\n",
       "})()\n",
       "</script>\n"
      ],
      "text/plain": [
       "<IPython.core.display.HTML object>"
      ]
     },
     "metadata": {},
     "output_type": "display_data"
    },
    {
     "data": {
      "text/html": [
       "<div id=\"d7bf6b716a2d4fb09359ad9b33f3e738\"></div>\n",
       "\n",
       "<script type=\"text/javascript\">\n",
       "(function() {\n",
       "  var dot = \"strict digraph  {\\nrankdir=LR;\\ndpi=60;\\nfontsize=20;\\n0 [label=<<B>N0</B>>, style=\\\"filled,bold\\\", fillcolor=\\\"#ffffff\\\", shape=ellipse, margin=0.05];\\n1 [label=\\\"N1\\\", style=\\\"filled\\\", fillcolor=\\\"#ffffff\\\", shape=ellipse, margin=0.05];\\n2 [label=\\\"N4\\\", style=\\\"filled\\\", fillcolor=\\\"#ffffff\\\", shape=ellipse, margin=0.05];\\n0 -> 1 [type=\\\"EdgeType.DERIVES\\\"];\\n1 -> 2 [type=\\\"EdgeType.DERIVES\\\"];\\n}\\n\"; // Export of the dot graph notation\n",
       "  var printDot = false; // Whether to print the dot instead of rendering\n",
       "  var printSvg = false; // Whether to print the SVG instead of showing the results\n",
       "  // Create viz-js instance and render to SVG\n",
       "  function doRender() {\n",
       "    if (printDot) {\n",
       "      var preEl = document.createElement('pre');\n",
       "      preEl.innerText = dot;\n",
       "      document.getElementById(\"d7bf6b716a2d4fb09359ad9b33f3e738\").appendChild(preEl);\n",
       "    } else {\n",
       "      Viz.instance().then(function(viz) {\n",
       "        var tgtEl = document.getElementById(\"d7bf6b716a2d4fb09359ad9b33f3e738\");\n",
       "        var svgElement = viz.renderSVGElement(dot);\n",
       "        if (printSvg) {\n",
       "          var preEl = document.createElement('pre');\n",
       "          preEl.innerText = svgElement.outerHTML;\n",
       "          tgtEl.appendChild(preEl);\n",
       "        } else {\n",
       "          tgtEl.appendChild(svgElement);\n",
       "        }\n",
       "      }).catch(function(e) {\n",
       "        console.log('RENDER ERROR', e, dot);\n",
       "        var preEl = document.createElement('pre');\n",
       "        preEl.innerText = 'RENDER ERROR: '+e.toString();\n",
       "        document.getElementById(\"d7bf6b716a2d4fb09359ad9b33f3e738\").appendChild(preEl);\n",
       "        var preEl = document.createElement('pre');\n",
       "        preEl.innerText = dot;\n",
       "        document.getElementById(\"d7bf6b716a2d4fb09359ad9b33f3e738\").appendChild(preEl);\n",
       "      });\n",
       "    }\n",
       "  }\n",
       "  // We may need to wait for loading to complete\n",
       "  function checkRender() {\n",
       "    if (typeof Viz === \"undefined\") { setTimeout(checkRender, 100+200*Math.random()); } else { doRender(); } \n",
       "  }\n",
       "  checkRender();\n",
       "})()\n",
       "</script>\n"
      ],
      "text/plain": [
       "<IPython.core.display.HTML object>"
      ]
     },
     "metadata": {},
     "output_type": "display_data"
    }
   ],
   "source": [
    "dsg.render_all()  # Note: only use if there are not too many instances!"
   ]
  },
  {
   "cell_type": "markdown",
   "metadata": {
    "collapsed": false,
    "jupyter": {
     "outputs_hidden": false
    }
   },
   "source": [
    "### Selection Choice Constraints\n",
    "\n",
    "*Choice constraints* allow constraining option availability for choices based on other choices.\n",
    "For continuous design variables only linking is possible: here the same value relative to the respective design variable\n",
    "bounds is applied.\n",
    "For discrete design variables and selection and connection choices, four types of choice constraints are available:\n",
    "linked, permutations, unordered combinations, and unordered non-replacing combinations.\n",
    "These constraints enforce the following logic:\n",
    "\n",
    "- *Linked*: all choices are assigned the same option index, e.g. AA, BB, CC.\n",
    "- *Permutations*: all choices have a different option index, e.g. AB, AC, BA, BC, CA, CB.\n",
    "- *Unordered combinations*: choices have an equal or higher index than preceding choices, e.g. AA, AB, AC, BB, BC, CC.\n",
    "- *Unordered non-replacing combinations*: choices have a higher index than preceding choices, e.g. AB, AC, BC.\n",
    "\n",
    "Here we show how to apply this for selection constraints."
   ]
  },
  {
   "cell_type": "code",
   "execution_count": 4,
   "metadata": {
    "ExecuteTime": {
     "end_time": "2024-01-26T06:55:40.367323700Z",
     "start_time": "2024-01-26T06:55:40.344315100Z"
    },
    "collapsed": false,
    "jupyter": {
     "outputs_hidden": false
    }
   },
   "outputs": [
    {
     "data": {
      "text/html": [
       "<div id=\"205124c843ed4fccae628d6cd792dded\"></div>\n",
       "<script type=\"text/javascript\" src=\"https://cdn.jsdelivr.net/npm/@viz-js/viz@3.8.0/lib/viz-standalone.js\"></script>\n",
       "<script type=\"text/javascript\">\n",
       "(function() {\n",
       "  var dot = \"strict digraph  {\\nrankdir=LR;\\ndpi=60;\\nfontsize=20;\\n0 [label=<<B>N0</B>>, style=\\\"filled,bold\\\", fillcolor=\\\"#ffffff\\\", shape=ellipse, margin=0.05];\\n1 [label=\\\"C1\\\", style=\\\"filled\\\", fillcolor=\\\"#81D4FA\\\", shape=ellipse, margin=0.05];\\n2 [label=\\\"Opt0\\\", style=\\\"filled\\\", fillcolor=\\\"#ffffff\\\", shape=ellipse, margin=0.05];\\n3 [label=\\\"Opt1\\\", style=\\\"filled\\\", fillcolor=\\\"#ffffff\\\", shape=ellipse, margin=0.05];\\n4 [label=<<B>N1</B>>, style=\\\"filled,bold\\\", fillcolor=\\\"#ffffff\\\", shape=ellipse, margin=0.05];\\n5 [label=\\\"C2\\\", style=\\\"filled\\\", fillcolor=\\\"#81D4FA\\\", shape=ellipse, margin=0.05];\\n6 [label=\\\"Opt2\\\", style=\\\"filled\\\", fillcolor=\\\"#ffffff\\\", shape=ellipse, margin=0.05];\\n0 -> 1 [type=\\\"EdgeType.DERIVES\\\"];\\n1 -> 2 [type=\\\"EdgeType.DERIVES\\\"];\\n1 -> 3 [type=\\\"EdgeType.DERIVES\\\"];\\n1 -> 5 [color=\\\"#9C27B0\\\", style=dotted, penwidth=3, arrowhead=none, constraint=false, label=\\\">\\\"];\\n4 -> 5 [type=\\\"EdgeType.DERIVES\\\"];\\n5 -> 3 [type=\\\"EdgeType.DERIVES\\\"];\\n5 -> 6 [type=\\\"EdgeType.DERIVES\\\"];\\n}\\n\"; // Export of the dot graph notation\n",
       "  var printDot = false; // Whether to print the dot instead of rendering\n",
       "  var printSvg = false; // Whether to print the SVG instead of showing the results\n",
       "  // Create viz-js instance and render to SVG\n",
       "  function doRender() {\n",
       "    if (printDot) {\n",
       "      var preEl = document.createElement('pre');\n",
       "      preEl.innerText = dot;\n",
       "      document.getElementById(\"205124c843ed4fccae628d6cd792dded\").appendChild(preEl);\n",
       "    } else {\n",
       "      Viz.instance().then(function(viz) {\n",
       "        var tgtEl = document.getElementById(\"205124c843ed4fccae628d6cd792dded\");\n",
       "        var svgElement = viz.renderSVGElement(dot);\n",
       "        if (printSvg) {\n",
       "          var preEl = document.createElement('pre');\n",
       "          preEl.innerText = svgElement.outerHTML;\n",
       "          tgtEl.appendChild(preEl);\n",
       "        } else {\n",
       "          tgtEl.appendChild(svgElement);\n",
       "        }\n",
       "      }).catch(function(e) {\n",
       "        console.log('RENDER ERROR', e, dot);\n",
       "        var preEl = document.createElement('pre');\n",
       "        preEl.innerText = 'RENDER ERROR: '+e.toString();\n",
       "        document.getElementById(\"205124c843ed4fccae628d6cd792dded\").appendChild(preEl);\n",
       "        var preEl = document.createElement('pre');\n",
       "        preEl.innerText = dot;\n",
       "        document.getElementById(\"205124c843ed4fccae628d6cd792dded\").appendChild(preEl);\n",
       "      });\n",
       "    }\n",
       "  }\n",
       "  // We may need to wait for loading to complete\n",
       "  function checkRender() {\n",
       "    if (typeof Viz === \"undefined\") { setTimeout(checkRender, 100+200*Math.random()); } else { doRender(); } \n",
       "  }\n",
       "  checkRender();\n",
       "})()\n",
       "</script>\n"
      ],
      "text/plain": [
       "<IPython.core.display.HTML object>"
      ]
     },
     "metadata": {},
     "output_type": "display_data"
    },
    {
     "data": {
      "text/markdown": [
       "Rendering 3 instances"
      ],
      "text/plain": [
       "<IPython.core.display.Markdown object>"
      ]
     },
     "metadata": {},
     "output_type": "display_data"
    },
    {
     "data": {
      "text/html": [
       "<div id=\"b07675468e5d4a89a568c6067cf479c2\"></div>\n",
       "<script type=\"text/javascript\" src=\"https://cdn.jsdelivr.net/npm/@viz-js/viz@3.8.0/lib/viz-standalone.js\"></script>\n",
       "<script type=\"text/javascript\">\n",
       "(function() {\n",
       "  var dot = \"strict digraph  {\\nrankdir=LR;\\ndpi=60;\\nfontsize=20;\\n0 [label=<<B>N0</B>>, style=\\\"filled,bold\\\", fillcolor=\\\"#ffffff\\\", shape=ellipse, margin=0.05];\\n1 [label=\\\"Opt0\\\", style=\\\"filled\\\", fillcolor=\\\"#ffffff\\\", shape=ellipse, margin=0.05];\\n2 [label=<<B>N1</B>>, style=\\\"filled,bold\\\", fillcolor=\\\"#ffffff\\\", shape=ellipse, margin=0.05];\\n3 [label=\\\"Opt1\\\", style=\\\"filled\\\", fillcolor=\\\"#ffffff\\\", shape=ellipse, margin=0.05];\\n0 -> 1 [type=\\\"EdgeType.DERIVES\\\"];\\n2 -> 3 [type=\\\"EdgeType.DERIVES\\\"];\\n}\\n\"; // Export of the dot graph notation\n",
       "  var printDot = false; // Whether to print the dot instead of rendering\n",
       "  var printSvg = false; // Whether to print the SVG instead of showing the results\n",
       "  // Create viz-js instance and render to SVG\n",
       "  function doRender() {\n",
       "    if (printDot) {\n",
       "      var preEl = document.createElement('pre');\n",
       "      preEl.innerText = dot;\n",
       "      document.getElementById(\"b07675468e5d4a89a568c6067cf479c2\").appendChild(preEl);\n",
       "    } else {\n",
       "      Viz.instance().then(function(viz) {\n",
       "        var tgtEl = document.getElementById(\"b07675468e5d4a89a568c6067cf479c2\");\n",
       "        var svgElement = viz.renderSVGElement(dot);\n",
       "        if (printSvg) {\n",
       "          var preEl = document.createElement('pre');\n",
       "          preEl.innerText = svgElement.outerHTML;\n",
       "          tgtEl.appendChild(preEl);\n",
       "        } else {\n",
       "          tgtEl.appendChild(svgElement);\n",
       "        }\n",
       "      }).catch(function(e) {\n",
       "        console.log('RENDER ERROR', e, dot);\n",
       "        var preEl = document.createElement('pre');\n",
       "        preEl.innerText = 'RENDER ERROR: '+e.toString();\n",
       "        document.getElementById(\"b07675468e5d4a89a568c6067cf479c2\").appendChild(preEl);\n",
       "        var preEl = document.createElement('pre');\n",
       "        preEl.innerText = dot;\n",
       "        document.getElementById(\"b07675468e5d4a89a568c6067cf479c2\").appendChild(preEl);\n",
       "      });\n",
       "    }\n",
       "  }\n",
       "  // We may need to wait for loading to complete\n",
       "  function checkRender() {\n",
       "    if (typeof Viz === \"undefined\") { setTimeout(checkRender, 100+200*Math.random()); } else { doRender(); } \n",
       "  }\n",
       "  checkRender();\n",
       "})()\n",
       "</script>\n"
      ],
      "text/plain": [
       "<IPython.core.display.HTML object>"
      ]
     },
     "metadata": {},
     "output_type": "display_data"
    },
    {
     "data": {
      "text/html": [
       "<div id=\"86fc3dd95ef74c72928833ff2c7ed215\"></div>\n",
       "\n",
       "<script type=\"text/javascript\">\n",
       "(function() {\n",
       "  var dot = \"strict digraph  {\\nrankdir=LR;\\ndpi=60;\\nfontsize=20;\\n0 [label=<<B>N0</B>>, style=\\\"filled,bold\\\", fillcolor=\\\"#ffffff\\\", shape=ellipse, margin=0.05];\\n1 [label=\\\"Opt0\\\", style=\\\"filled\\\", fillcolor=\\\"#ffffff\\\", shape=ellipse, margin=0.05];\\n2 [label=<<B>N1</B>>, style=\\\"filled,bold\\\", fillcolor=\\\"#ffffff\\\", shape=ellipse, margin=0.05];\\n3 [label=\\\"Opt2\\\", style=\\\"filled\\\", fillcolor=\\\"#ffffff\\\", shape=ellipse, margin=0.05];\\n0 -> 1 [type=\\\"EdgeType.DERIVES\\\"];\\n2 -> 3 [type=\\\"EdgeType.DERIVES\\\"];\\n}\\n\"; // Export of the dot graph notation\n",
       "  var printDot = false; // Whether to print the dot instead of rendering\n",
       "  var printSvg = false; // Whether to print the SVG instead of showing the results\n",
       "  // Create viz-js instance and render to SVG\n",
       "  function doRender() {\n",
       "    if (printDot) {\n",
       "      var preEl = document.createElement('pre');\n",
       "      preEl.innerText = dot;\n",
       "      document.getElementById(\"86fc3dd95ef74c72928833ff2c7ed215\").appendChild(preEl);\n",
       "    } else {\n",
       "      Viz.instance().then(function(viz) {\n",
       "        var tgtEl = document.getElementById(\"86fc3dd95ef74c72928833ff2c7ed215\");\n",
       "        var svgElement = viz.renderSVGElement(dot);\n",
       "        if (printSvg) {\n",
       "          var preEl = document.createElement('pre');\n",
       "          preEl.innerText = svgElement.outerHTML;\n",
       "          tgtEl.appendChild(preEl);\n",
       "        } else {\n",
       "          tgtEl.appendChild(svgElement);\n",
       "        }\n",
       "      }).catch(function(e) {\n",
       "        console.log('RENDER ERROR', e, dot);\n",
       "        var preEl = document.createElement('pre');\n",
       "        preEl.innerText = 'RENDER ERROR: '+e.toString();\n",
       "        document.getElementById(\"86fc3dd95ef74c72928833ff2c7ed215\").appendChild(preEl);\n",
       "        var preEl = document.createElement('pre');\n",
       "        preEl.innerText = dot;\n",
       "        document.getElementById(\"86fc3dd95ef74c72928833ff2c7ed215\").appendChild(preEl);\n",
       "      });\n",
       "    }\n",
       "  }\n",
       "  // We may need to wait for loading to complete\n",
       "  function checkRender() {\n",
       "    if (typeof Viz === \"undefined\") { setTimeout(checkRender, 100+200*Math.random()); } else { doRender(); } \n",
       "  }\n",
       "  checkRender();\n",
       "})()\n",
       "</script>\n"
      ],
      "text/plain": [
       "<IPython.core.display.HTML object>"
      ]
     },
     "metadata": {},
     "output_type": "display_data"
    },
    {
     "data": {
      "text/html": [
       "<div id=\"f467e733ad034ea8bef9f9cffb02d138\"></div>\n",
       "\n",
       "<script type=\"text/javascript\">\n",
       "(function() {\n",
       "  var dot = \"strict digraph  {\\nrankdir=LR;\\ndpi=60;\\nfontsize=20;\\n0 [label=<<B>N0</B>>, style=\\\"filled,bold\\\", fillcolor=\\\"#ffffff\\\", shape=ellipse, margin=0.05];\\n1 [label=\\\"Opt1\\\", style=\\\"filled\\\", fillcolor=\\\"#ffffff\\\", shape=ellipse, margin=0.05];\\n2 [label=<<B>N1</B>>, style=\\\"filled,bold\\\", fillcolor=\\\"#ffffff\\\", shape=ellipse, margin=0.05];\\n3 [label=\\\"Opt2\\\", style=\\\"filled\\\", fillcolor=\\\"#ffffff\\\", shape=ellipse, margin=0.05];\\n0 -> 1 [type=\\\"EdgeType.DERIVES\\\"];\\n2 -> 3 [type=\\\"EdgeType.DERIVES\\\"];\\n}\\n\"; // Export of the dot graph notation\n",
       "  var printDot = false; // Whether to print the dot instead of rendering\n",
       "  var printSvg = false; // Whether to print the SVG instead of showing the results\n",
       "  // Create viz-js instance and render to SVG\n",
       "  function doRender() {\n",
       "    if (printDot) {\n",
       "      var preEl = document.createElement('pre');\n",
       "      preEl.innerText = dot;\n",
       "      document.getElementById(\"f467e733ad034ea8bef9f9cffb02d138\").appendChild(preEl);\n",
       "    } else {\n",
       "      Viz.instance().then(function(viz) {\n",
       "        var tgtEl = document.getElementById(\"f467e733ad034ea8bef9f9cffb02d138\");\n",
       "        var svgElement = viz.renderSVGElement(dot);\n",
       "        if (printSvg) {\n",
       "          var preEl = document.createElement('pre');\n",
       "          preEl.innerText = svgElement.outerHTML;\n",
       "          tgtEl.appendChild(preEl);\n",
       "        } else {\n",
       "          tgtEl.appendChild(svgElement);\n",
       "        }\n",
       "      }).catch(function(e) {\n",
       "        console.log('RENDER ERROR', e, dot);\n",
       "        var preEl = document.createElement('pre');\n",
       "        preEl.innerText = 'RENDER ERROR: '+e.toString();\n",
       "        document.getElementById(\"f467e733ad034ea8bef9f9cffb02d138\").appendChild(preEl);\n",
       "        var preEl = document.createElement('pre');\n",
       "        preEl.innerText = dot;\n",
       "        document.getElementById(\"f467e733ad034ea8bef9f9cffb02d138\").appendChild(preEl);\n",
       "      });\n",
       "    }\n",
       "  }\n",
       "  // We may need to wait for loading to complete\n",
       "  function checkRender() {\n",
       "    if (typeof Viz === \"undefined\") { setTimeout(checkRender, 100+200*Math.random()); } else { doRender(); } \n",
       "  }\n",
       "  checkRender();\n",
       "})()\n",
       "</script>\n"
      ],
      "text/plain": [
       "<IPython.core.display.HTML object>"
      ]
     },
     "metadata": {},
     "output_type": "display_data"
    }
   ],
   "source": [
    "from adsg_core import ChoiceConstraintType\n",
    "\n",
    "# Create a new DSG\n",
    "dsg = BasicDSG()\n",
    "\n",
    "# Create 2 independent choices with 3 options each\n",
    "nn = [NamedNode(f'Opt{i}') for i in range(3)]\n",
    "c1 = dsg.add_selection_choice('C1', n[0], nn)\n",
    "c2 = dsg.add_selection_choice('C2', n[1], nn)\n",
    "\n",
    "# Start nodes have to be defined before constraining the choices\n",
    "dsg = dsg.set_start_nodes({n[0], n[1]})\n",
    "\n",
    "# Constrain it so that only unordered non-replacing combinations are possible\n",
    "# This function also returns a (potentially) modified DSG!\n",
    "# \"Unordered non-replacing\" constraints are shown by purple-dashed edges annotated with \">\"\n",
    "dsg = dsg.constrain_choices(ChoiceConstraintType.UNORDERED_NOREPL, [c1, c2])\n",
    "dsg.render()\n",
    "\n",
    "dsg.render_all()"
   ]
  },
  {
   "cell_type": "markdown",
   "metadata": {
    "collapsed": false,
    "jupyter": {
     "outputs_hidden": false
    }
   },
   "source": [
    "You can observe that all combinations of the option nodes are included, however no permutations, and no cases where the same options are selected."
   ]
  },
  {
   "cell_type": "markdown",
   "metadata": {
    "collapsed": false,
    "jupyter": {
     "outputs_hidden": false
    }
   },
   "source": [
    "## Modeling Connection Choices\n",
    "\n",
    "*Connection choices* offer a generic way to model source to target connection problems, where source and target nodes\n",
    "are represented using *connection nodes*.\n",
    "Connection nodes behave the same as generic nodes with respect to derivation edges and selection choice, however\n",
    "additionally specify a *connector constraint*: a specification of how many outgoing (source) or incoming (target)\n",
    "connections the connector node can accept, and whether parallel connections to/from the same target/source are allowed.\n",
    "The connector constraint can be specified as:\n",
    "\n",
    "- A list of numbers (e.g. 1, 2 or 3 connections: `1,2,3`),\n",
    "- A lower and an upper bound (e.g. between 0 and 3, inclusive: `0..3`),\n",
    "- Or only a lower bound (e.g. 1 or more: `1..*`).\n",
    "\n",
    "In the DSG, a connection choice is defined by adding connection edges from one or more source nodes to a connection\n",
    "choice node, and from the connection choice node to one or more target nodes.\n",
    "To model the case where the order of connections is not important, *connection grouping nodes* can be used: the\n",
    "connector constraint of this node depends on aggregated connector constraints of incoming connection nodes (connected\n",
    "by derivation edges).\n",
    "It is also possible to define combinations of source and target nodes that may not be connected using *exclusion edges*.\n",
    "\n",
    "We now show a simple example of defining a DSG containing a connection choice."
   ]
  },
  {
   "cell_type": "code",
   "execution_count": 5,
   "metadata": {
    "ExecuteTime": {
     "end_time": "2024-01-26T07:35:18.949633500Z",
     "start_time": "2024-01-26T07:35:18.937633300Z"
    },
    "collapsed": false,
    "jupyter": {
     "outputs_hidden": false
    }
   },
   "outputs": [
    {
     "data": {
      "text/html": [
       "<div id=\"0d2295d308f4414cab7b0a3f6251d249\"></div>\n",
       "<script type=\"text/javascript\" src=\"https://cdn.jsdelivr.net/npm/@viz-js/viz@3.8.0/lib/viz-standalone.js\"></script>\n",
       "<script type=\"text/javascript\">\n",
       "(function() {\n",
       "  var dot = \"strict digraph  {\\nrankdir=LR;\\ndpi=60;\\nfontsize=20;\\n0 [label=\\\"CN0\\\", style=\\\"filled\\\", fillcolor=\\\"#ffffff\\\", shape=hexagon, margin=0.05];\\n1 [label=\\\"C\\\", style=\\\"filled\\\", fillcolor=\\\"#81D4FA\\\", shape=hexagon, margin=0.05];\\n2 [label=\\\"CN2\\\", style=\\\"filled\\\", fillcolor=\\\"#ffffff\\\", shape=hexagon, margin=0.05];\\n3 [label=\\\"CN3\\\", style=\\\"filled\\\", fillcolor=\\\"#ffffff\\\", shape=hexagon, margin=0.05];\\n4 [label=\\\"CN1\\\", style=\\\"filled\\\", fillcolor=\\\"#ffffff\\\", shape=hexagon, margin=0.05];\\n5 [label=<<B>Start</B>>, style=\\\"filled,bold\\\", fillcolor=\\\"#ffffff\\\", shape=ellipse, margin=0.05];\\n0 -> 1 [type=\\\"EdgeType.CONNECTS\\\", style=dashed, label=\\\"1..*\\\"];\\n1 -> 2 [type=\\\"EdgeType.CONNECTS\\\", style=dashed, label=\\\"1..*\\\"];\\n1 -> 3 [type=\\\"EdgeType.CONNECTS\\\", style=dashed, label=\\\"1..*\\\"];\\n4 -> 1 [type=\\\"EdgeType.CONNECTS\\\", style=dashed, label=\\\"1..*\\\"];\\n5 -> 0 [type=\\\"EdgeType.DERIVES\\\"];\\n5 -> 4 [type=\\\"EdgeType.DERIVES\\\"];\\n5 -> 2 [type=\\\"EdgeType.DERIVES\\\"];\\n5 -> 3 [type=\\\"EdgeType.DERIVES\\\"];\\n}\\n\"; // Export of the dot graph notation\n",
       "  var printDot = false; // Whether to print the dot instead of rendering\n",
       "  var printSvg = false; // Whether to print the SVG instead of showing the results\n",
       "  // Create viz-js instance and render to SVG\n",
       "  function doRender() {\n",
       "    if (printDot) {\n",
       "      var preEl = document.createElement('pre');\n",
       "      preEl.innerText = dot;\n",
       "      document.getElementById(\"0d2295d308f4414cab7b0a3f6251d249\").appendChild(preEl);\n",
       "    } else {\n",
       "      Viz.instance().then(function(viz) {\n",
       "        var tgtEl = document.getElementById(\"0d2295d308f4414cab7b0a3f6251d249\");\n",
       "        var svgElement = viz.renderSVGElement(dot);\n",
       "        if (printSvg) {\n",
       "          var preEl = document.createElement('pre');\n",
       "          preEl.innerText = svgElement.outerHTML;\n",
       "          tgtEl.appendChild(preEl);\n",
       "        } else {\n",
       "          tgtEl.appendChild(svgElement);\n",
       "        }\n",
       "      }).catch(function(e) {\n",
       "        console.log('RENDER ERROR', e, dot);\n",
       "        var preEl = document.createElement('pre');\n",
       "        preEl.innerText = 'RENDER ERROR: '+e.toString();\n",
       "        document.getElementById(\"0d2295d308f4414cab7b0a3f6251d249\").appendChild(preEl);\n",
       "        var preEl = document.createElement('pre');\n",
       "        preEl.innerText = dot;\n",
       "        document.getElementById(\"0d2295d308f4414cab7b0a3f6251d249\").appendChild(preEl);\n",
       "      });\n",
       "    }\n",
       "  }\n",
       "  // We may need to wait for loading to complete\n",
       "  function checkRender() {\n",
       "    if (typeof Viz === \"undefined\") { setTimeout(checkRender, 100+200*Math.random()); } else { doRender(); } \n",
       "  }\n",
       "  checkRender();\n",
       "})()\n",
       "</script>\n"
      ],
      "text/plain": [
       "<IPython.core.display.HTML object>"
      ]
     },
     "metadata": {},
     "output_type": "display_data"
    },
    {
     "data": {
      "text/html": [
       "<div id=\"2d807dc1e79f4a678579a992c34b7fb1\"></div>\n",
       "<script type=\"text/javascript\" src=\"https://cdn.jsdelivr.net/npm/@viz-js/viz@3.8.0/lib/viz-standalone.js\"></script>\n",
       "<script type=\"text/javascript\">\n",
       "(function() {\n",
       "  var dot = \"strict digraph  {\\nrankdir=LR;\\ndpi=60;\\nfontsize=16;\\nranksep=0;\\nnodesep=0.1;\\nlabel=\\\"DSG Legend\\\";\\nlabelloc=t;\\nbgcolor=\\\"#f5f8fa\\\";\\nnode [height=0];\\nleg_0 [label=\\\"Source 1\\\", style=\\\"filled\\\", fillcolor=\\\"#ffffff\\\", shape=hexagon, margin=0];\\nleg_1 [label=\\\"Connection\\\\nChoice\\\", style=\\\"filled\\\", fillcolor=\\\"#81D4FA\\\", shape=hexagon, margin=0];\\nleg_2 [label=\\\"Target 1\\\", style=\\\"filled\\\", fillcolor=\\\"#ffffff\\\", shape=hexagon, margin=0];\\nleg_3 [label=\\\"Target 2\\\", style=\\\"filled\\\", fillcolor=\\\"#ffffff\\\", shape=hexagon, margin=0];\\nleg_4 [label=\\\"Source 2\\\", style=\\\"filled\\\", fillcolor=\\\"#ffffff\\\", shape=hexagon, margin=0];\\nleg_5 [label=\\\"Source 2\\\", style=\\\"filled\\\", fillcolor=\\\"#ffffff\\\", shape=hexagon, margin=0];\\nleg_6 [label=\\\"C\\\", style=\\\"filled\\\", fillcolor=\\\"#ffffff\\\", shape=ellipse, margin=0];\\nleg_7 [label=\\\"D\\\", style=\\\"filled\\\", fillcolor=\\\"#ffffff\\\", shape=ellipse, margin=0];\\nleg_8 [label=\\\"A\\\", style=\\\"filled\\\", fillcolor=\\\"#ffffff\\\", shape=ellipse, margin=0];\\nleg_9 [label=\\\"B\\\", style=\\\"filled\\\", fillcolor=\\\"#ffffff\\\", shape=ellipse, margin=0];\\nleg_10 [label=\\\"Connector\\\", style=\\\"filled\\\", fillcolor=\\\"#ffffff\\\", shape=hexagon, margin=0];\\nleg_0 -> leg_1 [type=\\\"EdgeType.CONNECTS\\\", style=dashed, label=\\\"1\\\"];\\nleg_1 -> leg_2 [type=\\\"EdgeType.CONNECTS\\\", style=dashed, label=\\\"1..* \\u2225\\\"];\\nleg_1 -> leg_3 [type=\\\"EdgeType.CONNECTS\\\", style=dashed, label=\\\"0..2\\\"];\\nleg_4 -> leg_1 [type=\\\"EdgeType.CONNECTS\\\", style=dashed, label=\\\"0,1\\\"];\\nleg_5 -> leg_1 [type=\\\"EdgeType.CONNECTS\\\", style=dashed, label=\\\"0..* \\u2225\\\"];\\nleg_6 -> leg_7 [label=\\\"connects to\\\", type=\\\"EdgeType.CONNECTS\\\", style=dashed];\\nleg_8 -> leg_9 [label=derives, type=\\\"EdgeType.DERIVES\\\"];\\n}\\n\"; // Export of the dot graph notation\n",
       "  var printDot = false; // Whether to print the dot instead of rendering\n",
       "  var printSvg = false; // Whether to print the SVG instead of showing the results\n",
       "  // Create viz-js instance and render to SVG\n",
       "  function doRender() {\n",
       "    if (printDot) {\n",
       "      var preEl = document.createElement('pre');\n",
       "      preEl.innerText = dot;\n",
       "      document.getElementById(\"2d807dc1e79f4a678579a992c34b7fb1\").appendChild(preEl);\n",
       "    } else {\n",
       "      Viz.instance().then(function(viz) {\n",
       "        var tgtEl = document.getElementById(\"2d807dc1e79f4a678579a992c34b7fb1\");\n",
       "        var svgElement = viz.renderSVGElement(dot);\n",
       "        if (printSvg) {\n",
       "          var preEl = document.createElement('pre');\n",
       "          preEl.innerText = svgElement.outerHTML;\n",
       "          tgtEl.appendChild(preEl);\n",
       "        } else {\n",
       "          tgtEl.appendChild(svgElement);\n",
       "        }\n",
       "      }).catch(function(e) {\n",
       "        console.log('RENDER ERROR', e, dot);\n",
       "        var preEl = document.createElement('pre');\n",
       "        preEl.innerText = 'RENDER ERROR: '+e.toString();\n",
       "        document.getElementById(\"2d807dc1e79f4a678579a992c34b7fb1\").appendChild(preEl);\n",
       "        var preEl = document.createElement('pre');\n",
       "        preEl.innerText = dot;\n",
       "        document.getElementById(\"2d807dc1e79f4a678579a992c34b7fb1\").appendChild(preEl);\n",
       "      });\n",
       "    }\n",
       "  }\n",
       "  // We may need to wait for loading to complete\n",
       "  function checkRender() {\n",
       "    if (typeof Viz === \"undefined\") { setTimeout(checkRender, 100+200*Math.random()); } else { doRender(); } \n",
       "  }\n",
       "  checkRender();\n",
       "})()\n",
       "</script>\n"
      ],
      "text/plain": [
       "<IPython.core.display.HTML object>"
      ]
     },
     "metadata": {},
     "output_type": "display_data"
    }
   ],
   "source": [
    "from adsg_core import BasicDSG, NamedNode, ConnectorNode\n",
    "\n",
    "# Create the DSG and a start node\n",
    "dsg = BasicDSG()\n",
    "start = NamedNode('Start')\n",
    "\n",
    "# Define connector nodes:\n",
    "# Each needs at least one connection, with no upper limit\n",
    "# Parallel (repeated) connections between the same src/tgt are not allowed\n",
    "connectors = [ConnectorNode(f'CN{i}', deg_min=1, repeated_allowed=False)\n",
    "              for i in range(4)]\n",
    "\n",
    "# Add a connection choice connecting 2 sources to 2 targets\n",
    "c = dsg.add_connection_choice(\n",
    "    'C', src_nodes=connectors[:2], tgt_nodes=connectors[2:])\n",
    "\n",
    "# Ensure all connector nodes are selected\n",
    "dsg.add_edges([(start, cn) for cn in connectors])\n",
    "dsg = dsg.set_start_nodes({start})\n",
    "dsg.render()\n",
    "dsg.render_legend(['NODE_CONNECTOR', 'EDGE_DERIVE', 'EDGE_CONNECT', 'CHOICE_CONN'])"
   ]
  },
  {
   "cell_type": "markdown",
   "metadata": {
    "collapsed": false,
    "jupyter": {
     "outputs_hidden": false
    }
   },
   "source": [
    "Let's see how many valid connection sets are possible"
   ]
  },
  {
   "cell_type": "code",
   "execution_count": 6,
   "metadata": {
    "ExecuteTime": {
     "end_time": "2024-01-26T07:36:05.946370100Z",
     "start_time": "2024-01-26T07:36:05.905095200Z"
    },
    "collapsed": false,
    "jupyter": {
     "outputs_hidden": false
    }
   },
   "outputs": [
    {
     "name": "stdout",
     "output_type": "stream",
     "text": [
      "There are 7 valid connection sets\n"
     ]
    },
    {
     "data": {
      "text/markdown": [
       "Rendering 2 of 7 instances"
      ],
      "text/plain": [
       "<IPython.core.display.Markdown object>"
      ]
     },
     "metadata": {},
     "output_type": "display_data"
    },
    {
     "data": {
      "text/html": [
       "<div id=\"6f9260c7c63643e39ab928f648fb3006\"></div>\n",
       "<script type=\"text/javascript\" src=\"https://cdn.jsdelivr.net/npm/@viz-js/viz@3.8.0/lib/viz-standalone.js\"></script>\n",
       "<script type=\"text/javascript\">\n",
       "(function() {\n",
       "  var dot = \"strict digraph  {\\nrankdir=LR;\\ndpi=60;\\nfontsize=20;\\n0 [label=\\\"CN0\\\", style=\\\"filled\\\", fillcolor=\\\"#ffffff\\\", shape=hexagon, margin=0.05];\\n1 [label=\\\"CN3\\\", style=\\\"filled\\\", fillcolor=\\\"#ffffff\\\", shape=hexagon, margin=0.05];\\n2 [label=\\\"CN1\\\", style=\\\"filled\\\", fillcolor=\\\"#ffffff\\\", shape=hexagon, margin=0.05];\\n3 [label=\\\"CN2\\\", style=\\\"filled\\\", fillcolor=\\\"#ffffff\\\", shape=hexagon, margin=0.05];\\n4 [label=<<B>Start</B>>, style=\\\"filled,bold\\\", fillcolor=\\\"#ffffff\\\", shape=ellipse, margin=0.05];\\n0 -> 1 [type=\\\"EdgeType.CONNECTS\\\", style=dashed];\\n2 -> 3 [type=\\\"EdgeType.CONNECTS\\\", style=dashed];\\n4 -> 0 [type=\\\"EdgeType.DERIVES\\\"];\\n4 -> 2 [type=\\\"EdgeType.DERIVES\\\"];\\n4 -> 3 [type=\\\"EdgeType.DERIVES\\\"];\\n4 -> 1 [type=\\\"EdgeType.DERIVES\\\"];\\n}\\n\"; // Export of the dot graph notation\n",
       "  var printDot = false; // Whether to print the dot instead of rendering\n",
       "  var printSvg = false; // Whether to print the SVG instead of showing the results\n",
       "  // Create viz-js instance and render to SVG\n",
       "  function doRender() {\n",
       "    if (printDot) {\n",
       "      var preEl = document.createElement('pre');\n",
       "      preEl.innerText = dot;\n",
       "      document.getElementById(\"6f9260c7c63643e39ab928f648fb3006\").appendChild(preEl);\n",
       "    } else {\n",
       "      Viz.instance().then(function(viz) {\n",
       "        var tgtEl = document.getElementById(\"6f9260c7c63643e39ab928f648fb3006\");\n",
       "        var svgElement = viz.renderSVGElement(dot);\n",
       "        if (printSvg) {\n",
       "          var preEl = document.createElement('pre');\n",
       "          preEl.innerText = svgElement.outerHTML;\n",
       "          tgtEl.appendChild(preEl);\n",
       "        } else {\n",
       "          tgtEl.appendChild(svgElement);\n",
       "        }\n",
       "      }).catch(function(e) {\n",
       "        console.log('RENDER ERROR', e, dot);\n",
       "        var preEl = document.createElement('pre');\n",
       "        preEl.innerText = 'RENDER ERROR: '+e.toString();\n",
       "        document.getElementById(\"6f9260c7c63643e39ab928f648fb3006\").appendChild(preEl);\n",
       "        var preEl = document.createElement('pre');\n",
       "        preEl.innerText = dot;\n",
       "        document.getElementById(\"6f9260c7c63643e39ab928f648fb3006\").appendChild(preEl);\n",
       "      });\n",
       "    }\n",
       "  }\n",
       "  // We may need to wait for loading to complete\n",
       "  function checkRender() {\n",
       "    if (typeof Viz === \"undefined\") { setTimeout(checkRender, 100+200*Math.random()); } else { doRender(); } \n",
       "  }\n",
       "  checkRender();\n",
       "})()\n",
       "</script>\n"
      ],
      "text/plain": [
       "<IPython.core.display.HTML object>"
      ]
     },
     "metadata": {},
     "output_type": "display_data"
    },
    {
     "data": {
      "text/html": [
       "<div id=\"639a656d7d9f4f4f9781d532be006076\"></div>\n",
       "\n",
       "<script type=\"text/javascript\">\n",
       "(function() {\n",
       "  var dot = \"strict digraph  {\\nrankdir=LR;\\ndpi=60;\\nfontsize=20;\\n0 [label=\\\"CN0\\\", style=\\\"filled\\\", fillcolor=\\\"#ffffff\\\", shape=hexagon, margin=0.05];\\n1 [label=\\\"CN3\\\", style=\\\"filled\\\", fillcolor=\\\"#ffffff\\\", shape=hexagon, margin=0.05];\\n2 [label=\\\"CN1\\\", style=\\\"filled\\\", fillcolor=\\\"#ffffff\\\", shape=hexagon, margin=0.05];\\n3 [label=\\\"CN2\\\", style=\\\"filled\\\", fillcolor=\\\"#ffffff\\\", shape=hexagon, margin=0.05];\\n4 [label=<<B>Start</B>>, style=\\\"filled,bold\\\", fillcolor=\\\"#ffffff\\\", shape=ellipse, margin=0.05];\\n0 -> 1 [type=\\\"EdgeType.CONNECTS\\\", style=dashed];\\n2 -> 1 [type=\\\"EdgeType.CONNECTS\\\", style=dashed];\\n2 -> 3 [type=\\\"EdgeType.CONNECTS\\\", style=dashed];\\n4 -> 0 [type=\\\"EdgeType.DERIVES\\\"];\\n4 -> 2 [type=\\\"EdgeType.DERIVES\\\"];\\n4 -> 3 [type=\\\"EdgeType.DERIVES\\\"];\\n4 -> 1 [type=\\\"EdgeType.DERIVES\\\"];\\n}\\n\"; // Export of the dot graph notation\n",
       "  var printDot = false; // Whether to print the dot instead of rendering\n",
       "  var printSvg = false; // Whether to print the SVG instead of showing the results\n",
       "  // Create viz-js instance and render to SVG\n",
       "  function doRender() {\n",
       "    if (printDot) {\n",
       "      var preEl = document.createElement('pre');\n",
       "      preEl.innerText = dot;\n",
       "      document.getElementById(\"639a656d7d9f4f4f9781d532be006076\").appendChild(preEl);\n",
       "    } else {\n",
       "      Viz.instance().then(function(viz) {\n",
       "        var tgtEl = document.getElementById(\"639a656d7d9f4f4f9781d532be006076\");\n",
       "        var svgElement = viz.renderSVGElement(dot);\n",
       "        if (printSvg) {\n",
       "          var preEl = document.createElement('pre');\n",
       "          preEl.innerText = svgElement.outerHTML;\n",
       "          tgtEl.appendChild(preEl);\n",
       "        } else {\n",
       "          tgtEl.appendChild(svgElement);\n",
       "        }\n",
       "      }).catch(function(e) {\n",
       "        console.log('RENDER ERROR', e, dot);\n",
       "        var preEl = document.createElement('pre');\n",
       "        preEl.innerText = 'RENDER ERROR: '+e.toString();\n",
       "        document.getElementById(\"639a656d7d9f4f4f9781d532be006076\").appendChild(preEl);\n",
       "        var preEl = document.createElement('pre');\n",
       "        preEl.innerText = dot;\n",
       "        document.getElementById(\"639a656d7d9f4f4f9781d532be006076\").appendChild(preEl);\n",
       "      });\n",
       "    }\n",
       "  }\n",
       "  // We may need to wait for loading to complete\n",
       "  function checkRender() {\n",
       "    if (typeof Viz === \"undefined\") { setTimeout(checkRender, 100+200*Math.random()); } else { doRender(); } \n",
       "  }\n",
       "  checkRender();\n",
       "})()\n",
       "</script>\n"
      ],
      "text/plain": [
       "<IPython.core.display.HTML object>"
      ]
     },
     "metadata": {},
     "output_type": "display_data"
    }
   ],
   "source": [
    "n_valid_conn = len(list(c.iter_conn_edges(dsg)))\n",
    "print(f'There are {n_valid_conn} valid connection sets')\n",
    "\n",
    "# Render two example instances\n",
    "dsg.render_all([0, 1])"
   ]
  },
  {
   "cell_type": "markdown",
   "metadata": {
    "collapsed": false,
    "jupyter": {
     "outputs_hidden": false
    }
   },
   "source": [
    "### Connection Grouping\n",
    "\n",
    "Now let's model the case where for the target nodes, the connection order is irrelevant.\n",
    "That means that if CN1 connects to CN2 and CN3, we treat this as the same architecture as if it connects to CN3 and CN2."
   ]
  },
  {
   "cell_type": "code",
   "execution_count": 7,
   "metadata": {
    "ExecuteTime": {
     "end_time": "2024-01-26T07:36:08.654150100Z",
     "start_time": "2024-01-26T07:36:08.631541100Z"
    },
    "collapsed": false,
    "jupyter": {
     "outputs_hidden": false
    }
   },
   "outputs": [
    {
     "data": {
      "text/html": [
       "<div id=\"6695be9368d447168efa3467cfe3b7bc\"></div>\n",
       "<script type=\"text/javascript\" src=\"https://cdn.jsdelivr.net/npm/@viz-js/viz@3.8.0/lib/viz-standalone.js\"></script>\n",
       "<script type=\"text/javascript\">\n",
       "(function() {\n",
       "  var dot = \"strict digraph  {\\nrankdir=LR;\\ndpi=60;\\nfontsize=20;\\n0 [label=\\\"CN0\\\", style=\\\"filled\\\", fillcolor=\\\"#ffffff\\\", shape=hexagon, margin=0.05];\\n1 [label=\\\"C\\\", style=\\\"filled\\\", fillcolor=\\\"#81D4FA\\\", shape=hexagon, margin=0.05];\\n2 [label=\\\"Grp\\\", style=\\\"filled\\\", fillcolor=\\\"#ffffff\\\", shape=hexagon, margin=0.05];\\n3 [label=\\\"CN1\\\", style=\\\"filled\\\", fillcolor=\\\"#ffffff\\\", shape=hexagon, margin=0.05];\\n4 [label=\\\"CN2\\\", style=\\\"filled\\\", fillcolor=\\\"#ffffff\\\", shape=hexagon, margin=0.05];\\n5 [label=\\\"CN3\\\", style=\\\"filled\\\", fillcolor=\\\"#ffffff\\\", shape=hexagon, margin=0.05];\\n6 [label=<<B>Start</B>>, style=\\\"filled,bold\\\", fillcolor=\\\"#ffffff\\\", shape=ellipse, margin=0.05];\\n0 -> 1 [type=\\\"EdgeType.CONNECTS\\\", style=dashed, label=\\\"1..*\\\"];\\n1 -> 2 [type=\\\"EdgeType.CONNECTS\\\", style=dashed, label=\\\"2..*\\\"];\\n3 -> 1 [type=\\\"EdgeType.CONNECTS\\\", style=dashed, label=\\\"1..*\\\"];\\n4 -> 2 [type=\\\"EdgeType.DERIVES\\\", label=\\\"1..*\\\"];\\n5 -> 2 [type=\\\"EdgeType.DERIVES\\\", label=\\\"1..*\\\"];\\n6 -> 0 [type=\\\"EdgeType.DERIVES\\\"];\\n6 -> 3 [type=\\\"EdgeType.DERIVES\\\"];\\n6 -> 4 [type=\\\"EdgeType.DERIVES\\\"];\\n6 -> 5 [type=\\\"EdgeType.DERIVES\\\"];\\n}\\n\"; // Export of the dot graph notation\n",
       "  var printDot = false; // Whether to print the dot instead of rendering\n",
       "  var printSvg = false; // Whether to print the SVG instead of showing the results\n",
       "  // Create viz-js instance and render to SVG\n",
       "  function doRender() {\n",
       "    if (printDot) {\n",
       "      var preEl = document.createElement('pre');\n",
       "      preEl.innerText = dot;\n",
       "      document.getElementById(\"6695be9368d447168efa3467cfe3b7bc\").appendChild(preEl);\n",
       "    } else {\n",
       "      Viz.instance().then(function(viz) {\n",
       "        var tgtEl = document.getElementById(\"6695be9368d447168efa3467cfe3b7bc\");\n",
       "        var svgElement = viz.renderSVGElement(dot);\n",
       "        if (printSvg) {\n",
       "          var preEl = document.createElement('pre');\n",
       "          preEl.innerText = svgElement.outerHTML;\n",
       "          tgtEl.appendChild(preEl);\n",
       "        } else {\n",
       "          tgtEl.appendChild(svgElement);\n",
       "        }\n",
       "      }).catch(function(e) {\n",
       "        console.log('RENDER ERROR', e, dot);\n",
       "        var preEl = document.createElement('pre');\n",
       "        preEl.innerText = 'RENDER ERROR: '+e.toString();\n",
       "        document.getElementById(\"6695be9368d447168efa3467cfe3b7bc\").appendChild(preEl);\n",
       "        var preEl = document.createElement('pre');\n",
       "        preEl.innerText = dot;\n",
       "        document.getElementById(\"6695be9368d447168efa3467cfe3b7bc\").appendChild(preEl);\n",
       "      });\n",
       "    }\n",
       "  }\n",
       "  // We may need to wait for loading to complete\n",
       "  function checkRender() {\n",
       "    if (typeof Viz === \"undefined\") { setTimeout(checkRender, 100+200*Math.random()); } else { doRender(); } \n",
       "  }\n",
       "  checkRender();\n",
       "})()\n",
       "</script>\n"
      ],
      "text/plain": [
       "<IPython.core.display.HTML object>"
      ]
     },
     "metadata": {},
     "output_type": "display_data"
    }
   ],
   "source": [
    "from adsg_core import ConnectorDegreeGroupingNode\n",
    "\n",
    "# Create a new DSG\n",
    "dsg = BasicDSG()\n",
    "\n",
    "# Create the connection choice\n",
    "# Here we add a connection grouping node to the targets\n",
    "c = dsg.add_connection_choice(\n",
    "    'C', src_nodes=connectors[:2],\n",
    "    tgt_nodes=[\n",
    "        # The list of target nodes can still also contain individual nodes\n",
    "        # To specify a grouping node, we need to associate it with\n",
    "        # the underlying connectors\n",
    "        (ConnectorDegreeGroupingNode(), connectors[2:]),\n",
    "    ],\n",
    ")\n",
    "\n",
    "# Ensure all connector nodes are selected\n",
    "dsg.add_edges([(start, cn) for cn in connectors])\n",
    "dsg = dsg.set_start_nodes({start})\n",
    "dsg.render()"
   ]
  },
  {
   "cell_type": "markdown",
   "metadata": {
    "collapsed": false,
    "jupyter": {
     "outputs_hidden": false
    }
   },
   "source": [
    "You can observe that the grouping node connection constraint covers both the individual connection constraints of C2 and C3.\n",
    "Now there is only one valid connection set left:"
   ]
  },
  {
   "cell_type": "code",
   "execution_count": 8,
   "metadata": {
    "ExecuteTime": {
     "end_time": "2024-01-26T07:36:25.955414900Z",
     "start_time": "2024-01-26T07:36:25.928408200Z"
    },
    "collapsed": false,
    "jupyter": {
     "outputs_hidden": false
    }
   },
   "outputs": [
    {
     "name": "stdout",
     "output_type": "stream",
     "text": [
      "There is 1 valid connection set\n"
     ]
    },
    {
     "data": {
      "text/markdown": [
       "Rendering 1 instances"
      ],
      "text/plain": [
       "<IPython.core.display.Markdown object>"
      ]
     },
     "metadata": {},
     "output_type": "display_data"
    },
    {
     "data": {
      "text/html": [
       "<div id=\"b283b9dcbaba48f28efe6431ef948630\"></div>\n",
       "<script type=\"text/javascript\" src=\"https://cdn.jsdelivr.net/npm/@viz-js/viz@3.8.0/lib/viz-standalone.js\"></script>\n",
       "<script type=\"text/javascript\">\n",
       "(function() {\n",
       "  var dot = \"strict digraph  {\\nrankdir=LR;\\ndpi=60;\\nfontsize=20;\\n0 [label=\\\"CN0\\\", style=\\\"filled\\\", fillcolor=\\\"#ffffff\\\", shape=hexagon, margin=0.05];\\n1 [label=\\\"Grp\\\", style=\\\"filled\\\", fillcolor=\\\"#ffffff\\\", shape=hexagon, margin=0.05];\\n2 [label=\\\"CN1\\\", style=\\\"filled\\\", fillcolor=\\\"#ffffff\\\", shape=hexagon, margin=0.05];\\n3 [label=\\\"CN2\\\", style=\\\"filled\\\", fillcolor=\\\"#ffffff\\\", shape=hexagon, margin=0.05];\\n4 [label=\\\"CN3\\\", style=\\\"filled\\\", fillcolor=\\\"#ffffff\\\", shape=hexagon, margin=0.05];\\n5 [label=<<B>Start</B>>, style=\\\"filled,bold\\\", fillcolor=\\\"#ffffff\\\", shape=ellipse, margin=0.05];\\n0 -> 1 [type=\\\"EdgeType.CONNECTS\\\", style=dashed];\\n2 -> 1 [type=\\\"EdgeType.CONNECTS\\\", style=dashed];\\n3 -> 1 [type=\\\"EdgeType.DERIVES\\\", label=\\\"1..*\\\"];\\n4 -> 1 [type=\\\"EdgeType.DERIVES\\\", label=\\\"1..*\\\"];\\n5 -> 0 [type=\\\"EdgeType.DERIVES\\\"];\\n5 -> 2 [type=\\\"EdgeType.DERIVES\\\"];\\n5 -> 3 [type=\\\"EdgeType.DERIVES\\\"];\\n5 -> 4 [type=\\\"EdgeType.DERIVES\\\"];\\n}\\n\"; // Export of the dot graph notation\n",
       "  var printDot = false; // Whether to print the dot instead of rendering\n",
       "  var printSvg = false; // Whether to print the SVG instead of showing the results\n",
       "  // Create viz-js instance and render to SVG\n",
       "  function doRender() {\n",
       "    if (printDot) {\n",
       "      var preEl = document.createElement('pre');\n",
       "      preEl.innerText = dot;\n",
       "      document.getElementById(\"b283b9dcbaba48f28efe6431ef948630\").appendChild(preEl);\n",
       "    } else {\n",
       "      Viz.instance().then(function(viz) {\n",
       "        var tgtEl = document.getElementById(\"b283b9dcbaba48f28efe6431ef948630\");\n",
       "        var svgElement = viz.renderSVGElement(dot);\n",
       "        if (printSvg) {\n",
       "          var preEl = document.createElement('pre');\n",
       "          preEl.innerText = svgElement.outerHTML;\n",
       "          tgtEl.appendChild(preEl);\n",
       "        } else {\n",
       "          tgtEl.appendChild(svgElement);\n",
       "        }\n",
       "      }).catch(function(e) {\n",
       "        console.log('RENDER ERROR', e, dot);\n",
       "        var preEl = document.createElement('pre');\n",
       "        preEl.innerText = 'RENDER ERROR: '+e.toString();\n",
       "        document.getElementById(\"b283b9dcbaba48f28efe6431ef948630\").appendChild(preEl);\n",
       "        var preEl = document.createElement('pre');\n",
       "        preEl.innerText = dot;\n",
       "        document.getElementById(\"b283b9dcbaba48f28efe6431ef948630\").appendChild(preEl);\n",
       "      });\n",
       "    }\n",
       "  }\n",
       "  // We may need to wait for loading to complete\n",
       "  function checkRender() {\n",
       "    if (typeof Viz === \"undefined\") { setTimeout(checkRender, 100+200*Math.random()); } else { doRender(); } \n",
       "  }\n",
       "  checkRender();\n",
       "})()\n",
       "</script>\n"
      ],
      "text/plain": [
       "<IPython.core.display.HTML object>"
      ]
     },
     "metadata": {},
     "output_type": "display_data"
    }
   ],
   "source": [
    "n_valid_conn = len(list(c.iter_conn_edges(dsg)))\n",
    "print(f'There is {n_valid_conn} valid connection set')\n",
    "dsg.render_all()"
   ]
  },
  {
   "cell_type": "markdown",
   "metadata": {
    "collapsed": false,
    "jupyter": {
     "outputs_hidden": false
    }
   },
   "source": [
    "### Connector Constraints\n",
    "\n",
    "Let's see some more ways to define connector constraints."
   ]
  },
  {
   "cell_type": "code",
   "execution_count": 9,
   "metadata": {
    "ExecuteTime": {
     "end_time": "2024-01-26T07:42:18.025111700Z",
     "start_time": "2024-01-26T07:42:18.000417300Z"
    },
    "collapsed": false,
    "jupyter": {
     "outputs_hidden": false
    }
   },
   "outputs": [
    {
     "data": {
      "text/html": [
       "<div id=\"1eec5e4e678245efbcd2fc791a5eb871\"></div>\n",
       "<script type=\"text/javascript\" src=\"https://cdn.jsdelivr.net/npm/@viz-js/viz@3.8.0/lib/viz-standalone.js\"></script>\n",
       "<script type=\"text/javascript\">\n",
       "(function() {\n",
       "  var dot = \"strict digraph  {\\nrankdir=LR;\\ndpi=60;\\nfontsize=20;\\n0 [label=\\\"S1\\\", style=\\\"filled\\\", fillcolor=\\\"#ffffff\\\", shape=hexagon, margin=0.05];\\n1 [label=\\\"C\\\", style=\\\"filled\\\", fillcolor=\\\"#81D4FA\\\", shape=hexagon, margin=0.05];\\n2 [label=\\\"T1\\\", style=\\\"filled\\\", fillcolor=\\\"#ffffff\\\", shape=hexagon, margin=0.05];\\n3 [label=\\\"T1\\\", style=\\\"filled\\\", fillcolor=\\\"#ffffff\\\", shape=hexagon, margin=0.05];\\n4 [label=\\\"T1\\\", style=\\\"filled\\\", fillcolor=\\\"#ffffff\\\", shape=hexagon, margin=0.05];\\n5 [label=\\\"S2\\\", style=\\\"filled\\\", fillcolor=\\\"#ffffff\\\", shape=hexagon, margin=0.05];\\n6 [label=\\\"S3\\\", style=\\\"filled\\\", fillcolor=\\\"#ffffff\\\", shape=hexagon, margin=0.05];\\n7 [label=\\\"S4\\\", style=\\\"filled\\\", fillcolor=\\\"#ffffff\\\", shape=hexagon, margin=0.05];\\n8 [label=<<B>Start</B>>, style=\\\"filled,bold\\\", fillcolor=\\\"#ffffff\\\", shape=ellipse, margin=0.05];\\n0 -> 1 [type=\\\"EdgeType.CONNECTS\\\", style=dashed, label=\\\"1 \\u2225\\\"];\\n1 -> 2 [type=\\\"EdgeType.CONNECTS\\\", style=dashed, label=\\\"0..*\\\"];\\n1 -> 3 [type=\\\"EdgeType.CONNECTS\\\", style=dashed, label=\\\"1..*\\\"];\\n1 -> 4 [type=\\\"EdgeType.CONNECTS\\\", style=dashed, label=\\\"0..1\\\"];\\n5 -> 1 [type=\\\"EdgeType.CONNECTS\\\", style=dashed, label=\\\"0,1\\\"];\\n6 -> 1 [type=\\\"EdgeType.CONNECTS\\\", style=dashed, label=\\\"0..2\\\"];\\n7 -> 1 [type=\\\"EdgeType.CONNECTS\\\", style=dashed, label=\\\"1..3\\\"];\\n8 -> 0 [type=\\\"EdgeType.DERIVES\\\"];\\n8 -> 5 [type=\\\"EdgeType.DERIVES\\\"];\\n8 -> 6 [type=\\\"EdgeType.DERIVES\\\"];\\n8 -> 7 [type=\\\"EdgeType.DERIVES\\\"];\\n8 -> 2 [type=\\\"EdgeType.DERIVES\\\"];\\n8 -> 3 [type=\\\"EdgeType.DERIVES\\\"];\\n8 -> 4 [type=\\\"EdgeType.DERIVES\\\"];\\n}\\n\"; // Export of the dot graph notation\n",
       "  var printDot = false; // Whether to print the dot instead of rendering\n",
       "  var printSvg = false; // Whether to print the SVG instead of showing the results\n",
       "  // Create viz-js instance and render to SVG\n",
       "  function doRender() {\n",
       "    if (printDot) {\n",
       "      var preEl = document.createElement('pre');\n",
       "      preEl.innerText = dot;\n",
       "      document.getElementById(\"1eec5e4e678245efbcd2fc791a5eb871\").appendChild(preEl);\n",
       "    } else {\n",
       "      Viz.instance().then(function(viz) {\n",
       "        var tgtEl = document.getElementById(\"1eec5e4e678245efbcd2fc791a5eb871\");\n",
       "        var svgElement = viz.renderSVGElement(dot);\n",
       "        if (printSvg) {\n",
       "          var preEl = document.createElement('pre');\n",
       "          preEl.innerText = svgElement.outerHTML;\n",
       "          tgtEl.appendChild(preEl);\n",
       "        } else {\n",
       "          tgtEl.appendChild(svgElement);\n",
       "        }\n",
       "      }).catch(function(e) {\n",
       "        console.log('RENDER ERROR', e, dot);\n",
       "        var preEl = document.createElement('pre');\n",
       "        preEl.innerText = 'RENDER ERROR: '+e.toString();\n",
       "        document.getElementById(\"1eec5e4e678245efbcd2fc791a5eb871\").appendChild(preEl);\n",
       "        var preEl = document.createElement('pre');\n",
       "        preEl.innerText = dot;\n",
       "        document.getElementById(\"1eec5e4e678245efbcd2fc791a5eb871\").appendChild(preEl);\n",
       "      });\n",
       "    }\n",
       "  }\n",
       "  // We may need to wait for loading to complete\n",
       "  function checkRender() {\n",
       "    if (typeof Viz === \"undefined\") { setTimeout(checkRender, 100+200*Math.random()); } else { doRender(); } \n",
       "  }\n",
       "  checkRender();\n",
       "})()\n",
       "</script>\n"
      ],
      "text/plain": [
       "<IPython.core.display.HTML object>"
      ]
     },
     "metadata": {},
     "output_type": "display_data"
    },
    {
     "name": "stdout",
     "output_type": "stream",
     "text": [
      "There are 260 valid connection sets\n"
     ]
    }
   ],
   "source": [
    "# Create a new DSG\n",
    "dsg = BasicDSG()\n",
    "\n",
    "# Define connector nodes with various constraints\n",
    "src_conn = [\n",
    "    ConnectorNode('S1', deg_list=[1],\n",
    "                  repeated_allowed=True),  # 1 connection, parallel allowed\n",
    "    ConnectorNode('S2', deg_list=[0, 1]),  # 1 optional connection\n",
    "    ConnectorNode('S3', deg_min=0, deg_max=2),  # Max 2 connections\n",
    "    ConnectorNode('S4', deg_min=1, deg_max=3),  # Between 1 and 3 connections\n",
    "]\n",
    "tgt_conn = [\n",
    "    ConnectorNode('T1', deg_spec='*'),  # Any nr of connections\n",
    "    ConnectorNode('T1', deg_spec='+'),  # At least 1 connection\n",
    "    ConnectorNode('T1', deg_spec='?'),  # 1 optional connection\n",
    "]\n",
    "\n",
    "# Create the connection choice\n",
    "c = dsg.add_connection_choice('C', src_nodes=src_conn, tgt_nodes=tgt_conn)\n",
    "\n",
    "# Ensure all connector nodes are selected\n",
    "dsg.add_edges([(start, cn) for cn in src_conn])\n",
    "dsg.add_edges([(start, cn) for cn in tgt_conn])\n",
    "dsg = dsg.set_start_nodes({start})\n",
    "dsg.render()\n",
    "\n",
    "n_valid_conn = len(list(c.iter_conn_edges(dsg)))\n",
    "print(f'There are {n_valid_conn} valid connection sets')"
   ]
  },
  {
   "cell_type": "markdown",
   "metadata": {
    "collapsed": false,
    "jupyter": {
     "outputs_hidden": false
    }
   },
   "source": [
    "### Combining Selection and Connection Choices\n",
    "\n",
    "Selection choices determine which nodes are present in an architecture instance, and connector nodes are also subject to this selection.\n",
    "Selection choices therefore may influence which valid connection sets are available for a connection choice.\n",
    "\n",
    "We demonstrate the interaction using the example on the theory page."
   ]
  },
  {
   "cell_type": "code",
   "execution_count": 10,
   "metadata": {
    "ExecuteTime": {
     "end_time": "2024-01-26T07:51:02.546853900Z",
     "start_time": "2024-01-26T07:51:02.519854700Z"
    },
    "collapsed": false,
    "jupyter": {
     "outputs_hidden": false
    }
   },
   "outputs": [
    {
     "data": {
      "text/html": [
       "<div id=\"3d11cc7319f1463f9301aadaaa351944\"></div>\n",
       "<script type=\"text/javascript\" src=\"https://cdn.jsdelivr.net/npm/@viz-js/viz@3.8.0/lib/viz-standalone.js\"></script>\n",
       "<script type=\"text/javascript\">\n",
       "(function() {\n",
       "  var dot = \"strict digraph  {\\nrankdir=LR;\\ndpi=60;\\nfontsize=20;\\n0 [label=<<B>N0</B>>, style=\\\"filled,bold\\\", fillcolor=\\\"#ffffff\\\", shape=ellipse, margin=0.05];\\n1 [label=\\\"C1\\\", style=\\\"filled\\\", fillcolor=\\\"#81D4FA\\\", shape=ellipse, margin=0.05];\\n2 [label=\\\"S3\\\", style=\\\"filled\\\", fillcolor=\\\"#ffffff\\\", shape=hexagon, margin=0.05];\\n3 [label=\\\"S1\\\", style=\\\"filled\\\", fillcolor=\\\"#ffffff\\\", shape=hexagon, margin=0.05];\\n4 [label=\\\"S2\\\", style=\\\"filled\\\", fillcolor=\\\"#ffffff\\\", shape=hexagon, margin=0.05];\\n5 [label=\\\"C2\\\", style=\\\"filled\\\", fillcolor=\\\"#81D4FA\\\", shape=hexagon, margin=0.05];\\n6 [label=\\\"Grp\\\", style=\\\"filled\\\", fillcolor=\\\"#ffffff\\\", shape=hexagon, margin=0.05];\\n7 [label=\\\"T1\\\", style=\\\"filled\\\", fillcolor=\\\"#ffffff\\\", shape=hexagon, margin=0.05];\\n8 [label=\\\"T2\\\", style=\\\"filled\\\", fillcolor=\\\"#ffffff\\\", shape=hexagon, margin=0.05];\\n9 [label=<<B>N1</B>>, style=\\\"filled,bold\\\", fillcolor=\\\"#ffffff\\\", shape=ellipse, margin=0.05];\\n0 -> 1 [type=\\\"EdgeType.DERIVES\\\"];\\n0 -> 2 [type=\\\"EdgeType.DERIVES\\\"];\\n1 -> 3 [type=\\\"EdgeType.DERIVES\\\"];\\n1 -> 4 [type=\\\"EdgeType.DERIVES\\\"];\\n2 -> 5 [type=\\\"EdgeType.CONNECTS\\\", style=dashed, label=\\\"0..* \\u2225\\\"];\\n3 -> 6 [type=\\\"EdgeType.DERIVES\\\", label=\\\"1,2 \\u2225\\\"];\\n4 -> 3 [type=\\\"EdgeType.DERIVES\\\"];\\n4 -> 6 [type=\\\"EdgeType.DERIVES\\\", label=\\\"1,2 \\u2225\\\"];\\n5 -> 7 [type=\\\"EdgeType.CONNECTS\\\", style=dashed, label=\\\"1\\\"];\\n5 -> 8 [type=\\\"EdgeType.CONNECTS\\\", style=dashed, label=\\\"0,2 \\u2225\\\"];\\n6 -> 5 [type=\\\"EdgeType.CONNECTS\\\", style=dashed, label=\\\"2,3,4 \\u2225\\\"];\\n9 -> 7 [type=\\\"EdgeType.DERIVES\\\"];\\n9 -> 8 [type=\\\"EdgeType.DERIVES\\\"];\\n}\\n\"; // Export of the dot graph notation\n",
       "  var printDot = false; // Whether to print the dot instead of rendering\n",
       "  var printSvg = false; // Whether to print the SVG instead of showing the results\n",
       "  // Create viz-js instance and render to SVG\n",
       "  function doRender() {\n",
       "    if (printDot) {\n",
       "      var preEl = document.createElement('pre');\n",
       "      preEl.innerText = dot;\n",
       "      document.getElementById(\"3d11cc7319f1463f9301aadaaa351944\").appendChild(preEl);\n",
       "    } else {\n",
       "      Viz.instance().then(function(viz) {\n",
       "        var tgtEl = document.getElementById(\"3d11cc7319f1463f9301aadaaa351944\");\n",
       "        var svgElement = viz.renderSVGElement(dot);\n",
       "        if (printSvg) {\n",
       "          var preEl = document.createElement('pre');\n",
       "          preEl.innerText = svgElement.outerHTML;\n",
       "          tgtEl.appendChild(preEl);\n",
       "        } else {\n",
       "          tgtEl.appendChild(svgElement);\n",
       "        }\n",
       "      }).catch(function(e) {\n",
       "        console.log('RENDER ERROR', e, dot);\n",
       "        var preEl = document.createElement('pre');\n",
       "        preEl.innerText = 'RENDER ERROR: '+e.toString();\n",
       "        document.getElementById(\"3d11cc7319f1463f9301aadaaa351944\").appendChild(preEl);\n",
       "        var preEl = document.createElement('pre');\n",
       "        preEl.innerText = dot;\n",
       "        document.getElementById(\"3d11cc7319f1463f9301aadaaa351944\").appendChild(preEl);\n",
       "      });\n",
       "    }\n",
       "  }\n",
       "  // We may need to wait for loading to complete\n",
       "  function checkRender() {\n",
       "    if (typeof Viz === \"undefined\") { setTimeout(checkRender, 100+200*Math.random()); } else { doRender(); } \n",
       "  }\n",
       "  checkRender();\n",
       "})()\n",
       "</script>\n"
      ],
      "text/plain": [
       "<IPython.core.display.HTML object>"
      ]
     },
     "metadata": {},
     "output_type": "display_data"
    }
   ],
   "source": [
    "# Create the DSG and the start nodes\n",
    "dsg = BasicDSG()\n",
    "n = [NamedNode(f'N{i}') for i in range(2)]\n",
    "\n",
    "# Define the connector nodes\n",
    "src_nodes = [\n",
    "    ConnectorNode('S1', deg_list=[1, 2], repeated_allowed=True),\n",
    "    ConnectorNode('S2', deg_list=[1, 2], repeated_allowed=True),\n",
    "    ConnectorNode('S3', deg_min=0, repeated_allowed=True),\n",
    "]\n",
    "tgt_nodes = [\n",
    "    ConnectorNode('T1', deg_list=[1]),\n",
    "    ConnectorNode('T2', deg_list=[0, 2], repeated_allowed=True),\n",
    "]\n",
    "\n",
    "# Add the selection choice and derivation edges\n",
    "dsg.add_selection_choice('C1', n[0], src_nodes[:2])\n",
    "dsg.add_edges([\n",
    "    (n[0], src_nodes[2]),  # N0 to S3\n",
    "    (src_nodes[1], src_nodes[0]),  # S2 to S1\n",
    "    (n[1], tgt_nodes[0]), (n[1], tgt_nodes[1]),  # N1 to T1 and T2\n",
    "])\n",
    "\n",
    "# Add the connection choice\n",
    "dsg.add_connection_choice(\n",
    "    'C2', src_nodes=[\n",
    "        (ConnectorDegreeGroupingNode('Grp'), src_nodes[:2]),\n",
    "        src_nodes[2],\n",
    "    ], tgt_nodes=tgt_nodes)\n",
    "\n",
    "dsg = dsg.set_start_nodes({n[0], n[1]})\n",
    "dsg.render()"
   ]
  },
  {
   "cell_type": "code",
   "execution_count": 11,
   "metadata": {
    "ExecuteTime": {
     "end_time": "2024-01-26T07:55:48.027490Z",
     "start_time": "2024-01-26T07:55:47.997488900Z"
    },
    "collapsed": false,
    "jupyter": {
     "outputs_hidden": false
    }
   },
   "outputs": [
    {
     "data": {
      "text/markdown": [
       "Rendering 1 of 8 instances"
      ],
      "text/plain": [
       "<IPython.core.display.Markdown object>"
      ]
     },
     "metadata": {},
     "output_type": "display_data"
    },
    {
     "data": {
      "text/html": [
       "<div id=\"dc49c93827cf44038f0c6c5b49a50524\"></div>\n",
       "<script type=\"text/javascript\" src=\"https://cdn.jsdelivr.net/npm/@viz-js/viz@3.8.0/lib/viz-standalone.js\"></script>\n",
       "<script type=\"text/javascript\">\n",
       "(function() {\n",
       "  var dot = \"strict digraph  {\\nrankdir=LR;\\ndpi=60;\\nfontsize=20;\\n0 [label=<<B>N0</B>>, style=\\\"filled,bold\\\", fillcolor=\\\"#ffffff\\\", shape=ellipse, margin=0.05];\\n1 [label=\\\"S3\\\", style=\\\"filled\\\", fillcolor=\\\"#ffffff\\\", shape=hexagon, margin=0.05];\\n2 [label=\\\"S1\\\", style=\\\"filled\\\", fillcolor=\\\"#ffffff\\\", shape=hexagon, margin=0.05];\\n3 [label=\\\"T2\\\", style=\\\"filled\\\", fillcolor=\\\"#ffffff\\\", shape=hexagon, margin=0.05];\\n4 [label=\\\"Grp\\\", style=\\\"filled\\\", fillcolor=\\\"#ffffff\\\", shape=hexagon, margin=0.05];\\n5 [label=\\\"T1\\\", style=\\\"filled\\\", fillcolor=\\\"#ffffff\\\", shape=hexagon, margin=0.05];\\n6 [label=<<B>N1</B>>, style=\\\"filled,bold\\\", fillcolor=\\\"#ffffff\\\", shape=ellipse, margin=0.05];\\n0 -> 1 [type=\\\"EdgeType.DERIVES\\\"];\\n0 -> 2 [type=\\\"EdgeType.DERIVES\\\"];\\n1 -> 3 [type=\\\"EdgeType.CONNECTS\\\", style=dashed, label=\\\"2x\\\"];\\n2 -> 4 [type=\\\"EdgeType.DERIVES\\\", label=\\\"1,2 \\u2225\\\"];\\n4 -> 5 [type=\\\"EdgeType.CONNECTS\\\", style=dashed];\\n6 -> 5 [type=\\\"EdgeType.DERIVES\\\"];\\n6 -> 3 [type=\\\"EdgeType.DERIVES\\\"];\\n}\\n\"; // Export of the dot graph notation\n",
       "  var printDot = false; // Whether to print the dot instead of rendering\n",
       "  var printSvg = false; // Whether to print the SVG instead of showing the results\n",
       "  // Create viz-js instance and render to SVG\n",
       "  function doRender() {\n",
       "    if (printDot) {\n",
       "      var preEl = document.createElement('pre');\n",
       "      preEl.innerText = dot;\n",
       "      document.getElementById(\"dc49c93827cf44038f0c6c5b49a50524\").appendChild(preEl);\n",
       "    } else {\n",
       "      Viz.instance().then(function(viz) {\n",
       "        var tgtEl = document.getElementById(\"dc49c93827cf44038f0c6c5b49a50524\");\n",
       "        var svgElement = viz.renderSVGElement(dot);\n",
       "        if (printSvg) {\n",
       "          var preEl = document.createElement('pre');\n",
       "          preEl.innerText = svgElement.outerHTML;\n",
       "          tgtEl.appendChild(preEl);\n",
       "        } else {\n",
       "          tgtEl.appendChild(svgElement);\n",
       "        }\n",
       "      }).catch(function(e) {\n",
       "        console.log('RENDER ERROR', e, dot);\n",
       "        var preEl = document.createElement('pre');\n",
       "        preEl.innerText = 'RENDER ERROR: '+e.toString();\n",
       "        document.getElementById(\"dc49c93827cf44038f0c6c5b49a50524\").appendChild(preEl);\n",
       "        var preEl = document.createElement('pre');\n",
       "        preEl.innerText = dot;\n",
       "        document.getElementById(\"dc49c93827cf44038f0c6c5b49a50524\").appendChild(preEl);\n",
       "      });\n",
       "    }\n",
       "  }\n",
       "  // We may need to wait for loading to complete\n",
       "  function checkRender() {\n",
       "    if (typeof Viz === \"undefined\") { setTimeout(checkRender, 100+200*Math.random()); } else { doRender(); } \n",
       "  }\n",
       "  checkRender();\n",
       "})()\n",
       "</script>\n"
      ],
      "text/plain": [
       "<IPython.core.display.HTML object>"
      ]
     },
     "metadata": {},
     "output_type": "display_data"
    }
   ],
   "source": [
    "# There should be 8 valid architectures (see table on the theory page)\n",
    "\n",
    "# We render one of them that has multiple edges from S3 to T2\n",
    "dsg.render_all([1])"
   ]
  },
  {
   "cell_type": "markdown",
   "metadata": {
    "ExecuteTime": {
     "end_time": "2024-01-26T07:09:12.860404600Z",
     "start_time": "2024-01-26T07:09:12.853414Z"
    },
    "collapsed": false,
    "jupyter": {
     "outputs_hidden": false
    }
   },
   "source": [
    "## Additional Design Variables and Metrics\n",
    "\n",
    "Next to selection and connection choices, it is also possible to define generic design variables, for example to model\n",
    "parameter selections.\n",
    "These are defined using *design variable nodes* that are subject to node selection just as generic nodes and can\n",
    "therefore exist conditionally.\n",
    "Two types of design variables can be defined:\n",
    "\n",
    "- Continuous design variables, defined by a lower and upper bound (inclusive),\n",
    "- Discrete design variables, defined by a list of option values (strings).\n",
    "\n",
    "The design problem definition is completed by additionally defining performance metrics using *metric nodes*.\n",
    "Metric nodes represent outputs of an evaluation function and can be used as objectives or constraints in the context of\n",
    "an optimization problem:\n",
    "\n",
    "- Objectives are minimization or maximization targets. Metric nodes can only be used as objectives if they are\n",
    "  permanent, as otherwise it is not possible to compare the performance of all architectures.\n",
    "- Constraints represent inequality design constraints: values that should be above (greater than or equal) or\n",
    "  below (lower than or equal) some threshold. Metrics used as constraints can be conditional: if the node is not\n",
    "  part of some architecture, it means that the constraint does not apply and the constraint is assumed satisfied\n",
    "  (the value is set equal to the threshold)."
   ]
  },
  {
   "cell_type": "code",
   "execution_count": 12,
   "metadata": {
    "ExecuteTime": {
     "end_time": "2024-01-26T12:02:11.853196300Z",
     "start_time": "2024-01-26T12:02:10.617451600Z"
    },
    "collapsed": false,
    "jupyter": {
     "outputs_hidden": false
    }
   },
   "outputs": [
    {
     "data": {
      "text/html": [
       "<div id=\"6efcf9826df04199b4c66c79cd941b5f\"></div>\n",
       "<script type=\"text/javascript\" src=\"https://cdn.jsdelivr.net/npm/@viz-js/viz@3.8.0/lib/viz-standalone.js\"></script>\n",
       "<script type=\"text/javascript\">\n",
       "(function() {\n",
       "  var dot = \"strict digraph  {\\nrankdir=LR;\\ndpi=60;\\nfontsize=20;\\n0 [label=<<B>N0</B>>, style=\\\"filled,bold\\\", fillcolor=\\\"#ffffff\\\", shape=ellipse, margin=0.05];\\n1 [label=\\\"C1\\\", style=\\\"filled\\\", fillcolor=\\\"#81D4FA\\\", shape=ellipse, margin=0.05];\\n2 [label=\\\"N3\\\", style=\\\"filled\\\", fillcolor=\\\"#ffffff\\\", shape=ellipse, margin=0.05];\\n3 [label=\\\"N1\\\", style=\\\"filled\\\", fillcolor=\\\"#ffffff\\\", shape=ellipse, margin=0.05];\\n4 [label=\\\"N2\\\", style=\\\"filled\\\", fillcolor=\\\"#ffffff\\\", shape=ellipse, margin=0.05];\\n5 [label=\\\"DV1  [0 .. 1]\\\", style=\\\"filled\\\", fillcolor=\\\"#DCE775\\\", shape=ellipse, margin=0.05];\\n6 [label=\\\"Objective [\\u2193]\\\", style=\\\"filled\\\", fillcolor=\\\"#DCE775\\\", shape=rect, margin=0.05];\\n7 [label=\\\"DV2  [A,B,C]\\\", style=\\\"filled\\\", fillcolor=\\\"#DCE775\\\", shape=ellipse, margin=0.05];\\n8 [label=\\\"Metric\\\", style=\\\"filled\\\", fillcolor=\\\"#DCE775\\\", shape=rect, margin=0.05];\\n9 [label=\\\"Constraint [\\u2265 2]\\\", style=\\\"filled\\\", fillcolor=\\\"#DCE775\\\", shape=rect, margin=0.05];\\n0 -> 1 [type=\\\"EdgeType.DERIVES\\\"];\\n0 -> 2 [type=\\\"EdgeType.DERIVES\\\"];\\n1 -> 3 [type=\\\"EdgeType.DERIVES\\\"];\\n1 -> 4 [type=\\\"EdgeType.DERIVES\\\"];\\n2 -> 5 [type=\\\"EdgeType.DERIVES\\\"];\\n2 -> 6 [type=\\\"EdgeType.DERIVES\\\"];\\n3 -> 7 [type=\\\"EdgeType.DERIVES\\\"];\\n3 -> 8 [type=\\\"EdgeType.DERIVES\\\"];\\n4 -> 9 [type=\\\"EdgeType.DERIVES\\\"];\\n}\\n\"; // Export of the dot graph notation\n",
       "  var printDot = false; // Whether to print the dot instead of rendering\n",
       "  var printSvg = false; // Whether to print the SVG instead of showing the results\n",
       "  // Create viz-js instance and render to SVG\n",
       "  function doRender() {\n",
       "    if (printDot) {\n",
       "      var preEl = document.createElement('pre');\n",
       "      preEl.innerText = dot;\n",
       "      document.getElementById(\"6efcf9826df04199b4c66c79cd941b5f\").appendChild(preEl);\n",
       "    } else {\n",
       "      Viz.instance().then(function(viz) {\n",
       "        var tgtEl = document.getElementById(\"6efcf9826df04199b4c66c79cd941b5f\");\n",
       "        var svgElement = viz.renderSVGElement(dot);\n",
       "        if (printSvg) {\n",
       "          var preEl = document.createElement('pre');\n",
       "          preEl.innerText = svgElement.outerHTML;\n",
       "          tgtEl.appendChild(preEl);\n",
       "        } else {\n",
       "          tgtEl.appendChild(svgElement);\n",
       "        }\n",
       "      }).catch(function(e) {\n",
       "        console.log('RENDER ERROR', e, dot);\n",
       "        var preEl = document.createElement('pre');\n",
       "        preEl.innerText = 'RENDER ERROR: '+e.toString();\n",
       "        document.getElementById(\"6efcf9826df04199b4c66c79cd941b5f\").appendChild(preEl);\n",
       "        var preEl = document.createElement('pre');\n",
       "        preEl.innerText = dot;\n",
       "        document.getElementById(\"6efcf9826df04199b4c66c79cd941b5f\").appendChild(preEl);\n",
       "      });\n",
       "    }\n",
       "  }\n",
       "  // We may need to wait for loading to complete\n",
       "  function checkRender() {\n",
       "    if (typeof Viz === \"undefined\") { setTimeout(checkRender, 100+200*Math.random()); } else { doRender(); } \n",
       "  }\n",
       "  checkRender();\n",
       "})()\n",
       "</script>\n"
      ],
      "text/plain": [
       "<IPython.core.display.HTML object>"
      ]
     },
     "metadata": {},
     "output_type": "display_data"
    },
    {
     "name": "stdout",
     "output_type": "stream",
     "text": [
      "Design variables:\n",
      "  DV: C1 [2 opts]\n",
      "  DV: DV1 [0.00..1.00]\n",
      "  DV: DV2 [3 opts]\n",
      "Objectives:\n",
      "  OBJ: Objective [min]\n",
      "Constraints:\n",
      "  CON: Constraint [>= 2.00]\n",
      "\n"
     ]
    },
    {
     "data": {
      "text/html": [
       "<div id=\"f0935c73826b4acab3bfc54049563608\"></div>\n",
       "<script type=\"text/javascript\" src=\"https://cdn.jsdelivr.net/npm/@viz-js/viz@3.8.0/lib/viz-standalone.js\"></script>\n",
       "<script type=\"text/javascript\">\n",
       "(function() {\n",
       "  var dot = \"strict digraph  {\\nrankdir=LR;\\ndpi=60;\\nfontsize=16;\\nranksep=0;\\nnodesep=0.1;\\nlabel=\\\"DSG Legend\\\";\\nlabelloc=t;\\nbgcolor=\\\"#f5f8fa\\\";\\nnode [height=0];\\nleg_0 [label=<<B>Start Node</B>>, style=\\\"filled,bold\\\", fillcolor=\\\"#ffffff\\\", shape=ellipse, margin=0];\\nleg_1 [label=\\\"Continuous\\\\nDV  [0 .. 1]\\\", style=\\\"filled\\\", fillcolor=\\\"#DCE775\\\", shape=ellipse, margin=0];\\nleg_2 [label=\\\"Discrete\\\\nDV  [A,B,C]\\\", style=\\\"filled\\\", fillcolor=\\\"#DCE775\\\", shape=ellipse, margin=0];\\nleg_3 [label=\\\"Objective [\\u2193]\\\", style=\\\"filled\\\", fillcolor=\\\"#DCE775\\\", shape=rect, margin=0];\\nleg_4 [label=\\\"Constraint [\\u2264 0]\\\", style=\\\"filled\\\", fillcolor=\\\"#DCE775\\\", shape=rect, margin=0];\\nleg_5 [label=\\\"Output Metric\\\", style=\\\"filled\\\", fillcolor=\\\"#DCE775\\\", shape=rect, margin=0];\\nleg_6 [label=\\\"Source\\\", style=\\\"filled\\\", fillcolor=\\\"#ffffff\\\", shape=ellipse, margin=0];\\nleg_7 [label=\\\"Selection\\\\nChoice\\\", style=\\\"filled\\\", fillcolor=\\\"#81D4FA\\\", shape=ellipse, margin=0];\\nleg_8 [label=\\\"Option 1\\\", style=\\\"filled\\\", fillcolor=\\\"#ffffff\\\", shape=ellipse, margin=0];\\nleg_9 [label=\\\"Option 2\\\", style=\\\"filled\\\", fillcolor=\\\"#ffffff\\\", shape=ellipse, margin=0];\\nleg_10 [label=\\\"Etc...\\\", style=\\\"filled\\\", fillcolor=\\\"#ffffff\\\", shape=ellipse, margin=0];\\nleg_11 [label=\\\"A\\\", style=\\\"filled\\\", fillcolor=\\\"#ffffff\\\", shape=ellipse, margin=0];\\nleg_12 [label=\\\"B\\\", style=\\\"filled\\\", fillcolor=\\\"#ffffff\\\", shape=ellipse, margin=0];\\nleg_0 -> leg_1 [type=\\\"EdgeType.DERIVES\\\"];\\nleg_0 -> leg_2 [type=\\\"EdgeType.DERIVES\\\"];\\nleg_0 -> leg_3 [type=\\\"EdgeType.DERIVES\\\"];\\nleg_0 -> leg_4 [type=\\\"EdgeType.DERIVES\\\"];\\nleg_0 -> leg_5 [type=\\\"EdgeType.DERIVES\\\"];\\nleg_6 -> leg_7 [type=\\\"EdgeType.DERIVES\\\"];\\nleg_7 -> leg_8 [type=\\\"EdgeType.DERIVES\\\"];\\nleg_7 -> leg_9 [type=\\\"EdgeType.DERIVES\\\"];\\nleg_7 -> leg_10 [type=\\\"EdgeType.DERIVES\\\"];\\nleg_11 -> leg_12 [label=derives, type=\\\"EdgeType.DERIVES\\\"];\\n}\\n\"; // Export of the dot graph notation\n",
       "  var printDot = false; // Whether to print the dot instead of rendering\n",
       "  var printSvg = false; // Whether to print the SVG instead of showing the results\n",
       "  // Create viz-js instance and render to SVG\n",
       "  function doRender() {\n",
       "    if (printDot) {\n",
       "      var preEl = document.createElement('pre');\n",
       "      preEl.innerText = dot;\n",
       "      document.getElementById(\"f0935c73826b4acab3bfc54049563608\").appendChild(preEl);\n",
       "    } else {\n",
       "      Viz.instance().then(function(viz) {\n",
       "        var tgtEl = document.getElementById(\"f0935c73826b4acab3bfc54049563608\");\n",
       "        var svgElement = viz.renderSVGElement(dot);\n",
       "        if (printSvg) {\n",
       "          var preEl = document.createElement('pre');\n",
       "          preEl.innerText = svgElement.outerHTML;\n",
       "          tgtEl.appendChild(preEl);\n",
       "        } else {\n",
       "          tgtEl.appendChild(svgElement);\n",
       "        }\n",
       "      }).catch(function(e) {\n",
       "        console.log('RENDER ERROR', e, dot);\n",
       "        var preEl = document.createElement('pre');\n",
       "        preEl.innerText = 'RENDER ERROR: '+e.toString();\n",
       "        document.getElementById(\"f0935c73826b4acab3bfc54049563608\").appendChild(preEl);\n",
       "        var preEl = document.createElement('pre');\n",
       "        preEl.innerText = dot;\n",
       "        document.getElementById(\"f0935c73826b4acab3bfc54049563608\").appendChild(preEl);\n",
       "      });\n",
       "    }\n",
       "  }\n",
       "  // We may need to wait for loading to complete\n",
       "  function checkRender() {\n",
       "    if (typeof Viz === \"undefined\") { setTimeout(checkRender, 100+200*Math.random()); } else { doRender(); } \n",
       "  }\n",
       "  checkRender();\n",
       "})()\n",
       "</script>\n"
      ],
      "text/plain": [
       "<IPython.core.display.HTML object>"
      ]
     },
     "metadata": {},
     "output_type": "display_data"
    }
   ],
   "source": [
    "from adsg_core import BasicDSG, NamedNode, DesignVariableNode, \\\n",
    "    MetricNode, MetricType, GraphProcessor\n",
    "\n",
    "# Create the DSG and some nodes\n",
    "dsg = BasicDSG()\n",
    "n = [NamedNode(f'N{i}') for i in range(10)]\n",
    "\n",
    "# Define a selection choice\n",
    "dsg.add_selection_choice('C1', n[0], [n[1], n[2]])\n",
    "dsg.add_edge(n[0], n[3])\n",
    "\n",
    "# Define an additional design variable (continuous)\n",
    "dsg.add_edge(n[3], DesignVariableNode('DV1', bounds=(0, 1)))\n",
    "\n",
    "# Define a conditional additional design variable (discrete)\n",
    "dsg.add_edge(n[1], DesignVariableNode('DV2', options=['A', 'B', 'C']))\n",
    "\n",
    "# Define a generic metric node\n",
    "dsg.add_edge(n[1], MetricNode('Metric'))\n",
    "\n",
    "# Define an objective (should be permanent)\n",
    "dsg.add_edge(n[3], MetricNode('Objective', direction=-1,\n",
    "                              type_=MetricType.OBJECTIVE))\n",
    "\n",
    "# Define a constraint (can be conditional)\n",
    "dsg.add_edge(n[2], MetricNode('Constraint', direction=1, ref=2,\n",
    "                              type_=MetricType.CONSTRAINT))\n",
    "\n",
    "# Set start nodes and render\n",
    "dsg = dsg.set_start_nodes({n[0]})\n",
    "dsg.render()\n",
    "\n",
    "# Check their roles in an optimization problem\n",
    "processor = GraphProcessor(dsg)\n",
    "nl = '\\n'\n",
    "print(f'Design variables:{nl}{nl.join(\"  \"+str(dv) for dv in processor.des_vars)}')\n",
    "print(f'Objectives:{nl}{nl.join(\"  \"+str(obj) for obj in processor.objectives)}')\n",
    "print(f'Constraints:{nl}{nl.join(\"  \"+str(con) for con in processor.constraints)}')\n",
    "print('')\n",
    "\n",
    "dsg.render_legend(['NODE_START', 'EDGE_DERIVE', 'CHOICE_SEL', 'METRICS'])"
   ]
  },
  {
   "cell_type": "markdown",
   "metadata": {
    "collapsed": false,
    "jupyter": {
     "outputs_hidden": false
    }
   },
   "source": [
    "## Defining Optimization Problems\n",
    "\n",
    "An architecture optimization problem can be modeled with the DSG using:\n",
    "\n",
    "- Generic nodes, derivation edges, start nodes and selection choice nodes to define node existence hierarchies.\n",
    "- Incompatibility constraints to restrict simultaneous existence of nodes.\n",
    "- Connection (grouping) nodes with connector constraints, connection edges, exclusion edges and connection choice nodes\n",
    "  to define connection problems (source to target connections).\n",
    "- Generic design variable nodes to define additional continuous or discrete design variables.\n",
    "- Choice constraints to restrict possible values within a group of choices or design variables.\n",
    "- Metric nodes to define output metrics, optionally used as objectives or constraints.\n",
    "\n",
    "Encoding a DSG into an optimization problem is done using encoding algorithms, for more information refer to the theory.\n",
    "We now demonstrate how to encode a DSG as an optimization and use that to run an optimization.\n",
    "We use the Jenatton problem as a running example:\n",
    "Design variables:\n",
    "- `x1, x2, x3`: categorical design variables (0 or 1)\n",
    "- `x4` to `x9`: continuous design variables (0 to 1)\n",
    "\n",
    "Objective:\n",
    "```\n",
    "if x1 == 0:\n",
    "  if x2 == 0:\n",
    "    f = x4^2 + 0.1 + x8\n",
    "  else:\n",
    "    f = x5^2 + 0.1 + x8\n",
    "else:\n",
    "  if x3 == 0:\n",
    "    f = x6^2 + 0.1 + x9\n",
    "  else:\n",
    "    f = x7^2 + 0.1 + x9\n",
    "```"
   ]
  },
  {
   "cell_type": "code",
   "execution_count": 13,
   "metadata": {
    "ExecuteTime": {
     "end_time": "2024-01-26T14:04:58.736933500Z",
     "start_time": "2024-01-26T14:04:58.682159Z"
    },
    "collapsed": false,
    "jupyter": {
     "outputs_hidden": false
    }
   },
   "outputs": [
    {
     "data": {
      "text/html": [
       "<div id=\"99617e14a27d485e80cb19b0a719efe1\"></div>\n",
       "<script type=\"text/javascript\" src=\"https://cdn.jsdelivr.net/npm/@viz-js/viz@3.8.0/lib/viz-standalone.js\"></script>\n",
       "<script type=\"text/javascript\">\n",
       "(function() {\n",
       "  var dot = \"strict digraph  {\\nrankdir=LR;\\ndpi=60;\\nfontsize=20;\\n0 [label=<<B>Start</B>>, style=\\\"filled,bold\\\", fillcolor=\\\"#ffffff\\\", shape=ellipse, margin=0.05];\\n1 [label=\\\"x1\\\", style=\\\"filled\\\", fillcolor=\\\"#81D4FA\\\", shape=ellipse, margin=0.05];\\n2 [label=\\\"f [\\u2193]\\\", style=\\\"filled\\\", fillcolor=\\\"#DCE775\\\", shape=rect, margin=0.05];\\n3 [label=\\\"x1=0\\\", style=\\\"filled\\\", fillcolor=\\\"#ffffff\\\", shape=ellipse, margin=0.05];\\n4 [label=\\\"x1=1\\\", style=\\\"filled\\\", fillcolor=\\\"#ffffff\\\", shape=ellipse, margin=0.05];\\n5 [label=\\\"x1\\\", style=\\\"filled\\\", fillcolor=\\\"#81D4FA\\\", shape=ellipse, margin=0.05];\\n6 [label=\\\"x8  [0 .. 1]\\\", style=\\\"filled\\\", fillcolor=\\\"#DCE775\\\", shape=ellipse, margin=0.05];\\n7 [label=\\\"x1\\\", style=\\\"filled\\\", fillcolor=\\\"#81D4FA\\\", shape=ellipse, margin=0.05];\\n8 [label=\\\"x9  [0 .. 1]\\\", style=\\\"filled\\\", fillcolor=\\\"#DCE775\\\", shape=ellipse, margin=0.05];\\n9 [label=\\\"x2=0\\\", style=\\\"filled\\\", fillcolor=\\\"#ffffff\\\", shape=ellipse, margin=0.05];\\n10 [label=\\\"x2=1\\\", style=\\\"filled\\\", fillcolor=\\\"#ffffff\\\", shape=ellipse, margin=0.05];\\n11 [label=\\\"x3=0\\\", style=\\\"filled\\\", fillcolor=\\\"#ffffff\\\", shape=ellipse, margin=0.05];\\n12 [label=\\\"x3=1\\\", style=\\\"filled\\\", fillcolor=\\\"#ffffff\\\", shape=ellipse, margin=0.05];\\n13 [label=\\\"x4  [0 .. 1]\\\", style=\\\"filled\\\", fillcolor=\\\"#DCE775\\\", shape=ellipse, margin=0.05];\\n14 [label=\\\"x5  [0 .. 1]\\\", style=\\\"filled\\\", fillcolor=\\\"#DCE775\\\", shape=ellipse, margin=0.05];\\n15 [label=\\\"x6  [0 .. 1]\\\", style=\\\"filled\\\", fillcolor=\\\"#DCE775\\\", shape=ellipse, margin=0.05];\\n16 [label=\\\"x7  [0 .. 1]\\\", style=\\\"filled\\\", fillcolor=\\\"#DCE775\\\", shape=ellipse, margin=0.05];\\n0 -> 1 [type=\\\"EdgeType.DERIVES\\\"];\\n0 -> 2 [type=\\\"EdgeType.DERIVES\\\"];\\n1 -> 3 [type=\\\"EdgeType.DERIVES\\\"];\\n1 -> 4 [type=\\\"EdgeType.DERIVES\\\"];\\n3 -> 5 [type=\\\"EdgeType.DERIVES\\\"];\\n3 -> 6 [type=\\\"EdgeType.DERIVES\\\"];\\n4 -> 7 [type=\\\"EdgeType.DERIVES\\\"];\\n4 -> 8 [type=\\\"EdgeType.DERIVES\\\"];\\n5 -> 9 [type=\\\"EdgeType.DERIVES\\\"];\\n5 -> 10 [type=\\\"EdgeType.DERIVES\\\"];\\n7 -> 11 [type=\\\"EdgeType.DERIVES\\\"];\\n7 -> 12 [type=\\\"EdgeType.DERIVES\\\"];\\n9 -> 13 [type=\\\"EdgeType.DERIVES\\\"];\\n10 -> 14 [type=\\\"EdgeType.DERIVES\\\"];\\n11 -> 15 [type=\\\"EdgeType.DERIVES\\\"];\\n12 -> 16 [type=\\\"EdgeType.DERIVES\\\"];\\n}\\n\"; // Export of the dot graph notation\n",
       "  var printDot = false; // Whether to print the dot instead of rendering\n",
       "  var printSvg = false; // Whether to print the SVG instead of showing the results\n",
       "  // Create viz-js instance and render to SVG\n",
       "  function doRender() {\n",
       "    if (printDot) {\n",
       "      var preEl = document.createElement('pre');\n",
       "      preEl.innerText = dot;\n",
       "      document.getElementById(\"99617e14a27d485e80cb19b0a719efe1\").appendChild(preEl);\n",
       "    } else {\n",
       "      Viz.instance().then(function(viz) {\n",
       "        var tgtEl = document.getElementById(\"99617e14a27d485e80cb19b0a719efe1\");\n",
       "        var svgElement = viz.renderSVGElement(dot);\n",
       "        if (printSvg) {\n",
       "          var preEl = document.createElement('pre');\n",
       "          preEl.innerText = svgElement.outerHTML;\n",
       "          tgtEl.appendChild(preEl);\n",
       "        } else {\n",
       "          tgtEl.appendChild(svgElement);\n",
       "        }\n",
       "      }).catch(function(e) {\n",
       "        console.log('RENDER ERROR', e, dot);\n",
       "        var preEl = document.createElement('pre');\n",
       "        preEl.innerText = 'RENDER ERROR: '+e.toString();\n",
       "        document.getElementById(\"99617e14a27d485e80cb19b0a719efe1\").appendChild(preEl);\n",
       "        var preEl = document.createElement('pre');\n",
       "        preEl.innerText = dot;\n",
       "        document.getElementById(\"99617e14a27d485e80cb19b0a719efe1\").appendChild(preEl);\n",
       "      });\n",
       "    }\n",
       "  }\n",
       "  // We may need to wait for loading to complete\n",
       "  function checkRender() {\n",
       "    if (typeof Viz === \"undefined\") { setTimeout(checkRender, 100+200*Math.random()); } else { doRender(); } \n",
       "  }\n",
       "  checkRender();\n",
       "})()\n",
       "</script>\n"
      ],
      "text/plain": [
       "<IPython.core.display.HTML object>"
      ]
     },
     "metadata": {},
     "output_type": "display_data"
    }
   ],
   "source": [
    "from adsg_core import BasicDSG, NamedNode, DesignVariableNode, \\\n",
    "    MetricNode, MetricType\n",
    "\n",
    "# Create DSG\n",
    "dsg = BasicDSG()\n",
    "start = NamedNode('Start')\n",
    "\n",
    "# Add x1 choice\n",
    "x1_0, x1_1 = NamedNode('x1=0'), NamedNode('x1=1')\n",
    "dsg.add_selection_choice('x1', start, [x1_0, x1_1])\n",
    "\n",
    "# Add x2 choice (if x1 = 0)\n",
    "x2_0, x2_1 = NamedNode('x2=0'), NamedNode('x2=1')\n",
    "dsg.add_selection_choice('x1', x1_0, [x2_0, x2_1])\n",
    "\n",
    "# Add x3 choice (if x1 = 1)\n",
    "x3_0, x3_1 = NamedNode('x3=0'), NamedNode('x3=1')\n",
    "dsg.add_selection_choice('x1', x1_1, [x3_0, x3_1])\n",
    "\n",
    "# Add design variable nodes and objective\n",
    "dsg.add_edges([\n",
    "    (x2_0, DesignVariableNode('x4', bounds=(0, 1))),\n",
    "    (x2_1, DesignVariableNode('x5', bounds=(0, 1))),\n",
    "    (x3_0, DesignVariableNode('x6', bounds=(0, 1))),\n",
    "    (x3_1, DesignVariableNode('x7', bounds=(0, 1))),\n",
    "    (x1_0, DesignVariableNode('x8', bounds=(0, 1))),\n",
    "    (x1_1, DesignVariableNode('x9', bounds=(0, 1))),\n",
    "    (start, MetricNode('f', direction=-1, type_=MetricType.OBJECTIVE)),\n",
    "])\n",
    "\n",
    "# Set start node and render\n",
    "dsg = dsg.set_start_nodes({start})\n",
    "dsg.render()"
   ]
  },
  {
   "cell_type": "markdown",
   "metadata": {
    "ExecuteTime": {
     "end_time": "2024-01-26T11:56:05.922119900Z",
     "start_time": "2024-01-26T11:56:05.873112700Z"
    },
    "collapsed": false,
    "jupyter": {
     "outputs_hidden": false
    }
   },
   "source": [
    "### Encoding the Design Space\n",
    "\n",
    "The DSG is encoded into an optimization problem using the `GraphProcessor` class."
   ]
  },
  {
   "cell_type": "code",
   "execution_count": 14,
   "metadata": {
    "ExecuteTime": {
     "end_time": "2024-01-26T14:05:58.740382700Z",
     "start_time": "2024-01-26T14:05:58.719382200Z"
    },
    "collapsed": false,
    "jupyter": {
     "outputs_hidden": false
    }
   },
   "outputs": [
    {
     "name": "stdout",
     "output_type": "stream",
     "text": [
      "Design variables: [DV: x1 [2 opts], DV: x1_2 [2 opts], DV: x1_3 [2 opts], DV: x4 [0.00..1.00], DV: x5 [0.00..1.00], DV: x6 [0.00..1.00], DV: x7 [0.00..1.00], DV: x8 [0.00..1.00], DV: x9 [0.00..1.00]]\n",
      "Objectives: [OBJ: f [min]]\n",
      "Constraints: []\n"
     ]
    },
    {
     "data": {
      "text/html": [
       "<div>\n",
       "<style scoped>\n",
       "    .dataframe tbody tr th:only-of-type {\n",
       "        vertical-align: middle;\n",
       "    }\n",
       "\n",
       "    .dataframe tbody tr th {\n",
       "        vertical-align: top;\n",
       "    }\n",
       "\n",
       "    .dataframe thead th {\n",
       "        text-align: right;\n",
       "    }\n",
       "</style>\n",
       "<table border=\"1\" class=\"dataframe\">\n",
       "  <thead>\n",
       "    <tr style=\"text-align: right;\">\n",
       "      <th></th>\n",
       "      <th>n_valid</th>\n",
       "      <th>n_declared</th>\n",
       "      <th>n_discrete</th>\n",
       "      <th>n_dim_cont</th>\n",
       "      <th>n_dim_cont_mean</th>\n",
       "      <th>n_exist</th>\n",
       "      <th>imp_ratio</th>\n",
       "      <th>imp_ratio_comb</th>\n",
       "      <th>imp_ratio_cont</th>\n",
       "      <th>inf_idx</th>\n",
       "      <th>dist_corr</th>\n",
       "      <th>encoder</th>\n",
       "    </tr>\n",
       "    <tr>\n",
       "      <th>type</th>\n",
       "      <th></th>\n",
       "      <th></th>\n",
       "      <th></th>\n",
       "      <th></th>\n",
       "      <th></th>\n",
       "      <th></th>\n",
       "      <th></th>\n",
       "      <th></th>\n",
       "      <th></th>\n",
       "      <th></th>\n",
       "      <th></th>\n",
       "      <th></th>\n",
       "    </tr>\n",
       "  </thead>\n",
       "  <tbody>\n",
       "    <tr>\n",
       "      <th>option-decisions</th>\n",
       "      <td>4</td>\n",
       "      <td>8</td>\n",
       "      <td>3</td>\n",
       "      <td>0</td>\n",
       "      <td>0.0</td>\n",
       "      <td>1</td>\n",
       "      <td>2.0</td>\n",
       "      <td>2.0</td>\n",
       "      <td>1.0</td>\n",
       "      <td>1.0</td>\n",
       "      <td>0.0</td>\n",
       "      <td>complete</td>\n",
       "    </tr>\n",
       "    <tr>\n",
       "      <th>additional-dvs</th>\n",
       "      <td>4</td>\n",
       "      <td>0</td>\n",
       "      <td>0</td>\n",
       "      <td>6</td>\n",
       "      <td>2.0</td>\n",
       "      <td>4</td>\n",
       "      <td>3.0</td>\n",
       "      <td>1.0</td>\n",
       "      <td>3.0</td>\n",
       "      <td>1.0</td>\n",
       "      <td>0.0</td>\n",
       "      <td></td>\n",
       "    </tr>\n",
       "    <tr>\n",
       "      <th>total-design-space</th>\n",
       "      <td>4</td>\n",
       "      <td>8</td>\n",
       "      <td>3</td>\n",
       "      <td>6</td>\n",
       "      <td>2.0</td>\n",
       "      <td>1</td>\n",
       "      <td>6.0</td>\n",
       "      <td>2.0</td>\n",
       "      <td>3.0</td>\n",
       "      <td>1.0</td>\n",
       "      <td>0.0</td>\n",
       "      <td>complete</td>\n",
       "    </tr>\n",
       "    <tr>\n",
       "      <th>total-design-problem</th>\n",
       "      <td>4</td>\n",
       "      <td>8</td>\n",
       "      <td>3</td>\n",
       "      <td>6</td>\n",
       "      <td>2.0</td>\n",
       "      <td>1</td>\n",
       "      <td>6.0</td>\n",
       "      <td>2.0</td>\n",
       "      <td>3.0</td>\n",
       "      <td>1.0</td>\n",
       "      <td>0.0</td>\n",
       "      <td>complete</td>\n",
       "    </tr>\n",
       "  </tbody>\n",
       "</table>\n",
       "</div>"
      ],
      "text/plain": [
       "                      n_valid  n_declared  n_discrete  n_dim_cont  \\\n",
       "type                                                                \n",
       "option-decisions            4           8           3           0   \n",
       "additional-dvs              4           0           0           6   \n",
       "total-design-space          4           8           3           6   \n",
       "total-design-problem        4           8           3           6   \n",
       "\n",
       "                      n_dim_cont_mean  n_exist  imp_ratio  imp_ratio_comb  \\\n",
       "type                                                                        \n",
       "option-decisions                  0.0        1        2.0             2.0   \n",
       "additional-dvs                    2.0        4        3.0             1.0   \n",
       "total-design-space                2.0        1        6.0             2.0   \n",
       "total-design-problem              2.0        1        6.0             2.0   \n",
       "\n",
       "                      imp_ratio_cont  inf_idx  dist_corr   encoder  \n",
       "type                                                                \n",
       "option-decisions                 1.0      1.0        0.0  complete  \n",
       "additional-dvs                   3.0      1.0        0.0            \n",
       "total-design-space               3.0      1.0        0.0  complete  \n",
       "total-design-problem             3.0      1.0        0.0  complete  "
      ]
     },
     "execution_count": 14,
     "metadata": {},
     "output_type": "execute_result"
    }
   ],
   "source": [
    "from adsg_core import GraphProcessor\n",
    "\n",
    "gp = GraphProcessor(dsg)\n",
    "\n",
    "print('Design variables:', gp.des_vars)\n",
    "print('Objectives:', gp.objectives)\n",
    "print('Constraints:', gp.constraints)\n",
    "\n",
    "# Display some details about the encoders used for\n",
    "# formulating the optimization problem\n",
    "gp.get_statistics()"
   ]
  },
  {
   "cell_type": "markdown",
   "metadata": {
    "collapsed": false,
    "jupyter": {
     "outputs_hidden": false
    }
   },
   "source": [
    "We can then use the `GraphProcessor` to:\n",
    "\n",
    "- Generate DSG instances from a design vector.\n",
    "- Generate all valid discrete design vectors.\n",
    "- Get some statistics about the design problem."
   ]
  },
  {
   "cell_type": "code",
   "execution_count": 15,
   "metadata": {
    "ExecuteTime": {
     "end_time": "2024-01-26T14:18:47.094216100Z",
     "start_time": "2024-01-26T14:18:47.075214300Z"
    },
    "collapsed": false,
    "jupyter": {
     "outputs_hidden": false
    }
   },
   "outputs": [
    {
     "name": "stdout",
     "output_type": "stream",
     "text": [
      "x input: [1, 0, 1, 0.9621774385637277, 0.6222465617159431, 0.7842279200665967, 0.2834445278689146, 0.8627835415168875, 0.828009863111549]\n",
      "x corrected: [1, 0, 1, 0.5, 0.5, 0.5, 0.2834445278689146, 0.5, 0.828009863111549]\n",
      "activeness: [True, False, True, False, False, False, True, False, True]\n"
     ]
    },
    {
     "data": {
      "text/html": [
       "<div id=\"34c26f3b50694c4d8a46e4aa13f3f71b\"></div>\n",
       "<script type=\"text/javascript\" src=\"https://cdn.jsdelivr.net/npm/@viz-js/viz@3.8.0/lib/viz-standalone.js\"></script>\n",
       "<script type=\"text/javascript\">\n",
       "(function() {\n",
       "  var dot = \"strict digraph  {\\nrankdir=LR;\\ndpi=60;\\nfontsize=20;\\n0 [label=<<B>Start</B>>, style=\\\"filled,bold\\\", fillcolor=\\\"#ffffff\\\", shape=ellipse, margin=0.05];\\n1 [label=\\\"f [\\u2193]\\\", style=\\\"filled\\\", fillcolor=\\\"#DCE775\\\", shape=rect, margin=0.05];\\n2 [label=\\\"x1=1\\\", style=\\\"filled\\\", fillcolor=\\\"#ffffff\\\", shape=ellipse, margin=0.05];\\n3 [label=\\\"x9 = 0.828\\\", style=\\\"filled\\\", fillcolor=\\\"#DCE775\\\", shape=ellipse, margin=0.05];\\n4 [label=\\\"x3=1\\\", style=\\\"filled\\\", fillcolor=\\\"#ffffff\\\", shape=ellipse, margin=0.05];\\n5 [label=\\\"x7 = 0.2834\\\", style=\\\"filled\\\", fillcolor=\\\"#DCE775\\\", shape=ellipse, margin=0.05];\\n0 -> 1 [type=\\\"EdgeType.DERIVES\\\"];\\n0 -> 2 [type=\\\"EdgeType.DERIVES\\\"];\\n2 -> 3 [type=\\\"EdgeType.DERIVES\\\"];\\n2 -> 4 [type=\\\"EdgeType.DERIVES\\\"];\\n4 -> 5 [type=\\\"EdgeType.DERIVES\\\"];\\n}\\n\"; // Export of the dot graph notation\n",
       "  var printDot = false; // Whether to print the dot instead of rendering\n",
       "  var printSvg = false; // Whether to print the SVG instead of showing the results\n",
       "  // Create viz-js instance and render to SVG\n",
       "  function doRender() {\n",
       "    if (printDot) {\n",
       "      var preEl = document.createElement('pre');\n",
       "      preEl.innerText = dot;\n",
       "      document.getElementById(\"34c26f3b50694c4d8a46e4aa13f3f71b\").appendChild(preEl);\n",
       "    } else {\n",
       "      Viz.instance().then(function(viz) {\n",
       "        var tgtEl = document.getElementById(\"34c26f3b50694c4d8a46e4aa13f3f71b\");\n",
       "        var svgElement = viz.renderSVGElement(dot);\n",
       "        if (printSvg) {\n",
       "          var preEl = document.createElement('pre');\n",
       "          preEl.innerText = svgElement.outerHTML;\n",
       "          tgtEl.appendChild(preEl);\n",
       "        } else {\n",
       "          tgtEl.appendChild(svgElement);\n",
       "        }\n",
       "      }).catch(function(e) {\n",
       "        console.log('RENDER ERROR', e, dot);\n",
       "        var preEl = document.createElement('pre');\n",
       "        preEl.innerText = 'RENDER ERROR: '+e.toString();\n",
       "        document.getElementById(\"34c26f3b50694c4d8a46e4aa13f3f71b\").appendChild(preEl);\n",
       "        var preEl = document.createElement('pre');\n",
       "        preEl.innerText = dot;\n",
       "        document.getElementById(\"34c26f3b50694c4d8a46e4aa13f3f71b\").appendChild(preEl);\n",
       "      });\n",
       "    }\n",
       "  }\n",
       "  // We may need to wait for loading to complete\n",
       "  function checkRender() {\n",
       "    if (typeof Viz === \"undefined\") { setTimeout(checkRender, 100+200*Math.random()); } else { doRender(); } \n",
       "  }\n",
       "  checkRender();\n",
       "})()\n",
       "</script>\n"
      ],
      "text/plain": [
       "<IPython.core.display.HTML object>"
      ]
     },
     "metadata": {},
     "output_type": "display_data"
    },
    {
     "name": "stdout",
     "output_type": "stream",
     "text": [
      "x values: {DV[x7]: 0.2834445278689146, DV[x9]: 0.828009863111549}\n"
     ]
    }
   ],
   "source": [
    "# Generate random design vector and turn it into an DSG instance\n",
    "random_x = gp.get_random_design_vector()\n",
    "dsg_instance, x_corrected, is_active = gp.get_graph(random_x)\n",
    "\n",
    "# The design vector might be corrected\n",
    "print(f'x input: {random_x!r}')\n",
    "print(f'x corrected: {x_corrected!r}')\n",
    "print(f'activeness: {is_active}')\n",
    "\n",
    "dsg_instance.render()\n",
    "print('x values:', dsg_instance.des_var_values)"
   ]
  },
  {
   "cell_type": "markdown",
   "metadata": {
    "collapsed": false,
    "jupyter": {
     "outputs_hidden": false
    }
   },
   "source": [
    "Observe that the inactive design variables (given by the activeness vector) are \"imputed\" to a canonical value.\n",
    "For continuous variable that is mid-bounds, which in this case is 0.5."
   ]
  },
  {
   "cell_type": "code",
   "execution_count": 16,
   "metadata": {
    "ExecuteTime": {
     "end_time": "2024-01-26T14:06:04.121281200Z",
     "start_time": "2024-01-26T14:06:04.107355800Z"
    },
    "collapsed": false,
    "jupyter": {
     "outputs_hidden": false
    }
   },
   "outputs": [
    {
     "data": {
      "text/plain": [
       "array([[0. , 0. , 0. , 0. , 0.5, 0.5, 0.5, 0. , 0.5],\n",
       "       [0. , 1. , 0. , 0.5, 0. , 0.5, 0.5, 0. , 0.5],\n",
       "       [1. , 0. , 0. , 0.5, 0.5, 0. , 0.5, 0.5, 0. ],\n",
       "       [1. , 0. , 1. , 0.5, 0.5, 0.5, 0. , 0.5, 0. ]])"
      ]
     },
     "execution_count": 16,
     "metadata": {},
     "output_type": "execute_result"
    }
   ],
   "source": [
    "# Generate all valid discrete design vectors\n",
    "x_all, is_active_all = gp.get_all_discrete_x()\n",
    "x_all  # Print all design vectors"
   ]
  },
  {
   "cell_type": "code",
   "execution_count": 17,
   "metadata": {
    "ExecuteTime": {
     "end_time": "2024-01-26T14:06:04.661049300Z",
     "start_time": "2024-01-26T14:06:04.621810800Z"
    },
    "collapsed": false,
    "jupyter": {
     "outputs_hidden": false
    }
   },
   "outputs": [
    {
     "data": {
      "text/plain": [
       "array([[ True,  True, False,  True, False, False, False,  True, False],\n",
       "       [ True,  True, False, False,  True, False, False,  True, False],\n",
       "       [ True, False,  True, False, False,  True, False, False,  True],\n",
       "       [ True, False,  True, False, False, False,  True, False,  True]])"
      ]
     },
     "execution_count": 17,
     "metadata": {},
     "output_type": "execute_result"
    }
   ],
   "source": [
    "is_active_all  # Print associated activeness information"
   ]
  },
  {
   "cell_type": "markdown",
   "metadata": {
    "collapsed": false,
    "jupyter": {
     "outputs_hidden": false
    }
   },
   "source": [
    "The `GraphProcessor` can also be used to fix certain design variables.\n",
    "This can be useful for ad-hoc narrowing of the design space."
   ]
  },
  {
   "cell_type": "code",
   "execution_count": 18,
   "metadata": {
    "ExecuteTime": {
     "end_time": "2024-01-26T14:06:06.129649100Z",
     "start_time": "2024-01-26T14:06:06.118636Z"
    },
    "collapsed": false,
    "jupyter": {
     "outputs_hidden": false
    }
   },
   "outputs": [
    {
     "name": "stdout",
     "output_type": "stream",
     "text": [
      "Valid x: 2 (x0 is fixed)\n",
      "Valid x: 4\n"
     ]
    }
   ],
   "source": [
    "dv = gp.des_vars\n",
    "\n",
    "# Fix the first design variable\n",
    "gp.fix_des_var(dv[0], 0)\n",
    "\n",
    "# Observe that there are now only two valid discrete design vectors left\n",
    "print(f'Valid x:', gp.get_all_discrete_x()[0].shape[0], '(x0 is fixed)')\n",
    "\n",
    "# Free the design variable again\n",
    "gp.free_des_var(dv[0])\n",
    "print(f'Valid x:', gp.get_all_discrete_x()[0].shape[0])"
   ]
  },
  {
   "cell_type": "markdown",
   "metadata": {
    "collapsed": false,
    "jupyter": {
     "outputs_hidden": false
    }
   },
   "source": [
    "### Defining the Evaluation Function\n",
    "\n",
    "The last part needed because we can run the optimization problem is the performance evaluation function:\n",
    "the function that for a given DSG instance, returns its performance in terms of the defined output metrics.\n",
    "This allows the optimization algorithm to iteratively search the design space and find the optimum.\n",
    "\n",
    "An evaluation function should fulfill the following requirements:\n",
    "\n",
    "- Performance metrics should be *sensitive* to all relevant choices.\n",
    "- Performance metrics should be *available* for all relevant architectures, and with similar accuracy/fidelity. Objectives should always be available; constraints can be optional.\n",
    "- The evaluation function should be executable *without user interaction*.\n",
    "\n",
    "The evaluation function is implemented by defining a new evaluator class that inherits from `ADSGEvaluator`.\n",
    "There, the `_evaluate` function should be implemented.\n",
    "This function takes as input:\n",
    "\n",
    "- The DSG instance being evaluated.\n",
    "- A list of performance metrics for which output is requested.\n",
    "\n",
    "The function should return a dictionary mapping performance metrics to float values.\n",
    "It is also possible to use *NaN* as a value, signifying that the associated metric could not be calculated."
   ]
  },
  {
   "cell_type": "code",
   "execution_count": 19,
   "metadata": {
    "ExecuteTime": {
     "end_time": "2024-01-26T14:17:32.535251400Z",
     "start_time": "2024-01-26T14:17:32.527251400Z"
    },
    "collapsed": false,
    "jupyter": {
     "outputs_hidden": false
    }
   },
   "outputs": [],
   "source": [
    "from typing import List, Dict\n",
    "from adsg_core import DSGEvaluator, ADSGType\n",
    "\n",
    "# Extend the DSGEvaluator class and implement _evaluate\n",
    "class JenattonEvaluator(DSGEvaluator):\n",
    "\n",
    "    def __init__(self):\n",
    "        # Use the previously defined DSG...\n",
    "        # When implementing your own evaluator, it probably makes\n",
    "        # more sense to define the DSG in some class method\n",
    "        super().__init__(dsg)\n",
    "\n",
    "    def _evaluate(self, dsg_inst: ADSGType, metric_nodes: List[MetricNode])\\\n",
    "            -> Dict[MetricNode, float]:\n",
    "        # In general the equation is a^2 + 0.1 + b\n",
    "        # a is x4 to x7; b is x8 or x9\n",
    "\n",
    "        # Loop over design variable nodes to find the values\n",
    "        a = b = None\n",
    "        for dv_node in dsg_inst.des_var_nodes:\n",
    "            if dv_node.name in {'x8', 'x9'}:\n",
    "                b = dsg_inst.des_var_value(dv_node)\n",
    "            else:\n",
    "                a = dsg_inst.des_var_value(dv_node)\n",
    "        assert a is not None and b is not None\n",
    "\n",
    "        # Calculate the objective\n",
    "        f = a**2 + .1 + b\n",
    "\n",
    "        # Return the metric\n",
    "        assert len(metric_nodes) == 1\n",
    "        return {metric_nodes[0]: f}"
   ]
  },
  {
   "cell_type": "markdown",
   "metadata": {
    "collapsed": false,
    "jupyter": {
     "outputs_hidden": false
    }
   },
   "source": [
    "Now we can use the evaluator to evaluate the performance of a DSG instance."
   ]
  },
  {
   "cell_type": "code",
   "execution_count": 20,
   "metadata": {
    "ExecuteTime": {
     "end_time": "2024-01-26T14:21:39.347263800Z",
     "start_time": "2024-01-26T14:21:39.324458700Z"
    },
    "collapsed": false,
    "jupyter": {
     "outputs_hidden": false
    }
   },
   "outputs": [
    {
     "data": {
      "text/html": [
       "<div id=\"3cd6fdf19d854ebfa1263df6bd7b789a\"></div>\n",
       "<script type=\"text/javascript\" src=\"https://cdn.jsdelivr.net/npm/@viz-js/viz@3.8.0/lib/viz-standalone.js\"></script>\n",
       "<script type=\"text/javascript\">\n",
       "(function() {\n",
       "  var dot = \"strict digraph  {\\nrankdir=LR;\\ndpi=60;\\nfontsize=20;\\n0 [label=<<B>Start</B>>, style=\\\"filled,bold\\\", fillcolor=\\\"#ffffff\\\", shape=ellipse, margin=0.05];\\n1 [label=\\\"f [\\u2193]\\\", style=\\\"filled\\\", fillcolor=\\\"#DCE775\\\", shape=rect, margin=0.05];\\n2 [label=\\\"x1=1\\\", style=\\\"filled\\\", fillcolor=\\\"#ffffff\\\", shape=ellipse, margin=0.05];\\n3 [label=\\\"x9 = 0.58\\\", style=\\\"filled\\\", fillcolor=\\\"#DCE775\\\", shape=ellipse, margin=0.05];\\n4 [label=\\\"x3=0\\\", style=\\\"filled\\\", fillcolor=\\\"#ffffff\\\", shape=ellipse, margin=0.05];\\n5 [label=\\\"x6 = 0.29\\\", style=\\\"filled\\\", fillcolor=\\\"#DCE775\\\", shape=ellipse, margin=0.05];\\n0 -> 1 [type=\\\"EdgeType.DERIVES\\\"];\\n0 -> 2 [type=\\\"EdgeType.DERIVES\\\"];\\n2 -> 3 [type=\\\"EdgeType.DERIVES\\\"];\\n2 -> 4 [type=\\\"EdgeType.DERIVES\\\"];\\n4 -> 5 [type=\\\"EdgeType.DERIVES\\\"];\\n}\\n\"; // Export of the dot graph notation\n",
       "  var printDot = false; // Whether to print the dot instead of rendering\n",
       "  var printSvg = false; // Whether to print the SVG instead of showing the results\n",
       "  // Create viz-js instance and render to SVG\n",
       "  function doRender() {\n",
       "    if (printDot) {\n",
       "      var preEl = document.createElement('pre');\n",
       "      preEl.innerText = dot;\n",
       "      document.getElementById(\"3cd6fdf19d854ebfa1263df6bd7b789a\").appendChild(preEl);\n",
       "    } else {\n",
       "      Viz.instance().then(function(viz) {\n",
       "        var tgtEl = document.getElementById(\"3cd6fdf19d854ebfa1263df6bd7b789a\");\n",
       "        var svgElement = viz.renderSVGElement(dot);\n",
       "        if (printSvg) {\n",
       "          var preEl = document.createElement('pre');\n",
       "          preEl.innerText = svgElement.outerHTML;\n",
       "          tgtEl.appendChild(preEl);\n",
       "        } else {\n",
       "          tgtEl.appendChild(svgElement);\n",
       "        }\n",
       "      }).catch(function(e) {\n",
       "        console.log('RENDER ERROR', e, dot);\n",
       "        var preEl = document.createElement('pre');\n",
       "        preEl.innerText = 'RENDER ERROR: '+e.toString();\n",
       "        document.getElementById(\"3cd6fdf19d854ebfa1263df6bd7b789a\").appendChild(preEl);\n",
       "        var preEl = document.createElement('pre');\n",
       "        preEl.innerText = dot;\n",
       "        document.getElementById(\"3cd6fdf19d854ebfa1263df6bd7b789a\").appendChild(preEl);\n",
       "      });\n",
       "    }\n",
       "  }\n",
       "  // We may need to wait for loading to complete\n",
       "  function checkRender() {\n",
       "    if (typeof Viz === \"undefined\") { setTimeout(checkRender, 100+200*Math.random()); } else { doRender(); } \n",
       "  }\n",
       "  checkRender();\n",
       "})()\n",
       "</script>\n"
      ],
      "text/plain": [
       "<IPython.core.display.HTML object>"
      ]
     },
     "metadata": {},
     "output_type": "display_data"
    },
    {
     "name": "stdout",
     "output_type": "stream",
     "text": [
      "x values: {DV[x6]: 0.29, DV[x9]: 0.58}\n",
      "Objective: 0.7641 (expected: 0.7641)\n"
     ]
    },
    {
     "data": {
      "text/html": [
       "<div id=\"843f4cab10594ef296d7e022b4e03f1a\"></div>\n",
       "<script type=\"text/javascript\" src=\"https://cdn.jsdelivr.net/npm/@viz-js/viz@3.8.0/lib/viz-standalone.js\"></script>\n",
       "<script type=\"text/javascript\">\n",
       "(function() {\n",
       "  var dot = \"strict digraph  {\\nrankdir=LR;\\ndpi=60;\\nfontsize=20;\\n0 [label=<<B>Start</B>>, style=\\\"filled,bold\\\", fillcolor=\\\"#ffffff\\\", shape=ellipse, margin=0.05];\\n1 [label=\\\"f = 0.7641 [\\u2193]\\\", style=\\\"filled\\\", fillcolor=\\\"#DCE775\\\", shape=rect, margin=0.05];\\n2 [label=\\\"x1=1\\\", style=\\\"filled\\\", fillcolor=\\\"#ffffff\\\", shape=ellipse, margin=0.05];\\n3 [label=\\\"x9 = 0.58\\\", style=\\\"filled\\\", fillcolor=\\\"#DCE775\\\", shape=ellipse, margin=0.05];\\n4 [label=\\\"x3=0\\\", style=\\\"filled\\\", fillcolor=\\\"#ffffff\\\", shape=ellipse, margin=0.05];\\n5 [label=\\\"x6 = 0.29\\\", style=\\\"filled\\\", fillcolor=\\\"#DCE775\\\", shape=ellipse, margin=0.05];\\n0 -> 1 [type=\\\"EdgeType.DERIVES\\\"];\\n0 -> 2 [type=\\\"EdgeType.DERIVES\\\"];\\n2 -> 3 [type=\\\"EdgeType.DERIVES\\\"];\\n2 -> 4 [type=\\\"EdgeType.DERIVES\\\"];\\n4 -> 5 [type=\\\"EdgeType.DERIVES\\\"];\\n}\\n\"; // Export of the dot graph notation\n",
       "  var printDot = false; // Whether to print the dot instead of rendering\n",
       "  var printSvg = false; // Whether to print the SVG instead of showing the results\n",
       "  // Create viz-js instance and render to SVG\n",
       "  function doRender() {\n",
       "    if (printDot) {\n",
       "      var preEl = document.createElement('pre');\n",
       "      preEl.innerText = dot;\n",
       "      document.getElementById(\"843f4cab10594ef296d7e022b4e03f1a\").appendChild(preEl);\n",
       "    } else {\n",
       "      Viz.instance().then(function(viz) {\n",
       "        var tgtEl = document.getElementById(\"843f4cab10594ef296d7e022b4e03f1a\");\n",
       "        var svgElement = viz.renderSVGElement(dot);\n",
       "        if (printSvg) {\n",
       "          var preEl = document.createElement('pre');\n",
       "          preEl.innerText = svgElement.outerHTML;\n",
       "          tgtEl.appendChild(preEl);\n",
       "        } else {\n",
       "          tgtEl.appendChild(svgElement);\n",
       "        }\n",
       "      }).catch(function(e) {\n",
       "        console.log('RENDER ERROR', e, dot);\n",
       "        var preEl = document.createElement('pre');\n",
       "        preEl.innerText = 'RENDER ERROR: '+e.toString();\n",
       "        document.getElementById(\"843f4cab10594ef296d7e022b4e03f1a\").appendChild(preEl);\n",
       "        var preEl = document.createElement('pre');\n",
       "        preEl.innerText = dot;\n",
       "        document.getElementById(\"843f4cab10594ef296d7e022b4e03f1a\").appendChild(preEl);\n",
       "      });\n",
       "    }\n",
       "  }\n",
       "  // We may need to wait for loading to complete\n",
       "  function checkRender() {\n",
       "    if (typeof Viz === \"undefined\") { setTimeout(checkRender, 100+200*Math.random()); } else { doRender(); } \n",
       "  }\n",
       "  checkRender();\n",
       "})()\n",
       "</script>\n"
      ],
      "text/plain": [
       "<IPython.core.display.HTML object>"
      ]
     },
     "metadata": {},
     "output_type": "display_data"
    }
   ],
   "source": [
    "# Instantiate the evaluator\n",
    "evaluator = JenattonEvaluator()\n",
    "\n",
    "# Get a DSG instance (same API as the GraphProcessor)\n",
    "x = [1, 0, 0, 0.5, 0.5, 0.29, 0.5, 0.5, 0.58]\n",
    "dsg_instance, _, _ = evaluator.get_graph(x)\n",
    "dsg_instance.render()\n",
    "print('x values:', dsg_instance.des_var_values)\n",
    "\n",
    "expected_obj = .29**2 + .1 + .58\n",
    "\n",
    "# Evaluate the instance\n",
    "obj, con = evaluator.evaluate(dsg_instance)\n",
    "print(f'Objective: {obj[0]} (expected: {expected_obj})')\n",
    "dsg_instance.render()"
   ]
  },
  {
   "cell_type": "markdown",
   "metadata": {
    "ExecuteTime": {
     "end_time": "2024-01-26T11:56:07.758893900Z",
     "start_time": "2024-01-26T11:56:07.725723200Z"
    },
    "collapsed": false,
    "jupyter": {
     "outputs_hidden": false
    }
   },
   "source": [
    "### Running the Optimization Problem\n",
    "\n",
    "Now that we have modeled the design space, defined the optimization, and implemented the evaluation function, we can run the optimization problem:\n",
    "\n",
    "![optimization loop](https://raw.githubusercontent.com/jbussemaker/adsg-core/main/docs/figures/opt_loop.svg)\n",
    "\n",
    "We run the optimization problem by coupling to [SBArchOpt](https://sbarchopt.readthedocs.io/).\n",
    "SBArchOpt is an open-source library for running architecture optimization problem.\n",
    "A problem definition in the API of SBArchOpt is provided, so that all algorithms defined in SBArchOpt can be used.\n",
    "\n",
    "Ensure SBArchOpt is installed, or run: `pip install adsg-core[opt]`"
   ]
  },
  {
   "cell_type": "code",
   "execution_count": 21,
   "metadata": {
    "ExecuteTime": {
     "end_time": "2024-01-26T14:25:22.204345200Z",
     "start_time": "2024-01-26T14:25:22.176347100Z"
    },
    "collapsed": false,
    "jupyter": {
     "outputs_hidden": false
    }
   },
   "outputs": [
    {
     "name": "stdout",
     "output_type": "stream",
     "text": [
      "problem: DSGArchOptProblem(<__main__.JenattonEvaluator object at 0x000002B048B18BB0>)\n",
      "n_discr: 3\n",
      "n_cont : 6\n",
      "n_obj  : 1\n",
      "n_con  : 0\n",
      "MD     : True\n",
      "MO     : False\n",
      "HIER         : True\n",
      "n_valid_discr: 4\n",
      "imp_ratio    : 6.00 (discr.: 2.00; cont.: 3.00)\n",
      "corr_ratio   : 3.00 (discr.: 1.00; cont.: 3.00; fraction of imp_ratio: 61.3%)\n",
      "                     x0    x1    x2   max\n",
      "inactive                  0.5   0.5      \n",
      "opt 0               0.5   0.5   0.5      \n",
      "opt 1               0.5   0.5   0.5      \n",
      "diversity           0.0  0.25  0.25  0.25\n",
      "active-diversity    0.0   0.0   0.0   0.0\n",
      "x_type              int   int   int      \n",
      "is_cond           False  True  True      \n",
      "                      n_valid  n_declared  n_discrete  n_dim_cont  n_dim_cont_mean  n_exist  imp_ratio  imp_ratio_comb  imp_ratio_cont  inf_idx  dist_corr   encoder\n",
      "type                                                                                                                                                                \n",
      "option-decisions            4           8           3           0              0.0        1        2.0             2.0             1.0      1.0        0.0  complete\n",
      "additional-dvs              4           0           0           6              2.0        4        3.0             1.0             3.0      1.0        0.0          \n",
      "total-design-space          4           8           3           6              2.0        1        6.0             2.0             3.0      1.0        0.0  complete\n",
      "total-design-problem        4           8           3           6              2.0        1        6.0             2.0             3.0      1.0        0.0  complete\n"
     ]
    }
   ],
   "source": [
    "# Get the SBArchOpt problem\n",
    "problem = evaluator.get_problem()\n",
    "\n",
    "# Now the SBArchOpt API is available\n",
    "# We can for example print some problem statistic\n",
    "problem.print_stats()"
   ]
  },
  {
   "cell_type": "markdown",
   "metadata": {
    "collapsed": false,
    "jupyter": {
     "outputs_hidden": false
    }
   },
   "source": [
    "We now run the optimization using the NSGA-II algorithm.\n",
    "For more information refer to the SBArchOpt [documentation](https://sbarchopt.readthedocs.io/en/latest/algo/pymoo/).\n",
    "SBArchOpt is based on [pymoo](https://pymoo.org), so it can also be helpful to consult its documentation."
   ]
  },
  {
   "cell_type": "code",
   "execution_count": 22,
   "metadata": {
    "ExecuteTime": {
     "end_time": "2024-01-26T14:30:01.926637500Z",
     "start_time": "2024-01-26T14:30:00.283279100Z"
    },
    "collapsed": false,
    "jupyter": {
     "outputs_hidden": false
    }
   },
   "outputs": [
    {
     "name": "stdout",
     "output_type": "stream",
     "text": [
      "==========================================================================================================================\n",
      "n_gen  |  n_eval  | n_nds  |      eps      |   indicator   |     hv_est    |   not_failed  |    feasible   |    optimal   \n",
      "==========================================================================================================================\n",
      "     1 |      100 |      1 |             - |             - | -0.000000E+00 |  100 (100.0%) |  100 (100.0%) |      1 (1.0%)\n",
      "     2 |      200 |      1 |  0.000000E+00 |             f | -0.000000E+00 |  100 (100.0%) |  100 (100.0%) |      1 (1.0%)\n",
      "     3 |      300 |      1 |  0.000000E+00 |             f | -0.000000E+00 |  100 (100.0%) |  100 (100.0%) |      1 (1.0%)\n",
      "     4 |      400 |      1 |  0.000000E+00 |             f | -0.000000E+00 |  100 (100.0%) |  100 (100.0%) |      1 (1.0%)\n",
      "     5 |      500 |      1 |  0.000000E+00 |             f | -0.000000E+00 |  100 (100.0%) |  100 (100.0%) |      1 (1.0%)\n",
      "     6 |      600 |      1 |  0.000000E+00 |             f | -0.000000E+00 |  100 (100.0%) |  100 (100.0%) |      1 (1.0%)\n",
      "     7 |      700 |      1 |  0.000000E+00 |             f | -0.000000E+00 |  100 (100.0%) |  100 (100.0%) |      1 (1.0%)\n",
      "     8 |      800 |      1 |  0.0035765803 |         ideal |  0.0035765803 |  100 (100.0%) |  100 (100.0%) |      1 (1.0%)\n",
      "     9 |      900 |      1 |  0.0000197077 |             f |  0.0035962880 |  100 (100.0%) |  100 (100.0%) |      1 (1.0%)\n",
      "    10 |     1000 |      1 |  0.0032970075 |         ideal |  0.0068735878 |  100 (100.0%) |  100 (100.0%) |      1 (1.0%)\n",
      "    11 |     1100 |      1 |  0.0002690215 |             f |  0.0071426093 |  100 (100.0%) |  100 (100.0%) |      1 (1.0%)\n",
      "    12 |     1200 |      1 |  0.0016534850 |             f |  0.0085270728 |  100 (100.0%) |  100 (100.0%) |      1 (1.0%)\n",
      "    13 |     1300 |      1 |  0.0025306350 |         ideal |  0.0094042228 |  100 (100.0%) |  100 (100.0%) |      1 (1.0%)\n",
      "    14 |     1400 |      1 |  0.0002331333 |             f |  0.0096373561 |  100 (100.0%) |  100 (100.0%) |      1 (1.0%)\n",
      "    15 |     1500 |      1 |  0.0010141365 |             f |  0.0104183593 |  100 (100.0%) |  100 (100.0%) |      1 (1.0%)\n",
      "    16 |     1600 |      1 |  0.0010143750 |             f |  0.0104185978 |  100 (100.0%) |  100 (100.0%) |      1 (1.0%)\n",
      "    17 |     1700 |      1 |  0.0010799570 |             f |  0.0104841798 |  100 (100.0%) |  100 (100.0%) |      1 (1.0%)\n",
      "    18 |     1800 |      1 |  0.0010799570 |             f |  0.0104841798 |  100 (100.0%) |  100 (100.0%) |      1 (1.0%)\n",
      "    19 |     1900 |      1 |  0.0010799570 |             f |  0.0104841798 |  100 (100.0%) |  100 (100.0%) |      1 (1.0%)\n",
      "    20 |     2000 |      1 |  0.0010799570 |             f |  0.0104841798 |  100 (100.0%) |  100 (100.0%) |      1 (1.0%)\n",
      "Best f: [0.10001856]\n",
      "Best x: [1.0, 0.0, 1.0, 0.5, 0.5, 0.5, 0.0016148863647059892, 0.5, 1.5947672900007946e-05]\n"
     ]
    }
   ],
   "source": [
    "from pymoo.optimize import minimize\n",
    "from sb_arch_opt.algo.pymoo_interface import get_nsga2\n",
    "\n",
    "# Get the optimization algorithm\n",
    "algorithm = get_nsga2(pop_size=100)\n",
    "\n",
    "# Run the optimization\n",
    "result = minimize(problem, algorithm, termination=('n_gen', 20), verbose=True)\n",
    "\n",
    "# Print results\n",
    "opt = result.opt\n",
    "print('Best f:', opt.get('F')[0])\n",
    "print('Best x:', list(opt.get('X')[0]))"
   ]
  }
 ],
 "metadata": {
  "kernelspec": {
   "display_name": "Python 3 (ipykernel)",
   "language": "python",
   "name": "python3"
  },
  "language_info": {
   "codemirror_mode": {
    "name": "ipython",
    "version": 3
   },
   "file_extension": ".py",
   "mimetype": "text/x-python",
   "name": "python",
   "nbconvert_exporter": "python",
   "pygments_lexer": "ipython3",
   "version": "3.9.19"
  }
 },
 "nbformat": 4,
 "nbformat_minor": 4
}
